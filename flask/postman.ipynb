{
 "cells": [
  {
   "cell_type": "code",
   "execution_count": 1,
   "metadata": {},
   "outputs": [
    {
     "name": "stdout",
     "output_type": "stream",
     "text": [
      "----------------\n",
      "message\n",
      "\n",
      "Не убрана территория\n",
      "----------------\n",
      "top1_category\n",
      "Благоустройство территории\n",
      "----------------\n",
      "category\n",
      "                                  category  id  value\n",
      "0               Благоустройство территории   2  0.967\n",
      "1  Содержание и ремонт муниципальных дорог  23  0.020\n",
      "2                           Парки и скверы  15  0.005\n",
      "----------------\n",
      "subcategory\n",
      "    sbj                                          top_words  value\n",
      "0  sbj1  двор, территория, снег, подъезд, машина, часть...    0.5\n",
      "1  sbj2  мусор, убрать, около, контейнер, свалка, мусор...    0.5\n",
      "----------------\n",
      "executor\n",
      "   Администрация  Исполнительный комитет  Муниципальное образование город\n",
      "0            0.3                    0.26                             0.14\n",
      "----------------\n",
      "top_words\n",
      "['двор', 'территория', 'снег', 'подъезд', 'машина', 'часть', 'проезжий', 'парковка', 'уборка', 'житель']\n"
     ]
    }
   ],
   "source": [
    "import requests\n",
    "import json\n",
    "import pandas as pd\n",
    "keys = {'username':'Harry Potter', 'password':'1', 'cmd':'Any'}\n",
    "body = json.dumps({'mess' : '''\n",
    "Не убрана территория'''\n",
    "        }).encode('utf-8') #преобразование строки в байты\n",
    "r = requests.post(\"http://localhost:5000/message\", params=keys, data = body)\n",
    "\n",
    "raw_json = json.loads(r.content.decode('utf-8'))\n",
    "\n",
    "if raw_json['result'] != 'SUCCESS':\n",
    "    print('Невозможно выполнить запрос!')\n",
    "elif raw_json == []:\n",
    "    print('Данные отсутствуют')\n",
    "else:\n",
    "    top1_category = raw_json['top1_category']\n",
    "    category = pd.DataFrame(raw_json['category'])\n",
    "    subcategory = pd.DataFrame(raw_json['subcategory'])\n",
    "    executor = pd.DataFrame([raw_json['executor']])\n",
    "    top_words = raw_json['top_words'].split(', ')\n",
    "    message = ''.join(raw_json['message'].values())\n",
    "\n",
    "    print('----------------')\n",
    "    print('message')\n",
    "    print(message)\n",
    "    print('----------------')\n",
    "    print('top1_category')\n",
    "    print(top1_category)\n",
    "    print('----------------')\n",
    "    print('category')\n",
    "    print(category)\n",
    "    print('----------------')\n",
    "    print('subcategory')\n",
    "    print(subcategory)\n",
    "    print('----------------')\n",
    "    print('executor')\n",
    "    print(executor)\n",
    "    print('----------------')\n",
    "    print('top_words')\n",
    "    print(top_words)\n"
   ]
  },
  {
   "cell_type": "code",
   "execution_count": 1,
   "metadata": {},
   "outputs": [
    {
     "name": "stdout",
     "output_type": "stream",
     "text": [
      "Номер записи: 10\n",
      "admin\n",
      "\n",
      "Не вынесен строительный мусор\n",
      "----------\n",
      "   id                    category  value\n",
      "0   2  Благоустройство территории  0.973\n",
      "1   0                      Cвалки  0.011\n",
      "2  15              Парки и скверы  0.004\n",
      "----------\n",
      "    sbj                                          top_words  value\n",
      "0  sbj2  мусор, убрать, около, контейнер, свалка, мусор...  0.667\n",
      "1  sbj6  дерево, принять, большой, ветка, мера, убирать...  0.333\n",
      "----------\n",
      "   Администрация  Исполнительный комитет  Муниципальное образование город\n",
      "0           0.28                    0.27                             0.15\n",
      "----------\n",
      "Топ слов: мусор, убрать, около, контейнер, свалка, мусорный, мусор, лежать, остановка, строительный\n",
      "2021-05-14 17:50:16\n",
      "==============\n"
     ]
    }
   ],
   "source": [
    "import requests\n",
    "import json\n",
    "import pandas as pd\n",
    "#получение count сообщений \n",
    "keys = {'username':'admin', 'password':'admin', 'count':'10'}\n",
    "\n",
    "r = requests.get(\"http://localhost:5000/message\", params=keys)\n",
    "raw_json = json.loads(r.content.decode('utf-8'))\n",
    "result = raw_json['result']\n",
    "if result == 'Некорректный логин или пароль!':\n",
    "    print('Невозможно выполнить запрос!')\n",
    "elif result == []:\n",
    "    print('Данные отсутствуют')\n",
    "else:\n",
    "    keys = ['index' , 'username', 'message' , 'category','subcategory' , 'executor', 'topwords', 'datetime', 'isvisible']\n",
    "    result_dict = {key : [] for key in keys}\n",
    "\n",
    "    for row in result:\n",
    "        for i, key in enumerate(keys):\n",
    "            result_dict[key].append(row[i])\n",
    "    result_frame = pd.DataFrame(result_dict)\n",
    "\n",
    "    for record_number in range(result_frame.shape[0]): \n",
    "        index = result_frame.loc[record_number]['index']\n",
    "        user = result_frame.loc[record_number]['username']\n",
    "        message = result_frame.loc[record_number]['message']\n",
    "        categoryframe = pd.DataFrame(json.loads(result_frame.loc[record_number]['category']), \\\n",
    "                                     columns = ['id', 'category', 'value'])\n",
    "        subcategoryframe = pd.DataFrame(json.loads(result_frame.loc[record_number]['subcategory']), \\\n",
    "                                        columns = ['sbj', 'top_words', 'value'])\n",
    "        executorframe = pd.DataFrame([json.loads(result_frame.loc[record_number]['executor'])])\n",
    "        top_words = result_frame.loc[record_number]['topwords']\n",
    "        datetime = result_frame.loc[record_number]['datetime']\n",
    "\n",
    "        print(f'Номер записи: {index}')\n",
    "        print(user)\n",
    "        print(message)\n",
    "        print('----------')\n",
    "        print(categoryframe)\n",
    "        print('----------')\n",
    "        print(subcategoryframe)\n",
    "        print('----------')\n",
    "        print(executorframe)\n",
    "        print('----------')\n",
    "        print(f'Топ слов: {top_words}')\n",
    "        print(datetime)\n",
    "        print('==============')\n"
   ]
  },
  {
   "cell_type": "code",
   "execution_count": 1,
   "metadata": {},
   "outputs": [
    {
     "name": "stdout",
     "output_type": "stream",
     "text": [
      "Успех!\n"
     ]
    }
   ],
   "source": [
    "import requests\n",
    "import json\n",
    "import pandas as pd\n",
    "#очистка базы данных\n",
    "keys = {'username':'admin', 'password':'admin'}\n",
    "\n",
    "r = requests.delete(\"http://localhost:5000/message\", params=keys)\n",
    "raw_json = json.loads(r.content.decode('utf-8'))\n",
    "result = raw_json['result']\n",
    "if result == 'Некорректный логин или пароль!' or result == []:\n",
    "    print('Невозможно выполнить запрос!')\n",
    "if result == 'SUCCESS':\n",
    "    print('Успех!')"
   ]
  },
  {
   "cell_type": "code",
   "execution_count": 10,
   "metadata": {},
   "outputs": [
    {
     "name": "stdout",
     "output_type": "stream",
     "text": [
      "                             Harry Potter\n",
      "Число запросов пользователя             4\n"
     ]
    }
   ],
   "source": [
    "import requests\n",
    "import json\n",
    "import pandas as pd\n",
    "#получение статистики\n",
    "keys = {'username':'Harry Potter', 'password':'1'}\n",
    "\n",
    "r = requests.get(\"http://localhost:5000/statistics\", params=keys)\n",
    "raw_json = json.loads(r.content.decode('utf-8'))\n",
    "result = raw_json['result']\n",
    "if result == 'Некорректный логин или пароль!' or result == []:\n",
    "    print('Невозможно выполнить запрос!')\n",
    "else:\n",
    "    df = pd.DataFrame([result], index = ['Число запросов пользователя'])\n",
    "    print(df)"
   ]
  },
  {
   "cell_type": "code",
   "execution_count": 49,
   "metadata": {},
   "outputs": [
    {
     "name": "stdout",
     "output_type": "stream",
     "text": [
      "\n",
      "Не вынесен строительный мусор\n",
      "   id                    category  value\n",
      "0   2  Благоустройство территории  0.973\n",
      "1   0                      Cвалки  0.011\n",
      "2  15              Парки и скверы  0.004\n"
     ]
    }
   ],
   "source": [
    "import requests\n",
    "import json\n",
    "import pandas as pd\n",
    "#получение категории последнего запроса пользователя\n",
    "keys = {'username':'admin', 'password':'admin'}\n",
    "\n",
    "r = requests.get(\"http://localhost:5000/categories\", params=keys)\n",
    "raw_json = json.loads(r.content.decode('utf-8'))\n",
    "result = raw_json['result']\n",
    "if result != 'SUCCESS' or result == []:\n",
    "    print('Невозможно выполнить запрос!')\n",
    "elif result == []:\n",
    "    print('Данные отсутствуют')\n",
    "else:\n",
    "    message = raw_json['message']\n",
    "    categoryframe = pd.DataFrame(json.loads(raw_json['category']), columns = ['id', 'category', 'value'])\n",
    "    print(message)\n",
    "    print(categoryframe)\n",
    "    "
   ]
  },
  {
   "cell_type": "code",
   "execution_count": 46,
   "metadata": {},
   "outputs": [
    {
     "name": "stdout",
     "output_type": "stream",
     "text": [
      "\n",
      "Не вынесен строительный мусор\n",
      "мусор, убрать, около, контейнер, свалка, мусорный, мусор, лежать, остановка, строительный\n"
     ]
    }
   ],
   "source": [
    "import requests\n",
    "import json\n",
    "import pandas as pd\n",
    "#получение ключевых слов последнего запроса пользователя\n",
    "keys = {'username':'admin', 'password':'admin'}\n",
    "\n",
    "r = requests.get(\"http://localhost:5000/topwords\", params=keys)\n",
    "raw_json = json.loads(r.content.decode('utf-8'))\n",
    "result = raw_json['result']\n",
    "if result != 'SUCCESS' or result == []:\n",
    "    print('Невозможно выполнить запрос!')\n",
    "elif result == []:\n",
    "    print('Данные отсутствуют')\n",
    "else:\n",
    "    message = raw_json['message']\n",
    "    topwords = raw_json['topwords']\n",
    "    print(message)\n",
    "    print(topwords)\n",
    "    "
   ]
  },
  {
   "cell_type": "code",
   "execution_count": 47,
   "metadata": {},
   "outputs": [
    {
     "name": "stdout",
     "output_type": "stream",
     "text": [
      "\n",
      "Не вынесен строительный мусор\n",
      "   Администрация  Исполнительный комитет  Муниципальное образование город\n",
      "0           0.28                    0.27                             0.15\n"
     ]
    }
   ],
   "source": [
    "import requests\n",
    "import json\n",
    "import pandas as pd\n",
    "#получение списка исполнителей последнего запроса пользователя\n",
    "keys = {'username':'admin', 'password':'admin'}\n",
    "\n",
    "r = requests.get(\"http://localhost:5000/executor\", params=keys)\n",
    "raw_json = json.loads(r.content.decode('utf-8'))\n",
    "result = raw_json['result']\n",
    "if result != 'SUCCESS' or result == []:\n",
    "    print('Невозможно выполнить запрос!')\n",
    "elif result == []:\n",
    "    print('Данные отсутствуют')\n",
    "else:\n",
    "    message = raw_json['message']\n",
    "    executor = pd.DataFrame([json.loads(raw_json['executor'])])\n",
    "    print(message)\n",
    "    print(executor)\n",
    "    "
   ]
  },
  {
   "cell_type": "code",
   "execution_count": null,
   "metadata": {},
   "outputs": [],
   "source": []
  },
  {
   "cell_type": "code",
   "execution_count": null,
   "metadata": {},
   "outputs": [],
   "source": []
  }
 ],
 "metadata": {
  "kernelspec": {
   "display_name": "Python 3",
   "language": "python",
   "name": "python3"
  },
  "language_info": {
   "codemirror_mode": {
    "name": "ipython",
    "version": 3
   },
   "file_extension": ".py",
   "mimetype": "text/x-python",
   "name": "python",
   "nbconvert_exporter": "python",
   "pygments_lexer": "ipython3",
   "version": "3.7.9"
  }
 },
 "nbformat": 4,
 "nbformat_minor": 2
}

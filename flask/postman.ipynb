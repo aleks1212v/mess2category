{
 "cells": [
  {
   "cell_type": "code",
   "execution_count": 1,
   "metadata": {},
   "outputs": [
    {
     "name": "stdout",
     "output_type": "stream",
     "text": [
      "----------------\n",
      "message\n",
      "\n",
      "Привет!\n",
      "----------------\n",
      "top1_category\n",
      "Благоустройство территории\n",
      "----------------\n",
      "category\n",
      "                                  category  id  value\n",
      "0               Благоустройство территории   2  0.436\n",
      "1           Организация дорожного движения  14  0.123\n",
      "2  Содержание и ремонт муниципальных дорог  23  0.073\n",
      "----------------\n",
      "subcategory\n",
      "    sbj                                          top_words  value\n",
      "0  sbj6  дерево, принять, большой, ветка, мера, убирать...    1.0\n",
      "----------------\n",
      "executor\n",
      "   Администрация  Исполнительный комитет  Муниципальное образование город\n",
      "0            0.3                    0.28                             0.14\n",
      "----------------\n",
      "top_words\n",
      "['дерево', 'принять', 'большой', 'ветка', 'мера', 'убирать', 'мера', 'ветер', 'спилить', 'никто']\n"
     ]
    }
   ],
   "source": [
    "import requests\n",
    "import json\n",
    "import pandas as pd\n",
    "keys = {'username':'admin', 'password':'admin', 'cmd':'Any'}\n",
    "body = json.dumps({'mess' : '''\n",
    "Привет!'''\n",
    "        }).encode('utf-8') #преобразование строки в байты\n",
    "r = requests.post(\"http://0.0.0.0:5000/message\", params=keys, data = body)\n",
    "\n",
    "raw_json = json.loads(r.content.decode('utf-8'))\n",
    "\n",
    "if raw_json == 'Некорректный логин или пароль!':\n",
    "    print('Невозможно выполнить запрос!')\n",
    "elif raw_json == []:\n",
    "    print('Данные отсутствуют')\n",
    "else:\n",
    "    top1_category = raw_json['top1_category']\n",
    "    category = pd.DataFrame(raw_json['category'])\n",
    "    subcategory = pd.DataFrame(raw_json['subcategory'])\n",
    "    executor = pd.DataFrame([raw_json['executor']])\n",
    "    top_words = raw_json['top_words'].split(', ')\n",
    "    message = ''.join(raw_json['message'].values())\n",
    "\n",
    "    print('----------------')\n",
    "    print('message')\n",
    "    print(message)\n",
    "    print('----------------')\n",
    "    print('top1_category')\n",
    "    print(top1_category)\n",
    "    print('----------------')\n",
    "    print('category')\n",
    "    print(category)\n",
    "    print('----------------')\n",
    "    print('subcategory')\n",
    "    print(subcategory)\n",
    "    print('----------------')\n",
    "    print('executor')\n",
    "    print(executor)\n",
    "    print('----------------')\n",
    "    print('top_words')\n",
    "    print(top_words)\n"
   ]
  },
  {
   "cell_type": "code",
   "execution_count": 3,
   "metadata": {},
   "outputs": [
    {
     "name": "stdout",
     "output_type": "stream",
     "text": [
      "Данные отсутствуют\n"
     ]
    }
   ],
   "source": [
    "import requests\n",
    "import json\n",
    "import pandas as pd\n",
    "#получение count сообщений \n",
    "keys = {'username':'admin', 'password':'admin', 'count':'10'}\n",
    "\n",
    "r = requests.get(\"http://0.0.0.0:5000/message\", params=keys)\n",
    "raw_json = json.loads(r.content.decode('utf-8'))\n",
    "result = raw_json['result']\n",
    "if result == 'Некорректный логин или пароль!':\n",
    "    print('Невозможно выполнить запрос!')\n",
    "elif result == []:\n",
    "    print('Данные отсутствуют')\n",
    "else:\n",
    "    keys = ['index' , 'username', 'message' , 'category','subcategory' , 'executor', 'topwords', 'datetime', 'isvisible']\n",
    "    result_dict = {key : [] for key in keys}\n",
    "\n",
    "    for row in result:\n",
    "        for i, key in enumerate(keys):\n",
    "            result_dict[key].append(row[i])\n",
    "    result_frame = pd.DataFrame(result_dict)\n",
    "\n",
    "    for record_number in range(result_frame.shape[0]): \n",
    "        index = result_frame.loc[record_number]['index']\n",
    "        user = result_frame.loc[record_number]['username']\n",
    "        message = result_frame.loc[record_number]['message']\n",
    "        categoryframe = pd.DataFrame(json.loads(result_frame.loc[record_number]['category']), \\\n",
    "                                     columns = ['id', 'category', 'value'])\n",
    "        subcategoryframe = pd.DataFrame(json.loads(result_frame.loc[record_number]['subcategory']), \\\n",
    "                                        columns = ['sbj', 'top_words', 'value'])\n",
    "        executorframe = pd.DataFrame([json.loads(result_frame.loc[record_number]['executor'])])\n",
    "        top_words = result_frame.loc[record_number]['topwords']\n",
    "        datetime = result_frame.loc[record_number]['datetime']\n",
    "\n",
    "        print(f'Номер записи: {index}')\n",
    "        print(user)\n",
    "        print(message)\n",
    "        print('----------')\n",
    "        print(categoryframe)\n",
    "        print('----------')\n",
    "        print(subcategoryframe)\n",
    "        print('----------')\n",
    "        print(executorframe)\n",
    "        print('----------')\n",
    "        print(f'Топ слов: {top_words}')\n",
    "        print(datetime)\n",
    "        print('==============')\n"
   ]
  },
  {
   "cell_type": "code",
   "execution_count": 4,
   "metadata": {},
   "outputs": [
    {
     "name": "stdout",
     "output_type": "stream",
     "text": [
      "Успех!\n"
     ]
    }
   ],
   "source": [
    "import requests\n",
    "import json\n",
    "import pandas as pd\n",
    "#очистка базы данных\n",
    "keys = {'username':'admin', 'password':'admin'}\n",
    "\n",
    "r = requests.delete(\"http://0.0.0.0:5000/message\", params=keys)\n",
    "raw_json = json.loads(r.content.decode('utf-8'))\n",
    "result = raw_json['result']\n",
    "if result == 'Некорректный логин или пароль!' or result == []:\n",
    "    print('Невозможно выполнить запрос!')\n",
    "if result == 'SUCCESS':\n",
    "    print('Успех!')"
   ]
  },
  {
   "cell_type": "code",
   "execution_count": 119,
   "metadata": {},
   "outputs": [
    {
     "name": "stdout",
     "output_type": "stream",
     "text": [
      "{'Sergey': 2, 'admin': 1}\n"
     ]
    }
   ],
   "source": [
    "import requests\n",
    "import json\n",
    "import pandas as pd\n",
    "#получение статистики\n",
    "keys = {'username':'admin', 'password':'admin'}\n",
    "\n",
    "r = requests.get(\"http://0.0.0.0:5000/statistics\", params=keys)\n",
    "raw_json = json.loads(r.content.decode('utf-8'))\n",
    "result = raw_json['result']\n",
    "if result == 'Некорректный логин или пароль!' or result == []:\n",
    "    print('Невозможно выполнить запрос!')\n",
    "else:\n",
    "    print(result)"
   ]
  },
  {
   "cell_type": "code",
   "execution_count": 144,
   "metadata": {},
   "outputs": [
    {
     "name": "stdout",
     "output_type": "stream",
     "text": [
      "\n",
      "Это тестовое сообdsdsщение 4\n",
      "   id                                 category  value\n",
      "0   2               Благоустройство территории  0.596\n",
      "1  14           Организация дорожного движения  0.175\n",
      "2  23  Содержание и ремонт муниципальных дорог  0.119\n"
     ]
    }
   ],
   "source": [
    "import requests\n",
    "import json\n",
    "import pandas as pd\n",
    "#получение категории последнего запроса пользователя\n",
    "keys = {'username':'Sergey', 'password':'020'}\n",
    "\n",
    "r = requests.get(\"http://0.0.0.0:5000/categories\", params=keys)\n",
    "raw_json = json.loads(r.content.decode('utf-8'))\n",
    "result = raw_json['result']\n",
    "if result == 'Некорректный логин или пароль!' or result == []:\n",
    "    print('Невозможно выполнить запрос!')\n",
    "elif result == []:\n",
    "    print('Данные отсутствуют')\n",
    "else:\n",
    "    message = raw_json['message']\n",
    "    categoryframe = pd.DataFrame(json.loads(raw_json['category']), columns = ['id', 'category', 'value'])\n",
    "    print(message)\n",
    "    print(categoryframe)\n",
    "    "
   ]
  },
  {
   "cell_type": "code",
   "execution_count": 147,
   "metadata": {},
   "outputs": [
    {
     "name": "stdout",
     "output_type": "stream",
     "text": [
      "\n",
      "Привет!\n",
      "дерево, принять, большой, ветка, мера, убирать, мера, ветер, спилить, никто\n"
     ]
    }
   ],
   "source": [
    "import requests\n",
    "import json\n",
    "import pandas as pd\n",
    "#получение ключевых слов последнего запроса пользователя\n",
    "keys = {'username':'admin', 'password':'admin'}\n",
    "\n",
    "r = requests.get(\"http://0.0.0.0:5000/topwords\", params=keys)\n",
    "raw_json = json.loads(r.content.decode('utf-8'))\n",
    "result = raw_json['result']\n",
    "if result == 'Некорректный логин или пароль!' or result == []:\n",
    "    print('Невозможно выполнить запрос!')\n",
    "elif result == []:\n",
    "    print('Данные отсутствуют')\n",
    "else:\n",
    "    message = raw_json['message']\n",
    "    topwords = raw_json['topwords']\n",
    "    print(message)\n",
    "    print(topwords)\n",
    "    "
   ]
  },
  {
   "cell_type": "code",
   "execution_count": 150,
   "metadata": {},
   "outputs": [
    {
     "name": "stdout",
     "output_type": "stream",
     "text": [
      "\n",
      "Привет!\n",
      "   Администрация  Исполнительный комитет  Муниципальное образование город\n",
      "0            0.3                    0.28                             0.14\n"
     ]
    }
   ],
   "source": [
    "import requests\n",
    "import json\n",
    "import pandas as pd\n",
    "#получение списка исполнителей последнего запроса пользователя\n",
    "keys = {'username':'admin', 'password':'admin'}\n",
    "\n",
    "r = requests.get(\"http://0.0.0.0:5000/executor\", params=keys)\n",
    "raw_json = json.loads(r.content.decode('utf-8'))\n",
    "result = raw_json['result']\n",
    "if result == 'Некорректный логин или пароль!' or result == []:\n",
    "    print('Невозможно выполнить запрос!')\n",
    "elif result == []:\n",
    "    print('Данные отсутствуют')\n",
    "else:\n",
    "    message = raw_json['message']\n",
    "    executor = pd.DataFrame([json.loads(raw_json['executor'])])\n",
    "    print(message)\n",
    "    print(executor)\n",
    "    "
   ]
  },
  {
   "cell_type": "code",
   "execution_count": 15,
   "metadata": {},
   "outputs": [
    {
     "name": "stdout",
     "output_type": "stream",
     "text": [
      "Такой пользователь уже существует!\n"
     ]
    }
   ],
   "source": [
    "import requests\n",
    "import json\n",
    "import pandas as pd\n",
    "#получение списка исполнителей последнего запроса пользователя\n",
    "keys = {'username':'руссо', 'password':'Пупкинf'}\n",
    "\n",
    "r = requests.post(\"http://0.0.0.0:5000/newuser\", params=keys)\n",
    "raw_json = json.loads(r.content.decode('utf-8'))\n",
    "result = raw_json['result']\n",
    "if result == 'Такой пользователь уже существует!':\n",
    "    print(result)\n",
    "elif result == []:\n",
    "    print('Данные отсутствуют')\n",
    "else:\n",
    "    print(result)"
   ]
  },
  {
   "cell_type": "code",
   "execution_count": null,
   "metadata": {},
   "outputs": [],
   "source": []
  },
  {
   "cell_type": "code",
   "execution_count": null,
   "metadata": {},
   "outputs": [],
   "source": []
  }
 ],
 "metadata": {
  "kernelspec": {
   "display_name": "Python 3",
   "language": "python",
   "name": "python3"
  },
  "language_info": {
   "codemirror_mode": {
    "name": "ipython",
    "version": 3
   },
   "file_extension": ".py",
   "mimetype": "text/x-python",
   "name": "python",
   "nbconvert_exporter": "python",
   "pygments_lexer": "ipython3",
   "version": "3.6.9"
  }
 },
 "nbformat": 4,
 "nbformat_minor": 2
}

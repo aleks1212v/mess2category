{
 "cells": [
  {
   "cell_type": "code",
   "execution_count": 1,
   "metadata": {
    "executionInfo": {
     "elapsed": 3187,
     "status": "ok",
     "timestamp": 1614575992603,
     "user": {
      "displayName": "Алексей Витомсков",
      "photoUrl": "",
      "userId": "09837648934599257287"
     },
     "user_tz": -300
    },
    "id": "tAb77yZ9fzMG"
   },
   "outputs": [],
   "source": [
    "import pandas as pd\n",
    "import numpy as np\n",
    "import re\n",
    "import matplotlib.pyplot as plt\n",
    "\n",
    "from keras import backend as K \n",
    "from keras.preprocessing.text import Tokenizer\n",
    "from keras.preprocessing.sequence import pad_sequences\n",
    "from sklearn.model_selection import train_test_split\n",
    "\n",
    "from gensim.models import Word2Vec"
   ]
  },
  {
   "cell_type": "code",
   "execution_count": null,
   "metadata": {
    "colab": {
     "base_uri": "https://localhost:8080/"
    },
    "executionInfo": {
     "elapsed": 29180,
     "status": "ok",
     "timestamp": 1614576023815,
     "user": {
      "displayName": "Алексей Витомсков",
      "photoUrl": "",
      "userId": "09837648934599257287"
     },
     "user_tz": -300
    },
    "id": "pafL7Li0jyXW",
    "outputId": "ca932a09-1315-40fb-d4aa-fcc0a74817fc"
   },
   "outputs": [],
   "source": []
  },
  {
   "cell_type": "code",
   "execution_count": 2,
   "metadata": {
    "colab": {
     "base_uri": "https://localhost:8080/",
     "height": 193
    },
    "executionInfo": {
     "elapsed": 2161,
     "status": "ok",
     "timestamp": 1614576028513,
     "user": {
      "displayName": "Алексей Витомсков",
      "photoUrl": "",
      "userId": "09837648934599257287"
     },
     "user_tz": -300
    },
    "id": "RjSL1jqD3Qct",
    "outputId": "43d65561-f4f3-4e45-978e-cf5aa0538f58"
   },
   "outputs": [
    {
     "name": "stdout",
     "output_type": "stream",
     "text": [
      "Index(['level_0', 'index', 'categories', 'description', 'worker',\n",
      "       'description_prep', 'num_words', 'description_stem'],\n",
      "      dtype='object')\n"
     ]
    },
    {
     "data": {
      "text/html": [
       "<div>\n",
       "<style scoped>\n",
       "    .dataframe tbody tr th:only-of-type {\n",
       "        vertical-align: middle;\n",
       "    }\n",
       "\n",
       "    .dataframe tbody tr th {\n",
       "        vertical-align: top;\n",
       "    }\n",
       "\n",
       "    .dataframe thead th {\n",
       "        text-align: right;\n",
       "    }\n",
       "</style>\n",
       "<table border=\"1\" class=\"dataframe\">\n",
       "  <thead>\n",
       "    <tr style=\"text-align: right;\">\n",
       "      <th></th>\n",
       "      <th>categories</th>\n",
       "      <th>description_stem</th>\n",
       "    </tr>\n",
       "  </thead>\n",
       "  <tbody>\n",
       "    <tr>\n",
       "      <th>0</th>\n",
       "      <td>Благоустройство территории</td>\n",
       "      <td>трасса нижнекамск чистополь лесополоса пгт кам...</td>\n",
       "    </tr>\n",
       "    <tr>\n",
       "      <th>1</th>\n",
       "      <td>Благоустройство территории</td>\n",
       "      <td>двор дом ленинградский отсутствовать парковочн...</td>\n",
       "    </tr>\n",
       "    <tr>\n",
       "      <th>2</th>\n",
       "      <td>Содержание и ремонт муниципальных дорог</td>\n",
       "      <td>добрый день осуществляться уборка снег центр г...</td>\n",
       "    </tr>\n",
       "  </tbody>\n",
       "</table>\n",
       "</div>"
      ],
      "text/plain": [
       "                                categories  \\\n",
       "0               Благоустройство территории   \n",
       "1               Благоустройство территории   \n",
       "2  Содержание и ремонт муниципальных дорог   \n",
       "\n",
       "                                    description_stem  \n",
       "0  трасса нижнекамск чистополь лесополоса пгт кам...  \n",
       "1  двор дом ленинградский отсутствовать парковочн...  \n",
       "2  добрый день осуществляться уборка снег центр г...  "
      ]
     },
     "execution_count": 2,
     "metadata": {},
     "output_type": "execute_result"
    }
   ],
   "source": [
    "data = pd.read_csv('/notebooks/tatarstan_message_2.csv', sep = ',')\n",
    "print(data.columns)\n",
    "data = data[['categories', 'description_stem']]\n",
    "data.head(3)"
   ]
  },
  {
   "cell_type": "code",
   "execution_count": 3,
   "metadata": {
    "executionInfo": {
     "elapsed": 441,
     "status": "ok",
     "timestamp": 1614576029415,
     "user": {
      "displayName": "Алексей Витомсков",
      "photoUrl": "",
      "userId": "09837648934599257287"
     },
     "user_tz": -300
    },
    "id": "WXbvCIHa3ZlN"
   },
   "outputs": [],
   "source": [
    "data = data.dropna()\n",
    "text_train = data['description_stem'].to_list()"
   ]
  },
  {
   "cell_type": "code",
   "execution_count": 4,
   "metadata": {
    "colab": {
     "base_uri": "https://localhost:8080/",
     "height": 558
    },
    "executionInfo": {
     "elapsed": 1826,
     "status": "ok",
     "timestamp": 1614576031979,
     "user": {
      "displayName": "Алексей Витомсков",
      "photoUrl": "",
      "userId": "09837648934599257287"
     },
     "user_tz": -300
    },
    "id": "lq6xa2Qd3ZbM",
    "outputId": "85ba4fb5-27ef-40bf-9479-99d90cc074ce"
   },
   "outputs": [
    {
     "data": {
      "image/png": "[encoded data removed]",
      "text/plain": [
       "<Figure size 1152x648 with 1 Axes>"
      ]
     },
     "metadata": {},
     "output_type": "display_data"
    }
   ],
   "source": [
    "#гистограмма наиболее часто встречающегося количества слов\n",
    "plt.style.use('ggplot')\n",
    "\n",
    "plt.figure(figsize=(16, 9)) \n",
    "# facecolor='g'\n",
    "len_of_sent = data['description_stem'].apply(lambda x: len(x.split(' ')))\n",
    "n, bins, patches = plt.hist(len_of_sent, 500, density=True)\n",
    "plt.xlabel('Number of words in a text')\n",
    "plt.ylabel('Share of texts')\n",
    "plt.axis([0, 500, 0, 0.1])\n",
    "plt.grid(True)\n",
    "plt.show()\n",
    "\n",
    "#выбираем количество анализируемых слов = 30"
   ]
  },
  {
   "cell_type": "code",
   "execution_count": 5,
   "metadata": {
    "executionInfo": {
     "elapsed": 36912,
     "status": "ok",
     "timestamp": 1614576071692,
     "user": {
      "displayName": "Алексей Витомсков",
      "photoUrl": "",
      "userId": "09837648934599257287"
     },
     "user_tz": -300
    },
    "id": "KAskQz_F3ZPE"
   },
   "outputs": [],
   "source": [
    "#загрузка модели Word2Vec\n",
    "model = Word2Vec.load(\"/notebooks/w2v_model/tweets_model.w2v\")\n",
    "model.delete_temporary_training_data()"
   ]
  },
  {
   "cell_type": "code",
   "execution_count": 6,
   "metadata": {
    "colab": {
     "base_uri": "https://localhost:8080/"
    },
    "executionInfo": {
     "elapsed": 41087,
     "status": "ok",
     "timestamp": 1614576076514,
     "user": {
      "displayName": "Алексей Витомсков",
      "photoUrl": "",
      "userId": "09837648934599257287"
     },
     "user_tz": -300
    },
    "id": "jMO1TTZn3jlW",
    "outputId": "0d77d6ab-8df0-4480-ca19-2143a8f44dee"
   },
   "outputs": [
    {
     "name": "stdout",
     "output_type": "stream",
     "text": [
      "Размерность словаря для embedding 600000\n"
     ]
    }
   ],
   "source": [
    "#загрузка эмбеддингов из словаря модели\n",
    "e_matrix = []\n",
    "mydict = []\n",
    "for word in model.wv.vocab.keys():\n",
    "    try:\n",
    "        e_matrix.append(model.wv[word])\n",
    "        mydict.append(word)\n",
    "        if len(e_matrix) >= 600000:\n",
    "            break\n",
    "    except:\n",
    "        print(\"Пропущено слово при заполнении модели\")\n",
    "        continue\n",
    "\n",
    "print(f\"Размерность словаря для embedding {len(e_matrix)}\")\n",
    "\n",
    "NUM = len(e_matrix)\n",
    "e_matrix = np.array(e_matrix, dtype=object)"
   ]
  },
  {
   "cell_type": "code",
   "execution_count": 7,
   "metadata": {
    "colab": {
     "base_uri": "https://localhost:8080/"
    },
    "executionInfo": {
     "elapsed": 44518,
     "status": "ok",
     "timestamp": 1614576082476,
     "user": {
      "displayName": "Алексей Витомсков",
      "photoUrl": "",
      "userId": "09837648934599257287"
     },
     "user_tz": -300
    },
    "id": "e56Owcro3p30",
    "outputId": "051ef241-31a2-4f25-f186-818715ea619d"
   },
   "outputs": [
    {
     "name": "stdout",
     "output_type": "stream",
     "text": [
      "200\n",
      "600000\n",
      "подготовка обучающего набора\n",
      "Количество слов в предложении: 30\n",
      "(23670, 30)\n",
      "[[    0     0     0 ... 44432 30966 81127]\n",
      " [    0     0 16953 ...  5839  5959   594]\n",
      " [    0     0     0 ... 81127  2522 84833]\n",
      " ...\n",
      " [    0     0     0 ... 19103  2997 53564]\n",
      " [    0     0     0 ... 39383 35712   373]\n",
      " [65932    67     1 ... 23944     1  9070]]\n",
      "(23670, 26)\n",
      "[[0 0 1 ... 0 0 0]\n",
      " [0 0 1 ... 0 0 0]\n",
      " [0 0 0 ... 1 0 0]\n",
      " ...\n",
      " [1 0 0 ... 0 0 0]\n",
      " [0 0 1 ... 0 0 0]\n",
      " [0 0 1 ... 0 0 0]]\n"
     ]
    }
   ],
   "source": [
    "DIM = model.vector_size\n",
    "print(DIM)\n",
    "print(NUM)\n",
    "tokenizer = Tokenizer(oov_token = True) #num_words = NUM\n",
    "tokenizer.fit_on_texts(mydict)\n",
    "\n",
    "SENTENCE_LENGTH = 30\n",
    "\n",
    "print(\"подготовка обучающего набора\")\n",
    "raw_data = [row.split(' ') for row in data['description_stem']]\n",
    "X = tokenizer.texts_to_sequences(raw_data) \n",
    "X = pad_sequences(X, maxlen=SENTENCE_LENGTH)\n",
    "print(f\"Количество слов в предложении: {len(X[0])}\")\n",
    "print(X.shape)\n",
    "print(X)\n",
    "\n",
    "Y = pd.get_dummies(data['categories'])\n",
    "label_columns=Y.columns #To get the classes\n",
    "Y = Y.to_numpy() #Convert labels to numpy array\n",
    "print(Y.shape)\n",
    "print(Y)\n",
    "\n",
    "X_train, X_test, Y_train, Y_test = train_test_split(X, Y, test_size=0.2, random_state=42)"
   ]
  },
  {
   "cell_type": "code",
   "execution_count": 8,
   "metadata": {
    "executionInfo": {
     "elapsed": 607,
     "status": "ok",
     "timestamp": 1614576083100,
     "user": {
      "displayName": "Алексей Витомсков",
      "photoUrl": "",
      "userId": "09837648934599257287"
     },
     "user_tz": -300
    },
    "id": "Kd9mCHEX3uQc"
   },
   "outputs": [],
   "source": [
    "# Метрики \n",
    "from sklearn.metrics import matthews_corrcoef\n",
    "def precision(y_true, y_pred):\n",
    "    \"\"\"Precision metric.\n",
    "\n",
    "    Only computes a batch-wise average of precision.\n",
    "\n",
    "    Computes the precision, a metric for multi-label classification of\n",
    "    how many selected items are relevant.\n",
    "    \"\"\"\n",
    "    true_positives = K.sum(K.round(K.clip(y_true * y_pred, 0, 1)))\n",
    "    predicted_positives = K.sum(K.round(K.clip(y_pred, 0, 1)))\n",
    "    precision = true_positives / (predicted_positives + K.epsilon())\n",
    "    return precision\n",
    "\n",
    "\n",
    "def recall(y_true, y_pred):\n",
    "    \"\"\"Recall metric.\n",
    "\n",
    "    Only computes a batch-wise average of recall.\n",
    "\n",
    "    Computes the recall, a metric for multi-label classification of\n",
    "    how many relevant items are selected.\n",
    "    \"\"\"\n",
    "    true_positives = K.sum(K.round(K.clip(y_true * y_pred, 0, 1)))\n",
    "    possible_positives = K.sum(K.round(K.clip(y_true, 0, 1)))\n",
    "    recall = true_positives / (possible_positives + K.epsilon())\n",
    "    return recall\n",
    "\n",
    "\n",
    "def f1(y_true, y_pred):\n",
    "    def recall(y_true, y_pred):\n",
    "        \"\"\"Recall metric.\n",
    "\n",
    "        Only computes a batch-wise average of recall.\n",
    "\n",
    "        Computes the recall, a metric for multi-label classification of\n",
    "        how many relevant items are selected.\n",
    "        \"\"\"\n",
    "        true_positives = K.sum(K.round(K.clip(y_true * y_pred, 0, 1)))\n",
    "        possible_positives = K.sum(K.round(K.clip(y_true, 0, 1)))\n",
    "        recall = true_positives / (possible_positives + K.epsilon())\n",
    "        return recall\n",
    "\n",
    "    def precision(y_true, y_pred):\n",
    "        \"\"\"Precision metric.\n",
    "\n",
    "        Only computes a batch-wise average of precision.\n",
    "\n",
    "        Computes the precision, a metric for multi-label classification of\n",
    "        how many selected items are relevant.\n",
    "        \"\"\"\n",
    "        true_positives = K.sum(K.round(K.clip(y_true * y_pred, 0, 1)))\n",
    "        predicted_positives = K.sum(K.round(K.clip(y_pred, 0, 1)))\n",
    "        precision = true_positives / (predicted_positives + K.epsilon())\n",
    "        return precision\n",
    "\n",
    "    precision = precision(y_true, y_pred)\n",
    "    recall = recall(y_true, y_pred)\n",
    "    return 2 * ((precision * recall) / (precision + recall + K.epsilon()))"
   ]
  },
  {
   "cell_type": "code",
   "execution_count": 9,
   "metadata": {
    "colab": {
     "base_uri": "https://localhost:8080/"
    },
    "executionInfo": {
     "elapsed": 9498,
     "status": "ok",
     "timestamp": 1614576092002,
     "user": {
      "displayName": "Алексей Витомсков",
      "photoUrl": "",
      "userId": "09837648934599257287"
     },
     "user_tz": -300
    },
    "id": "ibhmS-8u3wTU",
    "outputId": "2975d3ce-2b56-46d0-c7de-9b6891d308f8"
   },
   "outputs": [
    {
     "name": "stdout",
     "output_type": "stream",
     "text": [
      "Model: \"model\"\n",
      "_________________________________________________________________\n",
      "Layer (type)                 Output Shape              Param #   \n",
      "=================================================================\n",
      "input_1 (InputLayer)         [(None, 30)]              0         \n",
      "_________________________________________________________________\n",
      "embedding (Embedding)        (None, 30, 200)           120000000 \n",
      "_________________________________________________________________\n",
      "lstm (LSTM)                  (None, 64)                67840     \n",
      "_________________________________________________________________\n",
      "FC1 (Dense)                  (None, 256)               16640     \n",
      "_________________________________________________________________\n",
      "activation (Activation)      (None, 256)               0         \n",
      "_________________________________________________________________\n",
      "dropout (Dropout)            (None, 256)               0         \n",
      "_________________________________________________________________\n",
      "out_layer (Dense)            (None, 26)                6682      \n",
      "_________________________________________________________________\n",
      "activation_1 (Activation)    (None, 26)                0         \n",
      "=================================================================\n",
      "Total params: 120,091,162\n",
      "Trainable params: 91,162\n",
      "Non-trainable params: 120,000,000\n",
      "_________________________________________________________________\n"
     ]
    }
   ],
   "source": [
    "from keras.layers import Input\n",
    "from keras.layers.embeddings import Embedding\n",
    "from keras import optimizers\n",
    "from keras.layers import Dense, concatenate, Activation, Dropout, LSTM\n",
    "from keras.models import Model\n",
    "from keras.layers.convolutional import Conv1D\n",
    "from keras.layers.pooling import GlobalMaxPooling1D\n",
    "\n",
    "SENTENCE_LENGTH = 30\n",
    "NUM = 600000\n",
    "DIM = 200\n",
    "\n",
    "tweet_input = Input(shape=(SENTENCE_LENGTH,), dtype='int32')\n",
    "tweet_encoder = Embedding(NUM, DIM, input_length=SENTENCE_LENGTH,\n",
    "                          weights=[e_matrix], trainable=False)(tweet_input)\n",
    "layer = LSTM(64)(tweet_encoder)\n",
    "layer = Dense(256,name='FC1')(layer)\n",
    "layer = Activation('relu')(layer)\n",
    "layer = Dropout(0.5)(layer)\n",
    "layer = Dense(26,name='out_layer')(layer)\n",
    "layer = Activation('softmax')(layer)\n",
    "model = Model(tweet_input,outputs=layer)\n",
    "\n",
    "model.compile(loss='binary_crossentropy', optimizer='adam', metrics=['accuracy', precision, recall, f1])\n",
    "model.summary()"
   ]
  },
  {
   "cell_type": "code",
   "execution_count": 10,
   "metadata": {
    "executionInfo": {
     "elapsed": 52745,
     "status": "aborted",
     "timestamp": 1614531693862,
     "user": {
      "displayName": "Алексей Витомсков",
      "photoUrl": "",
      "userId": "09837648934599257287"
     },
     "user_tz": -300
    },
    "id": "1mFGFoqR34uD"
   },
   "outputs": [
    {
     "name": "stdout",
     "output_type": "stream",
     "text": [
      "WARNING:tensorflow:`period` argument is deprecated. Please use `save_freq` to specify the frequency in number of batches seen.\n",
      "Epoch 1/200\n",
      "474/474 [==============================] - 8s 9ms/step - loss: 0.1702 - accuracy: 0.4195 - precision: 0.4158 - recall: 0.2854 - f1: 0.3311 - val_loss: 0.0783 - val_accuracy: 0.5953 - val_precision: 0.6138 - val_recall: 0.5675 - val_f1: 0.5893\n",
      "Epoch 2/200\n",
      "474/474 [==============================] - 4s 7ms/step - loss: 0.0779 - accuracy: 0.6200 - precision: 0.6548 - recall: 0.5761 - f1: 0.6119 - val_loss: 0.0661 - val_accuracy: 0.6703 - val_precision: 0.7075 - val_recall: 0.6400 - val_f1: 0.6714\n",
      "Epoch 3/200\n",
      "474/474 [==============================] - 4s 8ms/step - loss: 0.0644 - accuracy: 0.6858 - precision: 0.7322 - recall: 0.6439 - f1: 0.6844 - val_loss: 0.0610 - val_accuracy: 0.6990 - val_precision: 0.7178 - val_recall: 0.6829 - val_f1: 0.6997\n",
      "Epoch 4/200\n",
      "474/474 [==============================] - 4s 7ms/step - loss: 0.0550 - accuracy: 0.7389 - precision: 0.7719 - recall: 0.7080 - f1: 0.7379 - val_loss: 0.0551 - val_accuracy: 0.7310 - val_precision: 0.7585 - val_recall: 0.7068 - val_f1: 0.7313\n",
      "Epoch 5/200\n",
      "474/474 [==============================] - 3s 7ms/step - loss: 0.0480 - accuracy: 0.7742 - precision: 0.8004 - recall: 0.7535 - f1: 0.7759 - val_loss: 0.0535 - val_accuracy: 0.7323 - val_precision: 0.7602 - val_recall: 0.7082 - val_f1: 0.7328\n",
      "Epoch 6/200\n",
      "474/474 [==============================] - 3s 7ms/step - loss: 0.0430 - accuracy: 0.8000 - precision: 0.8225 - recall: 0.7834 - f1: 0.8021 - val_loss: 0.0535 - val_accuracy: 0.7384 - val_precision: 0.7640 - val_recall: 0.7207 - val_f1: 0.7413\n",
      "Epoch 7/200\n",
      "474/474 [==============================] - 4s 8ms/step - loss: 0.0391 - accuracy: 0.8126 - precision: 0.8329 - recall: 0.7961 - f1: 0.8138 - val_loss: 0.0537 - val_accuracy: 0.7389 - val_precision: 0.7595 - val_recall: 0.7258 - val_f1: 0.7419\n",
      "Epoch 8/200\n",
      "474/474 [==============================] - 3s 7ms/step - loss: 0.0356 - accuracy: 0.8326 - precision: 0.8527 - recall: 0.8187 - f1: 0.8351 - val_loss: 0.0557 - val_accuracy: 0.7352 - val_precision: 0.7570 - val_recall: 0.7182 - val_f1: 0.7367\n",
      "Epoch 9/200\n",
      "474/474 [==============================] - 4s 8ms/step - loss: 0.0322 - accuracy: 0.8485 - precision: 0.8674 - recall: 0.8372 - f1: 0.8518 - val_loss: 0.0579 - val_accuracy: 0.7468 - val_precision: 0.7636 - val_recall: 0.7349 - val_f1: 0.7487\n",
      "Epoch 10/200\n",
      "474/474 [==============================] - 3s 7ms/step - loss: 0.0290 - accuracy: 0.8656 - precision: 0.8819 - recall: 0.8546 - f1: 0.8678 - val_loss: 0.0587 - val_accuracy: 0.7368 - val_precision: 0.7529 - val_recall: 0.7246 - val_f1: 0.7383\n",
      "Epoch 11/200\n",
      "474/474 [==============================] - 3s 7ms/step - loss: 0.0266 - accuracy: 0.8783 - precision: 0.8945 - recall: 0.8663 - f1: 0.8800 - val_loss: 0.0629 - val_accuracy: 0.7392 - val_precision: 0.7567 - val_recall: 0.7286 - val_f1: 0.7422\n",
      "Epoch 12/200\n",
      "474/474 [==============================] - 4s 7ms/step - loss: 0.0237 - accuracy: 0.8899 - precision: 0.9043 - recall: 0.8791 - f1: 0.8913 - val_loss: 0.0646 - val_accuracy: 0.7307 - val_precision: 0.7485 - val_recall: 0.7183 - val_f1: 0.7329\n",
      "Epoch 13/200\n",
      "474/474 [==============================] - 4s 8ms/step - loss: 0.0216 - accuracy: 0.8998 - precision: 0.9139 - recall: 0.8912 - f1: 0.9022 - val_loss: 0.0683 - val_accuracy: 0.7373 - val_precision: 0.7517 - val_recall: 0.7297 - val_f1: 0.7403\n",
      "Epoch 14/200\n",
      "474/474 [==============================] - 4s 8ms/step - loss: 0.0192 - accuracy: 0.9161 - precision: 0.9290 - recall: 0.9084 - f1: 0.9184 - val_loss: 0.0723 - val_accuracy: 0.7339 - val_precision: 0.7455 - val_recall: 0.7263 - val_f1: 0.7356\n",
      "Epoch 15/200\n",
      "474/474 [==============================] - 3s 7ms/step - loss: 0.0176 - accuracy: 0.9207 - precision: 0.9339 - recall: 0.9128 - f1: 0.9231 - val_loss: 0.0762 - val_accuracy: 0.7334 - val_precision: 0.7464 - val_recall: 0.7237 - val_f1: 0.7347\n",
      "Epoch 16/200\n",
      "474/474 [==============================] - 4s 8ms/step - loss: 0.0161 - accuracy: 0.9299 - precision: 0.9392 - recall: 0.9237 - f1: 0.9313 - val_loss: 0.0801 - val_accuracy: 0.7381 - val_precision: 0.7522 - val_recall: 0.7349 - val_f1: 0.7433\n",
      "Epoch 17/200\n",
      "474/474 [==============================] - 4s 8ms/step - loss: 0.0141 - accuracy: 0.9395 - precision: 0.9489 - recall: 0.9320 - f1: 0.9403 - val_loss: 0.0870 - val_accuracy: 0.7368 - val_precision: 0.7454 - val_recall: 0.7295 - val_f1: 0.7373\n",
      "Epoch 18/200\n",
      "474/474 [==============================] - 4s 8ms/step - loss: 0.0132 - accuracy: 0.9410 - precision: 0.9502 - recall: 0.9358 - f1: 0.9429 - val_loss: 0.0862 - val_accuracy: 0.7141 - val_precision: 0.7291 - val_recall: 0.7033 - val_f1: 0.7158\n",
      "Epoch 19/200\n",
      "474/474 [==============================] - 4s 8ms/step - loss: 0.0126 - accuracy: 0.9460 - precision: 0.9564 - recall: 0.9416 - f1: 0.9488 - val_loss: 0.0919 - val_accuracy: 0.7384 - val_precision: 0.7479 - val_recall: 0.7342 - val_f1: 0.7409\n",
      "Epoch 20/200\n",
      "474/474 [==============================] - 4s 8ms/step - loss: 0.0117 - accuracy: 0.9481 - precision: 0.9563 - recall: 0.9445 - f1: 0.9502 - val_loss: 0.1045 - val_accuracy: 0.7236 - val_precision: 0.7335 - val_recall: 0.7199 - val_f1: 0.7265\n",
      "Epoch 21/200\n",
      "474/474 [==============================] - 4s 8ms/step - loss: 0.0112 - accuracy: 0.9522 - precision: 0.9599 - recall: 0.9479 - f1: 0.9538 - val_loss: 0.0985 - val_accuracy: 0.7276 - val_precision: 0.7387 - val_recall: 0.7218 - val_f1: 0.7300\n",
      "Epoch 22/200\n",
      "474/474 [==============================] - 3s 7ms/step - loss: 0.0108 - accuracy: 0.9527 - precision: 0.9597 - recall: 0.9492 - f1: 0.9544 - val_loss: 0.1025 - val_accuracy: 0.7188 - val_precision: 0.7281 - val_recall: 0.7134 - val_f1: 0.7205\n",
      "Epoch 23/200\n",
      "474/474 [==============================] - 4s 7ms/step - loss: 0.0092 - accuracy: 0.9610 - precision: 0.9674 - recall: 0.9577 - f1: 0.9625 - val_loss: 0.1052 - val_accuracy: 0.7191 - val_precision: 0.7334 - val_recall: 0.7157 - val_f1: 0.7243\n",
      "Epoch 24/200\n",
      "474/474 [==============================] - 3s 7ms/step - loss: 0.0096 - accuracy: 0.9575 - precision: 0.9632 - recall: 0.9549 - f1: 0.9590 - val_loss: 0.1073 - val_accuracy: 0.7281 - val_precision: 0.7367 - val_recall: 0.7239 - val_f1: 0.7302\n",
      "Epoch 25/200\n",
      "474/474 [==============================] - 4s 8ms/step - loss: 0.0081 - accuracy: 0.9661 - precision: 0.9714 - recall: 0.9625 - f1: 0.9669 - val_loss: 0.1086 - val_accuracy: 0.7291 - val_precision: 0.7391 - val_recall: 0.7237 - val_f1: 0.7312\n",
      "Epoch 26/200\n",
      "474/474 [==============================] - 3s 7ms/step - loss: 0.0071 - accuracy: 0.9717 - precision: 0.9746 - recall: 0.9693 - f1: 0.9719 - val_loss: 0.1174 - val_accuracy: 0.7299 - val_precision: 0.7382 - val_recall: 0.7279 - val_f1: 0.7329\n",
      "Epoch 27/200\n",
      "474/474 [==============================] - 3s 7ms/step - loss: 0.0074 - accuracy: 0.9689 - precision: 0.9726 - recall: 0.9665 - f1: 0.9695 - val_loss: 0.1216 - val_accuracy: 0.7276 - val_precision: 0.7341 - val_recall: 0.7226 - val_f1: 0.7282\n",
      "Epoch 28/200\n",
      "474/474 [==============================] - 4s 8ms/step - loss: 0.0074 - accuracy: 0.9672 - precision: 0.9714 - recall: 0.9641 - f1: 0.9677 - val_loss: 0.1175 - val_accuracy: 0.7175 - val_precision: 0.7340 - val_recall: 0.7121 - val_f1: 0.7227\n",
      "Epoch 29/200\n",
      "474/474 [==============================] - 3s 7ms/step - loss: 0.0068 - accuracy: 0.9725 - precision: 0.9764 - recall: 0.9697 - f1: 0.9730 - val_loss: 0.1215 - val_accuracy: 0.7278 - val_precision: 0.7397 - val_recall: 0.7247 - val_f1: 0.7320\n",
      "Epoch 30/200\n",
      "474/474 [==============================] - 4s 8ms/step - loss: 0.0061 - accuracy: 0.9755 - precision: 0.9781 - recall: 0.9729 - f1: 0.9755 - val_loss: 0.1291 - val_accuracy: 0.7305 - val_precision: 0.7406 - val_recall: 0.7287 - val_f1: 0.7345\n",
      "Epoch 31/200\n",
      "474/474 [==============================] - 4s 8ms/step - loss: 0.0061 - accuracy: 0.9783 - precision: 0.9809 - recall: 0.9757 - f1: 0.9783 - val_loss: 0.1326 - val_accuracy: 0.7284 - val_precision: 0.7371 - val_recall: 0.7270 - val_f1: 0.7319\n",
      "Epoch 32/200\n",
      "474/474 [==============================] - 3s 7ms/step - loss: 0.0061 - accuracy: 0.9758 - precision: 0.9788 - recall: 0.9737 - f1: 0.9762 - val_loss: 0.1332 - val_accuracy: 0.7249 - val_precision: 0.7334 - val_recall: 0.7228 - val_f1: 0.7280\n",
      "Epoch 33/200\n",
      "474/474 [==============================] - 4s 7ms/step - loss: 0.0052 - accuracy: 0.9805 - precision: 0.9833 - recall: 0.9784 - f1: 0.9808 - val_loss: 0.1363 - val_accuracy: 0.7188 - val_precision: 0.7277 - val_recall: 0.7171 - val_f1: 0.7223\n",
      "Epoch 34/200\n",
      "474/474 [==============================] - 4s 8ms/step - loss: 0.0058 - accuracy: 0.9764 - precision: 0.9793 - recall: 0.9749 - f1: 0.9771 - val_loss: 0.1309 - val_accuracy: 0.7315 - val_precision: 0.7399 - val_recall: 0.7291 - val_f1: 0.7344\n",
      "Epoch 35/200\n",
      "474/474 [==============================] - 3s 7ms/step - loss: 0.0052 - accuracy: 0.9807 - precision: 0.9829 - recall: 0.9787 - f1: 0.9808 - val_loss: 0.1413 - val_accuracy: 0.7233 - val_precision: 0.7293 - val_recall: 0.7201 - val_f1: 0.7246\n",
      "Epoch 36/200\n",
      "474/474 [==============================] - 3s 7ms/step - loss: 0.0050 - accuracy: 0.9813 - precision: 0.9831 - recall: 0.9804 - f1: 0.9817 - val_loss: 0.1426 - val_accuracy: 0.7220 - val_precision: 0.7262 - val_recall: 0.7195 - val_f1: 0.7228\n",
      "Epoch 37/200\n",
      "474/474 [==============================] - 4s 8ms/step - loss: 0.0045 - accuracy: 0.9824 - precision: 0.9842 - recall: 0.9808 - f1: 0.9825 - val_loss: 0.1427 - val_accuracy: 0.7183 - val_precision: 0.7250 - val_recall: 0.7173 - val_f1: 0.7211\n",
      "Epoch 38/200\n",
      "474/474 [==============================] - 4s 7ms/step - loss: 0.0047 - accuracy: 0.9841 - precision: 0.9850 - recall: 0.9834 - f1: 0.9842 - val_loss: 0.1497 - val_accuracy: 0.7212 - val_precision: 0.7278 - val_recall: 0.7191 - val_f1: 0.7233\n",
      "Epoch 39/200\n",
      "474/474 [==============================] - 3s 7ms/step - loss: 0.0047 - accuracy: 0.9824 - precision: 0.9839 - recall: 0.9806 - f1: 0.9823 - val_loss: 0.1450 - val_accuracy: 0.7115 - val_precision: 0.7200 - val_recall: 0.7089 - val_f1: 0.7144\n",
      "Epoch 40/200\n",
      "474/474 [==============================] - 4s 8ms/step - loss: 0.0044 - accuracy: 0.9839 - precision: 0.9852 - recall: 0.9827 - f1: 0.9839 - val_loss: 0.1531 - val_accuracy: 0.7252 - val_precision: 0.7313 - val_recall: 0.7244 - val_f1: 0.7277\n",
      "Epoch 41/200\n",
      "474/474 [==============================] - 3s 7ms/step - loss: 0.0038 - accuracy: 0.9870 - precision: 0.9883 - recall: 0.9861 - f1: 0.9871 - val_loss: 0.1587 - val_accuracy: 0.7191 - val_precision: 0.7255 - val_recall: 0.7188 - val_f1: 0.7221\n",
      "Epoch 42/200\n",
      "474/474 [==============================] - 4s 8ms/step - loss: 0.0058 - accuracy: 0.9788 - precision: 0.9799 - recall: 0.9777 - f1: 0.9788 - val_loss: 0.1555 - val_accuracy: 0.7165 - val_precision: 0.7239 - val_recall: 0.7144 - val_f1: 0.7190\n",
      "Epoch 43/200\n",
      "474/474 [==============================] - 4s 8ms/step - loss: 0.0042 - accuracy: 0.9863 - precision: 0.9876 - recall: 0.9858 - f1: 0.9867 - val_loss: 0.1552 - val_accuracy: 0.7188 - val_precision: 0.7255 - val_recall: 0.7174 - val_f1: 0.7214\n",
      "Epoch 44/200\n",
      "474/474 [==============================] - 3s 7ms/step - loss: 0.0038 - accuracy: 0.9860 - precision: 0.9879 - recall: 0.9855 - f1: 0.9867 - val_loss: 0.1562 - val_accuracy: 0.7218 - val_precision: 0.7275 - val_recall: 0.7217 - val_f1: 0.7246\n",
      "Epoch 45/200\n",
      "474/474 [==============================] - 3s 7ms/step - loss: 0.0029 - accuracy: 0.9901 - precision: 0.9907 - recall: 0.9896 - f1: 0.9901 - val_loss: 0.1652 - val_accuracy: 0.7207 - val_precision: 0.7265 - val_recall: 0.7210 - val_f1: 0.7237\n",
      "Epoch 46/200\n",
      "474/474 [==============================] - 4s 7ms/step - loss: 0.0044 - accuracy: 0.9855 - precision: 0.9866 - recall: 0.9848 - f1: 0.9856 - val_loss: 0.1579 - val_accuracy: 0.7215 - val_precision: 0.7261 - val_recall: 0.7206 - val_f1: 0.7233\n",
      "Epoch 47/200\n",
      "474/474 [==============================] - 3s 7ms/step - loss: 0.0043 - accuracy: 0.9852 - precision: 0.9861 - recall: 0.9848 - f1: 0.9855 - val_loss: 0.1561 - val_accuracy: 0.7210 - val_precision: 0.7255 - val_recall: 0.7184 - val_f1: 0.7219\n",
      "Epoch 48/200\n",
      "474/474 [==============================] - 4s 7ms/step - loss: 0.0043 - accuracy: 0.9839 - precision: 0.9849 - recall: 0.9835 - f1: 0.9842 - val_loss: 0.1634 - val_accuracy: 0.7281 - val_precision: 0.7327 - val_recall: 0.7250 - val_f1: 0.7288\n",
      "Epoch 49/200\n",
      "474/474 [==============================] - 3s 7ms/step - loss: 0.0034 - accuracy: 0.9878 - precision: 0.9887 - recall: 0.9873 - f1: 0.9880 - val_loss: 0.1647 - val_accuracy: 0.7260 - val_precision: 0.7309 - val_recall: 0.7239 - val_f1: 0.7274\n",
      "Epoch 50/200\n",
      "474/474 [==============================] - 4s 7ms/step - loss: 0.0055 - accuracy: 0.9804 - precision: 0.9815 - recall: 0.9791 - f1: 0.9803 - val_loss: 0.1567 - val_accuracy: 0.7225 - val_precision: 0.7259 - val_recall: 0.7209 - val_f1: 0.7233\n",
      "Epoch 51/200\n",
      "474/474 [==============================] - 4s 8ms/step - loss: 0.0036 - accuracy: 0.9884 - precision: 0.9889 - recall: 0.9880 - f1: 0.9884 - val_loss: 0.1631 - val_accuracy: 0.7273 - val_precision: 0.7315 - val_recall: 0.7251 - val_f1: 0.7282\n",
      "Epoch 52/200\n",
      "474/474 [==============================] - 4s 8ms/step - loss: 0.0026 - accuracy: 0.9927 - precision: 0.9929 - recall: 0.9919 - f1: 0.9924 - val_loss: 0.1717 - val_accuracy: 0.7233 - val_precision: 0.7272 - val_recall: 0.7229 - val_f1: 0.7250\n",
      "Epoch 53/200\n",
      "474/474 [==============================] - 4s 8ms/step - loss: 0.0028 - accuracy: 0.9902 - precision: 0.9908 - recall: 0.9900 - f1: 0.9904 - val_loss: 0.1682 - val_accuracy: 0.7154 - val_precision: 0.7240 - val_recall: 0.7147 - val_f1: 0.7192\n",
      "Epoch 54/200\n",
      "474/474 [==============================] - 4s 8ms/step - loss: 0.0042 - accuracy: 0.9849 - precision: 0.9857 - recall: 0.9843 - f1: 0.9850 - val_loss: 0.1711 - val_accuracy: 0.7220 - val_precision: 0.7260 - val_recall: 0.7220 - val_f1: 0.7240\n",
      "Epoch 55/200\n",
      "474/474 [==============================] - 3s 7ms/step - loss: 0.0029 - accuracy: 0.9890 - precision: 0.9905 - recall: 0.9886 - f1: 0.9895 - val_loss: 0.1734 - val_accuracy: 0.7254 - val_precision: 0.7298 - val_recall: 0.7255 - val_f1: 0.7276\n",
      "Epoch 56/200\n",
      "474/474 [==============================] - 4s 7ms/step - loss: 0.0036 - accuracy: 0.9864 - precision: 0.9872 - recall: 0.9858 - f1: 0.9865 - val_loss: 0.1752 - val_accuracy: 0.7273 - val_precision: 0.7318 - val_recall: 0.7265 - val_f1: 0.7291\n",
      "Epoch 57/200\n",
      "474/474 [==============================] - 3s 7ms/step - loss: 0.0031 - accuracy: 0.9898 - precision: 0.9900 - recall: 0.9892 - f1: 0.9896 - val_loss: 0.1742 - val_accuracy: 0.7220 - val_precision: 0.7279 - val_recall: 0.7198 - val_f1: 0.7237\n",
      "Epoch 58/200\n",
      "474/474 [==============================] - 3s 7ms/step - loss: 0.0035 - accuracy: 0.9875 - precision: 0.9885 - recall: 0.9873 - f1: 0.9879 - val_loss: 0.1879 - val_accuracy: 0.7273 - val_precision: 0.7304 - val_recall: 0.7253 - val_f1: 0.7278\n",
      "Epoch 59/200\n",
      "474/474 [==============================] - 4s 8ms/step - loss: 0.0029 - accuracy: 0.9914 - precision: 0.9917 - recall: 0.9907 - f1: 0.9912 - val_loss: 0.1813 - val_accuracy: 0.7252 - val_precision: 0.7281 - val_recall: 0.7232 - val_f1: 0.7256\n",
      "Epoch 60/200\n",
      "474/474 [==============================] - 4s 7ms/step - loss: 0.0023 - accuracy: 0.9921 - precision: 0.9925 - recall: 0.9917 - f1: 0.9921 - val_loss: 0.1850 - val_accuracy: 0.7228 - val_precision: 0.7270 - val_recall: 0.7221 - val_f1: 0.7245\n",
      "Epoch 61/200\n",
      "474/474 [==============================] - 3s 7ms/step - loss: 0.0023 - accuracy: 0.9918 - precision: 0.9927 - recall: 0.9912 - f1: 0.9919 - val_loss: 0.1878 - val_accuracy: 0.7233 - val_precision: 0.7271 - val_recall: 0.7227 - val_f1: 0.7249\n",
      "Epoch 62/200\n",
      "474/474 [==============================] - 4s 7ms/step - loss: 0.0046 - accuracy: 0.9829 - precision: 0.9839 - recall: 0.9823 - f1: 0.9831 - val_loss: 0.1729 - val_accuracy: 0.7112 - val_precision: 0.7158 - val_recall: 0.7105 - val_f1: 0.7131\n",
      "Epoch 63/200\n",
      "474/474 [==============================] - 4s 7ms/step - loss: 0.0044 - accuracy: 0.9840 - precision: 0.9844 - recall: 0.9834 - f1: 0.9839 - val_loss: 0.1734 - val_accuracy: 0.7276 - val_precision: 0.7310 - val_recall: 0.7264 - val_f1: 0.7286\n",
      "Epoch 64/200\n"
     ]
    },
    {
     "name": "stdout",
     "output_type": "stream",
     "text": [
      "474/474 [==============================] - 4s 8ms/step - loss: 0.0025 - accuracy: 0.9917 - precision: 0.9929 - recall: 0.9917 - f1: 0.9923 - val_loss: 0.1737 - val_accuracy: 0.7173 - val_precision: 0.7209 - val_recall: 0.7148 - val_f1: 0.7178\n",
      "Epoch 65/200\n",
      "474/474 [==============================] - 4s 7ms/step - loss: 0.0021 - accuracy: 0.9916 - precision: 0.9922 - recall: 0.9915 - f1: 0.9918 - val_loss: 0.1895 - val_accuracy: 0.7233 - val_precision: 0.7266 - val_recall: 0.7216 - val_f1: 0.7241\n",
      "Epoch 66/200\n",
      "474/474 [==============================] - 3s 7ms/step - loss: 0.0025 - accuracy: 0.9919 - precision: 0.9922 - recall: 0.9917 - f1: 0.9920 - val_loss: 0.1897 - val_accuracy: 0.7244 - val_precision: 0.7278 - val_recall: 0.7230 - val_f1: 0.7253\n",
      "Epoch 67/200\n",
      "474/474 [==============================] - 4s 8ms/step - loss: 0.0028 - accuracy: 0.9902 - precision: 0.9905 - recall: 0.9900 - f1: 0.9903 - val_loss: 0.1881 - val_accuracy: 0.7249 - val_precision: 0.7293 - val_recall: 0.7239 - val_f1: 0.7265\n",
      "Epoch 68/200\n",
      "474/474 [==============================] - 4s 8ms/step - loss: 0.0032 - accuracy: 0.9905 - precision: 0.9911 - recall: 0.9898 - f1: 0.9905 - val_loss: 0.1873 - val_accuracy: 0.7231 - val_precision: 0.7263 - val_recall: 0.7222 - val_f1: 0.7242\n",
      "Epoch 69/200\n",
      "474/474 [==============================] - 3s 7ms/step - loss: 0.0025 - accuracy: 0.9915 - precision: 0.9917 - recall: 0.9912 - f1: 0.9915 - val_loss: 0.1861 - val_accuracy: 0.7236 - val_precision: 0.7282 - val_recall: 0.7227 - val_f1: 0.7254\n",
      "Epoch 70/200\n",
      "474/474 [==============================] - 3s 7ms/step - loss: 0.0022 - accuracy: 0.9922 - precision: 0.9925 - recall: 0.9919 - f1: 0.9922 - val_loss: 0.1884 - val_accuracy: 0.7191 - val_precision: 0.7225 - val_recall: 0.7177 - val_f1: 0.7200\n",
      "Epoch 71/200\n",
      "474/474 [==============================] - 4s 7ms/step - loss: 0.0020 - accuracy: 0.9935 - precision: 0.9937 - recall: 0.9930 - f1: 0.9933 - val_loss: 0.1967 - val_accuracy: 0.7241 - val_precision: 0.7261 - val_recall: 0.7231 - val_f1: 0.7246\n",
      "Epoch 72/200\n",
      "474/474 [==============================] - 3s 7ms/step - loss: 0.0024 - accuracy: 0.9917 - precision: 0.9922 - recall: 0.9916 - f1: 0.9919 - val_loss: 0.1934 - val_accuracy: 0.7152 - val_precision: 0.7190 - val_recall: 0.7139 - val_f1: 0.7164\n",
      "Epoch 73/200\n",
      "474/474 [==============================] - 4s 7ms/step - loss: 0.0024 - accuracy: 0.9919 - precision: 0.9920 - recall: 0.9918 - f1: 0.9919 - val_loss: 0.1933 - val_accuracy: 0.7146 - val_precision: 0.7188 - val_recall: 0.7132 - val_f1: 0.7160\n",
      "Epoch 74/200\n",
      "474/474 [==============================] - 3s 7ms/step - loss: 0.0018 - accuracy: 0.9945 - precision: 0.9950 - recall: 0.9944 - f1: 0.9947 - val_loss: 0.2013 - val_accuracy: 0.7212 - val_precision: 0.7237 - val_recall: 0.7203 - val_f1: 0.7220\n",
      "Epoch 75/200\n",
      "474/474 [==============================] - 3s 7ms/step - loss: 0.0020 - accuracy: 0.9925 - precision: 0.9928 - recall: 0.9924 - f1: 0.9926 - val_loss: 0.1999 - val_accuracy: 0.7006 - val_precision: 0.7055 - val_recall: 0.7000 - val_f1: 0.7027\n",
      "Epoch 76/200\n",
      "474/474 [==============================] - 4s 8ms/step - loss: 0.0046 - accuracy: 0.9833 - precision: 0.9838 - recall: 0.9824 - f1: 0.9831 - val_loss: 0.1899 - val_accuracy: 0.7233 - val_precision: 0.7271 - val_recall: 0.7216 - val_f1: 0.7243\n",
      "Epoch 77/200\n",
      "474/474 [==============================] - 4s 7ms/step - loss: 0.0027 - accuracy: 0.9902 - precision: 0.9904 - recall: 0.9900 - f1: 0.9902 - val_loss: 0.2090 - val_accuracy: 0.7188 - val_precision: 0.7214 - val_recall: 0.7174 - val_f1: 0.7194\n",
      "Epoch 78/200\n",
      "474/474 [==============================] - 3s 7ms/step - loss: 0.0028 - accuracy: 0.9901 - precision: 0.9906 - recall: 0.9895 - f1: 0.9901 - val_loss: 0.1963 - val_accuracy: 0.7194 - val_precision: 0.7240 - val_recall: 0.7189 - val_f1: 0.7214\n",
      "Epoch 79/200\n",
      "474/474 [==============================] - 4s 8ms/step - loss: 0.0019 - accuracy: 0.9934 - precision: 0.9939 - recall: 0.9933 - f1: 0.9936 - val_loss: 0.2070 - val_accuracy: 0.7276 - val_precision: 0.7302 - val_recall: 0.7261 - val_f1: 0.7281\n",
      "Epoch 80/200\n",
      "474/474 [==============================] - 4s 7ms/step - loss: 0.0015 - accuracy: 0.9949 - precision: 0.9953 - recall: 0.9944 - f1: 0.9948 - val_loss: 0.2093 - val_accuracy: 0.7196 - val_precision: 0.7234 - val_recall: 0.7195 - val_f1: 0.7214\n",
      "Epoch 81/200\n",
      "474/474 [==============================] - 4s 7ms/step - loss: 0.0015 - accuracy: 0.9948 - precision: 0.9950 - recall: 0.9945 - f1: 0.9947 - val_loss: 0.2194 - val_accuracy: 0.7120 - val_precision: 0.7172 - val_recall: 0.7118 - val_f1: 0.7145\n",
      "Epoch 82/200\n",
      "474/474 [==============================] - 4s 8ms/step - loss: 0.0025 - accuracy: 0.9919 - precision: 0.9922 - recall: 0.9918 - f1: 0.9920 - val_loss: 0.2164 - val_accuracy: 0.7199 - val_precision: 0.7240 - val_recall: 0.7181 - val_f1: 0.7210\n",
      "Epoch 83/200\n",
      "474/474 [==============================] - 3s 7ms/step - loss: 0.0029 - accuracy: 0.9905 - precision: 0.9909 - recall: 0.9904 - f1: 0.9906 - val_loss: 0.1975 - val_accuracy: 0.7173 - val_precision: 0.7218 - val_recall: 0.7160 - val_f1: 0.7189\n",
      "Epoch 84/200\n",
      "474/474 [==============================] - 4s 7ms/step - loss: 0.0029 - accuracy: 0.9895 - precision: 0.9900 - recall: 0.9892 - f1: 0.9896 - val_loss: 0.2037 - val_accuracy: 0.7196 - val_precision: 0.7241 - val_recall: 0.7195 - val_f1: 0.7217\n",
      "Epoch 85/200\n",
      "474/474 [==============================] - 4s 7ms/step - loss: 0.0020 - accuracy: 0.9931 - precision: 0.9935 - recall: 0.9929 - f1: 0.9932 - val_loss: 0.2078 - val_accuracy: 0.7191 - val_precision: 0.7229 - val_recall: 0.7185 - val_f1: 0.7206\n",
      "Epoch 86/200\n",
      "474/474 [==============================] - 4s 7ms/step - loss: 0.0019 - accuracy: 0.9946 - precision: 0.9948 - recall: 0.9943 - f1: 0.9945 - val_loss: 0.2088 - val_accuracy: 0.7210 - val_precision: 0.7226 - val_recall: 0.7203 - val_f1: 0.7214\n",
      "Epoch 87/200\n",
      "474/474 [==============================] - 3s 7ms/step - loss: 0.0020 - accuracy: 0.9928 - precision: 0.9928 - recall: 0.9925 - f1: 0.9926 - val_loss: 0.2134 - val_accuracy: 0.7239 - val_precision: 0.7270 - val_recall: 0.7227 - val_f1: 0.7248\n",
      "Epoch 88/200\n",
      "474/474 [==============================] - 4s 8ms/step - loss: 0.0020 - accuracy: 0.9930 - precision: 0.9934 - recall: 0.9927 - f1: 0.9931 - val_loss: 0.2107 - val_accuracy: 0.7220 - val_precision: 0.7260 - val_recall: 0.7208 - val_f1: 0.7233\n",
      "Epoch 89/200\n",
      "474/474 [==============================] - 4s 7ms/step - loss: 0.0029 - accuracy: 0.9900 - precision: 0.9903 - recall: 0.9897 - f1: 0.9900 - val_loss: 0.2038 - val_accuracy: 0.7199 - val_precision: 0.7229 - val_recall: 0.7195 - val_f1: 0.7211\n",
      "Epoch 90/200\n",
      "474/474 [==============================] - 4s 7ms/step - loss: 0.0031 - accuracy: 0.9892 - precision: 0.9895 - recall: 0.9891 - f1: 0.9893 - val_loss: 0.2040 - val_accuracy: 0.7183 - val_precision: 0.7215 - val_recall: 0.7172 - val_f1: 0.7193\n",
      "Epoch 91/200\n",
      "474/474 [==============================] - 4s 7ms/step - loss: 0.0020 - accuracy: 0.9949 - precision: 0.9952 - recall: 0.9946 - f1: 0.9949 - val_loss: 0.2127 - val_accuracy: 0.7207 - val_precision: 0.7230 - val_recall: 0.7173 - val_f1: 0.7201\n",
      "Epoch 92/200\n",
      "474/474 [==============================] - 3s 7ms/step - loss: 0.0019 - accuracy: 0.9931 - precision: 0.9937 - recall: 0.9928 - f1: 0.9932 - val_loss: 0.2112 - val_accuracy: 0.7212 - val_precision: 0.7249 - val_recall: 0.7201 - val_f1: 0.7225\n",
      "Epoch 93/200\n",
      "474/474 [==============================] - 4s 8ms/step - loss: 0.0019 - accuracy: 0.9942 - precision: 0.9944 - recall: 0.9940 - f1: 0.9942 - val_loss: 0.2175 - val_accuracy: 0.7218 - val_precision: 0.7255 - val_recall: 0.7204 - val_f1: 0.7229\n",
      "Epoch 94/200\n",
      "474/474 [==============================] - 4s 8ms/step - loss: 0.0014 - accuracy: 0.9953 - precision: 0.9957 - recall: 0.9950 - f1: 0.9953 - val_loss: 0.2209 - val_accuracy: 0.7268 - val_precision: 0.7298 - val_recall: 0.7258 - val_f1: 0.7278\n",
      "Epoch 95/200\n",
      "474/474 [==============================] - 4s 7ms/step - loss: 0.0018 - accuracy: 0.9933 - precision: 0.9935 - recall: 0.9930 - f1: 0.9932 - val_loss: 0.2208 - val_accuracy: 0.7231 - val_precision: 0.7262 - val_recall: 0.7229 - val_f1: 0.7245\n",
      "Epoch 96/200\n",
      "474/474 [==============================] - 4s 7ms/step - loss: 0.0029 - accuracy: 0.9907 - precision: 0.9911 - recall: 0.9904 - f1: 0.9908 - val_loss: 0.2190 - val_accuracy: 0.7220 - val_precision: 0.7244 - val_recall: 0.7188 - val_f1: 0.7215\n",
      "Epoch 97/200\n",
      "474/474 [==============================] - 4s 7ms/step - loss: 0.0020 - accuracy: 0.9930 - precision: 0.9932 - recall: 0.9928 - f1: 0.9930 - val_loss: 0.2248 - val_accuracy: 0.7218 - val_precision: 0.7243 - val_recall: 0.7207 - val_f1: 0.7225\n",
      "Epoch 98/200\n",
      "474/474 [==============================] - 3s 7ms/step - loss: 0.0016 - accuracy: 0.9946 - precision: 0.9947 - recall: 0.9943 - f1: 0.9945 - val_loss: 0.2188 - val_accuracy: 0.7157 - val_precision: 0.7193 - val_recall: 0.7154 - val_f1: 0.7173\n",
      "Epoch 99/200\n",
      "474/474 [==============================] - 4s 8ms/step - loss: 0.0019 - accuracy: 0.9933 - precision: 0.9935 - recall: 0.9932 - f1: 0.9933 - val_loss: 0.2207 - val_accuracy: 0.7173 - val_precision: 0.7196 - val_recall: 0.7156 - val_f1: 0.7176\n",
      "Epoch 100/200\n",
      "474/474 [==============================] - 4s 8ms/step - loss: 0.0020 - accuracy: 0.9919 - precision: 0.9923 - recall: 0.9916 - f1: 0.9919 - val_loss: 0.2198 - val_accuracy: 0.7199 - val_precision: 0.7230 - val_recall: 0.7182 - val_f1: 0.7206\n",
      "Epoch 101/200\n",
      "474/474 [==============================] - 4s 8ms/step - loss: 0.0028 - accuracy: 0.9914 - precision: 0.9915 - recall: 0.9910 - f1: 0.9913 - val_loss: 0.2160 - val_accuracy: 0.7175 - val_precision: 0.7213 - val_recall: 0.7169 - val_f1: 0.7191\n",
      "Epoch 102/200\n",
      "474/474 [==============================] - 4s 7ms/step - loss: 0.0014 - accuracy: 0.9952 - precision: 0.9956 - recall: 0.9949 - f1: 0.9952 - val_loss: 0.2236 - val_accuracy: 0.7207 - val_precision: 0.7233 - val_recall: 0.7205 - val_f1: 0.7219\n",
      "Epoch 103/200\n",
      "474/474 [==============================] - 4s 7ms/step - loss: 0.0014 - accuracy: 0.9953 - precision: 0.9954 - recall: 0.9952 - f1: 0.9953 - val_loss: 0.2280 - val_accuracy: 0.7233 - val_precision: 0.7266 - val_recall: 0.7234 - val_f1: 0.7250\n",
      "Epoch 104/200\n",
      "474/474 [==============================] - 3s 7ms/step - loss: 0.0021 - accuracy: 0.9938 - precision: 0.9943 - recall: 0.9934 - f1: 0.9938 - val_loss: 0.2233 - val_accuracy: 0.7088 - val_precision: 0.7120 - val_recall: 0.7079 - val_f1: 0.7099\n",
      "Epoch 105/200\n",
      "474/474 [==============================] - 4s 8ms/step - loss: 0.0036 - accuracy: 0.9861 - precision: 0.9873 - recall: 0.9858 - f1: 0.9866 - val_loss: 0.2065 - val_accuracy: 0.7072 - val_precision: 0.7107 - val_recall: 0.7056 - val_f1: 0.7081\n",
      "Epoch 106/200\n",
      "474/474 [==============================] - 4s 8ms/step - loss: 0.0021 - accuracy: 0.9920 - precision: 0.9928 - recall: 0.9918 - f1: 0.9923 - val_loss: 0.2256 - val_accuracy: 0.7146 - val_precision: 0.7172 - val_recall: 0.7119 - val_f1: 0.7145\n",
      "Epoch 107/200\n",
      "474/474 [==============================] - 3s 7ms/step - loss: 0.0020 - accuracy: 0.9924 - precision: 0.9927 - recall: 0.9918 - f1: 0.9923 - val_loss: 0.2238 - val_accuracy: 0.7130 - val_precision: 0.7181 - val_recall: 0.7120 - val_f1: 0.7150\n",
      "Epoch 108/200\n",
      "474/474 [==============================] - 4s 8ms/step - loss: 0.0015 - accuracy: 0.9940 - precision: 0.9944 - recall: 0.9940 - f1: 0.9942 - val_loss: 0.2302 - val_accuracy: 0.7178 - val_precision: 0.7215 - val_recall: 0.7164 - val_f1: 0.7189\n",
      "Epoch 109/200\n",
      "474/474 [==============================] - 3s 7ms/step - loss: 0.0011 - accuracy: 0.9956 - precision: 0.9959 - recall: 0.9954 - f1: 0.9956 - val_loss: 0.2353 - val_accuracy: 0.7210 - val_precision: 0.7235 - val_recall: 0.7197 - val_f1: 0.7215\n",
      "Epoch 110/200\n",
      "474/474 [==============================] - 4s 8ms/step - loss: 0.0013 - accuracy: 0.9957 - precision: 0.9961 - recall: 0.9957 - f1: 0.9959 - val_loss: 0.2344 - val_accuracy: 0.7194 - val_precision: 0.7233 - val_recall: 0.7195 - val_f1: 0.7213\n",
      "Epoch 111/200\n",
      "474/474 [==============================] - 4s 7ms/step - loss: 0.0019 - accuracy: 0.9939 - precision: 0.9942 - recall: 0.9936 - f1: 0.9939 - val_loss: 0.2274 - val_accuracy: 0.7159 - val_precision: 0.7185 - val_recall: 0.7146 - val_f1: 0.7165\n",
      "Epoch 112/200\n",
      "474/474 [==============================] - 4s 7ms/step - loss: 0.0019 - accuracy: 0.9942 - precision: 0.9946 - recall: 0.9939 - f1: 0.9942 - val_loss: 0.2305 - val_accuracy: 0.7194 - val_precision: 0.7214 - val_recall: 0.7182 - val_f1: 0.7198\n",
      "Epoch 113/200\n",
      "474/474 [==============================] - 4s 7ms/step - loss: 0.0022 - accuracy: 0.9915 - precision: 0.9918 - recall: 0.9911 - f1: 0.9914 - val_loss: 0.2274 - val_accuracy: 0.7225 - val_precision: 0.7271 - val_recall: 0.7216 - val_f1: 0.7243\n",
      "Epoch 114/200\n",
      "474/474 [==============================] - 4s 7ms/step - loss: 0.0027 - accuracy: 0.9899 - precision: 0.9905 - recall: 0.9897 - f1: 0.9901 - val_loss: 0.2137 - val_accuracy: 0.7133 - val_precision: 0.7162 - val_recall: 0.7110 - val_f1: 0.7135\n",
      "Epoch 115/200\n",
      "474/474 [==============================] - 3s 7ms/step - loss: 0.0023 - accuracy: 0.9923 - precision: 0.9924 - recall: 0.9923 - f1: 0.9923 - val_loss: 0.2194 - val_accuracy: 0.7244 - val_precision: 0.7275 - val_recall: 0.7226 - val_f1: 0.7250\n",
      "Epoch 116/200\n",
      "474/474 [==============================] - 4s 7ms/step - loss: 0.0017 - accuracy: 0.9943 - precision: 0.9946 - recall: 0.9933 - f1: 0.9940 - val_loss: 0.2331 - val_accuracy: 0.7080 - val_precision: 0.7129 - val_recall: 0.7075 - val_f1: 0.7101\n",
      "Epoch 117/200\n",
      "474/474 [==============================] - 4s 7ms/step - loss: 0.0017 - accuracy: 0.9940 - precision: 0.9941 - recall: 0.9936 - f1: 0.9939 - val_loss: 0.2326 - val_accuracy: 0.7138 - val_precision: 0.7167 - val_recall: 0.7130 - val_f1: 0.7148\n",
      "Epoch 118/200\n",
      "474/474 [==============================] - 4s 7ms/step - loss: 0.0015 - accuracy: 0.9943 - precision: 0.9946 - recall: 0.9942 - f1: 0.9944 - val_loss: 0.2338 - val_accuracy: 0.7162 - val_precision: 0.7181 - val_recall: 0.7148 - val_f1: 0.7164\n",
      "Epoch 119/200\n",
      "474/474 [==============================] - 4s 7ms/step - loss: 0.0016 - accuracy: 0.9943 - precision: 0.9947 - recall: 0.9941 - f1: 0.9944 - val_loss: 0.2347 - val_accuracy: 0.7136 - val_precision: 0.7162 - val_recall: 0.7127 - val_f1: 0.7144\n",
      "Epoch 120/200\n",
      "474/474 [==============================] - 4s 7ms/step - loss: 0.0025 - accuracy: 0.9908 - precision: 0.9909 - recall: 0.9906 - f1: 0.9907 - val_loss: 0.2275 - val_accuracy: 0.7109 - val_precision: 0.7153 - val_recall: 0.7103 - val_f1: 0.7127\n",
      "Epoch 121/200\n",
      "474/474 [==============================] - 4s 7ms/step - loss: 0.0018 - accuracy: 0.9930 - precision: 0.9931 - recall: 0.9929 - f1: 0.9930 - val_loss: 0.2285 - val_accuracy: 0.7173 - val_precision: 0.7195 - val_recall: 0.7169 - val_f1: 0.7182\n",
      "Epoch 122/200\n",
      "474/474 [==============================] - 4s 8ms/step - loss: 0.0018 - accuracy: 0.9938 - precision: 0.9939 - recall: 0.9938 - f1: 0.9939 - val_loss: 0.2296 - val_accuracy: 0.7146 - val_precision: 0.7165 - val_recall: 0.7135 - val_f1: 0.7150\n",
      "Epoch 123/200\n",
      "474/474 [==============================] - 4s 8ms/step - loss: 0.0016 - accuracy: 0.9946 - precision: 0.9947 - recall: 0.9943 - f1: 0.9945 - val_loss: 0.2355 - val_accuracy: 0.7183 - val_precision: 0.7209 - val_recall: 0.7173 - val_f1: 0.7191\n",
      "Epoch 124/200\n",
      "474/474 [==============================] - 4s 7ms/step - loss: 0.0027 - accuracy: 0.9911 - precision: 0.9919 - recall: 0.9904 - f1: 0.9911 - val_loss: 0.2251 - val_accuracy: 0.7125 - val_precision: 0.7174 - val_recall: 0.7131 - val_f1: 0.7152\n",
      "Epoch 125/200\n",
      "474/474 [==============================] - 4s 8ms/step - loss: 0.0020 - accuracy: 0.9923 - precision: 0.9925 - recall: 0.9919 - f1: 0.9922 - val_loss: 0.2440 - val_accuracy: 0.7080 - val_precision: 0.7108 - val_recall: 0.7076 - val_f1: 0.7092\n",
      "Epoch 126/200\n",
      "474/474 [==============================] - 3s 7ms/step - loss: 0.0016 - accuracy: 0.9942 - precision: 0.9944 - recall: 0.9940 - f1: 0.9942 - val_loss: 0.2496 - val_accuracy: 0.7122 - val_precision: 0.7137 - val_recall: 0.7121 - val_f1: 0.7129\n",
      "Epoch 127/200\n",
      "474/474 [==============================] - 4s 7ms/step - loss: 0.0015 - accuracy: 0.9950 - precision: 0.9950 - recall: 0.9948 - f1: 0.9949 - val_loss: 0.2533 - val_accuracy: 0.7157 - val_precision: 0.7180 - val_recall: 0.7147 - val_f1: 0.7163\n"
     ]
    },
    {
     "name": "stdout",
     "output_type": "stream",
     "text": [
      "Epoch 128/200\n",
      "474/474 [==============================] - 4s 7ms/step - loss: 0.0015 - accuracy: 0.9945 - precision: 0.9946 - recall: 0.9944 - f1: 0.9945 - val_loss: 0.2527 - val_accuracy: 0.7162 - val_precision: 0.7187 - val_recall: 0.7158 - val_f1: 0.7172\n",
      "Epoch 129/200\n",
      "474/474 [==============================] - 4s 8ms/step - loss: 0.0015 - accuracy: 0.9951 - precision: 0.9954 - recall: 0.9948 - f1: 0.9951 - val_loss: 0.2443 - val_accuracy: 0.7112 - val_precision: 0.7143 - val_recall: 0.7108 - val_f1: 0.7125\n",
      "Epoch 130/200\n",
      "474/474 [==============================] - 4s 8ms/step - loss: 0.0017 - accuracy: 0.9945 - precision: 0.9947 - recall: 0.9942 - f1: 0.9945 - val_loss: 0.2592 - val_accuracy: 0.7130 - val_precision: 0.7169 - val_recall: 0.7118 - val_f1: 0.7143\n",
      "Epoch 131/200\n",
      "474/474 [==============================] - 4s 8ms/step - loss: 0.0013 - accuracy: 0.9961 - precision: 0.9964 - recall: 0.9960 - f1: 0.9962 - val_loss: 0.2595 - val_accuracy: 0.7218 - val_precision: 0.7236 - val_recall: 0.7205 - val_f1: 0.7220\n",
      "Epoch 132/200\n",
      "474/474 [==============================] - 4s 8ms/step - loss: 0.0015 - accuracy: 0.9949 - precision: 0.9953 - recall: 0.9948 - f1: 0.9950 - val_loss: 0.2469 - val_accuracy: 0.7152 - val_precision: 0.7189 - val_recall: 0.7147 - val_f1: 0.7168\n",
      "Epoch 133/200\n",
      "474/474 [==============================] - 4s 8ms/step - loss: 0.0029 - accuracy: 0.9890 - precision: 0.9894 - recall: 0.9886 - f1: 0.9890 - val_loss: 0.2307 - val_accuracy: 0.7138 - val_precision: 0.7170 - val_recall: 0.7129 - val_f1: 0.7149\n",
      "Epoch 134/200\n",
      "474/474 [==============================] - 4s 8ms/step - loss: 0.0019 - accuracy: 0.9933 - precision: 0.9937 - recall: 0.9925 - f1: 0.9931 - val_loss: 0.2277 - val_accuracy: 0.7138 - val_precision: 0.7180 - val_recall: 0.7107 - val_f1: 0.7143\n",
      "Epoch 135/200\n",
      "474/474 [==============================] - 4s 8ms/step - loss: 0.0023 - accuracy: 0.9922 - precision: 0.9925 - recall: 0.9922 - f1: 0.9923 - val_loss: 0.2327 - val_accuracy: 0.7183 - val_precision: 0.7217 - val_recall: 0.7166 - val_f1: 0.7191\n",
      "Epoch 136/200\n",
      "474/474 [==============================] - 3s 7ms/step - loss: 0.0014 - accuracy: 0.9948 - precision: 0.9951 - recall: 0.9946 - f1: 0.9948 - val_loss: 0.2406 - val_accuracy: 0.7196 - val_precision: 0.7213 - val_recall: 0.7177 - val_f1: 0.7194\n",
      "Epoch 137/200\n",
      "474/474 [==============================] - 4s 7ms/step - loss: 0.0014 - accuracy: 0.9945 - precision: 0.9945 - recall: 0.9940 - f1: 0.9943 - val_loss: 0.2509 - val_accuracy: 0.7133 - val_precision: 0.7159 - val_recall: 0.7122 - val_f1: 0.7140\n",
      "Epoch 138/200\n",
      "474/474 [==============================] - 3s 7ms/step - loss: 0.0012 - accuracy: 0.9952 - precision: 0.9953 - recall: 0.9949 - f1: 0.9951 - val_loss: 0.2573 - val_accuracy: 0.7225 - val_precision: 0.7249 - val_recall: 0.7214 - val_f1: 0.7231\n",
      "Epoch 139/200\n",
      "474/474 [==============================] - 4s 7ms/step - loss: 0.0013 - accuracy: 0.9966 - precision: 0.9967 - recall: 0.9965 - f1: 0.9966 - val_loss: 0.2570 - val_accuracy: 0.7173 - val_precision: 0.7193 - val_recall: 0.7166 - val_f1: 0.7180\n",
      "Epoch 140/200\n",
      "474/474 [==============================] - 4s 7ms/step - loss: 0.0016 - accuracy: 0.9948 - precision: 0.9949 - recall: 0.9948 - f1: 0.9949 - val_loss: 0.2571 - val_accuracy: 0.7231 - val_precision: 0.7252 - val_recall: 0.7222 - val_f1: 0.7236\n",
      "Epoch 141/200\n",
      "474/474 [==============================] - 4s 7ms/step - loss: 0.0030 - accuracy: 0.9889 - precision: 0.9897 - recall: 0.9888 - f1: 0.9892 - val_loss: 0.2271 - val_accuracy: 0.7130 - val_precision: 0.7155 - val_recall: 0.7124 - val_f1: 0.7139\n",
      "Epoch 142/200\n",
      "474/474 [==============================] - 3s 7ms/step - loss: 0.0032 - accuracy: 0.9885 - precision: 0.9894 - recall: 0.9883 - f1: 0.9888 - val_loss: 0.2270 - val_accuracy: 0.7170 - val_precision: 0.7199 - val_recall: 0.7164 - val_f1: 0.7181\n",
      "Epoch 143/200\n",
      "474/474 [==============================] - 3s 7ms/step - loss: 0.0013 - accuracy: 0.9953 - precision: 0.9956 - recall: 0.9953 - f1: 0.9955 - val_loss: 0.2486 - val_accuracy: 0.7157 - val_precision: 0.7173 - val_recall: 0.7140 - val_f1: 0.7156\n",
      "Epoch 144/200\n",
      "474/474 [==============================] - 4s 7ms/step - loss: 0.0015 - accuracy: 0.9946 - precision: 0.9949 - recall: 0.9944 - f1: 0.9947 - val_loss: 0.2496 - val_accuracy: 0.7212 - val_precision: 0.7234 - val_recall: 0.7203 - val_f1: 0.7218\n",
      "Epoch 145/200\n",
      "474/474 [==============================] - 4s 8ms/step - loss: 0.0016 - accuracy: 0.9948 - precision: 0.9951 - recall: 0.9945 - f1: 0.9948 - val_loss: 0.2518 - val_accuracy: 0.7136 - val_precision: 0.7151 - val_recall: 0.7122 - val_f1: 0.7136\n",
      "Epoch 146/200\n",
      "474/474 [==============================] - 4s 7ms/step - loss: 0.0013 - accuracy: 0.9949 - precision: 0.9953 - recall: 0.9949 - f1: 0.9951 - val_loss: 0.2540 - val_accuracy: 0.7138 - val_precision: 0.7159 - val_recall: 0.7124 - val_f1: 0.7141\n",
      "Epoch 147/200\n",
      "474/474 [==============================] - 4s 7ms/step - loss: 0.0013 - accuracy: 0.9952 - precision: 0.9954 - recall: 0.9950 - f1: 0.9952 - val_loss: 0.2617 - val_accuracy: 0.7115 - val_precision: 0.7123 - val_recall: 0.7101 - val_f1: 0.7112\n",
      "Epoch 148/200\n",
      "474/474 [==============================] - 4s 8ms/step - loss: 0.0023 - accuracy: 0.9933 - precision: 0.9934 - recall: 0.9933 - f1: 0.9933 - val_loss: 0.2499 - val_accuracy: 0.7117 - val_precision: 0.7149 - val_recall: 0.7103 - val_f1: 0.7126\n",
      "Epoch 149/200\n",
      "474/474 [==============================] - 4s 7ms/step - loss: 0.0016 - accuracy: 0.9947 - precision: 0.9950 - recall: 0.9945 - f1: 0.9947 - val_loss: 0.2472 - val_accuracy: 0.7067 - val_precision: 0.7083 - val_recall: 0.7054 - val_f1: 0.7068\n",
      "Epoch 150/200\n",
      "474/474 [==============================] - 4s 7ms/step - loss: 0.0030 - accuracy: 0.9892 - precision: 0.9894 - recall: 0.9890 - f1: 0.9892 - val_loss: 0.2361 - val_accuracy: 0.7104 - val_precision: 0.7131 - val_recall: 0.7089 - val_f1: 0.7109\n",
      "Epoch 151/200\n",
      "474/474 [==============================] - 3s 7ms/step - loss: 0.0016 - accuracy: 0.9945 - precision: 0.9946 - recall: 0.9944 - f1: 0.9945 - val_loss: 0.2345 - val_accuracy: 0.7144 - val_precision: 0.7157 - val_recall: 0.7119 - val_f1: 0.7138\n",
      "Epoch 152/200\n",
      "474/474 [==============================] - 4s 7ms/step - loss: 0.0020 - accuracy: 0.9929 - precision: 0.9932 - recall: 0.9927 - f1: 0.9930 - val_loss: 0.2358 - val_accuracy: 0.7152 - val_precision: 0.7181 - val_recall: 0.7148 - val_f1: 0.7164\n",
      "Epoch 153/200\n",
      "474/474 [==============================] - 4s 7ms/step - loss: 0.0012 - accuracy: 0.9958 - precision: 0.9958 - recall: 0.9956 - f1: 0.9957 - val_loss: 0.2537 - val_accuracy: 0.7181 - val_precision: 0.7210 - val_recall: 0.7166 - val_f1: 0.7188\n",
      "Epoch 154/200\n",
      "474/474 [==============================] - 3s 7ms/step - loss: 0.0013 - accuracy: 0.9951 - precision: 0.9951 - recall: 0.9947 - f1: 0.9949 - val_loss: 0.2585 - val_accuracy: 0.7212 - val_precision: 0.7238 - val_recall: 0.7201 - val_f1: 0.7219\n",
      "Epoch 155/200\n",
      "474/474 [==============================] - 4s 7ms/step - loss: 0.0013 - accuracy: 0.9958 - precision: 0.9962 - recall: 0.9957 - f1: 0.9959 - val_loss: 0.2740 - val_accuracy: 0.7183 - val_precision: 0.7198 - val_recall: 0.7164 - val_f1: 0.7181\n",
      "Epoch 156/200\n",
      "474/474 [==============================] - 4s 7ms/step - loss: 0.0020 - accuracy: 0.9933 - precision: 0.9937 - recall: 0.9932 - f1: 0.9935 - val_loss: 0.2437 - val_accuracy: 0.7154 - val_precision: 0.7183 - val_recall: 0.7136 - val_f1: 0.7159\n",
      "Epoch 157/200\n",
      "474/474 [==============================] - 4s 7ms/step - loss: 0.0017 - accuracy: 0.9936 - precision: 0.9938 - recall: 0.9932 - f1: 0.9935 - val_loss: 0.2535 - val_accuracy: 0.7104 - val_precision: 0.7123 - val_recall: 0.7083 - val_f1: 0.7103\n",
      "Epoch 158/200\n",
      "474/474 [==============================] - 4s 8ms/step - loss: 0.0015 - accuracy: 0.9941 - precision: 0.9941 - recall: 0.9938 - f1: 0.9939 - val_loss: 0.2491 - val_accuracy: 0.7154 - val_precision: 0.7189 - val_recall: 0.7138 - val_f1: 0.7163\n",
      "Epoch 159/200\n",
      "474/474 [==============================] - 3s 7ms/step - loss: 0.0015 - accuracy: 0.9956 - precision: 0.9961 - recall: 0.9950 - f1: 0.9955 - val_loss: 0.2619 - val_accuracy: 0.7239 - val_precision: 0.7254 - val_recall: 0.7222 - val_f1: 0.7237\n"
     ]
    },
    {
     "name": "stdout",
     "output_type": "stream",
     "text": [
      "Epoch 160/200\n",
      "474/474 [==============================] - 3s 7ms/step - loss: 0.0013 - accuracy: 0.9953 - precision: 0.9954 - recall: 0.9949 - f1: 0.9951 - val_loss: 0.2645 - val_accuracy: 0.7130 - val_precision: 0.7157 - val_recall: 0.7117 - val_f1: 0.7137\n",
      "Epoch 161/200\n",
      "474/474 [==============================] - 4s 8ms/step - loss: 0.0012 - accuracy: 0.9949 - precision: 0.9949 - recall: 0.9949 - f1: 0.9949 - val_loss: 0.2668 - val_accuracy: 0.7191 - val_precision: 0.7210 - val_recall: 0.7180 - val_f1: 0.7195\n",
      "Epoch 162/200\n",
      "474/474 [==============================] - 4s 8ms/step - loss: 0.0015 - accuracy: 0.9947 - precision: 0.9950 - recall: 0.9947 - f1: 0.9948 - val_loss: 0.2615 - val_accuracy: 0.7078 - val_precision: 0.7117 - val_recall: 0.7069 - val_f1: 0.7093\n",
      "Epoch 163/200\n",
      "474/474 [==============================] - 3s 7ms/step - loss: 0.0013 - accuracy: 0.9943 - precision: 0.9945 - recall: 0.9943 - f1: 0.9944 - val_loss: 0.2752 - val_accuracy: 0.7183 - val_precision: 0.7199 - val_recall: 0.7177 - val_f1: 0.7188\n",
      "Epoch 164/200\n",
      "474/474 [==============================] - 4s 7ms/step - loss: 0.0014 - accuracy: 0.9952 - precision: 0.9956 - recall: 0.9951 - f1: 0.9954 - val_loss: 0.2713 - val_accuracy: 0.7257 - val_precision: 0.7294 - val_recall: 0.7251 - val_f1: 0.7272\n",
      "Epoch 165/200\n",
      "474/474 [==============================] - 4s 8ms/step - loss: 0.0015 - accuracy: 0.9952 - precision: 0.9953 - recall: 0.9950 - f1: 0.9951 - val_loss: 0.2628 - val_accuracy: 0.7107 - val_precision: 0.7126 - val_recall: 0.7096 - val_f1: 0.7110\n",
      "Epoch 166/200\n",
      "474/474 [==============================] - 4s 7ms/step - loss: 0.0029 - accuracy: 0.9897 - precision: 0.9901 - recall: 0.9895 - f1: 0.9898 - val_loss: 0.2552 - val_accuracy: 0.7220 - val_precision: 0.7248 - val_recall: 0.7214 - val_f1: 0.7231\n",
      "Epoch 167/200\n",
      "474/474 [==============================] - 4s 8ms/step - loss: 0.0024 - accuracy: 0.9909 - precision: 0.9911 - recall: 0.9902 - f1: 0.9907 - val_loss: 0.2517 - val_accuracy: 0.7115 - val_precision: 0.7130 - val_recall: 0.7093 - val_f1: 0.7111\n",
      "Epoch 168/200\n",
      "474/474 [==============================] - 3s 7ms/step - loss: 0.0012 - accuracy: 0.9964 - precision: 0.9965 - recall: 0.9961 - f1: 0.9963 - val_loss: 0.2615 - val_accuracy: 0.7188 - val_precision: 0.7210 - val_recall: 0.7177 - val_f1: 0.7193\n",
      "Epoch 169/200\n",
      "474/474 [==============================] - 4s 8ms/step - loss: 0.0011 - accuracy: 0.9959 - precision: 0.9961 - recall: 0.9955 - f1: 0.9958 - val_loss: 0.2683 - val_accuracy: 0.7154 - val_precision: 0.7185 - val_recall: 0.7138 - val_f1: 0.7161\n",
      "Epoch 170/200\n",
      "474/474 [==============================] - 4s 7ms/step - loss: 9.6471e-04 - accuracy: 0.9967 - precision: 0.9969 - recall: 0.9967 - f1: 0.9968 - val_loss: 0.2733 - val_accuracy: 0.7133 - val_precision: 0.7151 - val_recall: 0.7114 - val_f1: 0.7132\n",
      "Epoch 171/200\n",
      "474/474 [==============================] - 4s 7ms/step - loss: 0.0012 - accuracy: 0.9953 - precision: 0.9953 - recall: 0.9951 - f1: 0.9952 - val_loss: 0.2681 - val_accuracy: 0.7186 - val_precision: 0.7208 - val_recall: 0.7182 - val_f1: 0.7195\n",
      "Epoch 172/200\n",
      "474/474 [==============================] - 3s 7ms/step - loss: 0.0016 - accuracy: 0.9940 - precision: 0.9943 - recall: 0.9940 - f1: 0.9942 - val_loss: 0.2687 - val_accuracy: 0.7199 - val_precision: 0.7214 - val_recall: 0.7185 - val_f1: 0.7199\n",
      "Epoch 173/200\n",
      "474/474 [==============================] - 4s 7ms/step - loss: 0.0017 - accuracy: 0.9951 - precision: 0.9953 - recall: 0.9948 - f1: 0.9950 - val_loss: 0.2578 - val_accuracy: 0.7165 - val_precision: 0.7187 - val_recall: 0.7153 - val_f1: 0.7170\n",
      "Epoch 174/200\n",
      "474/474 [==============================] - 4s 7ms/step - loss: 0.0022 - accuracy: 0.9922 - precision: 0.9926 - recall: 0.9920 - f1: 0.9923 - val_loss: 0.2555 - val_accuracy: 0.7146 - val_precision: 0.7162 - val_recall: 0.7135 - val_f1: 0.7148\n",
      "Epoch 175/200\n",
      "474/474 [==============================] - 4s 8ms/step - loss: 0.0017 - accuracy: 0.9936 - precision: 0.9939 - recall: 0.9933 - f1: 0.9936 - val_loss: 0.2609 - val_accuracy: 0.7165 - val_precision: 0.7178 - val_recall: 0.7153 - val_f1: 0.7165\n",
      "Epoch 176/200\n",
      "474/474 [==============================] - 4s 7ms/step - loss: 0.0013 - accuracy: 0.9961 - precision: 0.9962 - recall: 0.9959 - f1: 0.9961 - val_loss: 0.2646 - val_accuracy: 0.7188 - val_precision: 0.7211 - val_recall: 0.7172 - val_f1: 0.7191\n",
      "Epoch 177/200\n",
      "474/474 [==============================] - 3s 7ms/step - loss: 0.0011 - accuracy: 0.9960 - precision: 0.9967 - recall: 0.9957 - f1: 0.9962 - val_loss: 0.2678 - val_accuracy: 0.7233 - val_precision: 0.7247 - val_recall: 0.7222 - val_f1: 0.7234\n",
      "Epoch 178/200\n",
      "474/474 [==============================] - 4s 8ms/step - loss: 8.8526e-04 - accuracy: 0.9963 - precision: 0.9963 - recall: 0.9962 - f1: 0.9962 - val_loss: 0.2769 - val_accuracy: 0.7220 - val_precision: 0.7231 - val_recall: 0.7211 - val_f1: 0.7221\n",
      "Epoch 179/200\n",
      "474/474 [==============================] - 4s 8ms/step - loss: 0.0015 - accuracy: 0.9950 - precision: 0.9952 - recall: 0.9948 - f1: 0.9950 - val_loss: 0.2672 - val_accuracy: 0.7196 - val_precision: 0.7211 - val_recall: 0.7190 - val_f1: 0.7200\n",
      "Epoch 180/200\n",
      "474/474 [==============================] - 4s 7ms/step - loss: 0.0018 - accuracy: 0.9932 - precision: 0.9933 - recall: 0.9928 - f1: 0.9930 - val_loss: 0.2598 - val_accuracy: 0.7078 - val_precision: 0.7114 - val_recall: 0.7080 - val_f1: 0.7096\n",
      "Epoch 181/200\n",
      "474/474 [==============================] - 3s 7ms/step - loss: 0.0029 - accuracy: 0.9914 - precision: 0.9917 - recall: 0.9913 - f1: 0.9915 - val_loss: 0.2443 - val_accuracy: 0.7170 - val_precision: 0.7189 - val_recall: 0.7151 - val_f1: 0.7170\n",
      "Epoch 182/200\n",
      "474/474 [==============================] - 4s 8ms/step - loss: 0.0018 - accuracy: 0.9929 - precision: 0.9934 - recall: 0.9929 - f1: 0.9931 - val_loss: 0.2555 - val_accuracy: 0.7260 - val_precision: 0.7270 - val_recall: 0.7243 - val_f1: 0.7256\n",
      "Epoch 183/200\n",
      "474/474 [==============================] - 3s 7ms/step - loss: 0.0016 - accuracy: 0.9959 - precision: 0.9960 - recall: 0.9958 - f1: 0.9959 - val_loss: 0.2567 - val_accuracy: 0.7178 - val_precision: 0.7199 - val_recall: 0.7166 - val_f1: 0.7182\n",
      "Epoch 184/200\n",
      "474/474 [==============================] - 4s 7ms/step - loss: 0.0012 - accuracy: 0.9962 - precision: 0.9963 - recall: 0.9962 - f1: 0.9962 - val_loss: 0.2672 - val_accuracy: 0.7252 - val_precision: 0.7275 - val_recall: 0.7253 - val_f1: 0.7264\n",
      "Epoch 185/200\n",
      "474/474 [==============================] - 4s 8ms/step - loss: 0.0012 - accuracy: 0.9950 - precision: 0.9954 - recall: 0.9945 - f1: 0.9949 - val_loss: 0.2696 - val_accuracy: 0.7228 - val_precision: 0.7250 - val_recall: 0.7227 - val_f1: 0.7238\n",
      "Epoch 186/200\n",
      "474/474 [==============================] - 4s 8ms/step - loss: 0.0011 - accuracy: 0.9951 - precision: 0.9952 - recall: 0.9949 - f1: 0.9951 - val_loss: 0.2810 - val_accuracy: 0.7236 - val_precision: 0.7249 - val_recall: 0.7232 - val_f1: 0.7241\n",
      "Epoch 187/200\n",
      "474/474 [==============================] - 3s 7ms/step - loss: 0.0013 - accuracy: 0.9955 - precision: 0.9955 - recall: 0.9953 - f1: 0.9954 - val_loss: 0.2800 - val_accuracy: 0.7202 - val_precision: 0.7220 - val_recall: 0.7201 - val_f1: 0.7210\n",
      "Epoch 188/200\n",
      "474/474 [==============================] - 4s 7ms/step - loss: 9.0579e-04 - accuracy: 0.9970 - precision: 0.9972 - recall: 0.9967 - f1: 0.9969 - val_loss: 0.2560 - val_accuracy: 0.7159 - val_precision: 0.7185 - val_recall: 0.7138 - val_f1: 0.7161\n",
      "Epoch 189/200\n",
      "474/474 [==============================] - 4s 7ms/step - loss: 0.0026 - accuracy: 0.9900 - precision: 0.9902 - recall: 0.9898 - f1: 0.9900 - val_loss: 0.2593 - val_accuracy: 0.7231 - val_precision: 0.7260 - val_recall: 0.7224 - val_f1: 0.7242\n",
      "Epoch 190/200\n",
      "474/474 [==============================] - 4s 8ms/step - loss: 0.0017 - accuracy: 0.9940 - precision: 0.9942 - recall: 0.9939 - f1: 0.9941 - val_loss: 0.2626 - val_accuracy: 0.7170 - val_precision: 0.7194 - val_recall: 0.7153 - val_f1: 0.7173\n",
      "Epoch 191/200\n",
      "474/474 [==============================] - 4s 7ms/step - loss: 0.0012 - accuracy: 0.9961 - precision: 0.9962 - recall: 0.9955 - f1: 0.9958 - val_loss: 0.2751 - val_accuracy: 0.7257 - val_precision: 0.7278 - val_recall: 0.7248 - val_f1: 0.7263\n"
     ]
    },
    {
     "name": "stdout",
     "output_type": "stream",
     "text": [
      "Epoch 192/200\n",
      "474/474 [==============================] - 3s 7ms/step - loss: 0.0013 - accuracy: 0.9957 - precision: 0.9964 - recall: 0.9957 - f1: 0.9961 - val_loss: 0.2727 - val_accuracy: 0.7223 - val_precision: 0.7249 - val_recall: 0.7221 - val_f1: 0.7235\n",
      "Epoch 193/200\n",
      "474/474 [==============================] - 4s 8ms/step - loss: 0.0011 - accuracy: 0.9959 - precision: 0.9962 - recall: 0.9959 - f1: 0.9960 - val_loss: 0.2744 - val_accuracy: 0.7152 - val_precision: 0.7166 - val_recall: 0.7135 - val_f1: 0.7150\n",
      "Epoch 194/200\n",
      "474/474 [==============================] - 3s 7ms/step - loss: 0.0022 - accuracy: 0.9947 - precision: 0.9949 - recall: 0.9940 - f1: 0.9944 - val_loss: 0.2583 - val_accuracy: 0.7136 - val_precision: 0.7170 - val_recall: 0.7130 - val_f1: 0.7150\n",
      "Epoch 195/200\n",
      "474/474 [==============================] - 4s 7ms/step - loss: 0.0013 - accuracy: 0.9954 - precision: 0.9956 - recall: 0.9952 - f1: 0.9954 - val_loss: 0.2684 - val_accuracy: 0.7130 - val_precision: 0.7152 - val_recall: 0.7119 - val_f1: 0.7135\n",
      "Epoch 196/200\n",
      "474/474 [==============================] - 4s 8ms/step - loss: 0.0015 - accuracy: 0.9952 - precision: 0.9952 - recall: 0.9952 - f1: 0.9952 - val_loss: 0.2718 - val_accuracy: 0.7157 - val_precision: 0.7183 - val_recall: 0.7148 - val_f1: 0.7165\n",
      "Epoch 197/200\n",
      "474/474 [==============================] - 4s 8ms/step - loss: 0.0017 - accuracy: 0.9938 - precision: 0.9939 - recall: 0.9938 - f1: 0.9939 - val_loss: 0.2808 - val_accuracy: 0.7138 - val_precision: 0.7143 - val_recall: 0.7123 - val_f1: 0.7133\n",
      "Epoch 198/200\n",
      "474/474 [==============================] - 3s 7ms/step - loss: 0.0012 - accuracy: 0.9961 - precision: 0.9964 - recall: 0.9959 - f1: 0.9961 - val_loss: 0.2765 - val_accuracy: 0.7162 - val_precision: 0.7182 - val_recall: 0.7154 - val_f1: 0.7168\n",
      "Epoch 199/200\n",
      "474/474 [==============================] - 4s 8ms/step - loss: 0.0012 - accuracy: 0.9960 - precision: 0.9961 - recall: 0.9959 - f1: 0.9960 - val_loss: 0.2657 - val_accuracy: 0.7080 - val_precision: 0.7099 - val_recall: 0.7069 - val_f1: 0.7084\n",
      "Epoch 200/200\n",
      "474/474 [==============================] - 3s 7ms/step - loss: 0.0020 - accuracy: 0.9934 - precision: 0.9935 - recall: 0.9931 - f1: 0.9933 - val_loss: 0.2701 - val_accuracy: 0.7165 - val_precision: 0.7196 - val_recall: 0.7159 - val_f1: 0.7177\n"
     ]
    }
   ],
   "source": [
    "from keras.callbacks import ModelCheckpoint\n",
    "checkpoint = ModelCheckpoint(\"lstm_weights/CNN_Word2Vec_600000-{epoch:02d}-{val_f1:.2f}.hdf5\", # Сохраняем модель с лучшим val_f1\n",
    "                             monitor='val_f1', save_best_only=True, mode='max', period=1)\n",
    "history = model.fit(X_train, Y_train, batch_size=32, epochs=200, validation_split=0.2, callbacks = [checkpoint])"
   ]
  },
  {
   "cell_type": "code",
   "execution_count": 11,
   "metadata": {
    "colab": {
     "base_uri": "https://localhost:8080/",
     "height": 197
    },
    "executionInfo": {
     "elapsed": 9753,
     "status": "error",
     "timestamp": 1614576092266,
     "user": {
      "displayName": "Алексей Витомсков",
      "photoUrl": "",
      "userId": "09837648934599257287"
     },
     "user_tz": -300
    },
    "id": "RAmEUDnn36Ij",
    "outputId": "35cdc259-a557-4faf-ad6d-be6d9e86762c"
   },
   "outputs": [
    {
     "data": {
      "image/png": "[encoded data removed]",
      "text/plain": [
       "<Figure size 1152x648 with 4 Axes>"
      ]
     },
     "metadata": {},
     "output_type": "display_data"
    }
   ],
   "source": [
    "plt.style.use('ggplot')\n",
    "\n",
    "\n",
    "def plot_metrix(ax, x1, x2, title):\n",
    "    ax.plot(range(1, len(x1) + 1), x1, label='train')\n",
    "    ax.plot(range(1, len(x2) + 1), x2, label='val')\n",
    "    ax.set_ylabel(title)\n",
    "    ax.set_xlabel('Epoch')\n",
    "    ax.legend()\n",
    "    ax.margins(0)\n",
    "\n",
    "\n",
    "def plot_history(history):\n",
    "    fig, axes = plt.subplots(ncols=2, nrows=2, figsize=(16, 9))\n",
    "    ax1, ax2, ax3, ax4 = axes.ravel()\n",
    "\n",
    "    plot_metrix(ax1, history.history['precision'], history.history['val_precision'], 'Precision')\n",
    "    plot_metrix(ax2, history.history['recall'], history.history['val_recall'], 'Recall')\n",
    "    plot_metrix(ax3, history.history['f1'], history.history['val_f1'], \"$F_1$\")\n",
    "    plot_metrix(ax4, history.history['loss'], history.history['val_loss'], 'Loss')\n",
    "    plot_metrix(ax4, history.history['accuracy'], history.history['val_accuracy'], 'Accuracy')\n",
    "\n",
    "    plt.show()\n",
    "\n",
    "\n",
    "plot_history(history)"
   ]
  },
  {
   "cell_type": "code",
   "execution_count": 11,
   "metadata": {
    "executionInfo": {
     "elapsed": 6945,
     "status": "ok",
     "timestamp": 1614576101053,
     "user": {
      "displayName": "Алексей Витомсков",
      "photoUrl": "",
      "userId": "09837648934599257287"
     },
     "user_tz": -300
    },
    "id": "KUasR9zo3-x6"
   },
   "outputs": [],
   "source": [
    "model.load_weights('lstm_weights/CNN_Word2Vec_600000-09-0.75.hdf5')"
   ]
  },
  {
   "cell_type": "code",
   "execution_count": 12,
   "metadata": {
    "colab": {
     "base_uri": "https://localhost:8080/"
    },
    "executionInfo": {
     "elapsed": 7428,
     "status": "ok",
     "timestamp": 1614576117569,
     "user": {
      "displayName": "Алексей Витомсков",
      "photoUrl": "",
      "userId": "09837648934599257287"
     },
     "user_tz": -300
    },
    "id": "-sMAdnF74HrD",
    "outputId": "6d0d2cc0-5b04-472c-e926-88c6e0d5731b"
   },
   "outputs": [
    {
     "name": "stdout",
     "output_type": "stream",
     "text": [
      "Оценки тестового набора:\n",
      "              precision    recall  f1-score   support\n",
      "\n",
      "           0      0.800     0.282     0.417        71\n",
      "           1      0.839     0.853     0.846       116\n",
      "           2      0.757     0.811     0.783      2196\n",
      "           3      0.000     0.000     0.000         4\n",
      "           4      0.800     0.516     0.627        31\n",
      "           5      0.400     0.071     0.121        28\n",
      "           6      0.000     0.000     0.000        14\n",
      "           7      0.000     0.000     0.000         6\n",
      "           8      0.667     0.296     0.410        27\n",
      "           9      0.906     0.763     0.829        38\n",
      "          10      0.807     0.776     0.791       210\n",
      "          12      0.700     0.692     0.696       182\n",
      "          13      0.000     0.000     0.000         2\n",
      "          14      0.739     0.793     0.765       324\n",
      "          15      0.444     0.116     0.184        69\n",
      "          16      0.770     0.777     0.773       112\n",
      "          17      1.000     0.125     0.222         8\n",
      "          18      0.000     0.000     0.000         8\n",
      "          19      0.000     0.000     0.000         3\n",
      "          20      0.000     0.000     0.000         2\n",
      "          21      0.000     0.000     0.000        18\n",
      "          22      0.000     0.000     0.000         1\n",
      "          23      0.710     0.736     0.723      1255\n",
      "          24      0.000     0.000     0.000         8\n",
      "          25      0.000     0.000     0.000         1\n",
      "\n",
      "    accuracy                          0.744      4734\n",
      "   macro avg      0.414     0.304     0.328      4734\n",
      "weighted avg      0.730     0.744     0.731      4734\n",
      "\n",
      "0.6277524457769958\n"
     ]
    },
    {
     "name": "stderr",
     "output_type": "stream",
     "text": [
      "/usr/local/lib/python3.6/dist-packages/sklearn/metrics/classification.py:1437: UndefinedMetricWarning: Precision and F-score are ill-defined and being set to 0.0 in labels with no predicted samples.\n",
      "  'precision', 'predicted', average, warn_for)\n"
     ]
    }
   ],
   "source": [
    "from sklearn.metrics import classification_report\n",
    "print(\"Оценки тестового набора:\")\n",
    "predicted = np.array(model.predict(X_test))\n",
    "predicted = np.argmax(predicted, axis=1)\n",
    "Y_test = np.array(Y_test)\n",
    "Y_test_ = np.argmax(Y_test, axis = 1)\n",
    "print(classification_report(Y_test_, predicted, digits=3))\n",
    "print(matthews_corrcoef(Y_test_, predicted))"
   ]
  },
  {
   "cell_type": "code",
   "execution_count": 13,
   "metadata": {
    "colab": {
     "base_uri": "https://localhost:8080/"
    },
    "executionInfo": {
     "elapsed": 554,
     "status": "ok",
     "timestamp": 1614531761808,
     "user": {
      "displayName": "Алексей Витомсков",
      "photoUrl": "",
      "userId": "09837648934599257287"
     },
     "user_tz": -300
    },
    "id": "LZzintxk4Rtp",
    "outputId": "d0eed845-b5ca-4815-d1ff-b6d745e0cfcf"
   },
   "outputs": [
    {
     "name": "stdout",
     "output_type": "stream",
     "text": [
      "Model: \"model\"\n",
      "_________________________________________________________________\n",
      "Layer (type)                 Output Shape              Param #   \n",
      "=================================================================\n",
      "input_1 (InputLayer)         [(None, 30)]              0         \n",
      "_________________________________________________________________\n",
      "embedding (Embedding)        (None, 30, 200)           120000000 \n",
      "_________________________________________________________________\n",
      "lstm (LSTM)                  (None, 64)                67840     \n",
      "_________________________________________________________________\n",
      "FC1 (Dense)                  (None, 256)               16640     \n",
      "_________________________________________________________________\n",
      "activation (Activation)      (None, 256)               0         \n",
      "_________________________________________________________________\n",
      "dropout (Dropout)            (None, 256)               0         \n",
      "_________________________________________________________________\n",
      "out_layer (Dense)            (None, 26)                6682      \n",
      "_________________________________________________________________\n",
      "activation_1 (Activation)    (None, 26)                0         \n",
      "=================================================================\n",
      "Total params: 120,091,162\n",
      "Trainable params: 120,091,162\n",
      "Non-trainable params: 0\n",
      "_________________________________________________________________\n"
     ]
    }
   ],
   "source": [
    "from keras import optimizers\n",
    "\n",
    "model.layers[1].trainable = True\n",
    "adam = optimizers.Adam(lr=0.0001)\n",
    "model.compile(loss='binary_crossentropy', optimizer=adam, metrics=['accuracy', precision, recall, f1])\n",
    "model.summary()"
   ]
  },
  {
   "cell_type": "code",
   "execution_count": null,
   "metadata": {
    "colab": {
     "base_uri": "https://localhost:8080/"
    },
    "executionInfo": {
     "elapsed": 6539206,
     "status": "ok",
     "timestamp": 1614538608001,
     "user": {
      "displayName": "Алексей Витомсков",
      "photoUrl": "",
      "userId": "09837648934599257287"
     },
     "user_tz": -300
    },
    "id": "fsiElhwk4ciS",
    "outputId": "14a4ff34-b755-42da-de51-ae5f7f0ec123"
   },
   "outputs": [
    {
     "name": "stdout",
     "output_type": "stream",
     "text": [
      "Epoch 1/20\n",
      "444/444 [==============================] - 553s 1s/step - loss: 0.0256 - accuracy: 0.8825 - precision: 0.8979 - recall: 0.8730 - f1: 0.8850 - val_loss: 0.0497 - val_accuracy: 0.7765 - val_precision: 0.7929 - val_recall: 0.7661 - val_f1: 0.7791\n",
      "Epoch 2/20\n",
      "444/444 [==============================] - 535s 1s/step - loss: 0.0232 - accuracy: 0.8966 - precision: 0.9148 - recall: 0.8865 - f1: 0.9002 - val_loss: 0.0500 - val_accuracy: 0.7807 - val_precision: 0.7966 - val_recall: 0.7714 - val_f1: 0.7836\n",
      "Epoch 3/20\n",
      "444/444 [==============================] - 526s 1s/step - loss: 0.0217 - accuracy: 0.9020 - precision: 0.9185 - recall: 0.8932 - f1: 0.9055 - val_loss: 0.0507 - val_accuracy: 0.7860 - val_precision: 0.7980 - val_recall: 0.7761 - val_f1: 0.7867\n",
      "Epoch 4/20\n",
      "444/444 [==============================] - 537s 1s/step - loss: 0.0197 - accuracy: 0.9162 - precision: 0.9323 - recall: 0.9064 - f1: 0.9190 - val_loss: 0.0518 - val_accuracy: 0.7879 - val_precision: 0.8003 - val_recall: 0.7788 - val_f1: 0.7892\n",
      "Epoch 5/20\n",
      "444/444 [==============================] - 562s 1s/step - loss: 0.0186 - accuracy: 0.9177 - precision: 0.9360 - recall: 0.9083 - f1: 0.9218 - val_loss: 0.0524 - val_accuracy: 0.7883 - val_precision: 0.8020 - val_recall: 0.7792 - val_f1: 0.7903\n",
      "Epoch 6/20\n",
      "444/444 [==============================] - 559s 1s/step - loss: 0.0169 - accuracy: 0.9279 - precision: 0.9425 - recall: 0.9188 - f1: 0.9303 - val_loss: 0.0536 - val_accuracy: 0.7915 - val_precision: 0.8060 - val_recall: 0.7849 - val_f1: 0.7951\n",
      "Epoch 7/20\n",
      "444/444 [==============================] - 575s 1s/step - loss: 0.0162 - accuracy: 0.9307 - precision: 0.9453 - recall: 0.9227 - f1: 0.9337 - val_loss: 0.0546 - val_accuracy: 0.7911 - val_precision: 0.8044 - val_recall: 0.7837 - val_f1: 0.7937\n",
      "Epoch 8/20\n",
      "444/444 [==============================] - 576s 1s/step - loss: 0.0151 - accuracy: 0.9354 - precision: 0.9506 - recall: 0.9283 - f1: 0.9392 - val_loss: 0.0558 - val_accuracy: 0.7921 - val_precision: 0.8060 - val_recall: 0.7816 - val_f1: 0.7934\n",
      "Epoch 9/20\n",
      "444/444 [==============================] - 573s 1s/step - loss: 0.0138 - accuracy: 0.9436 - precision: 0.9554 - recall: 0.9363 - f1: 0.9456 - val_loss: 0.0569 - val_accuracy: 0.7945 - val_precision: 0.8069 - val_recall: 0.7875 - val_f1: 0.7969\n",
      "Epoch 10/20\n",
      "444/444 [==============================] - 574s 1s/step - loss: 0.0123 - accuracy: 0.9504 - precision: 0.9622 - recall: 0.9429 - f1: 0.9523 - val_loss: 0.0581 - val_accuracy: 0.7936 - val_precision: 0.8096 - val_recall: 0.7870 - val_f1: 0.7980\n",
      "Epoch 11/20\n",
      "444/444 [==============================] - 579s 1s/step - loss: 0.0115 - accuracy: 0.9558 - precision: 0.9663 - recall: 0.9479 - f1: 0.9569 - val_loss: 0.0607 - val_accuracy: 0.7877 - val_precision: 0.8013 - val_recall: 0.7826 - val_f1: 0.7917\n",
      "Epoch 12/20\n",
      "444/444 [==============================] - 577s 1s/step - loss: 0.0111 - accuracy: 0.9557 - precision: 0.9666 - recall: 0.9469 - f1: 0.9565 - val_loss: 0.0615 - val_accuracy: 0.7930 - val_precision: 0.8058 - val_recall: 0.7872 - val_f1: 0.7963\n",
      "Epoch 13/20\n",
      "444/444 [==============================] - 571s 1s/step - loss: 0.0100 - accuracy: 0.9588 - precision: 0.9709 - recall: 0.9535 - f1: 0.9619 - val_loss: 0.0637 - val_accuracy: 0.7928 - val_precision: 0.8052 - val_recall: 0.7872 - val_f1: 0.7960\n",
      "Epoch 14/20\n",
      "444/444 [==============================] - 572s 1s/step - loss: 0.0096 - accuracy: 0.9639 - precision: 0.9739 - recall: 0.9580 - f1: 0.9657 - val_loss: 0.0655 - val_accuracy: 0.7949 - val_precision: 0.8083 - val_recall: 0.7887 - val_f1: 0.7982\n",
      "Epoch 15/20\n",
      "444/444 [==============================] - 581s 1s/step - loss: 0.0089 - accuracy: 0.9662 - precision: 0.9740 - recall: 0.9612 - f1: 0.9675 - val_loss: 0.0679 - val_accuracy: 0.7938 - val_precision: 0.8075 - val_recall: 0.7877 - val_f1: 0.7973\n",
      "Epoch 16/20\n",
      "444/444 [==============================] - 580s 1s/step - loss: 0.0088 - accuracy: 0.9650 - precision: 0.9746 - recall: 0.9594 - f1: 0.9668 - val_loss: 0.0697 - val_accuracy: 0.7907 - val_precision: 0.8029 - val_recall: 0.7830 - val_f1: 0.7927\n",
      "Epoch 17/20\n",
      "444/444 [==============================] - 577s 1s/step - loss: 0.0078 - accuracy: 0.9704 - precision: 0.9787 - recall: 0.9650 - f1: 0.9717 - val_loss: 0.0706 - val_accuracy: 0.7902 - val_precision: 0.8023 - val_recall: 0.7843 - val_f1: 0.7931\n",
      "Epoch 18/20\n",
      "444/444 [==============================] - 582s 1s/step - loss: 0.0076 - accuracy: 0.9723 - precision: 0.9814 - recall: 0.9679 - f1: 0.9745 - val_loss: 0.0725 - val_accuracy: 0.7943 - val_precision: 0.8050 - val_recall: 0.7889 - val_f1: 0.7968\n",
      "Epoch 19/20\n",
      "444/444 [==============================] - 581s 1s/step - loss: 0.0071 - accuracy: 0.9728 - precision: 0.9801 - recall: 0.9675 - f1: 0.9737 - val_loss: 0.0738 - val_accuracy: 0.7936 - val_precision: 0.8038 - val_recall: 0.7887 - val_f1: 0.7961\n",
      "Epoch 20/20\n",
      "268/444 [=================>............] - ETA: 3:50 - loss: 0.0065 - accuracy: 0.9766 - precision: 0.9854 - recall: 0.9715 - f1: 0.9782"
     ]
    }
   ],
   "source": [
    "from keras.callbacks import ModelCheckpoint\n",
    "\n",
    "checkpoint = ModelCheckpoint(\"lstm_weights/CNN_Word2Vec_LSTM_2-{epoch:02d}-{val_f1:.2f}.hdf5\", \n",
    "                             monitor='val_f1', save_best_only=True, mode='max')\n",
    "\n",
    "history_trainable = model.fit(X_train, Y_train, batch_size=32, epochs=20, validation_split=0.25, callbacks = [checkpoint])"
   ]
  },
  {
   "cell_type": "code",
   "execution_count": null,
   "metadata": {},
   "outputs": [],
   "source": []
  },
  {
   "cell_type": "code",
   "execution_count": 10,
   "metadata": {
    "colab": {
     "base_uri": "https://localhost:8080/",
     "height": 163
    },
    "executionInfo": {
     "elapsed": 521,
     "status": "error",
     "timestamp": 1614575982866,
     "user": {
      "displayName": "Алексей Витомсков",
      "photoUrl": "",
      "userId": "09837648934599257287"
     },
     "user_tz": -300
    },
    "id": "9joo82227WLs",
    "outputId": "4a65cda5-55ee-4f81-8f5e-6a4597a37840"
   },
   "outputs": [],
   "source": [
    "model.load_weights('lstm_weights/CNN_Word2Vec_LSTM_2-14-0.80.hdf5')"
   ]
  },
  {
   "cell_type": "code",
   "execution_count": 11,
   "metadata": {
    "colab": {
     "base_uri": "https://localhost:8080/",
     "height": 163
    },
    "executionInfo": {
     "elapsed": 1081,
     "status": "error",
     "timestamp": 1614538609105,
     "user": {
      "displayName": "Алексей Витомсков",
      "photoUrl": "",
      "userId": "09837648934599257287"
     },
     "user_tz": -300
    },
    "id": "gtuWGf8K5yKo",
    "outputId": "3b768f79-5cf1-4ae7-c500-2288845018d0"
   },
   "outputs": [
    {
     "ename": "NameError",
     "evalue": "name 'plot_history' is not defined",
     "output_type": "error",
     "traceback": [
      "\u001b[0;31m---------------------------------------------------------------------------\u001b[0m",
      "\u001b[0;31mNameError\u001b[0m                                 Traceback (most recent call last)",
      "\u001b[0;32m<ipython-input-11-e74991ed3261>\u001b[0m in \u001b[0;36m<module>\u001b[0;34m\u001b[0m\n\u001b[0;32m----> 1\u001b[0;31m \u001b[0mplot_history\u001b[0m\u001b[0;34m(\u001b[0m\u001b[0mhistory_trainable\u001b[0m\u001b[0;34m)\u001b[0m\u001b[0;34m\u001b[0m\u001b[0;34m\u001b[0m\u001b[0m\n\u001b[0m",
      "\u001b[0;31mNameError\u001b[0m: name 'plot_history' is not defined"
     ]
    }
   ],
   "source": [
    "plot_history(history_trainable)"
   ]
  },
  {
   "cell_type": "code",
   "execution_count": 12,
   "metadata": {
    "colab": {
     "base_uri": "https://localhost:8080/"
    },
    "executionInfo": {
     "elapsed": 729,
     "status": "ok",
     "timestamp": 1614576132821,
     "user": {
      "displayName": "Алексей Витомсков",
      "photoUrl": "",
      "userId": "09837648934599257287"
     },
     "user_tz": -300
    },
    "id": "DaJzdkwK6i-_",
    "outputId": "bfbb1ae4-566c-4c8f-a5a3-a31cbe1ebe65"
   },
   "outputs": [
    {
     "name": "stdout",
     "output_type": "stream",
     "text": [
      "Оценки тестового набора:\n",
      "              precision    recall  f1-score   support\n",
      "\n",
      "           0      0.660     0.493     0.565        71\n",
      "           1      0.839     0.897     0.867       116\n",
      "           2      0.780     0.832     0.805      2196\n",
      "           3      0.000     0.000     0.000         4\n",
      "           4      0.857     0.581     0.692        31\n",
      "           5      0.250     0.071     0.111        28\n",
      "           6      1.000     0.214     0.353        14\n",
      "           7      0.000     0.000     0.000         6\n",
      "           8      0.733     0.407     0.524        27\n",
      "           9      0.909     0.789     0.845        38\n",
      "          10      0.857     0.800     0.828       210\n",
      "          12      0.800     0.769     0.784       182\n",
      "          13      0.000     0.000     0.000         2\n",
      "          14      0.774     0.812     0.792       324\n",
      "          15      0.255     0.174     0.207        69\n",
      "          16      0.821     0.821     0.821       112\n",
      "          17      1.000     0.125     0.222         8\n",
      "          18      0.000     0.000     0.000         8\n",
      "          19      0.000     0.000     0.000         3\n",
      "          20      0.000     0.000     0.000         2\n",
      "          21      0.364     0.222     0.276        18\n",
      "          22      0.000     0.000     0.000         1\n",
      "          23      0.735     0.734     0.734      1255\n",
      "          24      0.000     0.000     0.000         8\n",
      "          25      0.000     0.000     0.000         1\n",
      "\n",
      "    accuracy                          0.767      4734\n",
      "   macro avg      0.465     0.350     0.377      4734\n",
      "weighted avg      0.757     0.767     0.759      4734\n",
      "\n",
      "0.6629761254037005\n"
     ]
    },
    {
     "name": "stderr",
     "output_type": "stream",
     "text": [
      "/usr/local/lib/python3.6/dist-packages/sklearn/metrics/classification.py:1437: UndefinedMetricWarning: Precision and F-score are ill-defined and being set to 0.0 in labels with no predicted samples.\n",
      "  'precision', 'predicted', average, warn_for)\n"
     ]
    }
   ],
   "source": [
    "from sklearn.metrics import classification_report\n",
    "print(\"Оценки тестового набора:\")\n",
    "predicted = np.array(model.predict(X_test))\n",
    "predicted = np.argmax(predicted, axis=1)\n",
    "Y_test = np.array(Y_test)\n",
    "Y_test_ = np.argmax(Y_test, axis = 1)\n",
    "print(classification_report(Y_test_, predicted, digits=3))\n",
    "print(matthews_corrcoef(Y_test_, predicted))"
   ]
  },
  {
   "cell_type": "code",
   "execution_count": null,
   "metadata": {},
   "outputs": [],
   "source": []
  }
 ],
 "metadata": {
  "accelerator": "GPU",
  "colab": {
   "collapsed_sections": [],
   "machine_shape": "hm",
   "name": "NLP_word2vec-LSTM_2.ipynb",
   "provenance": [],
   "toc_visible": true
  },
  "kernelspec": {
   "display_name": "Python 3",
   "language": "python",
   "name": "python3"
  },
  "language_info": {
   "codemirror_mode": {
    "name": "ipython",
    "version": 3
   },
   "file_extension": ".py",
   "mimetype": "text/x-python",
   "name": "python",
   "nbconvert_exporter": "python",
   "pygments_lexer": "ipython3",
   "version": "3.6.9"
  }
 },
 "nbformat": 4,
 "nbformat_minor": 1
}

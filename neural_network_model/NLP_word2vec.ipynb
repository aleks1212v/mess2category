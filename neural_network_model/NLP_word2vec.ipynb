{
 "cells": [
  {
   "cell_type": "code",
   "execution_count": 38,
   "metadata": {},
   "outputs": [],
   "source": [
    "#pip install gensim==3.8.3"
   ]
  },
  {
   "cell_type": "code",
   "execution_count": 39,
   "metadata": {
    "executionInfo": {
     "elapsed": 3368,
     "status": "ok",
     "timestamp": 1614577336223,
     "user": {
      "displayName": "Алексей Витомсков",
      "photoUrl": "",
      "userId": "09837648934599257287"
     },
     "user_tz": -300
    },
    "id": "YKYYEreaqtAL"
   },
   "outputs": [],
   "source": [
    "import pandas as pd\n",
    "import numpy as np\n",
    "import re\n",
    "import matplotlib.pyplot as plt\n",
    "\n",
    "from keras import backend as K \n",
    "from keras.preprocessing.text import Tokenizer\n",
    "from keras.preprocessing.sequence import pad_sequences\n",
    "from sklearn.model_selection import train_test_split\n",
    "\n",
    "from gensim.models import Word2Vec"
   ]
  },
  {
   "cell_type": "code",
   "execution_count": null,
   "metadata": {
    "colab": {
     "base_uri": "https://localhost:8080/"
    },
    "executionInfo": {
     "elapsed": 45213,
     "status": "ok",
     "timestamp": 1614577378077,
     "user": {
      "displayName": "Алексей Витомсков",
      "photoUrl": "",
      "userId": "09837648934599257287"
     },
     "user_tz": -300
    },
    "id": "23ruXixXq42d",
    "outputId": "b3bdc7ad-9434-4f17-9851-a7a0de60e8ad"
   },
   "outputs": [],
   "source": []
  },
  {
   "cell_type": "code",
   "execution_count": 40,
   "metadata": {
    "colab": {
     "base_uri": "https://localhost:8080/",
     "height": 193
    },
    "executionInfo": {
     "elapsed": 46594,
     "status": "ok",
     "timestamp": 1614577379466,
     "user": {
      "displayName": "Алексей Витомсков",
      "photoUrl": "",
      "userId": "09837648934599257287"
     },
     "user_tz": -300
    },
    "id": "PuDx2pxKqtAT",
    "outputId": "e3162003-1592-4f29-a581-989f3b09530b"
   },
   "outputs": [
    {
     "name": "stdout",
     "output_type": "stream",
     "text": [
      "Index(['level_0', 'index', 'categories', 'description', 'worker',\n",
      "       'description_prep', 'num_words', 'description_stem'],\n",
      "      dtype='object')\n"
     ]
    },
    {
     "data": {
      "text/html": [
       "<div>\n",
       "<style scoped>\n",
       "    .dataframe tbody tr th:only-of-type {\n",
       "        vertical-align: middle;\n",
       "    }\n",
       "\n",
       "    .dataframe tbody tr th {\n",
       "        vertical-align: top;\n",
       "    }\n",
       "\n",
       "    .dataframe thead th {\n",
       "        text-align: right;\n",
       "    }\n",
       "</style>\n",
       "<table border=\"1\" class=\"dataframe\">\n",
       "  <thead>\n",
       "    <tr style=\"text-align: right;\">\n",
       "      <th></th>\n",
       "      <th>categories</th>\n",
       "      <th>description_stem</th>\n",
       "    </tr>\n",
       "  </thead>\n",
       "  <tbody>\n",
       "    <tr>\n",
       "      <th>0</th>\n",
       "      <td>Благоустройство территории</td>\n",
       "      <td>трасса нижнекамск чистополь лесополоса пгт кам...</td>\n",
       "    </tr>\n",
       "    <tr>\n",
       "      <th>1</th>\n",
       "      <td>Благоустройство территории</td>\n",
       "      <td>двор дом ленинградский отсутствовать парковочн...</td>\n",
       "    </tr>\n",
       "    <tr>\n",
       "      <th>2</th>\n",
       "      <td>Содержание и ремонт муниципальных дорог</td>\n",
       "      <td>добрый день осуществляться уборка снег центр г...</td>\n",
       "    </tr>\n",
       "  </tbody>\n",
       "</table>\n",
       "</div>"
      ],
      "text/plain": [
       "                                categories  \\\n",
       "0               Благоустройство территории   \n",
       "1               Благоустройство территории   \n",
       "2  Содержание и ремонт муниципальных дорог   \n",
       "\n",
       "                                    description_stem  \n",
       "0  трасса нижнекамск чистополь лесополоса пгт кам...  \n",
       "1  двор дом ленинградский отсутствовать парковочн...  \n",
       "2  добрый день осуществляться уборка снег центр г...  "
      ]
     },
     "execution_count": 40,
     "metadata": {},
     "output_type": "execute_result"
    }
   ],
   "source": [
    "data = pd.read_csv('tatarstan_message_2.csv', sep = ',')\n",
    "print(data.columns)\n",
    "data = data[['categories', 'description_stem']]\n",
    "data.head(3)"
   ]
  },
  {
   "cell_type": "code",
   "execution_count": 41,
   "metadata": {
    "executionInfo": {
     "elapsed": 46587,
     "status": "ok",
     "timestamp": 1614577379467,
     "user": {
      "displayName": "Алексей Витомсков",
      "photoUrl": "",
      "userId": "09837648934599257287"
     },
     "user_tz": -300
    },
    "id": "bbc4vLDXqtAU"
   },
   "outputs": [],
   "source": [
    "data = data.dropna()\n",
    "text_train = data['description_stem'].to_list()"
   ]
  },
  {
   "cell_type": "code",
   "execution_count": 42,
   "metadata": {
    "colab": {
     "base_uri": "https://localhost:8080/",
     "height": 558
    },
    "executionInfo": {
     "elapsed": 47394,
     "status": "ok",
     "timestamp": 1614577380281,
     "user": {
      "displayName": "Алексей Витомсков",
      "photoUrl": "",
      "userId": "09837648934599257287"
     },
     "user_tz": -300
    },
    "id": "MDwD5uHFqtAV",
    "outputId": "5eea7ccc-9d79-4d1d-e1aa-cd4d6e86880d"
   },
   "outputs": [
    {
     "data": {
      "image/png": "[encoded data removed]",
      "text/plain": [
       "<Figure size 1152x648 with 1 Axes>"
      ]
     },
     "metadata": {},
     "output_type": "display_data"
    }
   ],
   "source": [
    "#гистограмма наиболее часто встречающегося количества слов\n",
    "plt.style.use('ggplot')\n",
    "\n",
    "plt.figure(figsize=(16, 9)) \n",
    "# facecolor='g'\n",
    "len_of_sent = data['description_stem'].apply(lambda x: len(x.split(' ')))\n",
    "n, bins, patches = plt.hist(len_of_sent, 500, density=True)\n",
    "plt.xlabel('Number of words in a text')\n",
    "plt.ylabel('Share of texts')\n",
    "plt.axis([0, 500, 0, 0.1])\n",
    "plt.grid(True)\n",
    "plt.show()\n",
    "\n",
    "#выбираем количество анализируемых слов = 30"
   ]
  },
  {
   "cell_type": "code",
   "execution_count": 43,
   "metadata": {
    "executionInfo": {
     "elapsed": 75646,
     "status": "ok",
     "timestamp": 1614577408540,
     "user": {
      "displayName": "Алексей Витомсков",
      "photoUrl": "",
      "userId": "09837648934599257287"
     },
     "user_tz": -300
    },
    "id": "MxwjLmGNqtAW"
   },
   "outputs": [],
   "source": [
    "#загрузка модели Word2Vec\n",
    "model = Word2Vec.load(\"/notebooks/w2v_model/tweets_model.w2v\")\n",
    "model.delete_temporary_training_data()"
   ]
  },
  {
   "cell_type": "code",
   "execution_count": 44,
   "metadata": {
    "colab": {
     "base_uri": "https://localhost:8080/"
    },
    "executionInfo": {
     "elapsed": 79832,
     "status": "ok",
     "timestamp": 1614577412731,
     "user": {
      "displayName": "Алексей Витомсков",
      "photoUrl": "",
      "userId": "09837648934599257287"
     },
     "user_tz": -300
    },
    "id": "Q0ZUmuXCqtAW",
    "outputId": "fa7dd33e-cd9a-4d92-93dc-bbd763891553"
   },
   "outputs": [
    {
     "name": "stdout",
     "output_type": "stream",
     "text": [
      "Размерность словаря для embedding 200000\n"
     ]
    }
   ],
   "source": [
    "#загрузка эмбеддингов из словаря модели\n",
    "e_matrix = []\n",
    "mydict = []\n",
    "for word in model.wv.vocab.keys():\n",
    "    try:\n",
    "        e_matrix.append(model.wv[word])\n",
    "        mydict.append(word)\n",
    "        if len(e_matrix) >= 200000:\n",
    "            break\n",
    "    except:\n",
    "        print(\"Пропущено слово при заполнении модели\")\n",
    "        continue\n",
    "\n",
    "print(f\"Размерность словаря для embedding {len(e_matrix)}\")\n",
    "\n",
    "NUM = len(e_matrix)\n",
    "e_matrix = np.array(e_matrix, dtype=object)"
   ]
  },
  {
   "cell_type": "code",
   "execution_count": 45,
   "metadata": {
    "colab": {
     "base_uri": "https://localhost:8080/"
    },
    "executionInfo": {
     "elapsed": 84971,
     "status": "ok",
     "timestamp": 1614577417877,
     "user": {
      "displayName": "Алексей Витомсков",
      "photoUrl": "",
      "userId": "09837648934599257287"
     },
     "user_tz": -300
    },
    "id": "zlJBO7YjqtAW",
    "outputId": "f5bb15d6-f61b-4a7b-d6ee-b699b766e38b"
   },
   "outputs": [
    {
     "name": "stdout",
     "output_type": "stream",
     "text": [
      "200\n",
      "200000\n",
      "подготовка обучающего набора\n",
      "Количество слов в предложении: 50\n",
      "(23670, 50)\n",
      "[[    0     0     0 ... 44432 30966 81127]\n",
      " [    0     0     0 ...  5839  5959   594]\n",
      " [    0     0     0 ... 81127  2522 84833]\n",
      " ...\n",
      " [    0     0     0 ... 19103  2997 53564]\n",
      " [    0     0     0 ... 39383 35712   373]\n",
      " [65932 45762     1 ... 23944     1  9070]]\n",
      "(23670, 26)\n",
      "[[0 0 1 ... 0 0 0]\n",
      " [0 0 1 ... 0 0 0]\n",
      " [0 0 0 ... 1 0 0]\n",
      " ...\n",
      " [1 0 0 ... 0 0 0]\n",
      " [0 0 1 ... 0 0 0]\n",
      " [0 0 1 ... 0 0 0]]\n"
     ]
    }
   ],
   "source": [
    "DIM = model.vector_size\n",
    "print(DIM)\n",
    "print(NUM)\n",
    "tokenizer = Tokenizer(oov_token = True) #num_words = NUM\n",
    "tokenizer.fit_on_texts(mydict)\n",
    "\n",
    "SENTENCE_LENGTH = 50\n",
    "\n",
    "print(\"подготовка обучающего набора\")\n",
    "raw_data = [row.split(' ') for row in data['description_stem']]\n",
    "X = tokenizer.texts_to_sequences(raw_data) \n",
    "X = pad_sequences(X, maxlen=SENTENCE_LENGTH)\n",
    "print(f\"Количество слов в предложении: {len(X[0])}\")\n",
    "print(X.shape)\n",
    "print(X)\n",
    "\n",
    "Y = pd.get_dummies(data['categories'])\n",
    "label_columns=Y.columns #To get the classes\n",
    "Y = Y.to_numpy() #Convert labels to numpy array\n",
    "print(Y.shape)\n",
    "print(Y)\n",
    "\n",
    "X_train, X_test, Y_train, Y_test = train_test_split(X, Y, test_size=0.2, random_state=42)"
   ]
  },
  {
   "cell_type": "code",
   "execution_count": 46,
   "metadata": {
    "executionInfo": {
     "elapsed": 84965,
     "status": "ok",
     "timestamp": 1614577417878,
     "user": {
      "displayName": "Алексей Витомсков",
      "photoUrl": "",
      "userId": "09837648934599257287"
     },
     "user_tz": -300
    },
    "id": "22cmdlHSqtAX"
   },
   "outputs": [],
   "source": [
    "# Метрики \n",
    "from sklearn.metrics import matthews_corrcoef\n",
    "def precision(y_true, y_pred):\n",
    "    \"\"\"Precision metric.\n",
    "\n",
    "    Only computes a batch-wise average of precision.\n",
    "\n",
    "    Computes the precision, a metric for multi-label classification of\n",
    "    how many selected items are relevant.\n",
    "    \"\"\"\n",
    "    true_positives = K.sum(K.round(K.clip(y_true * y_pred, 0, 1)))\n",
    "    predicted_positives = K.sum(K.round(K.clip(y_pred, 0, 1)))\n",
    "    precision = true_positives / (predicted_positives + K.epsilon())\n",
    "    return precision\n",
    "\n",
    "\n",
    "def recall(y_true, y_pred):\n",
    "    \"\"\"Recall metric.\n",
    "\n",
    "    Only computes a batch-wise average of recall.\n",
    "\n",
    "    Computes the recall, a metric for multi-label classification of\n",
    "    how many relevant items are selected.\n",
    "    \"\"\"\n",
    "    true_positives = K.sum(K.round(K.clip(y_true * y_pred, 0, 1)))\n",
    "    possible_positives = K.sum(K.round(K.clip(y_true, 0, 1)))\n",
    "    recall = true_positives / (possible_positives + K.epsilon())\n",
    "    return recall\n",
    "\n",
    "\n",
    "def f1(y_true, y_pred):\n",
    "    def recall(y_true, y_pred):\n",
    "        \"\"\"Recall metric.\n",
    "\n",
    "        Only computes a batch-wise average of recall.\n",
    "\n",
    "        Computes the recall, a metric for multi-label classification of\n",
    "        how many relevant items are selected.\n",
    "        \"\"\"\n",
    "        true_positives = K.sum(K.round(K.clip(y_true * y_pred, 0, 1)))\n",
    "        possible_positives = K.sum(K.round(K.clip(y_true, 0, 1)))\n",
    "        recall = true_positives / (possible_positives + K.epsilon())\n",
    "        return recall\n",
    "\n",
    "    def precision(y_true, y_pred):\n",
    "        \"\"\"Precision metric.\n",
    "\n",
    "        Only computes a batch-wise average of precision.\n",
    "\n",
    "        Computes the precision, a metric for multi-label classification of\n",
    "        how many selected items are relevant.\n",
    "        \"\"\"\n",
    "        true_positives = K.sum(K.round(K.clip(y_true * y_pred, 0, 1)))\n",
    "        predicted_positives = K.sum(K.round(K.clip(y_pred, 0, 1)))\n",
    "        precision = true_positives / (predicted_positives + K.epsilon())\n",
    "        return precision\n",
    "\n",
    "    precision = precision(y_true, y_pred)\n",
    "    recall = recall(y_true, y_pred)\n",
    "    return 2 * ((precision * recall) / (precision + recall + K.epsilon()))"
   ]
  },
  {
   "cell_type": "code",
   "execution_count": 47,
   "metadata": {
    "colab": {
     "base_uri": "https://localhost:8080/"
    },
    "executionInfo": {
     "elapsed": 93882,
     "status": "ok",
     "timestamp": 1614577426800,
     "user": {
      "displayName": "Алексей Витомсков",
      "photoUrl": "",
      "userId": "09837648934599257287"
     },
     "user_tz": -300
    },
    "id": "h2a8v7m3qtAY",
    "outputId": "12c6e29d-a19f-4f86-81c5-e3eeb2d1ccbd"
   },
   "outputs": [
    {
     "name": "stdout",
     "output_type": "stream",
     "text": [
      "Model: \"model_2\"\n",
      "__________________________________________________________________________________________________\n",
      "Layer (type)                    Output Shape         Param #     Connected to                     \n",
      "==================================================================================================\n",
      "input_4 (InputLayer)            [(None, 50)]         0                                            \n",
      "__________________________________________________________________________________________________\n",
      "embedding_3 (Embedding)         (None, 50, 200)      40000000    input_4[0][0]                    \n",
      "__________________________________________________________________________________________________\n",
      "dropout_5 (Dropout)             (None, 50, 200)      0           embedding_3[0][0]                \n",
      "__________________________________________________________________________________________________\n",
      "conv1d_8 (Conv1D)               (None, 49, 50)       20050       dropout_5[0][0]                  \n",
      "__________________________________________________________________________________________________\n",
      "conv1d_9 (Conv1D)               (None, 48, 50)       30050       dropout_5[0][0]                  \n",
      "__________________________________________________________________________________________________\n",
      "conv1d_10 (Conv1D)              (None, 47, 50)       40050       dropout_5[0][0]                  \n",
      "__________________________________________________________________________________________________\n",
      "conv1d_11 (Conv1D)              (None, 46, 50)       50050       dropout_5[0][0]                  \n",
      "__________________________________________________________________________________________________\n",
      "global_max_pooling1d_8 (GlobalM (None, 50)           0           conv1d_8[0][0]                   \n",
      "__________________________________________________________________________________________________\n",
      "global_max_pooling1d_9 (GlobalM (None, 50)           0           conv1d_9[0][0]                   \n",
      "__________________________________________________________________________________________________\n",
      "global_max_pooling1d_10 (Global (None, 50)           0           conv1d_10[0][0]                  \n",
      "__________________________________________________________________________________________________\n",
      "global_max_pooling1d_11 (Global (None, 50)           0           conv1d_11[0][0]                  \n",
      "__________________________________________________________________________________________________\n",
      "concatenate_2 (Concatenate)     (None, 200)          0           global_max_pooling1d_8[0][0]     \n",
      "                                                                 global_max_pooling1d_9[0][0]     \n",
      "                                                                 global_max_pooling1d_10[0][0]    \n",
      "                                                                 global_max_pooling1d_11[0][0]    \n",
      "__________________________________________________________________________________________________\n",
      "dropout_6 (Dropout)             (None, 200)          0           concatenate_2[0][0]              \n",
      "__________________________________________________________________________________________________\n",
      "dense_4 (Dense)                 (None, 300)          60300       dropout_6[0][0]                  \n",
      "__________________________________________________________________________________________________\n",
      "dense_5 (Dense)                 (None, 26)           7826        dense_4[0][0]                    \n",
      "==================================================================================================\n",
      "Total params: 40,208,326\n",
      "Trainable params: 208,326\n",
      "Non-trainable params: 40,000,000\n",
      "__________________________________________________________________________________________________\n"
     ]
    }
   ],
   "source": [
    "from keras.layers import Input\n",
    "from keras.layers.embeddings import Embedding\n",
    "from keras import optimizers\n",
    "from keras.layers import Dense, concatenate, Activation, Dropout\n",
    "from keras.models import Model\n",
    "from keras.layers.convolutional import Conv1D\n",
    "from keras.layers.pooling import GlobalMaxPooling1D\n",
    "\n",
    "SENTENCE_LENGTH = 50\n",
    "NUM = 200000\n",
    "DIM = 200\n",
    "\n",
    "tweet_input = Input(shape=(SENTENCE_LENGTH,), dtype='int32') \n",
    "tweet_encoder = Embedding(NUM, DIM, input_length=SENTENCE_LENGTH, weights=[e_matrix], trainable=False)(tweet_input) #Слой Emdedding\n",
    "\n",
    "branches = []\n",
    "\n",
    "x = Dropout(0.1)(tweet_encoder)\n",
    "for size in [2, 3, 4, 5]:\n",
    "    branch = Conv1D(filters=50, kernel_size=size, padding='valid', activation='relu')(x)\n",
    "    branch = GlobalMaxPooling1D()(branch)\n",
    "    branches.append(branch)\n",
    "x = concatenate(branches, axis=1)\n",
    "x = Dropout(0.1)(x)\n",
    "x = Dense(300, activation='relu')(x)\n",
    "output = Dense(26, activation='softmax')(x)\n",
    "\n",
    "model = Model(inputs=[tweet_input], outputs=[output])\n",
    "model.compile(loss='binary_crossentropy', optimizer='adam', metrics=['accuracy', precision, recall, f1])\n",
    "model.summary()\n"
   ]
  },
  {
   "cell_type": "code",
   "execution_count": null,
   "metadata": {},
   "outputs": [],
   "source": []
  },
  {
   "cell_type": "code",
   "execution_count": 48,
   "metadata": {
    "colab": {
     "base_uri": "https://localhost:8080/",
     "height": 445
    },
    "executionInfo": {
     "elapsed": 119193,
     "status": "error",
     "timestamp": 1614577452118,
     "user": {
      "displayName": "Алексей Витомсков",
      "photoUrl": "",
      "userId": "09837648934599257287"
     },
     "user_tz": -300
    },
    "id": "yR17N5M_qtAY",
    "outputId": "70efc3b7-5cd2-44a9-9436-1e35c2826609"
   },
   "outputs": [
    {
     "name": "stdout",
     "output_type": "stream",
     "text": [
      "WARNING:tensorflow:`period` argument is deprecated. Please use `save_freq` to specify the frequency in number of batches seen.\n",
      "Epoch 1/100\n",
      "34/34 [==============================] - 2s 33ms/step - loss: 0.3290 - accuracy: 0.3442 - precision: 0.3674 - recall: 0.2236 - f1: 0.2563 - val_loss: 0.0931 - val_accuracy: 0.5544 - val_precision: 0.6110 - val_recall: 0.4299 - val_f1: 0.5047\n",
      "Epoch 2/100\n",
      "34/34 [==============================] - 1s 19ms/step - loss: 0.0939 - accuracy: 0.5501 - precision: 0.5826 - recall: 0.4922 - f1: 0.5335 - val_loss: 0.0837 - val_accuracy: 0.5876 - val_precision: 0.6568 - val_recall: 0.4515 - val_f1: 0.5351\n",
      "Epoch 3/100\n",
      "34/34 [==============================] - 1s 18ms/step - loss: 0.0813 - accuracy: 0.5931 - precision: 0.6279 - recall: 0.5416 - f1: 0.5814 - val_loss: 0.0783 - val_accuracy: 0.6304 - val_precision: 0.7001 - val_recall: 0.5054 - val_f1: 0.5869\n",
      "Epoch 4/100\n",
      "34/34 [==============================] - 1s 18ms/step - loss: 0.0760 - accuracy: 0.6184 - precision: 0.6624 - recall: 0.5616 - f1: 0.6075 - val_loss: 0.0733 - val_accuracy: 0.6573 - val_precision: 0.7100 - val_recall: 0.5786 - val_f1: 0.6376\n",
      "Epoch 5/100\n",
      "34/34 [==============================] - 1s 18ms/step - loss: 0.0693 - accuracy: 0.6527 - precision: 0.6844 - recall: 0.6054 - f1: 0.6424 - val_loss: 0.0700 - val_accuracy: 0.6711 - val_precision: 0.7247 - val_recall: 0.5922 - val_f1: 0.6517\n",
      "Epoch 6/100\n",
      "34/34 [==============================] - 1s 18ms/step - loss: 0.0667 - accuracy: 0.6673 - precision: 0.7009 - recall: 0.6183 - f1: 0.6569 - val_loss: 0.0671 - val_accuracy: 0.6843 - val_precision: 0.7272 - val_recall: 0.6213 - val_f1: 0.6700\n",
      "Epoch 7/100\n",
      "34/34 [==============================] - 1s 18ms/step - loss: 0.0621 - accuracy: 0.6936 - precision: 0.7292 - recall: 0.6579 - f1: 0.6917 - val_loss: 0.0673 - val_accuracy: 0.6890 - val_precision: 0.7339 - val_recall: 0.6149 - val_f1: 0.6691\n",
      "Epoch 8/100\n",
      "34/34 [==============================] - 1s 18ms/step - loss: 0.0599 - accuracy: 0.7017 - precision: 0.7349 - recall: 0.6653 - f1: 0.6983 - val_loss: 0.0647 - val_accuracy: 0.6927 - val_precision: 0.7241 - val_recall: 0.6451 - val_f1: 0.6823\n",
      "Epoch 9/100\n",
      "34/34 [==============================] - 1s 18ms/step - loss: 0.0570 - accuracy: 0.7174 - precision: 0.7500 - recall: 0.6867 - f1: 0.7169 - val_loss: 0.0631 - val_accuracy: 0.6901 - val_precision: 0.7353 - val_recall: 0.6416 - val_f1: 0.6853\n",
      "Epoch 10/100\n",
      "34/34 [==============================] - 1s 18ms/step - loss: 0.0539 - accuracy: 0.7408 - precision: 0.7707 - recall: 0.7074 - f1: 0.7377 - val_loss: 0.0629 - val_accuracy: 0.7027 - val_precision: 0.7367 - val_recall: 0.6374 - val_f1: 0.6834\n",
      "Epoch 11/100\n",
      "34/34 [==============================] - 1s 19ms/step - loss: 0.0519 - accuracy: 0.7498 - precision: 0.7771 - recall: 0.7225 - f1: 0.7488 - val_loss: 0.0621 - val_accuracy: 0.6954 - val_precision: 0.7310 - val_recall: 0.6490 - val_f1: 0.6876\n",
      "Epoch 12/100\n",
      "34/34 [==============================] - 1s 19ms/step - loss: 0.0503 - accuracy: 0.7569 - precision: 0.7847 - recall: 0.7273 - f1: 0.7549 - val_loss: 0.0609 - val_accuracy: 0.6927 - val_precision: 0.7231 - val_recall: 0.6594 - val_f1: 0.6897\n",
      "Epoch 13/100\n",
      "34/34 [==============================] - 1s 19ms/step - loss: 0.0485 - accuracy: 0.7649 - precision: 0.7913 - recall: 0.7403 - f1: 0.7649 - val_loss: 0.0603 - val_accuracy: 0.6996 - val_precision: 0.7360 - val_recall: 0.6672 - val_f1: 0.6999\n",
      "Epoch 14/100\n",
      "34/34 [==============================] - 1s 18ms/step - loss: 0.0468 - accuracy: 0.7725 - precision: 0.7993 - recall: 0.7487 - f1: 0.7732 - val_loss: 0.0594 - val_accuracy: 0.7096 - val_precision: 0.7338 - val_recall: 0.6763 - val_f1: 0.7039\n",
      "Epoch 15/100\n",
      "34/34 [==============================] - 1s 18ms/step - loss: 0.0451 - accuracy: 0.7808 - precision: 0.8012 - recall: 0.7581 - f1: 0.7790 - val_loss: 0.0601 - val_accuracy: 0.7033 - val_precision: 0.7292 - val_recall: 0.6742 - val_f1: 0.7006\n",
      "Epoch 16/100\n",
      "34/34 [==============================] - 1s 20ms/step - loss: 0.0432 - accuracy: 0.7996 - precision: 0.8238 - recall: 0.7789 - f1: 0.8007 - val_loss: 0.0605 - val_accuracy: 0.7033 - val_precision: 0.7321 - val_recall: 0.6751 - val_f1: 0.7024\n",
      "Epoch 17/100\n",
      "34/34 [==============================] - 1s 19ms/step - loss: 0.0421 - accuracy: 0.8016 - precision: 0.8230 - recall: 0.7821 - f1: 0.8020 - val_loss: 0.0598 - val_accuracy: 0.7070 - val_precision: 0.7333 - val_recall: 0.6772 - val_f1: 0.7041\n",
      "Epoch 18/100\n",
      "34/34 [==============================] - 1s 18ms/step - loss: 0.0395 - accuracy: 0.8127 - precision: 0.8361 - recall: 0.7962 - f1: 0.8157 - val_loss: 0.0606 - val_accuracy: 0.7043 - val_precision: 0.7310 - val_recall: 0.6714 - val_f1: 0.6999\n",
      "Epoch 19/100\n",
      "34/34 [==============================] - 1s 18ms/step - loss: 0.0378 - accuracy: 0.8219 - precision: 0.8394 - recall: 0.8071 - f1: 0.8229 - val_loss: 0.0608 - val_accuracy: 0.7107 - val_precision: 0.7398 - val_recall: 0.6747 - val_f1: 0.7057\n",
      "Epoch 20/100\n",
      "34/34 [==============================] - 1s 18ms/step - loss: 0.0367 - accuracy: 0.8302 - precision: 0.8487 - recall: 0.8118 - f1: 0.8298 - val_loss: 0.0601 - val_accuracy: 0.7091 - val_precision: 0.7325 - val_recall: 0.6833 - val_f1: 0.7071\n",
      "Epoch 21/100\n",
      "34/34 [==============================] - 1s 19ms/step - loss: 0.0361 - accuracy: 0.8322 - precision: 0.8521 - recall: 0.8180 - f1: 0.8347 - val_loss: 0.0607 - val_accuracy: 0.7086 - val_precision: 0.7284 - val_recall: 0.6850 - val_f1: 0.7060\n",
      "Epoch 22/100\n",
      "34/34 [==============================] - 1s 19ms/step - loss: 0.0351 - accuracy: 0.8355 - precision: 0.8541 - recall: 0.8200 - f1: 0.8367 - val_loss: 0.0617 - val_accuracy: 0.7033 - val_precision: 0.7205 - val_recall: 0.6838 - val_f1: 0.7017\n",
      "Epoch 23/100\n",
      "34/34 [==============================] - 1s 19ms/step - loss: 0.0340 - accuracy: 0.8463 - precision: 0.8624 - recall: 0.8304 - f1: 0.8461 - val_loss: 0.0611 - val_accuracy: 0.7128 - val_precision: 0.7403 - val_recall: 0.6868 - val_f1: 0.7125\n",
      "Epoch 24/100\n",
      "34/34 [==============================] - 1s 18ms/step - loss: 0.0329 - accuracy: 0.8484 - precision: 0.8647 - recall: 0.8351 - f1: 0.8496 - val_loss: 0.0612 - val_accuracy: 0.7107 - val_precision: 0.7313 - val_recall: 0.6848 - val_f1: 0.7072\n",
      "Epoch 25/100\n",
      "34/34 [==============================] - 1s 18ms/step - loss: 0.0317 - accuracy: 0.8520 - precision: 0.8680 - recall: 0.8396 - f1: 0.8535 - val_loss: 0.0615 - val_accuracy: 0.7149 - val_precision: 0.7357 - val_recall: 0.6918 - val_f1: 0.7131\n",
      "Epoch 26/100\n",
      "34/34 [==============================] - 1s 18ms/step - loss: 0.0300 - accuracy: 0.8634 - precision: 0.8786 - recall: 0.8516 - f1: 0.8649 - val_loss: 0.0609 - val_accuracy: 0.7080 - val_precision: 0.7341 - val_recall: 0.6901 - val_f1: 0.7114\n",
      "Epoch 27/100\n",
      "34/34 [==============================] - 1s 19ms/step - loss: 0.0295 - accuracy: 0.8664 - precision: 0.8815 - recall: 0.8542 - f1: 0.8676 - val_loss: 0.0620 - val_accuracy: 0.7086 - val_precision: 0.7404 - val_recall: 0.6862 - val_f1: 0.7122\n",
      "Epoch 28/100\n",
      "34/34 [==============================] - 1s 19ms/step - loss: 0.0293 - accuracy: 0.8660 - precision: 0.8792 - recall: 0.8532 - f1: 0.8660 - val_loss: 0.0613 - val_accuracy: 0.7075 - val_precision: 0.7297 - val_recall: 0.6938 - val_f1: 0.7113\n",
      "Epoch 29/100\n",
      "34/34 [==============================] - 1s 19ms/step - loss: 0.0279 - accuracy: 0.8741 - precision: 0.8884 - recall: 0.8617 - f1: 0.8749 - val_loss: 0.0615 - val_accuracy: 0.7202 - val_precision: 0.7348 - val_recall: 0.6972 - val_f1: 0.7155\n",
      "Epoch 30/100\n",
      "34/34 [==============================] - 1s 18ms/step - loss: 0.0270 - accuracy: 0.8811 - precision: 0.8933 - recall: 0.8697 - f1: 0.8813 - val_loss: 0.0625 - val_accuracy: 0.7075 - val_precision: 0.7227 - val_recall: 0.6882 - val_f1: 0.7050\n",
      "Epoch 31/100\n",
      "34/34 [==============================] - 1s 18ms/step - loss: 0.0274 - accuracy: 0.8748 - precision: 0.8873 - recall: 0.8646 - f1: 0.8758 - val_loss: 0.0628 - val_accuracy: 0.7165 - val_precision: 0.7336 - val_recall: 0.6980 - val_f1: 0.7153\n",
      "Epoch 32/100\n",
      "34/34 [==============================] - 1s 18ms/step - loss: 0.0265 - accuracy: 0.8814 - precision: 0.8931 - recall: 0.8713 - f1: 0.8821 - val_loss: 0.0631 - val_accuracy: 0.7107 - val_precision: 0.7258 - val_recall: 0.6928 - val_f1: 0.7089\n"
     ]
    },
    {
     "name": "stdout",
     "output_type": "stream",
     "text": [
      "Epoch 33/100\n",
      "34/34 [==============================] - 1s 18ms/step - loss: 0.0248 - accuracy: 0.8909 - precision: 0.9023 - recall: 0.8807 - f1: 0.8913 - val_loss: 0.0638 - val_accuracy: 0.7133 - val_precision: 0.7330 - val_recall: 0.6914 - val_f1: 0.7116\n",
      "Epoch 34/100\n",
      "34/34 [==============================] - 1s 18ms/step - loss: 0.0244 - accuracy: 0.8931 - precision: 0.9047 - recall: 0.8831 - f1: 0.8938 - val_loss: 0.0657 - val_accuracy: 0.7064 - val_precision: 0.7173 - val_recall: 0.6867 - val_f1: 0.7017\n",
      "Epoch 35/100\n",
      "34/34 [==============================] - 1s 18ms/step - loss: 0.0238 - accuracy: 0.8948 - precision: 0.9044 - recall: 0.8856 - f1: 0.8949 - val_loss: 0.0650 - val_accuracy: 0.7159 - val_precision: 0.7311 - val_recall: 0.6911 - val_f1: 0.7105\n",
      "Epoch 36/100\n",
      "34/34 [==============================] - 1s 18ms/step - loss: 0.0238 - accuracy: 0.8938 - precision: 0.9052 - recall: 0.8868 - f1: 0.8959 - val_loss: 0.0651 - val_accuracy: 0.7122 - val_precision: 0.7224 - val_recall: 0.6994 - val_f1: 0.7107\n",
      "Epoch 37/100\n",
      "34/34 [==============================] - 1s 19ms/step - loss: 0.0226 - accuracy: 0.8993 - precision: 0.9101 - recall: 0.8909 - f1: 0.9004 - val_loss: 0.0655 - val_accuracy: 0.7154 - val_precision: 0.7329 - val_recall: 0.6972 - val_f1: 0.7146\n",
      "Epoch 38/100\n",
      "34/34 [==============================] - 1s 18ms/step - loss: 0.0222 - accuracy: 0.9009 - precision: 0.9113 - recall: 0.8939 - f1: 0.9025 - val_loss: 0.0658 - val_accuracy: 0.7101 - val_precision: 0.7262 - val_recall: 0.6951 - val_f1: 0.7103\n",
      "Epoch 39/100\n",
      "34/34 [==============================] - 1s 19ms/step - loss: 0.0214 - accuracy: 0.9058 - precision: 0.9140 - recall: 0.8983 - f1: 0.9060 - val_loss: 0.0662 - val_accuracy: 0.7138 - val_precision: 0.7268 - val_recall: 0.6992 - val_f1: 0.7127\n",
      "Epoch 40/100\n",
      "34/34 [==============================] - 1s 18ms/step - loss: 0.0214 - accuracy: 0.9060 - precision: 0.9152 - recall: 0.8985 - f1: 0.9068 - val_loss: 0.0668 - val_accuracy: 0.7144 - val_precision: 0.7261 - val_recall: 0.6986 - val_f1: 0.7121\n",
      "Epoch 41/100\n",
      "34/34 [==============================] - 1s 18ms/step - loss: 0.0206 - accuracy: 0.9113 - precision: 0.9183 - recall: 0.9035 - f1: 0.9108 - val_loss: 0.0676 - val_accuracy: 0.7181 - val_precision: 0.7327 - val_recall: 0.6965 - val_f1: 0.7141\n",
      "Epoch 42/100\n",
      "34/34 [==============================] - 1s 18ms/step - loss: 0.0204 - accuracy: 0.9105 - precision: 0.9190 - recall: 0.9017 - f1: 0.9103 - val_loss: 0.0674 - val_accuracy: 0.7122 - val_precision: 0.7283 - val_recall: 0.6997 - val_f1: 0.7137\n",
      "Epoch 43/100\n",
      "34/34 [==============================] - 1s 18ms/step - loss: 0.0191 - accuracy: 0.9165 - precision: 0.9254 - recall: 0.9107 - f1: 0.9180 - val_loss: 0.0678 - val_accuracy: 0.7096 - val_precision: 0.7241 - val_recall: 0.6940 - val_f1: 0.7087\n",
      "Epoch 44/100\n",
      "34/34 [==============================] - 1s 19ms/step - loss: 0.0194 - accuracy: 0.9155 - precision: 0.9239 - recall: 0.9099 - f1: 0.9168 - val_loss: 0.0685 - val_accuracy: 0.7133 - val_precision: 0.7246 - val_recall: 0.7000 - val_f1: 0.7120\n",
      "Epoch 45/100\n",
      "34/34 [==============================] - 1s 19ms/step - loss: 0.0190 - accuracy: 0.9174 - precision: 0.9254 - recall: 0.9118 - f1: 0.9185 - val_loss: 0.0684 - val_accuracy: 0.7212 - val_precision: 0.7297 - val_recall: 0.7065 - val_f1: 0.7179\n",
      "Epoch 46/100\n",
      "34/34 [==============================] - 1s 18ms/step - loss: 0.0185 - accuracy: 0.9157 - precision: 0.9236 - recall: 0.9090 - f1: 0.9162 - val_loss: 0.0704 - val_accuracy: 0.7144 - val_precision: 0.7252 - val_recall: 0.7005 - val_f1: 0.7126\n",
      "Epoch 47/100\n",
      "34/34 [==============================] - 1s 18ms/step - loss: 0.0178 - accuracy: 0.9222 - precision: 0.9298 - recall: 0.9167 - f1: 0.9232 - val_loss: 0.0699 - val_accuracy: 0.7170 - val_precision: 0.7318 - val_recall: 0.6984 - val_f1: 0.7147\n",
      "Epoch 48/100\n",
      "34/34 [==============================] - 1s 18ms/step - loss: 0.0177 - accuracy: 0.9254 - precision: 0.9319 - recall: 0.9204 - f1: 0.9261 - val_loss: 0.0692 - val_accuracy: 0.7207 - val_precision: 0.7303 - val_recall: 0.7024 - val_f1: 0.7160\n",
      "Epoch 49/100\n",
      "34/34 [==============================] - 1s 18ms/step - loss: 0.0177 - accuracy: 0.9177 - precision: 0.9241 - recall: 0.9117 - f1: 0.9178 - val_loss: 0.0701 - val_accuracy: 0.7191 - val_precision: 0.7280 - val_recall: 0.7061 - val_f1: 0.7169\n",
      "Epoch 50/100\n",
      "34/34 [==============================] - 1s 25ms/step - loss: 0.0172 - accuracy: 0.9299 - precision: 0.9371 - recall: 0.9234 - f1: 0.9302 - val_loss: 0.0707 - val_accuracy: 0.7165 - val_precision: 0.7273 - val_recall: 0.7054 - val_f1: 0.7162\n",
      "Epoch 51/100\n",
      "34/34 [==============================] - 1s 19ms/step - loss: 0.0166 - accuracy: 0.9301 - precision: 0.9346 - recall: 0.9237 - f1: 0.9291 - val_loss: 0.0705 - val_accuracy: 0.7196 - val_precision: 0.7299 - val_recall: 0.7068 - val_f1: 0.7181\n",
      "Epoch 52/100\n",
      "34/34 [==============================] - 1s 18ms/step - loss: 0.0165 - accuracy: 0.9297 - precision: 0.9349 - recall: 0.9239 - f1: 0.9294 - val_loss: 0.0722 - val_accuracy: 0.7191 - val_precision: 0.7298 - val_recall: 0.7077 - val_f1: 0.7186\n",
      "Epoch 53/100\n",
      "34/34 [==============================] - 1s 19ms/step - loss: 0.0157 - accuracy: 0.9331 - precision: 0.9393 - recall: 0.9277 - f1: 0.9335 - val_loss: 0.0734 - val_accuracy: 0.7154 - val_precision: 0.7251 - val_recall: 0.7028 - val_f1: 0.7138\n",
      "Epoch 54/100\n",
      "34/34 [==============================] - 1s 18ms/step - loss: 0.0169 - accuracy: 0.9314 - precision: 0.9368 - recall: 0.9270 - f1: 0.9319 - val_loss: 0.0716 - val_accuracy: 0.7218 - val_precision: 0.7317 - val_recall: 0.7061 - val_f1: 0.7186\n",
      "Epoch 55/100\n",
      "34/34 [==============================] - 1s 18ms/step - loss: 0.0158 - accuracy: 0.9342 - precision: 0.9402 - recall: 0.9298 - f1: 0.9350 - val_loss: 0.0746 - val_accuracy: 0.7218 - val_precision: 0.7284 - val_recall: 0.7099 - val_f1: 0.7190\n",
      "Epoch 56/100\n",
      "34/34 [==============================] - 1s 18ms/step - loss: 0.0152 - accuracy: 0.9368 - precision: 0.9415 - recall: 0.9330 - f1: 0.9372 - val_loss: 0.0755 - val_accuracy: 0.7181 - val_precision: 0.7226 - val_recall: 0.7084 - val_f1: 0.7154\n",
      "Epoch 57/100\n",
      "34/34 [==============================] - 1s 18ms/step - loss: 0.0153 - accuracy: 0.9304 - precision: 0.9364 - recall: 0.9267 - f1: 0.9315 - val_loss: 0.0732 - val_accuracy: 0.7218 - val_precision: 0.7334 - val_recall: 0.7125 - val_f1: 0.7228\n",
      "Epoch 58/100\n",
      "34/34 [==============================] - 1s 18ms/step - loss: 0.0149 - accuracy: 0.9370 - precision: 0.9431 - recall: 0.9327 - f1: 0.9379 - val_loss: 0.0744 - val_accuracy: 0.7128 - val_precision: 0.7191 - val_recall: 0.7030 - val_f1: 0.7110\n",
      "Epoch 59/100\n",
      "34/34 [==============================] - 1s 18ms/step - loss: 0.0147 - accuracy: 0.9354 - precision: 0.9407 - recall: 0.9300 - f1: 0.9353 - val_loss: 0.0750 - val_accuracy: 0.7249 - val_precision: 0.7270 - val_recall: 0.7104 - val_f1: 0.7186\n",
      "Epoch 60/100\n",
      "34/34 [==============================] - 1s 18ms/step - loss: 0.0148 - accuracy: 0.9373 - precision: 0.9418 - recall: 0.9319 - f1: 0.9368 - val_loss: 0.0748 - val_accuracy: 0.7196 - val_precision: 0.7285 - val_recall: 0.7084 - val_f1: 0.7183\n",
      "Epoch 61/100\n",
      "34/34 [==============================] - 1s 18ms/step - loss: 0.0137 - accuracy: 0.9417 - precision: 0.9465 - recall: 0.9387 - f1: 0.9426 - val_loss: 0.0761 - val_accuracy: 0.7239 - val_precision: 0.7345 - val_recall: 0.7177 - val_f1: 0.7260\n",
      "Epoch 62/100\n",
      "34/34 [==============================] - 1s 19ms/step - loss: 0.0143 - accuracy: 0.9393 - precision: 0.9443 - recall: 0.9355 - f1: 0.9399 - val_loss: 0.0772 - val_accuracy: 0.7191 - val_precision: 0.7213 - val_recall: 0.7104 - val_f1: 0.7158\n",
      "Epoch 63/100\n",
      "34/34 [==============================] - 1s 18ms/step - loss: 0.0139 - accuracy: 0.9393 - precision: 0.9427 - recall: 0.9348 - f1: 0.9387 - val_loss: 0.0762 - val_accuracy: 0.7149 - val_precision: 0.7209 - val_recall: 0.7033 - val_f1: 0.7120\n",
      "Epoch 64/100\n",
      "34/34 [==============================] - 1s 18ms/step - loss: 0.0134 - accuracy: 0.9410 - precision: 0.9451 - recall: 0.9371 - f1: 0.9410 - val_loss: 0.0765 - val_accuracy: 0.7218 - val_precision: 0.7328 - val_recall: 0.7135 - val_f1: 0.7230\n",
      "Epoch 65/100\n"
     ]
    },
    {
     "name": "stdout",
     "output_type": "stream",
     "text": [
      "34/34 [==============================] - 1s 18ms/step - loss: 0.0137 - accuracy: 0.9449 - precision: 0.9482 - recall: 0.9403 - f1: 0.9442 - val_loss: 0.0775 - val_accuracy: 0.7223 - val_precision: 0.7317 - val_recall: 0.7104 - val_f1: 0.7209\n",
      "Epoch 66/100\n",
      "34/34 [==============================] - 1s 19ms/step - loss: 0.0129 - accuracy: 0.9440 - precision: 0.9476 - recall: 0.9415 - f1: 0.9445 - val_loss: 0.0774 - val_accuracy: 0.7260 - val_precision: 0.7324 - val_recall: 0.7148 - val_f1: 0.7235\n",
      "Epoch 67/100\n",
      "34/34 [==============================] - 1s 19ms/step - loss: 0.0131 - accuracy: 0.9431 - precision: 0.9471 - recall: 0.9406 - f1: 0.9439 - val_loss: 0.0770 - val_accuracy: 0.7196 - val_precision: 0.7280 - val_recall: 0.7090 - val_f1: 0.7183\n",
      "Epoch 68/100\n",
      "34/34 [==============================] - 1s 19ms/step - loss: 0.0131 - accuracy: 0.9451 - precision: 0.9497 - recall: 0.9416 - f1: 0.9457 - val_loss: 0.0801 - val_accuracy: 0.7165 - val_precision: 0.7224 - val_recall: 0.7079 - val_f1: 0.7151\n",
      "Epoch 69/100\n",
      "34/34 [==============================] - 1s 19ms/step - loss: 0.0130 - accuracy: 0.9425 - precision: 0.9481 - recall: 0.9405 - f1: 0.9443 - val_loss: 0.0812 - val_accuracy: 0.7202 - val_precision: 0.7225 - val_recall: 0.7109 - val_f1: 0.7167\n",
      "Epoch 70/100\n",
      "34/34 [==============================] - 1s 19ms/step - loss: 0.0125 - accuracy: 0.9486 - precision: 0.9528 - recall: 0.9459 - f1: 0.9493 - val_loss: 0.0788 - val_accuracy: 0.7228 - val_precision: 0.7301 - val_recall: 0.7130 - val_f1: 0.7214\n",
      "Epoch 71/100\n",
      "34/34 [==============================] - 1s 19ms/step - loss: 0.0116 - accuracy: 0.9518 - precision: 0.9549 - recall: 0.9477 - f1: 0.9513 - val_loss: 0.0803 - val_accuracy: 0.7159 - val_precision: 0.7235 - val_recall: 0.7046 - val_f1: 0.7139\n",
      "Epoch 72/100\n",
      "34/34 [==============================] - 1s 19ms/step - loss: 0.0126 - accuracy: 0.9462 - precision: 0.9493 - recall: 0.9420 - f1: 0.9456 - val_loss: 0.0799 - val_accuracy: 0.7228 - val_precision: 0.7259 - val_recall: 0.7159 - val_f1: 0.7209\n",
      "Epoch 73/100\n",
      "34/34 [==============================] - 1s 19ms/step - loss: 0.0119 - accuracy: 0.9521 - precision: 0.9551 - recall: 0.9494 - f1: 0.9522 - val_loss: 0.0817 - val_accuracy: 0.7196 - val_precision: 0.7249 - val_recall: 0.7131 - val_f1: 0.7190\n",
      "Epoch 74/100\n",
      "34/34 [==============================] - 1s 20ms/step - loss: 0.0124 - accuracy: 0.9503 - precision: 0.9527 - recall: 0.9469 - f1: 0.9498 - val_loss: 0.0799 - val_accuracy: 0.7223 - val_precision: 0.7280 - val_recall: 0.7141 - val_f1: 0.7210\n",
      "Epoch 75/100\n",
      "34/34 [==============================] - 1s 19ms/step - loss: 0.0113 - accuracy: 0.9562 - precision: 0.9601 - recall: 0.9535 - f1: 0.9568 - val_loss: 0.0807 - val_accuracy: 0.7207 - val_precision: 0.7271 - val_recall: 0.7116 - val_f1: 0.7193\n",
      "Epoch 76/100\n",
      "34/34 [==============================] - 1s 19ms/step - loss: 0.0108 - accuracy: 0.9571 - precision: 0.9594 - recall: 0.9550 - f1: 0.9572 - val_loss: 0.0821 - val_accuracy: 0.7218 - val_precision: 0.7276 - val_recall: 0.7125 - val_f1: 0.7199\n",
      "Epoch 77/100\n",
      "34/34 [==============================] - 1s 19ms/step - loss: 0.0120 - accuracy: 0.9493 - precision: 0.9517 - recall: 0.9465 - f1: 0.9490 - val_loss: 0.0814 - val_accuracy: 0.7202 - val_precision: 0.7261 - val_recall: 0.7109 - val_f1: 0.7184\n",
      "Epoch 78/100\n",
      "34/34 [==============================] - 1s 19ms/step - loss: 0.0107 - accuracy: 0.9571 - precision: 0.9601 - recall: 0.9541 - f1: 0.9571 - val_loss: 0.0845 - val_accuracy: 0.7165 - val_precision: 0.7242 - val_recall: 0.7053 - val_f1: 0.7146\n",
      "Epoch 79/100\n",
      "34/34 [==============================] - 1s 19ms/step - loss: 0.0116 - accuracy: 0.9524 - precision: 0.9562 - recall: 0.9502 - f1: 0.9532 - val_loss: 0.0834 - val_accuracy: 0.7181 - val_precision: 0.7233 - val_recall: 0.7120 - val_f1: 0.7176\n",
      "Epoch 80/100\n",
      "34/34 [==============================] - 1s 19ms/step - loss: 0.0114 - accuracy: 0.9534 - precision: 0.9556 - recall: 0.9511 - f1: 0.9533 - val_loss: 0.0827 - val_accuracy: 0.7265 - val_precision: 0.7297 - val_recall: 0.7187 - val_f1: 0.7242\n",
      "Epoch 81/100\n",
      "34/34 [==============================] - 1s 19ms/step - loss: 0.0102 - accuracy: 0.9586 - precision: 0.9614 - recall: 0.9559 - f1: 0.9586 - val_loss: 0.0835 - val_accuracy: 0.7202 - val_precision: 0.7239 - val_recall: 0.7148 - val_f1: 0.7193\n",
      "Epoch 82/100\n",
      "34/34 [==============================] - 1s 19ms/step - loss: 0.0104 - accuracy: 0.9568 - precision: 0.9600 - recall: 0.9545 - f1: 0.9572 - val_loss: 0.0833 - val_accuracy: 0.7207 - val_precision: 0.7220 - val_recall: 0.7106 - val_f1: 0.7163\n",
      "Epoch 83/100\n",
      "34/34 [==============================] - 1s 21ms/step - loss: 0.0101 - accuracy: 0.9578 - precision: 0.9603 - recall: 0.9564 - f1: 0.9584 - val_loss: 0.0849 - val_accuracy: 0.7181 - val_precision: 0.7246 - val_recall: 0.7135 - val_f1: 0.7190\n",
      "Epoch 84/100\n",
      "34/34 [==============================] - 1s 19ms/step - loss: 0.0101 - accuracy: 0.9599 - precision: 0.9622 - recall: 0.9574 - f1: 0.9598 - val_loss: 0.0876 - val_accuracy: 0.7186 - val_precision: 0.7210 - val_recall: 0.7104 - val_f1: 0.7157\n",
      "Epoch 85/100\n",
      "34/34 [==============================] - 1s 19ms/step - loss: 0.0105 - accuracy: 0.9567 - precision: 0.9591 - recall: 0.9550 - f1: 0.9571 - val_loss: 0.0896 - val_accuracy: 0.7175 - val_precision: 0.7196 - val_recall: 0.7101 - val_f1: 0.7148\n",
      "Epoch 86/100\n",
      "34/34 [==============================] - 1s 19ms/step - loss: 0.0104 - accuracy: 0.9583 - precision: 0.9607 - recall: 0.9563 - f1: 0.9585 - val_loss: 0.0847 - val_accuracy: 0.7144 - val_precision: 0.7217 - val_recall: 0.7083 - val_f1: 0.7149\n",
      "Epoch 87/100\n",
      "34/34 [==============================] - 1s 19ms/step - loss: 0.0104 - accuracy: 0.9584 - precision: 0.9611 - recall: 0.9560 - f1: 0.9586 - val_loss: 0.0854 - val_accuracy: 0.7207 - val_precision: 0.7270 - val_recall: 0.7134 - val_f1: 0.7201\n",
      "Epoch 88/100\n",
      "34/34 [==============================] - 1s 18ms/step - loss: 0.0094 - accuracy: 0.9642 - precision: 0.9665 - recall: 0.9625 - f1: 0.9645 - val_loss: 0.0878 - val_accuracy: 0.7207 - val_precision: 0.7229 - val_recall: 0.7106 - val_f1: 0.7167\n",
      "Epoch 89/100\n",
      "34/34 [==============================] - 1s 19ms/step - loss: 0.0100 - accuracy: 0.9609 - precision: 0.9634 - recall: 0.9579 - f1: 0.9606 - val_loss: 0.0869 - val_accuracy: 0.7196 - val_precision: 0.7249 - val_recall: 0.7157 - val_f1: 0.7203\n",
      "Epoch 90/100\n",
      "34/34 [==============================] - 1s 19ms/step - loss: 0.0097 - accuracy: 0.9611 - precision: 0.9638 - recall: 0.9592 - f1: 0.9615 - val_loss: 0.0856 - val_accuracy: 0.7144 - val_precision: 0.7209 - val_recall: 0.7095 - val_f1: 0.7151\n",
      "Epoch 91/100\n",
      "34/34 [==============================] - 1s 20ms/step - loss: 0.0097 - accuracy: 0.9629 - precision: 0.9651 - recall: 0.9613 - f1: 0.9632 - val_loss: 0.0871 - val_accuracy: 0.7154 - val_precision: 0.7216 - val_recall: 0.7092 - val_f1: 0.7153\n",
      "Epoch 92/100\n",
      "34/34 [==============================] - 1s 20ms/step - loss: 0.0100 - accuracy: 0.9592 - precision: 0.9616 - recall: 0.9569 - f1: 0.9592 - val_loss: 0.0894 - val_accuracy: 0.7212 - val_precision: 0.7219 - val_recall: 0.7134 - val_f1: 0.7177\n",
      "Epoch 93/100\n",
      "34/34 [==============================] - 1s 19ms/step - loss: 0.0091 - accuracy: 0.9632 - precision: 0.9653 - recall: 0.9609 - f1: 0.9631 - val_loss: 0.0878 - val_accuracy: 0.7107 - val_precision: 0.7216 - val_recall: 0.7060 - val_f1: 0.7137\n",
      "Epoch 94/100\n",
      "34/34 [==============================] - 1s 18ms/step - loss: 0.0099 - accuracy: 0.9613 - precision: 0.9635 - recall: 0.9590 - f1: 0.9612 - val_loss: 0.0903 - val_accuracy: 0.7159 - val_precision: 0.7189 - val_recall: 0.7099 - val_f1: 0.7144\n",
      "Epoch 95/100\n",
      "34/34 [==============================] - 1s 18ms/step - loss: 0.0094 - accuracy: 0.9636 - precision: 0.9656 - recall: 0.9613 - f1: 0.9634 - val_loss: 0.0897 - val_accuracy: 0.7207 - val_precision: 0.7225 - val_recall: 0.7144 - val_f1: 0.7184\n",
      "Epoch 96/100\n",
      "34/34 [==============================] - 1s 19ms/step - loss: 0.0088 - accuracy: 0.9653 - precision: 0.9669 - recall: 0.9638 - f1: 0.9653 - val_loss: 0.0896 - val_accuracy: 0.7112 - val_precision: 0.7177 - val_recall: 0.7053 - val_f1: 0.7115\n",
      "Epoch 97/100\n"
     ]
    },
    {
     "name": "stdout",
     "output_type": "stream",
     "text": [
      "34/34 [==============================] - 1s 19ms/step - loss: 0.0092 - accuracy: 0.9616 - precision: 0.9635 - recall: 0.9602 - f1: 0.9618 - val_loss: 0.0932 - val_accuracy: 0.7122 - val_precision: 0.7130 - val_recall: 0.7065 - val_f1: 0.7097\n",
      "Epoch 98/100\n",
      "34/34 [==============================] - 1s 19ms/step - loss: 0.0094 - accuracy: 0.9601 - precision: 0.9621 - recall: 0.9586 - f1: 0.9603 - val_loss: 0.0912 - val_accuracy: 0.7228 - val_precision: 0.7262 - val_recall: 0.7192 - val_f1: 0.7227\n",
      "Epoch 99/100\n",
      "34/34 [==============================] - 1s 21ms/step - loss: 0.0096 - accuracy: 0.9601 - precision: 0.9616 - recall: 0.9588 - f1: 0.9602 - val_loss: 0.0899 - val_accuracy: 0.7144 - val_precision: 0.7168 - val_recall: 0.7085 - val_f1: 0.7126\n",
      "Epoch 100/100\n",
      "34/34 [==============================] - 1s 19ms/step - loss: 0.0092 - accuracy: 0.9642 - precision: 0.9669 - recall: 0.9626 - f1: 0.9648 - val_loss: 0.0889 - val_accuracy: 0.7228 - val_precision: 0.7231 - val_recall: 0.7155 - val_f1: 0.7193\n"
     ]
    }
   ],
   "source": [
    "from keras.callbacks import ModelCheckpoint\n",
    "checkpoint = ModelCheckpoint(\"cnn_weights/CNN_Word2Vec_100000-{epoch:02d}-{val_f1:.2f}.hdf5\", # Сохраняем модель с лучшим val_f1\n",
    "                             monitor='val_f1', save_best_only=True, mode='max', period=1)\n",
    "history = model.fit(X_train, Y_train, batch_size=512, epochs=100, validation_split=0.1, callbacks = [checkpoint])"
   ]
  },
  {
   "cell_type": "code",
   "execution_count": 50,
   "metadata": {
    "executionInfo": {
     "elapsed": 10360,
     "status": "ok",
     "timestamp": 1614577473731,
     "user": {
      "displayName": "Алексей Витомсков",
      "photoUrl": "",
      "userId": "09837648934599257287"
     },
     "user_tz": -300
    },
    "id": "6taqFzO7qtAZ"
   },
   "outputs": [],
   "source": [
    "model.load_weights('cnn_weights/CNN_Word2Vec_100000-61-0.73.hdf5')"
   ]
  },
  {
   "cell_type": "code",
   "execution_count": 51,
   "metadata": {
    "colab": {
     "base_uri": "https://localhost:8080/",
     "height": 197
    },
    "executionInfo": {
     "elapsed": 543,
     "status": "error",
     "timestamp": 1614577457833,
     "user": {
      "displayName": "Алексей Витомсков",
      "photoUrl": "",
      "userId": "09837648934599257287"
     },
     "user_tz": -300
    },
    "id": "uzwDMvZCqtAZ",
    "outputId": "ddcb24d0-b7fb-457b-da05-fa98df108add",
    "scrolled": true
   },
   "outputs": [
    {
     "data": {
      "image/png": "[encoded data removed]",
      "text/plain": [
       "<Figure size 1152x648 with 4 Axes>"
      ]
     },
     "metadata": {},
     "output_type": "display_data"
    }
   ],
   "source": [
    "plt.style.use('ggplot')\n",
    "\n",
    "\n",
    "def plot_metrix(ax, x1, x2, title):\n",
    "    ax.plot(range(1, len(x1) + 1), x1, label='train')\n",
    "    ax.plot(range(1, len(x2) + 1), x2, label='val')\n",
    "    ax.set_ylabel(title)\n",
    "    ax.set_xlabel('Epoch')\n",
    "    ax.legend()\n",
    "    ax.margins(0)\n",
    "\n",
    "\n",
    "def plot_history(history):\n",
    "    fig, axes = plt.subplots(ncols=2, nrows=2, figsize=(16, 9))\n",
    "    ax1, ax2, ax3, ax4 = axes.ravel()\n",
    "\n",
    "    plot_metrix(ax1, history.history['precision'], history.history['val_precision'], 'Precision')\n",
    "    plot_metrix(ax2, history.history['recall'], history.history['val_recall'], 'Recall')\n",
    "    plot_metrix(ax3, history.history['f1'], history.history['val_f1'], \"$F_1$\")\n",
    "    plot_metrix(ax4, history.history['loss'], history.history['val_loss'], 'Loss')\n",
    "    #plot_metrix(ax4, history.history['accuracy'], history.history['val_accuracy'], 'Accuracy')\n",
    "\n",
    "    plt.show()\n",
    "\n",
    "\n",
    "plot_history(history)"
   ]
  },
  {
   "cell_type": "code",
   "execution_count": 52,
   "metadata": {
    "colab": {
     "base_uri": "https://localhost:8080/"
    },
    "executionInfo": {
     "elapsed": 1867,
     "status": "ok",
     "timestamp": 1614577475606,
     "user": {
      "displayName": "Алексей Витомсков",
      "photoUrl": "",
      "userId": "09837648934599257287"
     },
     "user_tz": -300
    },
    "id": "o3v5_vtJqtAa",
    "outputId": "0180af0e-dd5c-4ed4-e3a4-39cc287709d2"
   },
   "outputs": [
    {
     "name": "stdout",
     "output_type": "stream",
     "text": [
      "Оценки тестового набора:\n",
      "              precision    recall  f1-score   support\n",
      "\n",
      "           0      0.629     0.549     0.586        71\n",
      "           1      0.881     0.828     0.853       116\n",
      "           2      0.746     0.768     0.757      2196\n",
      "           3      0.000     0.000     0.000         4\n",
      "           4      0.677     0.677     0.677        31\n",
      "           5      0.333     0.107     0.162        28\n",
      "           6      0.636     0.500     0.560        14\n",
      "           7      0.000     0.000     0.000         6\n",
      "           8      0.475     0.704     0.567        27\n",
      "           9      0.909     0.789     0.845        38\n",
      "          10      0.828     0.757     0.791       210\n",
      "          12      0.799     0.588     0.677       182\n",
      "          13      0.000     0.000     0.000         2\n",
      "          14      0.741     0.793     0.766       324\n",
      "          15      0.320     0.116     0.170        69\n",
      "          16      0.866     0.750     0.804       112\n",
      "          17      0.667     0.500     0.571         8\n",
      "          18      1.000     0.125     0.222         8\n",
      "          19      0.000     0.000     0.000         3\n",
      "          20      0.000     0.000     0.000         2\n",
      "          21      0.182     0.111     0.138        18\n",
      "          22      0.000     0.000     0.000         1\n",
      "          23      0.665     0.724     0.693      1255\n",
      "          24      0.000     0.000     0.000         8\n",
      "          25      0.000     0.000     0.000         1\n",
      "\n",
      "    accuracy                          0.725      4734\n",
      "   macro avg      0.454     0.375     0.394      4734\n",
      "weighted avg      0.719     0.725     0.719      4734\n",
      "\n",
      "0.6034914118112477\n"
     ]
    },
    {
     "name": "stderr",
     "output_type": "stream",
     "text": [
      "/usr/local/lib/python3.6/dist-packages/sklearn/metrics/classification.py:1437: UndefinedMetricWarning: Precision and F-score are ill-defined and being set to 0.0 in labels with no predicted samples.\n",
      "  'precision', 'predicted', average, warn_for)\n"
     ]
    }
   ],
   "source": [
    "from sklearn.metrics import classification_report\n",
    "print(\"Оценки тестового набора:\")\n",
    "predicted = np.array(model.predict(X_test))\n",
    "predicted = np.argmax(predicted, axis=1)\n",
    "Y_test = np.array(Y_test)\n",
    "Y_test_ = np.argmax(Y_test, axis = 1)\n",
    "print(classification_report(Y_test_, predicted, digits=3))\n",
    "print(matthews_corrcoef(Y_test_, predicted))"
   ]
  },
  {
   "cell_type": "code",
   "execution_count": 53,
   "metadata": {
    "executionInfo": {
     "elapsed": 119164,
     "status": "aborted",
     "timestamp": 1614577452115,
     "user": {
      "displayName": "Алексей Витомсков",
      "photoUrl": "",
      "userId": "09837648934599257287"
     },
     "user_tz": -300
    },
    "id": "krvircqTqtAa"
   },
   "outputs": [
    {
     "name": "stdout",
     "output_type": "stream",
     "text": [
      "Model: \"model_2\"\n",
      "__________________________________________________________________________________________________\n",
      "Layer (type)                    Output Shape         Param #     Connected to                     \n",
      "==================================================================================================\n",
      "input_4 (InputLayer)            [(None, 50)]         0                                            \n",
      "__________________________________________________________________________________________________\n",
      "embedding_3 (Embedding)         (None, 50, 200)      40000000    input_4[0][0]                    \n",
      "__________________________________________________________________________________________________\n",
      "dropout_5 (Dropout)             (None, 50, 200)      0           embedding_3[0][0]                \n",
      "__________________________________________________________________________________________________\n",
      "conv1d_8 (Conv1D)               (None, 49, 50)       20050       dropout_5[0][0]                  \n",
      "__________________________________________________________________________________________________\n",
      "conv1d_9 (Conv1D)               (None, 48, 50)       30050       dropout_5[0][0]                  \n",
      "__________________________________________________________________________________________________\n",
      "conv1d_10 (Conv1D)              (None, 47, 50)       40050       dropout_5[0][0]                  \n",
      "__________________________________________________________________________________________________\n",
      "conv1d_11 (Conv1D)              (None, 46, 50)       50050       dropout_5[0][0]                  \n",
      "__________________________________________________________________________________________________\n",
      "global_max_pooling1d_8 (GlobalM (None, 50)           0           conv1d_8[0][0]                   \n",
      "__________________________________________________________________________________________________\n",
      "global_max_pooling1d_9 (GlobalM (None, 50)           0           conv1d_9[0][0]                   \n",
      "__________________________________________________________________________________________________\n",
      "global_max_pooling1d_10 (Global (None, 50)           0           conv1d_10[0][0]                  \n",
      "__________________________________________________________________________________________________\n",
      "global_max_pooling1d_11 (Global (None, 50)           0           conv1d_11[0][0]                  \n",
      "__________________________________________________________________________________________________\n",
      "concatenate_2 (Concatenate)     (None, 200)          0           global_max_pooling1d_8[0][0]     \n",
      "                                                                 global_max_pooling1d_9[0][0]     \n",
      "                                                                 global_max_pooling1d_10[0][0]    \n",
      "                                                                 global_max_pooling1d_11[0][0]    \n",
      "__________________________________________________________________________________________________\n",
      "dropout_6 (Dropout)             (None, 200)          0           concatenate_2[0][0]              \n",
      "__________________________________________________________________________________________________\n",
      "dense_4 (Dense)                 (None, 300)          60300       dropout_6[0][0]                  \n",
      "__________________________________________________________________________________________________\n",
      "dense_5 (Dense)                 (None, 26)           7826        dense_4[0][0]                    \n",
      "==================================================================================================\n",
      "Total params: 40,208,326\n",
      "Trainable params: 40,208,326\n",
      "Non-trainable params: 0\n",
      "__________________________________________________________________________________________________\n"
     ]
    }
   ],
   "source": [
    "from keras import optimizers\n",
    "\n",
    "model.layers[1].trainable = True\n",
    "adam = optimizers.Adam(lr=0.001)\n",
    "model.compile(loss='binary_crossentropy', optimizer=adam, metrics=[precision, recall, f1])\n",
    "model.summary()"
   ]
  },
  {
   "cell_type": "code",
   "execution_count": 54,
   "metadata": {
    "executionInfo": {
     "elapsed": 119159,
     "status": "aborted",
     "timestamp": 1614577452116,
     "user": {
      "displayName": "Алексей Витомсков",
      "photoUrl": "",
      "userId": "09837648934599257287"
     },
     "user_tz": -300
    },
    "id": "GmWeF5l9qtAa"
   },
   "outputs": [
    {
     "name": "stdout",
     "output_type": "stream",
     "text": [
      "WARNING:tensorflow:`period` argument is deprecated. Please use `save_freq` to specify the frequency in number of batches seen.\n",
      "Epoch 1/30\n",
      "134/134 [==============================] - 54s 393ms/step - loss: 0.0174 - precision: 0.9324 - recall: 0.9210 - f1: 0.9266 - val_loss: 0.0728 - val_precision: 0.7275 - val_recall: 0.7078 - val_f1: 0.7175\n",
      "Epoch 2/30\n",
      "134/134 [==============================] - 53s 396ms/step - loss: 0.0169 - precision: 0.9320 - recall: 0.9215 - f1: 0.9267 - val_loss: 0.0721 - val_precision: 0.7359 - val_recall: 0.7134 - val_f1: 0.7245\n",
      "Epoch 3/30\n",
      "134/134 [==============================] - 52s 386ms/step - loss: 0.0146 - precision: 0.9438 - recall: 0.9348 - f1: 0.9392 - val_loss: 0.0748 - val_precision: 0.7348 - val_recall: 0.7153 - val_f1: 0.7248\n",
      "Epoch 4/30\n",
      "134/134 [==============================] - 53s 393ms/step - loss: 0.0135 - precision: 0.9463 - recall: 0.9395 - f1: 0.9428 - val_loss: 0.0748 - val_precision: 0.7351 - val_recall: 0.7149 - val_f1: 0.7248\n",
      "Epoch 5/30\n",
      "134/134 [==============================] - 51s 379ms/step - loss: 0.0118 - precision: 0.9549 - recall: 0.9489 - f1: 0.9519 - val_loss: 0.0765 - val_precision: 0.7336 - val_recall: 0.7237 - val_f1: 0.7286\n",
      "Epoch 6/30\n",
      "134/134 [==============================] - 51s 384ms/step - loss: 0.0111 - precision: 0.9591 - recall: 0.9535 - f1: 0.9563 - val_loss: 0.0760 - val_precision: 0.7343 - val_recall: 0.7206 - val_f1: 0.7274\n",
      "Epoch 7/30\n",
      "134/134 [==============================] - 50s 375ms/step - loss: 0.0102 - precision: 0.9609 - recall: 0.9557 - f1: 0.9583 - val_loss: 0.0795 - val_precision: 0.7423 - val_recall: 0.7355 - val_f1: 0.7389\n",
      "Epoch 8/30\n",
      "134/134 [==============================] - 52s 388ms/step - loss: 0.0100 - precision: 0.9627 - recall: 0.9597 - f1: 0.9612 - val_loss: 0.0812 - val_precision: 0.7337 - val_recall: 0.7208 - val_f1: 0.7272\n",
      "Epoch 9/30\n",
      "134/134 [==============================] - 50s 373ms/step - loss: 0.0091 - precision: 0.9645 - recall: 0.9607 - f1: 0.9626 - val_loss: 0.0781 - val_precision: 0.7478 - val_recall: 0.7353 - val_f1: 0.7415\n",
      "Epoch 10/30\n",
      "134/134 [==============================] - 53s 399ms/step - loss: 0.0082 - precision: 0.9684 - recall: 0.9650 - f1: 0.9667 - val_loss: 0.0790 - val_precision: 0.7496 - val_recall: 0.7383 - val_f1: 0.7439\n",
      "Epoch 11/30\n",
      "134/134 [==============================] - 53s 395ms/step - loss: 0.0083 - precision: 0.9691 - recall: 0.9658 - f1: 0.9675 - val_loss: 0.0810 - val_precision: 0.7490 - val_recall: 0.7406 - val_f1: 0.7448\n",
      "Epoch 12/30\n",
      "134/134 [==============================] - 52s 390ms/step - loss: 0.0078 - precision: 0.9721 - recall: 0.9697 - f1: 0.9709 - val_loss: 0.0808 - val_precision: 0.7518 - val_recall: 0.7454 - val_f1: 0.7485\n",
      "Epoch 13/30\n",
      "134/134 [==============================] - 53s 395ms/step - loss: 0.0073 - precision: 0.9728 - recall: 0.9707 - f1: 0.9717 - val_loss: 0.0831 - val_precision: 0.7535 - val_recall: 0.7445 - val_f1: 0.7490\n",
      "Epoch 14/30\n",
      "134/134 [==============================] - 53s 396ms/step - loss: 0.0086 - precision: 0.9702 - recall: 0.9686 - f1: 0.9694 - val_loss: 0.0844 - val_precision: 0.7555 - val_recall: 0.7469 - val_f1: 0.7512\n",
      "Epoch 15/30\n",
      "134/134 [==============================] - 52s 388ms/step - loss: 0.0067 - precision: 0.9757 - recall: 0.9741 - f1: 0.9749 - val_loss: 0.0836 - val_precision: 0.7591 - val_recall: 0.7502 - val_f1: 0.7546\n",
      "Epoch 16/30\n",
      "134/134 [==============================] - 52s 390ms/step - loss: 0.0060 - precision: 0.9770 - recall: 0.9755 - f1: 0.9763 - val_loss: 0.0833 - val_precision: 0.7582 - val_recall: 0.7517 - val_f1: 0.7549\n",
      "Epoch 17/30\n",
      "134/134 [==============================] - 52s 388ms/step - loss: 0.0062 - precision: 0.9778 - recall: 0.9761 - f1: 0.9770 - val_loss: 0.0844 - val_precision: 0.7586 - val_recall: 0.7558 - val_f1: 0.7572\n",
      "Epoch 18/30\n",
      "134/134 [==============================] - 51s 382ms/step - loss: 0.0059 - precision: 0.9773 - recall: 0.9759 - f1: 0.9766 - val_loss: 0.0841 - val_precision: 0.7574 - val_recall: 0.7544 - val_f1: 0.7559\n",
      "Epoch 19/30\n",
      "134/134 [==============================] - 50s 370ms/step - loss: 0.0049 - precision: 0.9829 - recall: 0.9808 - f1: 0.9818 - val_loss: 0.0881 - val_precision: 0.7635 - val_recall: 0.7570 - val_f1: 0.7602\n",
      "Epoch 20/30\n",
      "134/134 [==============================] - 51s 380ms/step - loss: 0.0052 - precision: 0.9829 - recall: 0.9813 - f1: 0.9821 - val_loss: 0.0870 - val_precision: 0.7569 - val_recall: 0.7532 - val_f1: 0.7550\n",
      "Epoch 21/30\n",
      "134/134 [==============================] - 50s 372ms/step - loss: 0.0047 - precision: 0.9830 - recall: 0.9820 - f1: 0.9825 - val_loss: 0.0834 - val_precision: 0.7659 - val_recall: 0.7593 - val_f1: 0.7626\n",
      "Epoch 22/30\n",
      "134/134 [==============================] - 51s 383ms/step - loss: 0.0042 - precision: 0.9848 - recall: 0.9845 - f1: 0.9846 - val_loss: 0.0849 - val_precision: 0.7716 - val_recall: 0.7633 - val_f1: 0.7674\n",
      "Epoch 23/30\n",
      "134/134 [==============================] - 51s 384ms/step - loss: 0.0041 - precision: 0.9862 - recall: 0.9849 - f1: 0.9855 - val_loss: 0.0891 - val_precision: 0.7665 - val_recall: 0.7605 - val_f1: 0.7634\n",
      "Epoch 24/30\n",
      "134/134 [==============================] - 50s 372ms/step - loss: 0.0040 - precision: 0.9861 - recall: 0.9854 - f1: 0.9857 - val_loss: 0.0921 - val_precision: 0.7623 - val_recall: 0.7587 - val_f1: 0.7605\n",
      "Epoch 25/30\n",
      "134/134 [==============================] - 50s 372ms/step - loss: 0.0047 - precision: 0.9837 - recall: 0.9831 - f1: 0.9834 - val_loss: 0.0883 - val_precision: 0.7672 - val_recall: 0.7643 - val_f1: 0.7657\n",
      "Epoch 26/30\n",
      "134/134 [==============================] - 50s 370ms/step - loss: 0.0042 - precision: 0.9863 - recall: 0.9851 - f1: 0.9857 - val_loss: 0.0923 - val_precision: 0.7602 - val_recall: 0.7558 - val_f1: 0.7580\n",
      "Epoch 27/30\n",
      "134/134 [==============================] - 50s 371ms/step - loss: 0.0053 - precision: 0.9821 - recall: 0.9810 - f1: 0.9816 - val_loss: 0.0852 - val_precision: 0.7697 - val_recall: 0.7639 - val_f1: 0.7668\n",
      "Epoch 28/30\n",
      "134/134 [==============================] - 50s 372ms/step - loss: 0.0047 - precision: 0.9831 - recall: 0.9817 - f1: 0.9824 - val_loss: 0.0879 - val_precision: 0.7721 - val_recall: 0.7670 - val_f1: 0.7695\n",
      "Epoch 29/30\n",
      "134/134 [==============================] - 54s 401ms/step - loss: 0.0035 - precision: 0.9883 - recall: 0.9871 - f1: 0.9877 - val_loss: 0.0849 - val_precision: 0.7720 - val_recall: 0.7657 - val_f1: 0.7688\n",
      "Epoch 30/30\n",
      "134/134 [==============================] - 56s 415ms/step - loss: 0.0036 - precision: 0.9872 - recall: 0.9866 - f1: 0.9869 - val_loss: 0.0884 - val_precision: 0.7756 - val_recall: 0.7691 - val_f1: 0.7723\n"
     ]
    }
   ],
   "source": [
    "from keras.callbacks import ModelCheckpoint\n",
    "\n",
    "checkpoint = ModelCheckpoint(\"cnn_weights/CNN_Word2Vec_2-{epoch:02d}-{val_f1:.2f}.hdf5\", \n",
    "                             monitor='val_f1', save_best_only=True, mode='max', period=1)\n",
    "\n",
    "history_trainable = model.fit(X_train, Y_train, batch_size=128, epochs=30, validation_split=0.1, callbacks = [checkpoint])"
   ]
  },
  {
   "cell_type": "code",
   "execution_count": 55,
   "metadata": {
    "executionInfo": {
     "elapsed": 119153,
     "status": "aborted",
     "timestamp": 1614577452117,
     "user": {
      "displayName": "Алексей Витомсков",
      "photoUrl": "",
      "userId": "09837648934599257287"
     },
     "user_tz": -300
    },
    "id": "y7E5CxlkqtAb"
   },
   "outputs": [
    {
     "data": {
      "image/png": "[encoded data removed]",
      "text/plain": [
       "<Figure size 1152x648 with 4 Axes>"
      ]
     },
     "metadata": {},
     "output_type": "display_data"
    }
   ],
   "source": [
    "plt.style.use('ggplot')\n",
    "\n",
    "\n",
    "def plot_metrix(ax, x1, x2, title):\n",
    "    ax.plot(range(1, len(x1) + 1), x1, label='train')\n",
    "    ax.plot(range(1, len(x2) + 1), x2, label='val')\n",
    "    ax.set_ylabel(title)\n",
    "    ax.set_xlabel('Epoch')\n",
    "    ax.legend()\n",
    "    ax.margins(0)\n",
    "\n",
    "\n",
    "def plot_history(history):\n",
    "    fig, axes = plt.subplots(ncols=2, nrows=2, figsize=(16, 9))\n",
    "    ax1, ax2, ax3, ax4 = axes.ravel()\n",
    "\n",
    "    plot_metrix(ax1, history.history['precision'], history.history['val_precision'], 'Precision')\n",
    "    plot_metrix(ax2, history.history['recall'], history.history['val_recall'], 'Recall')\n",
    "    plot_metrix(ax3, history.history['f1'], history.history['val_f1'], \"$F_1$\")\n",
    "    plot_metrix(ax4, history.history['loss'], history.history['val_loss'], 'Loss')\n",
    "    #plot_metrix(ax4, history.history['accuracy'], history.history['val_accuracy'], 'Accuracy')\n",
    "\n",
    "    plt.show()\n",
    "\n",
    "\n",
    "plot_history(history_trainable)"
   ]
  },
  {
   "cell_type": "code",
   "execution_count": 56,
   "metadata": {
    "executionInfo": {
     "elapsed": 119393,
     "status": "aborted",
     "timestamp": 1614577452360,
     "user": {
      "displayName": "Алексей Витомсков",
      "photoUrl": "",
      "userId": "09837648934599257287"
     },
     "user_tz": -300
    },
    "id": "XpHDcPHwqtAc"
   },
   "outputs": [
    {
     "name": "stdout",
     "output_type": "stream",
     "text": [
      "Оценки тестового набора:\n",
      "              precision    recall  f1-score   support\n",
      "\n",
      "           0      0.667     0.535     0.594        71\n",
      "           1      0.899     0.922     0.911       116\n",
      "           2      0.786     0.813     0.800      2196\n",
      "           3      0.000     0.000     0.000         4\n",
      "           4      0.826     0.613     0.704        31\n",
      "           5      0.333     0.071     0.118        28\n",
      "           6      0.750     0.429     0.545        14\n",
      "           7      0.333     0.167     0.222         6\n",
      "           8      0.643     0.667     0.655        27\n",
      "           9      0.917     0.868     0.892        38\n",
      "          10      0.876     0.805     0.839       210\n",
      "          12      0.872     0.709     0.782       182\n",
      "          13      1.000     0.500     0.667         2\n",
      "          14      0.822     0.769     0.794       324\n",
      "          15      0.448     0.188     0.265        69\n",
      "          16      0.897     0.777     0.833       112\n",
      "          17      1.000     0.500     0.667         8\n",
      "          18      0.111     0.125     0.118         8\n",
      "          19      0.000     0.000     0.000         3\n",
      "          20      0.000     0.000     0.000         2\n",
      "          21      0.500     0.111     0.182        18\n",
      "          22      0.000     0.000     0.000         1\n",
      "          23      0.714     0.789     0.749      1255\n",
      "          24      0.000     0.000     0.000         8\n",
      "          25      0.500     1.000     0.667         1\n",
      "\n",
      "    accuracy                          0.772      4734\n",
      "   macro avg      0.556     0.454     0.480      4734\n",
      "weighted avg      0.768     0.772     0.767      4734\n",
      "\n",
      "0.6711500005424261\n"
     ]
    },
    {
     "name": "stderr",
     "output_type": "stream",
     "text": [
      "/usr/local/lib/python3.6/dist-packages/sklearn/metrics/classification.py:1437: UndefinedMetricWarning: Precision and F-score are ill-defined and being set to 0.0 in labels with no predicted samples.\n",
      "  'precision', 'predicted', average, warn_for)\n"
     ]
    }
   ],
   "source": [
    "from sklearn.metrics import classification_report\n",
    "print(\"Оценки тестового набора:\")\n",
    "predicted = np.array(model.predict(X_test))\n",
    "predicted = np.argmax(predicted, axis=1)\n",
    "Y_test = np.array(Y_test)\n",
    "Y_test_ = np.argmax(Y_test, axis = 1)\n",
    "print(classification_report(Y_test_, predicted, digits=3))\n",
    "print(matthews_corrcoef(Y_test_, predicted))"
   ]
  },
  {
   "cell_type": "code",
   "execution_count": null,
   "metadata": {},
   "outputs": [],
   "source": []
  }
 ],
 "metadata": {
  "accelerator": "GPU",
  "colab": {
   "collapsed_sections": [],
   "name": "NLP_word2vec.ipynb",
   "provenance": []
  },
  "kernelspec": {
   "display_name": "Python 3",
   "language": "python",
   "name": "python3"
  },
  "language_info": {
   "codemirror_mode": {
    "name": "ipython",
    "version": 3
   },
   "file_extension": ".py",
   "mimetype": "text/x-python",
   "name": "python",
   "nbconvert_exporter": "python",
   "pygments_lexer": "ipython3",
   "version": "3.6.9"
  }
 },
 "nbformat": 4,
 "nbformat_minor": 1
}

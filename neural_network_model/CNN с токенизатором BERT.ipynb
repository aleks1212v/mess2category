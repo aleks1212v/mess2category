{
 "cells": [
  {
   "cell_type": "code",
   "execution_count": 27,
   "metadata": {
    "colab": {
     "base_uri": "https://localhost:8080/"
    },
    "executionInfo": {
     "elapsed": 9932,
     "status": "ok",
     "timestamp": 1614576544771,
     "user": {
      "displayName": "Алексей Витомсков",
      "photoUrl": "",
      "userId": "09837648934599257287"
     },
     "user_tz": -300
    },
    "gradient": {},
    "id": "3VX2JbVeTepN",
    "outputId": "dae294d8-c936-4df0-bb08-e39e84f3b95f"
   },
   "outputs": [],
   "source": [
    "#pip install bert-for-tf2"
   ]
  },
  {
   "cell_type": "code",
   "execution_count": 28,
   "metadata": {
    "gradient": {}
   },
   "outputs": [],
   "source": [
    "#pip install sentencepiece"
   ]
  },
  {
   "cell_type": "code",
   "execution_count": 29,
   "metadata": {
    "gradient": {}
   },
   "outputs": [],
   "source": [
    "#pip install keras"
   ]
  },
  {
   "cell_type": "code",
   "execution_count": 30,
   "metadata": {
    "gradient": {}
   },
   "outputs": [],
   "source": [
    "#pip install --upgrade --force-reinstall tensorflow-estimator==1.15.1"
   ]
  },
  {
   "cell_type": "code",
   "execution_count": 31,
   "metadata": {},
   "outputs": [],
   "source": [
    "#pip install keras"
   ]
  },
  {
   "cell_type": "code",
   "execution_count": 32,
   "metadata": {},
   "outputs": [
    {
     "name": "stdout",
     "output_type": "stream",
     "text": [
      "/usr/lib/python3/dist-packages/secretstorage/dhcrypto.py:15: CryptographyDeprecationWarning: int_from_bytes is deprecated, use int.from_bytes instead\n",
      "  from cryptography.utils import int_from_bytes\n",
      "/usr/lib/python3/dist-packages/secretstorage/util.py:19: CryptographyDeprecationWarning: int_from_bytes is deprecated, use int.from_bytes instead\n",
      "  from cryptography.utils import int_from_bytes\n",
      "Requirement already satisfied: tensorflow==2.4.0 in /usr/local/lib/python3.6/dist-packages (2.4.0)\n",
      "Requirement already satisfied: astunparse~=1.6.3 in /usr/local/lib/python3.6/dist-packages (from tensorflow==2.4.0) (1.6.3)\n",
      "Requirement already satisfied: wheel~=0.35 in /usr/local/lib/python3.6/dist-packages (from tensorflow==2.4.0) (0.36.2)\n",
      "Requirement already satisfied: h5py~=2.10.0 in /usr/local/lib/python3.6/dist-packages (from tensorflow==2.4.0) (2.10.0)\n",
      "Requirement already satisfied: six~=1.15.0 in /usr/local/lib/python3.6/dist-packages (from tensorflow==2.4.0) (1.15.0)\n",
      "Requirement already satisfied: wrapt~=1.12.1 in /usr/local/lib/python3.6/dist-packages (from tensorflow==2.4.0) (1.12.1)\n",
      "Requirement already satisfied: termcolor~=1.1.0 in /usr/local/lib/python3.6/dist-packages (from tensorflow==2.4.0) (1.1.0)\n",
      "Requirement already satisfied: opt-einsum~=3.3.0 in /usr/local/lib/python3.6/dist-packages (from tensorflow==2.4.0) (3.3.0)\n",
      "Requirement already satisfied: flatbuffers~=1.12.0 in /usr/local/lib/python3.6/dist-packages (from tensorflow==2.4.0) (1.12)\n",
      "Requirement already satisfied: keras-preprocessing~=1.1.2 in /usr/local/lib/python3.6/dist-packages (from tensorflow==2.4.0) (1.1.2)\n",
      "Requirement already satisfied: protobuf>=3.9.2 in /usr/local/lib/python3.6/dist-packages (from tensorflow==2.4.0) (3.16.0)\n",
      "Requirement already satisfied: tensorboard~=2.4 in /usr/local/lib/python3.6/dist-packages (from tensorflow==2.4.0) (2.5.0)\n",
      "Requirement already satisfied: tensorflow-estimator<2.5.0,>=2.4.0rc0 in /usr/local/lib/python3.6/dist-packages (from tensorflow==2.4.0) (2.4.0)\n",
      "Requirement already satisfied: gast==0.3.3 in /usr/local/lib/python3.6/dist-packages (from tensorflow==2.4.0) (0.3.3)\n",
      "Requirement already satisfied: google-pasta~=0.2 in /usr/local/lib/python3.6/dist-packages (from tensorflow==2.4.0) (0.2.0)\n",
      "Requirement already satisfied: absl-py~=0.10 in /usr/local/lib/python3.6/dist-packages (from tensorflow==2.4.0) (0.12.0)\n",
      "Requirement already satisfied: typing-extensions~=3.7.4 in /usr/local/lib/python3.6/dist-packages (from tensorflow==2.4.0) (3.7.4.3)\n",
      "Requirement already satisfied: numpy~=1.19.2 in /usr/local/lib/python3.6/dist-packages (from tensorflow==2.4.0) (1.19.5)\n",
      "Requirement already satisfied: grpcio~=1.32.0 in /usr/local/lib/python3.6/dist-packages (from tensorflow==2.4.0) (1.32.0)\n",
      "Requirement already satisfied: tensorboard-plugin-wit>=1.6.0 in /usr/local/lib/python3.6/dist-packages (from tensorboard~=2.4->tensorflow==2.4.0) (1.8.0)\n",
      "Requirement already satisfied: markdown>=2.6.8 in /usr/local/lib/python3.6/dist-packages (from tensorboard~=2.4->tensorflow==2.4.0) (3.3.4)\n",
      "Requirement already satisfied: tensorboard-data-server<0.7.0,>=0.6.0 in /usr/local/lib/python3.6/dist-packages (from tensorboard~=2.4->tensorflow==2.4.0) (0.6.1)\n",
      "Requirement already satisfied: werkzeug>=0.11.15 in /usr/local/lib/python3.6/dist-packages (from tensorboard~=2.4->tensorflow==2.4.0) (1.0.1)\n",
      "Requirement already satisfied: google-auth-oauthlib<0.5,>=0.4.1 in /usr/local/lib/python3.6/dist-packages (from tensorboard~=2.4->tensorflow==2.4.0) (0.4.4)\n",
      "Requirement already satisfied: requests<3,>=2.21.0 in /usr/local/lib/python3.6/dist-packages (from tensorboard~=2.4->tensorflow==2.4.0) (2.25.1)\n",
      "Requirement already satisfied: google-auth<2,>=1.6.3 in /usr/local/lib/python3.6/dist-packages (from tensorboard~=2.4->tensorflow==2.4.0) (1.30.0)\n",
      "Requirement already satisfied: setuptools>=41.0.0 in /usr/local/lib/python3.6/dist-packages (from tensorboard~=2.4->tensorflow==2.4.0) (56.1.0)\n",
      "Requirement already satisfied: pyasn1-modules>=0.2.1 in /usr/local/lib/python3.6/dist-packages (from google-auth<2,>=1.6.3->tensorboard~=2.4->tensorflow==2.4.0) (0.2.8)\n",
      "Requirement already satisfied: rsa<5,>=3.1.4 in /usr/local/lib/python3.6/dist-packages (from google-auth<2,>=1.6.3->tensorboard~=2.4->tensorflow==2.4.0) (4.7.2)\n",
      "Requirement already satisfied: cachetools<5.0,>=2.0.0 in /usr/local/lib/python3.6/dist-packages (from google-auth<2,>=1.6.3->tensorboard~=2.4->tensorflow==2.4.0) (4.2.2)\n",
      "Requirement already satisfied: requests-oauthlib>=0.7.0 in /usr/local/lib/python3.6/dist-packages (from google-auth-oauthlib<0.5,>=0.4.1->tensorboard~=2.4->tensorflow==2.4.0) (1.3.0)\n",
      "Requirement already satisfied: importlib-metadata in /usr/local/lib/python3.6/dist-packages (from markdown>=2.6.8->tensorboard~=2.4->tensorflow==2.4.0) (4.0.1)\n",
      "Requirement already satisfied: pyasn1<0.5.0,>=0.4.6 in /usr/local/lib/python3.6/dist-packages (from pyasn1-modules>=0.2.1->google-auth<2,>=1.6.3->tensorboard~=2.4->tensorflow==2.4.0) (0.4.8)\n",
      "Requirement already satisfied: urllib3<1.27,>=1.21.1 in /usr/local/lib/python3.6/dist-packages (from requests<3,>=2.21.0->tensorboard~=2.4->tensorflow==2.4.0) (1.26.4)\n",
      "Requirement already satisfied: idna<3,>=2.5 in /usr/local/lib/python3.6/dist-packages (from requests<3,>=2.21.0->tensorboard~=2.4->tensorflow==2.4.0) (2.10)\n",
      "Requirement already satisfied: chardet<5,>=3.0.2 in /usr/local/lib/python3.6/dist-packages (from requests<3,>=2.21.0->tensorboard~=2.4->tensorflow==2.4.0) (4.0.0)\n",
      "Requirement already satisfied: certifi>=2017.4.17 in /usr/local/lib/python3.6/dist-packages (from requests<3,>=2.21.0->tensorboard~=2.4->tensorflow==2.4.0) (2020.12.5)\n",
      "Requirement already satisfied: oauthlib>=3.0.0 in /usr/local/lib/python3.6/dist-packages (from requests-oauthlib>=0.7.0->google-auth-oauthlib<0.5,>=0.4.1->tensorboard~=2.4->tensorflow==2.4.0) (3.1.0)\n",
      "Requirement already satisfied: zipp>=0.5 in /usr/local/lib/python3.6/dist-packages (from importlib-metadata->markdown>=2.6.8->tensorboard~=2.4->tensorflow==2.4.0) (3.4.1)\n",
      "\u001b[33mWARNING: Running pip as root will break packages and permissions. You should install packages reliably by using venv: https://pip.pypa.io/warnings/venv\u001b[0m\n",
      "Note: you may need to restart the kernel to use updated packages.\n"
     ]
    }
   ],
   "source": [
    "pip install tensorflow==2.4.0"
   ]
  },
  {
   "cell_type": "code",
   "execution_count": 33,
   "metadata": {
    "executionInfo": {
     "elapsed": 11538,
     "status": "ok",
     "timestamp": 1614576546380,
     "user": {
      "displayName": "Алексей Витомсков",
      "photoUrl": "",
      "userId": "09837648934599257287"
     },
     "user_tz": -300
    },
    "gradient": {},
    "id": "vLrng9ghAPBE"
   },
   "outputs": [],
   "source": [
    "try:\n",
    "    %tensorflow_version 2.x\n",
    "except Exception:\n",
    "    pass\n",
    "import tensorflow as tf\n",
    "\n",
    "import tensorflow_hub as hub\n",
    "\n",
    "from tensorflow.keras import layers\n",
    "import bert"
   ]
  },
  {
   "cell_type": "code",
   "execution_count": 34,
   "metadata": {
    "executionInfo": {
     "elapsed": 11538,
     "status": "ok",
     "timestamp": 1614576546382,
     "user": {
      "displayName": "Алексей Витомсков",
      "photoUrl": "",
      "userId": "09837648934599257287"
     },
     "user_tz": -300
    },
    "gradient": {},
    "id": "eKZ8_7unJ8EG"
   },
   "outputs": [],
   "source": [
    "import pandas as pd\n",
    "import re\n",
    "import numpy as np\n",
    "import random\n",
    "import math"
   ]
  },
  {
   "cell_type": "code",
   "execution_count": 35,
   "metadata": {
    "colab": {
     "base_uri": "https://localhost:8080/",
     "height": 193
    },
    "executionInfo": {
     "elapsed": 47542,
     "status": "ok",
     "timestamp": 1614576582401,
     "user": {
      "displayName": "Алексей Витомсков",
      "photoUrl": "",
      "userId": "09837648934599257287"
     },
     "user_tz": -300
    },
    "gradient": {},
    "id": "zeZsq2YUAyZa",
    "outputId": "3c45b3a9-46f8-44e2-c674-1c42934c4728"
   },
   "outputs": [
    {
     "name": "stdout",
     "output_type": "stream",
     "text": [
      "Index(['level_0', 'index', 'categories', 'description', 'worker',\n",
      "       'description_prep', 'num_words', 'description_stem'],\n",
      "      dtype='object')\n"
     ]
    },
    {
     "data": {
      "text/html": [
       "<div>\n",
       "<style scoped>\n",
       "    .dataframe tbody tr th:only-of-type {\n",
       "        vertical-align: middle;\n",
       "    }\n",
       "\n",
       "    .dataframe tbody tr th {\n",
       "        vertical-align: top;\n",
       "    }\n",
       "\n",
       "    .dataframe thead th {\n",
       "        text-align: right;\n",
       "    }\n",
       "</style>\n",
       "<table border=\"1\" class=\"dataframe\">\n",
       "  <thead>\n",
       "    <tr style=\"text-align: right;\">\n",
       "      <th></th>\n",
       "      <th>categories</th>\n",
       "      <th>description_stem</th>\n",
       "    </tr>\n",
       "  </thead>\n",
       "  <tbody>\n",
       "    <tr>\n",
       "      <th>0</th>\n",
       "      <td>Благоустройство территории</td>\n",
       "      <td>трасса нижнекамск чистополь лесополоса пгт кам...</td>\n",
       "    </tr>\n",
       "    <tr>\n",
       "      <th>1</th>\n",
       "      <td>Благоустройство территории</td>\n",
       "      <td>двор дом ленинградский отсутствовать парковочн...</td>\n",
       "    </tr>\n",
       "    <tr>\n",
       "      <th>2</th>\n",
       "      <td>Содержание и ремонт муниципальных дорог</td>\n",
       "      <td>добрый день осуществляться уборка снег центр г...</td>\n",
       "    </tr>\n",
       "  </tbody>\n",
       "</table>\n",
       "</div>"
      ],
      "text/plain": [
       "                                categories  \\\n",
       "0               Благоустройство территории   \n",
       "1               Благоустройство территории   \n",
       "2  Содержание и ремонт муниципальных дорог   \n",
       "\n",
       "                                    description_stem  \n",
       "0  трасса нижнекамск чистополь лесополоса пгт кам...  \n",
       "1  двор дом ленинградский отсутствовать парковочн...  \n",
       "2  добрый день осуществляться уборка снег центр г...  "
      ]
     },
     "execution_count": 35,
     "metadata": {},
     "output_type": "execute_result"
    }
   ],
   "source": [
    "data = pd.read_csv('tatarstan_message_2.csv', sep = ',')\n",
    "print(data.columns)\n",
    "data = data[['categories', 'description_stem']]\n",
    "data.head(3)"
   ]
  },
  {
   "cell_type": "code",
   "execution_count": 36,
   "metadata": {
    "colab": {
     "base_uri": "https://localhost:8080/"
    },
    "executionInfo": {
     "elapsed": 881,
     "status": "ok",
     "timestamp": 1614576583947,
     "user": {
      "displayName": "Алексей Витомсков",
      "photoUrl": "",
      "userId": "09837648934599257287"
     },
     "user_tz": -300
    },
    "gradient": {},
    "id": "eLmjhj82Tepi",
    "outputId": "2b9ba4c3-8de8-4760-b395-1e3d020dbc67"
   },
   "outputs": [
    {
     "name": "stdout",
     "output_type": "stream",
     "text": [
      "       Cвалки  Бездомные животные  Благоустройство территории  Вода  Воздух  \\\n",
      "0           0                   0                           1     0       0   \n",
      "1           0                   0                           1     0       0   \n",
      "2           0                   0                           0     0       0   \n",
      "3           0                   0                           1     0       0   \n",
      "4           0                   0                           0     0       0   \n",
      "...       ...                 ...                         ...   ...     ...   \n",
      "23665       0                   0                           0     0       0   \n",
      "23666       0                   0                           1     0       0   \n",
      "23667       1                   0                           0     0       0   \n",
      "23668       0                   0                           1     0       0   \n",
      "23669       0                   0                           1     0       0   \n",
      "\n",
      "       Детские сады  Доступная среда  Жилищное строительство  \\\n",
      "0                 0                0                       0   \n",
      "1                 0                0                       0   \n",
      "2                 0                0                       0   \n",
      "3                 0                0                       0   \n",
      "4                 0                0                       0   \n",
      "...             ...              ...                     ...   \n",
      "23665             0                0                       0   \n",
      "23666             0                0                       0   \n",
      "23667             0                0                       0   \n",
      "23668             0                0                       0   \n",
      "23669             0                0                       0   \n",
      "\n",
      "       Капитальный ремонт  Мобильная связь  ...  Поликлиники и больницы  \\\n",
      "0                       0                0  ...                       0   \n",
      "1                       0                0  ...                       0   \n",
      "2                       0                0  ...                       0   \n",
      "3                       0                0  ...                       0   \n",
      "4                       0                0  ...                       0   \n",
      "...                   ...              ...  ...                     ...   \n",
      "23665                   0                0  ...                       0   \n",
      "23666                   0                0  ...                       0   \n",
      "23667                   0                0  ...                       0   \n",
      "23668                   0                0  ...                       0   \n",
      "23669                   0                0  ...                       0   \n",
      "\n",
      "       Почта  Работа спортивных объектов  Работа учреждений культуры  \\\n",
      "0          0                           0                           0   \n",
      "1          0                           0                           0   \n",
      "2          0                           0                           0   \n",
      "3          0                           0                           0   \n",
      "4          0                           0                           0   \n",
      "...      ...                         ...                         ...   \n",
      "23665      0                           0                           0   \n",
      "23666      0                           0                           0   \n",
      "23667      0                           0                           0   \n",
      "23668      0                           0                           0   \n",
      "23669      0                           0                           0   \n",
      "\n",
      "       Садоводческие, огороднические и дачные некоммерческие объединения  \\\n",
      "0                                                      0                   \n",
      "1                                                      0                   \n",
      "2                                                      0                   \n",
      "3                                                      0                   \n",
      "4                                                      0                   \n",
      "...                                                  ...                   \n",
      "23665                                                  0                   \n",
      "23666                                                  0                   \n",
      "23667                                                  0                   \n",
      "23668                                                  0                   \n",
      "23669                                                  0                   \n",
      "\n",
      "       Санитарное состояние  Сельское хозяйство  \\\n",
      "0                         0                   0   \n",
      "1                         0                   0   \n",
      "2                         0                   0   \n",
      "3                         0                   0   \n",
      "4                         0                   0   \n",
      "...                     ...                 ...   \n",
      "23665                     0                   0   \n",
      "23666                     0                   0   \n",
      "23667                     0                   0   \n",
      "23668                     0                   0   \n",
      "23669                     0                   0   \n",
      "\n",
      "       Содержание и ремонт муниципальных дорог  \\\n",
      "0                                            0   \n",
      "1                                            0   \n",
      "2                                            1   \n",
      "3                                            0   \n",
      "4                                            1   \n",
      "...                                        ...   \n",
      "23665                                        0   \n",
      "23666                                        0   \n",
      "23667                                        0   \n",
      "23668                                        0   \n",
      "23669                                        0   \n",
      "\n",
      "       Содержание и ремонт федеральных и республиканских дорог  \\\n",
      "0                                                      0         \n",
      "1                                                      0         \n",
      "2                                                      0         \n",
      "3                                                      0         \n",
      "4                                                      0         \n",
      "...                                                  ...         \n",
      "23665                                                  0         \n",
      "23666                                                  0         \n",
      "23667                                                  0         \n",
      "23668                                                  0         \n",
      "23669                                                  0         \n",
      "\n",
      "       Цифровое телевидение  \n",
      "0                         0  \n",
      "1                         0  \n",
      "2                         0  \n",
      "3                         0  \n",
      "4                         0  \n",
      "...                     ...  \n",
      "23665                     0  \n",
      "23666                     0  \n",
      "23667                     0  \n",
      "23668                     0  \n",
      "23669                     0  \n",
      "\n",
      "[23670 rows x 26 columns]\n"
     ]
    }
   ],
   "source": [
    "X = [x for x in data['description_stem']]\n",
    "Y = pd.get_dummies(data['categories'])\n",
    "#Y = np.argmax(np.array(Y), axis = 1)\n",
    "#Y =  data.categories.replace(data.categories.unique(), range(data.categories.unique().shape[0]), inplace=False) \n",
    "print(Y)\n",
    "#print(data.categories.unique().shape[0])"
   ]
  },
  {
   "cell_type": "code",
   "execution_count": 37,
   "metadata": {
    "colab": {
     "base_uri": "https://localhost:8080/"
    },
    "executionInfo": {
     "elapsed": 862,
     "status": "ok",
     "timestamp": 1614576586454,
     "user": {
      "displayName": "Алексей Витомсков",
      "photoUrl": "",
      "userId": "09837648934599257287"
     },
     "user_tz": -300
    },
    "gradient": {},
    "id": "FNlFQvJcLS3k",
    "outputId": "80540cb6-ea16-4647-b132-717d84099ca1"
   },
   "outputs": [
    {
     "data": {
      "text/plain": [
       "array(['Благоустройство территории',\n",
       "       'Содержание и ремонт муниципальных дорог',\n",
       "       'Поликлиники и больницы', 'Бездомные животные', 'Парки и скверы',\n",
       "       'Мобильная связь', 'Организация дорожного движения',\n",
       "       'Незаконные азартные игры', 'Санитарное состояние',\n",
       "       'Нарушение в наружной рекламе', 'Работа спортивных объектов',\n",
       "       'Капитальный ремонт', 'Общественный транспорт', 'Воздух',\n",
       "       'Садоводческие, огороднические и дачные некоммерческие объединения',\n",
       "       'Детские сады', 'Доступная среда', 'Жилищное строительство',\n",
       "       'Почта', 'Вода',\n",
       "       'Содержание и ремонт федеральных и республиканских дорог',\n",
       "       'Cвалки', 'Работа учреждений культуры',\n",
       "       'Объекты культурного наследия', 'Сельское хозяйство',\n",
       "       'Цифровое телевидение'], dtype=object)"
      ]
     },
     "execution_count": 37,
     "metadata": {},
     "output_type": "execute_result"
    }
   ],
   "source": [
    "data.categories.unique()"
   ]
  },
  {
   "cell_type": "code",
   "execution_count": 38,
   "metadata": {
    "executionInfo": {
     "elapsed": 28363,
     "status": "ok",
     "timestamp": 1614576616811,
     "user": {
      "displayName": "Алексей Витомсков",
      "photoUrl": "",
      "userId": "09837648934599257287"
     },
     "user_tz": -300
    },
    "gradient": {},
    "id": "mydpj6H8MzsZ"
   },
   "outputs": [],
   "source": [
    "tokenizer = bert.bert_tokenization.FullTokenizer(vocab_file=\"bert_model/vocab.txt\",\n",
    "     do_lower_case=True)\n",
    "bert_layer = hub.KerasLayer(\"/notebooks/bert_model\",\n",
    "                            trainable=False, signature='tokens' , signature_outputs_as_dict=True)\n",
    "#vocabulary_file = bert_layer.resolved_object.vocab_file.asset_path.numpy()\n",
    "#to_lower_case = bert_layer.resolved_object.do_lower_case.numpy()\n",
    "#tokenizer = BertTokenizer(vocabulary_file, to_lower_case)"
   ]
  },
  {
   "cell_type": "code",
   "execution_count": 39,
   "metadata": {
    "colab": {
     "base_uri": "https://localhost:8080/"
    },
    "executionInfo": {
     "elapsed": 28255,
     "status": "ok",
     "timestamp": 1614576619123,
     "user": {
      "displayName": "Алексей Витомсков",
      "photoUrl": "",
      "userId": "09837648934599257287"
     },
     "user_tz": -300
    },
    "gradient": {},
    "id": "ToFtw2AcNyrn",
    "outputId": "6328b7d6-18f2-4324-a551-d5b040a17670"
   },
   "outputs": [
    {
     "data": {
      "text/plain": [
       "['don', \"'\", 't', 'be', 'so', 'j', '##ud', '##g', '##ment', '##al']"
      ]
     },
     "execution_count": 39,
     "metadata": {},
     "output_type": "execute_result"
    }
   ],
   "source": [
    "tokenizer.tokenize(\"don't be so judgmental\")"
   ]
  },
  {
   "cell_type": "code",
   "execution_count": 40,
   "metadata": {
    "colab": {
     "base_uri": "https://localhost:8080/"
    },
    "executionInfo": {
     "elapsed": 27452,
     "status": "ok",
     "timestamp": 1614576619124,
     "user": {
      "displayName": "Алексей Витомсков",
      "photoUrl": "",
      "userId": "09837648934599257287"
     },
     "user_tz": -300
    },
    "gradient": {},
    "id": "2dxzwFspN0kf",
    "outputId": "aefa9da3-8db4-48ce-ac4c-b654c7b1bf62"
   },
   "outputs": [
    {
     "data": {
      "text/plain": [
       "[53106, 443, 11018, 27126, 263, 9037, 474, 12947, 1672]"
      ]
     },
     "execution_count": 40,
     "metadata": {},
     "output_type": "execute_result"
    }
   ],
   "source": [
    "tokenizer.convert_tokens_to_ids(tokenizer.tokenize(\"dont be so judgmental\"))"
   ]
  },
  {
   "cell_type": "code",
   "execution_count": 41,
   "metadata": {
    "executionInfo": {
     "elapsed": 24349,
     "status": "ok",
     "timestamp": 1614576619126,
     "user": {
      "displayName": "Алексей Витомсков",
      "photoUrl": "",
      "userId": "09837648934599257287"
     },
     "user_tz": -300
    },
    "gradient": {},
    "id": "LwaCblpSOAU-"
   },
   "outputs": [],
   "source": [
    "def tokenize_reviews(text_reviews):\n",
    "    return tokenizer.convert_tokens_to_ids(tokenizer.tokenize(text_reviews))"
   ]
  },
  {
   "cell_type": "code",
   "execution_count": 42,
   "metadata": {
    "executionInfo": {
     "elapsed": 32561,
     "status": "ok",
     "timestamp": 1614576627788,
     "user": {
      "displayName": "Алексей Витомсков",
      "photoUrl": "",
      "userId": "09837648934599257287"
     },
     "user_tz": -300
    },
    "gradient": {},
    "id": "latUGS4eOB9-"
   },
   "outputs": [],
   "source": [
    "tokenized_reviews = [tokenize_reviews(str(review)) for review in X]"
   ]
  },
  {
   "cell_type": "code",
   "execution_count": 43,
   "metadata": {
    "colab": {
     "base_uri": "https://localhost:8080/"
    },
    "executionInfo": {
     "elapsed": 32144,
     "status": "ok",
     "timestamp": 1614576627791,
     "user": {
      "displayName": "Алексей Витомсков",
      "photoUrl": "",
      "userId": "09837648934599257287"
     },
     "user_tz": -300
    },
    "gradient": {},
    "id": "cZj9pRMMB7UY",
    "outputId": "f9853f9e-1394-4e0a-9c23-a51a7fb07341"
   },
   "outputs": [
    {
     "name": "stdout",
     "output_type": "stream",
     "text": [
      "[30914, 70528, 2059, 932, 5850, 4659, 107394, 754, 58791, 3511, 727, 378, 87244, 11243, 732, 378, 5866, 39740, 378, 58087, 673, 73507, 816, 12737, 65511, 726, 1165, 27183, 87197, 13544, 58619]\n"
     ]
    }
   ],
   "source": [
    "print(tokenized_reviews[0])"
   ]
  },
  {
   "cell_type": "code",
   "execution_count": 44,
   "metadata": {
    "executionInfo": {
     "elapsed": 29596,
     "status": "ok",
     "timestamp": 1614576630398,
     "user": {
      "displayName": "Алексей Витомсков",
      "photoUrl": "",
      "userId": "09837648934599257287"
     },
     "user_tz": -300
    },
    "gradient": {},
    "id": "aUSLH3QaQ8vi"
   },
   "outputs": [],
   "source": [
    "from keras.preprocessing.sequence import pad_sequences\n",
    "SENTENCE_LENGTH = 50\n",
    "\n",
    "tokenized_reviews = pad_sequences(tokenized_reviews, maxlen=SENTENCE_LENGTH)\n",
    "reviews_with_len = [[review, Y.iloc[i]]\n",
    "                 for i, review in enumerate(tokenized_reviews)]"
   ]
  },
  {
   "cell_type": "code",
   "execution_count": 45,
   "metadata": {
    "colab": {
     "base_uri": "https://localhost:8080/"
    },
    "executionInfo": {
     "elapsed": 28593,
     "status": "ok",
     "timestamp": 1614576630401,
     "user": {
      "displayName": "Алексей Витомсков",
      "photoUrl": "",
      "userId": "09837648934599257287"
     },
     "user_tz": -300
    },
    "gradient": {},
    "id": "TAnzLuuiCunI",
    "outputId": "54754bfb-9db5-4140-a631-09a3b3d6a97c"
   },
   "outputs": [
    {
     "name": "stdout",
     "output_type": "stream",
     "text": [
      "[array([     0,      0,      0,      0,      0,      0,      0,      0,\n",
      "            0,      0,      0,      0,      0,      0,      0,      0,\n",
      "            0,      0,      0,  30914,  70528,   2059,    932,   5850,\n",
      "         4659, 107394,    754,  58791,   3511,    727,    378,  87244,\n",
      "        11243,    732,    378,   5866,  39740,    378,  58087,    673,\n",
      "        73507,    816,  12737,  65511,    726,   1165,  27183,  87197,\n",
      "        13544,  58619], dtype=int32), Cвалки                                                               0\n",
      "Бездомные животные                                                   0\n",
      "Благоустройство территории                                           1\n",
      "Вода                                                                 0\n",
      "Воздух                                                               0\n",
      "Детские сады                                                         0\n",
      "Доступная среда                                                      0\n",
      "Жилищное строительство                                               0\n",
      "Капитальный ремонт                                                   0\n",
      "Мобильная связь                                                      0\n",
      "Нарушение в наружной рекламе                                         0\n",
      "Незаконные азартные игры                                             0\n",
      "Общественный транспорт                                               0\n",
      "Объекты культурного наследия                                         0\n",
      "Организация дорожного движения                                       0\n",
      "Парки и скверы                                                       0\n",
      "Поликлиники и больницы                                               0\n",
      "Почта                                                                0\n",
      "Работа спортивных объектов                                           0\n",
      "Работа учреждений культуры                                           0\n",
      "Садоводческие, огороднические и дачные некоммерческие объединения    0\n",
      "Санитарное состояние                                                 0\n",
      "Сельское хозяйство                                                   0\n",
      "Содержание и ремонт муниципальных дорог                              0\n",
      "Содержание и ремонт федеральных и республиканских дорог              0\n",
      "Цифровое телевидение                                                 0\n",
      "Name: 0, dtype: uint8]\n"
     ]
    }
   ],
   "source": [
    "print(reviews_with_len[0])"
   ]
  },
  {
   "cell_type": "code",
   "execution_count": 46,
   "metadata": {
    "executionInfo": {
     "elapsed": 26051,
     "status": "ok",
     "timestamp": 1614576630402,
     "user": {
      "displayName": "Алексей Витомсков",
      "photoUrl": "",
      "userId": "09837648934599257287"
     },
     "user_tz": -300
    },
    "gradient": {},
    "id": "m70OfPFIRA-Q"
   },
   "outputs": [],
   "source": [
    "random.shuffle(reviews_with_len)"
   ]
  },
  {
   "cell_type": "code",
   "execution_count": 47,
   "metadata": {
    "executionInfo": {
     "elapsed": 26782,
     "status": "ok",
     "timestamp": 1614576631774,
     "user": {
      "displayName": "Алексей Витомсков",
      "photoUrl": "",
      "userId": "09837648934599257287"
     },
     "user_tz": -300
    },
    "gradient": {},
    "id": "gCbcRQ8tJ7u6"
   },
   "outputs": [],
   "source": [
    "from sklearn.model_selection import train_test_split\n",
    "\n",
    "X = np.array([part[0] for part in reviews_with_len])\n",
    "Y = np.array([part[1] for part in reviews_with_len])\n",
    "X_train, X_test, Y_train, Y_test = train_test_split(X, Y, test_size=0.2, random_state=42)"
   ]
  },
  {
   "cell_type": "code",
   "execution_count": 48,
   "metadata": {
    "executionInfo": {
     "elapsed": 1312,
     "status": "ok",
     "timestamp": 1614576633091,
     "user": {
      "displayName": "Алексей Витомсков",
      "photoUrl": "",
      "userId": "09837648934599257287"
     },
     "user_tz": -300
    },
    "gradient": {},
    "id": "wSqKJlItaMhF"
   },
   "outputs": [],
   "source": [
    "# Метрики \n",
    "from sklearn.metrics import matthews_corrcoef\n",
    "def precision(y_true, y_pred):\n",
    "    \"\"\"Precision metric.\n",
    "\n",
    "    Only computes a batch-wise average of precision.\n",
    "\n",
    "    Computes the precision, a metric for multi-label classification of\n",
    "    how many selected items are relevant.\n",
    "    \"\"\"\n",
    "    true_positives = K.sum(K.round(K.clip(y_true * y_pred, 0, 1)))\n",
    "    predicted_positives = K.sum(K.round(K.clip(y_pred, 0, 1)))\n",
    "    precision = true_positives / (predicted_positives + K.epsilon())\n",
    "    return precision\n",
    "\n",
    "\n",
    "def recall(y_true, y_pred):\n",
    "    \"\"\"Recall metric.\n",
    "\n",
    "    Only computes a batch-wise average of recall.\n",
    "\n",
    "    Computes the recall, a metric for multi-label classification of\n",
    "    how many relevant items are selected.\n",
    "    \"\"\"\n",
    "    true_positives = K.sum(K.round(K.clip(y_true * y_pred, 0, 1)))\n",
    "    possible_positives = K.sum(K.round(K.clip(y_true, 0, 1)))\n",
    "    recall = true_positives / (possible_positives + K.epsilon())\n",
    "    return recall\n",
    "\n",
    "\n",
    "def f1(y_true, y_pred):\n",
    "    def recall(y_true, y_pred):\n",
    "        \"\"\"Recall metric.\n",
    "\n",
    "        Only computes a batch-wise average of recall.\n",
    "\n",
    "        Computes the recall, a metric for multi-label classification of\n",
    "        how many relevant items are selected.\n",
    "        \"\"\"\n",
    "        true_positives = K.sum(K.round(K.clip(y_true * y_pred, 0, 1)))\n",
    "        possible_positives = K.sum(K.round(K.clip(y_true, 0, 1)))\n",
    "        recall = true_positives / (possible_positives + K.epsilon())\n",
    "        return recall\n",
    "\n",
    "    def precision(y_true, y_pred):\n",
    "        \"\"\"Precision metric.\n",
    "\n",
    "        Only computes a batch-wise average of precision.\n",
    "\n",
    "        Computes the precision, a metric for multi-label classification of\n",
    "        how many selected items are relevant.\n",
    "        \"\"\"\n",
    "        true_positives = K.sum(K.round(K.clip(y_true * y_pred, 0, 1)))\n",
    "        predicted_positives = K.sum(K.round(K.clip(y_pred, 0, 1)))\n",
    "        precision = true_positives / (predicted_positives + K.epsilon())\n",
    "        return precision\n",
    "\n",
    "    precision = precision(y_true, y_pred)\n",
    "    recall = recall(y_true, y_pred)\n",
    "    return 2 * ((precision * recall) / (precision + recall + K.epsilon()))\n",
    "\n"
   ]
  },
  {
   "cell_type": "code",
   "execution_count": 49,
   "metadata": {
    "executionInfo": {
     "elapsed": 1308,
     "status": "ok",
     "timestamp": 1614576633092,
     "user": {
      "displayName": "Алексей Витомсков",
      "photoUrl": "",
      "userId": "09837648934599257287"
     },
     "user_tz": -300
    },
    "gradient": {},
    "id": "axbyXXK2yOlK"
   },
   "outputs": [],
   "source": [
    "class TEXT_MODEL(tf.keras.Model):\n",
    "    \n",
    "    def __init__(self,\n",
    "                 vocabulary_size,\n",
    "                 embedding_dimensions=128,\n",
    "                 cnn_filters=50,\n",
    "                 dnn_units=512,\n",
    "                 model_output_classes=26,\n",
    "                 dropout_rate=0.1,\n",
    "                 training=False,\n",
    "                 name=\"text_model\"):\n",
    "        super(TEXT_MODEL, self).__init__(name=name)\n",
    "        \n",
    "        self.embedding = layers.Embedding(vocabulary_size,\n",
    "                                          embedding_dimensions)\n",
    "        self.cnn_layer1 = layers.Conv1D(filters=cnn_filters,\n",
    "                                        kernel_size=2,\n",
    "                                        padding=\"valid\",\n",
    "                                        activation=\"relu\")\n",
    "        self.cnn_layer2 = layers.Conv1D(filters=cnn_filters,\n",
    "                                        kernel_size=3,\n",
    "                                        padding=\"valid\",\n",
    "                                        activation=\"relu\")\n",
    "        self.cnn_layer3 = layers.Conv1D(filters=cnn_filters,\n",
    "                                        kernel_size=4,\n",
    "                                        padding=\"valid\",\n",
    "                                        activation=\"relu\")\n",
    "        self.cnn_layer4 = layers.Conv1D(filters=cnn_filters,\n",
    "                                        kernel_size=5,\n",
    "                                        padding=\"valid\",\n",
    "                                        activation=\"relu\")\n",
    "        self.pool = layers.GlobalMaxPool1D()\n",
    "        \n",
    "        self.dense_1 = layers.Dense(units=dnn_units, activation=\"relu\")\n",
    "        self.dropout = layers.Dropout(rate=dropout_rate)\n",
    "        if model_output_classes == 2:\n",
    "            self.last_dense = layers.Dense(units=1, activation=\"sigmoid\")\n",
    "        else:\n",
    "            self.last_dense = layers.Dense(units=model_output_classes, name='out_layer',\n",
    "                                           activation=\"softmax\")\n",
    "    \n",
    "    def call(self, inputs, training):\n",
    "        l = self.embedding(inputs)\n",
    "        l_1 = self.cnn_layer1(l) \n",
    "        l_1 = self.pool(l_1) \n",
    "        l_2 = self.cnn_layer2(l) \n",
    "        l_2 = self.pool(l_2)\n",
    "        l_3 = self.cnn_layer3(l)\n",
    "        l_3 = self.pool(l_3) \n",
    "        l_4 = self.cnn_layer3(l)\n",
    "        l_4 = self.pool(l_4) \n",
    "        \n",
    "        concatenated = tf.concat([l_1, l_2, l_3, l_4], axis=-1) # (batch_size, 3 * cnn_filters)\n",
    "        concatenated = self.dense_1(concatenated)\n",
    "        concatenated = self.dropout(concatenated, training)\n",
    "        model_output = self.last_dense(concatenated)\n",
    "        \n",
    "        return model_output"
   ]
  },
  {
   "cell_type": "code",
   "execution_count": 50,
   "metadata": {
    "executionInfo": {
     "elapsed": 1306,
     "status": "ok",
     "timestamp": 1614576633093,
     "user": {
      "displayName": "Алексей Витомсков",
      "photoUrl": "",
      "userId": "09837648934599257287"
     },
     "user_tz": -300
    },
    "gradient": {},
    "id": "CyXrWd7xyi34"
   },
   "outputs": [],
   "source": [
    "VOCAB_LENGTH = len(tokenizer.vocab)\n",
    "EMB_DIM = 256\n",
    "CNN_FILTERS = 100\n",
    "DNN_UNITS = 256\n",
    "OUTPUT_CLASSES = 26\n",
    "\n",
    "DROPOUT_RATE = 0.2\n",
    "\n",
    "NB_EPOCHS = 30"
   ]
  },
  {
   "cell_type": "code",
   "execution_count": 51,
   "metadata": {
    "executionInfo": {
     "elapsed": 1303,
     "status": "ok",
     "timestamp": 1614576633094,
     "user": {
      "displayName": "Алексей Витомсков",
      "photoUrl": "",
      "userId": "09837648934599257287"
     },
     "user_tz": -300
    },
    "gradient": {},
    "id": "3jxtZKvNyxsf"
   },
   "outputs": [],
   "source": [
    "text_model = TEXT_MODEL(vocabulary_size=VOCAB_LENGTH,\n",
    "                        embedding_dimensions=EMB_DIM,\n",
    "                        cnn_filters=CNN_FILTERS,\n",
    "                        dnn_units=DNN_UNITS,\n",
    "                        model_output_classes=OUTPUT_CLASSES,\n",
    "                        dropout_rate=DROPOUT_RATE)"
   ]
  },
  {
   "cell_type": "markdown",
   "metadata": {},
   "source": [
    "Batch_size = 1024"
   ]
  },
  {
   "cell_type": "code",
   "execution_count": 52,
   "metadata": {
    "executionInfo": {
     "elapsed": 1298,
     "status": "ok",
     "timestamp": 1614576633094,
     "user": {
      "displayName": "Алексей Витомсков",
      "photoUrl": "",
      "userId": "09837648934599257287"
     },
     "user_tz": -300
    },
    "gradient": {},
    "id": "RJx536uay_PW"
   },
   "outputs": [],
   "source": [
    "text_model.compile(loss=\"binary_crossentropy\",\n",
    "                    optimizer=\"adam\",\n",
    "                    metrics=['accuracy', precision, recall, f1])"
   ]
  },
  {
   "cell_type": "code",
   "execution_count": 53,
   "metadata": {
    "colab": {
     "base_uri": "https://localhost:8080/",
     "height": 357
    },
    "executionInfo": {
     "elapsed": 8910,
     "status": "error",
     "timestamp": 1614576777192,
     "user": {
      "displayName": "Алексей Витомсков",
      "photoUrl": "",
      "userId": "09837648934599257287"
     },
     "user_tz": -300
    },
    "gradient": {},
    "id": "Q7HO1bD-zGAs",
    "outputId": "48334e19-2d69-4806-f0eb-ccbb9abdf86d"
   },
   "outputs": [
    {
     "name": "stdout",
     "output_type": "stream",
     "text": [
      "Epoch 1/30\n",
      "15/15 [==============================] - 13s 355ms/step - loss: 0.5514 - accuracy: 0.0593 - precision: 0.0106 - recall: 4.0248e-04 - f1: 7.3896e-04 - val_loss: 0.1175 - val_accuracy: 0.4583 - val_precision: 0.4310 - val_recall: 0.2861 - val_f1: 0.3439\n",
      "Epoch 2/30\n",
      "15/15 [==============================] - 5s 322ms/step - loss: 0.1226 - accuracy: 0.4421 - precision: 0.4460 - recall: 0.3569 - f1: 0.3881 - val_loss: 0.1082 - val_accuracy: 0.4583 - val_precision: 0.4597 - val_recall: 0.4585 - val_f1: 0.4591\n",
      "Epoch 3/30\n",
      "15/15 [==============================] - 5s 316ms/step - loss: 0.1122 - accuracy: 0.4177 - precision: 0.4489 - recall: 0.3120 - f1: 0.3668 - val_loss: 0.0971 - val_accuracy: 0.4583 - val_precision: 0.4611 - val_recall: 0.4568 - val_f1: 0.4590\n",
      "Epoch 4/30\n",
      "15/15 [==============================] - 5s 326ms/step - loss: 0.0983 - accuracy: 0.4789 - precision: 0.5238 - recall: 0.3888 - f1: 0.4456 - val_loss: 0.0872 - val_accuracy: 0.5549 - val_precision: 0.6374 - val_recall: 0.4780 - val_f1: 0.5463\n",
      "Epoch 5/30\n",
      "15/15 [==============================] - 5s 321ms/step - loss: 0.0855 - accuracy: 0.5728 - precision: 0.6657 - recall: 0.4792 - f1: 0.5572 - val_loss: 0.0743 - val_accuracy: 0.6241 - val_precision: 0.7370 - val_recall: 0.5617 - val_f1: 0.6375\n",
      "Epoch 6/30\n",
      "15/15 [==============================] - 5s 323ms/step - loss: 0.0696 - accuracy: 0.6758 - precision: 0.7679 - recall: 0.6119 - f1: 0.6810 - val_loss: 0.0630 - val_accuracy: 0.7043 - val_precision: 0.7868 - val_recall: 0.6550 - val_f1: 0.7149\n",
      "Epoch 7/30\n",
      "15/15 [==============================] - 5s 320ms/step - loss: 0.0575 - accuracy: 0.7456 - precision: 0.8220 - recall: 0.7045 - f1: 0.7586 - val_loss: 0.0549 - val_accuracy: 0.7426 - val_precision: 0.8052 - val_recall: 0.7127 - val_f1: 0.7561\n",
      "Epoch 8/30\n",
      "15/15 [==============================] - 5s 327ms/step - loss: 0.0498 - accuracy: 0.7893 - precision: 0.8378 - recall: 0.7515 - f1: 0.7923 - val_loss: 0.0505 - val_accuracy: 0.7785 - val_precision: 0.8137 - val_recall: 0.7408 - val_f1: 0.7755\n",
      "Epoch 9/30\n",
      "15/15 [==============================] - 5s 330ms/step - loss: 0.0439 - accuracy: 0.8156 - precision: 0.8567 - recall: 0.7861 - f1: 0.8198 - val_loss: 0.0472 - val_accuracy: 0.7901 - val_precision: 0.8232 - val_recall: 0.7719 - val_f1: 0.7967\n",
      "Epoch 10/30\n",
      "15/15 [==============================] - 5s 332ms/step - loss: 0.0379 - accuracy: 0.8462 - precision: 0.8822 - recall: 0.8282 - f1: 0.8543 - val_loss: 0.0454 - val_accuracy: 0.7967 - val_precision: 0.8281 - val_recall: 0.7800 - val_f1: 0.8033\n",
      "Epoch 11/30\n",
      "15/15 [==============================] - 5s 331ms/step - loss: 0.0334 - accuracy: 0.8625 - precision: 0.8943 - recall: 0.8489 - f1: 0.8709 - val_loss: 0.0444 - val_accuracy: 0.8012 - val_precision: 0.8315 - val_recall: 0.7846 - val_f1: 0.8074\n",
      "Epoch 12/30\n",
      "15/15 [==============================] - 5s 336ms/step - loss: 0.0281 - accuracy: 0.8871 - precision: 0.9161 - recall: 0.8741 - f1: 0.8946 - val_loss: 0.0440 - val_accuracy: 0.8057 - val_precision: 0.8312 - val_recall: 0.7891 - val_f1: 0.8096\n",
      "Epoch 13/30\n",
      "15/15 [==============================] - 5s 328ms/step - loss: 0.0252 - accuracy: 0.9043 - precision: 0.9312 - recall: 0.8892 - f1: 0.9097 - val_loss: 0.0437 - val_accuracy: 0.8065 - val_precision: 0.8298 - val_recall: 0.7948 - val_f1: 0.8119\n",
      "Epoch 14/30\n",
      "15/15 [==============================] - 5s 328ms/step - loss: 0.0207 - accuracy: 0.9241 - precision: 0.9466 - recall: 0.9131 - f1: 0.9296 - val_loss: 0.0449 - val_accuracy: 0.8099 - val_precision: 0.8296 - val_recall: 0.7986 - val_f1: 0.8138\n",
      "Epoch 15/30\n",
      "15/15 [==============================] - 5s 327ms/step - loss: 0.0182 - accuracy: 0.9344 - precision: 0.9544 - recall: 0.9230 - f1: 0.9384 - val_loss: 0.0452 - val_accuracy: 0.8136 - val_precision: 0.8327 - val_recall: 0.8021 - val_f1: 0.8171\n",
      "Epoch 16/30\n",
      "15/15 [==============================] - 5s 325ms/step - loss: 0.0155 - accuracy: 0.9446 - precision: 0.9621 - recall: 0.9349 - f1: 0.9483 - val_loss: 0.0467 - val_accuracy: 0.8136 - val_precision: 0.8310 - val_recall: 0.8056 - val_f1: 0.8181\n",
      "Epoch 17/30\n",
      "15/15 [==============================] - 5s 325ms/step - loss: 0.0127 - accuracy: 0.9566 - precision: 0.9723 - recall: 0.9482 - f1: 0.9601 - val_loss: 0.0481 - val_accuracy: 0.8152 - val_precision: 0.8308 - val_recall: 0.8052 - val_f1: 0.8178\n",
      "Epoch 18/30\n",
      "15/15 [==============================] - 5s 324ms/step - loss: 0.0109 - accuracy: 0.9641 - precision: 0.9774 - recall: 0.9564 - f1: 0.9668 - val_loss: 0.0492 - val_accuracy: 0.8107 - val_precision: 0.8241 - val_recall: 0.8005 - val_f1: 0.8121\n",
      "Epoch 19/30\n",
      "15/15 [==============================] - 5s 322ms/step - loss: 0.0095 - accuracy: 0.9707 - precision: 0.9828 - recall: 0.9634 - f1: 0.9730 - val_loss: 0.0516 - val_accuracy: 0.8134 - val_precision: 0.8254 - val_recall: 0.8046 - val_f1: 0.8148\n",
      "Epoch 20/30\n",
      "15/15 [==============================] - 5s 327ms/step - loss: 0.0087 - accuracy: 0.9739 - precision: 0.9846 - recall: 0.9667 - f1: 0.9755 - val_loss: 0.0528 - val_accuracy: 0.8128 - val_precision: 0.8256 - val_recall: 0.8055 - val_f1: 0.8154\n",
      "Epoch 21/30\n",
      "15/15 [==============================] - 5s 326ms/step - loss: 0.0071 - accuracy: 0.9768 - precision: 0.9867 - recall: 0.9725 - f1: 0.9795 - val_loss: 0.0544 - val_accuracy: 0.8120 - val_precision: 0.8224 - val_recall: 0.8055 - val_f1: 0.8139\n",
      "Epoch 22/30\n",
      "15/15 [==============================] - 5s 330ms/step - loss: 0.0066 - accuracy: 0.9795 - precision: 0.9870 - recall: 0.9749 - f1: 0.9809 - val_loss: 0.0566 - val_accuracy: 0.8120 - val_precision: 0.8234 - val_recall: 0.8058 - val_f1: 0.8145\n",
      "Epoch 23/30\n",
      "15/15 [==============================] - 5s 324ms/step - loss: 0.0055 - accuracy: 0.9842 - precision: 0.9906 - recall: 0.9804 - f1: 0.9855 - val_loss: 0.0576 - val_accuracy: 0.8115 - val_precision: 0.8234 - val_recall: 0.8055 - val_f1: 0.8143\n",
      "Epoch 24/30\n",
      "15/15 [==============================] - 5s 325ms/step - loss: 0.0052 - accuracy: 0.9838 - precision: 0.9906 - recall: 0.9804 - f1: 0.9855 - val_loss: 0.0602 - val_accuracy: 0.8149 - val_precision: 0.8238 - val_recall: 0.8092 - val_f1: 0.8164\n",
      "Epoch 25/30\n",
      "15/15 [==============================] - 5s 323ms/step - loss: 0.0046 - accuracy: 0.9859 - precision: 0.9909 - recall: 0.9829 - f1: 0.9869 - val_loss: 0.0614 - val_accuracy: 0.8139 - val_precision: 0.8231 - val_recall: 0.8085 - val_f1: 0.8157\n",
      "Epoch 26/30\n",
      "15/15 [==============================] - 5s 325ms/step - loss: 0.0039 - accuracy: 0.9896 - precision: 0.9939 - recall: 0.9856 - f1: 0.9897 - val_loss: 0.0624 - val_accuracy: 0.8126 - val_precision: 0.8211 - val_recall: 0.8085 - val_f1: 0.8147\n",
      "Epoch 27/30\n",
      "15/15 [==============================] - 5s 325ms/step - loss: 0.0037 - accuracy: 0.9887 - precision: 0.9924 - recall: 0.9863 - f1: 0.9894 - val_loss: 0.0642 - val_accuracy: 0.8107 - val_precision: 0.8199 - val_recall: 0.8067 - val_f1: 0.8132\n",
      "Epoch 28/30\n",
      "15/15 [==============================] - 5s 331ms/step - loss: 0.0032 - accuracy: 0.9914 - precision: 0.9948 - recall: 0.9877 - f1: 0.9912 - val_loss: 0.0650 - val_accuracy: 0.8126 - val_precision: 0.8198 - val_recall: 0.8085 - val_f1: 0.8141\n",
      "Epoch 29/30\n",
      "15/15 [==============================] - 5s 328ms/step - loss: 0.0029 - accuracy: 0.9933 - precision: 0.9948 - recall: 0.9902 - f1: 0.9925 - val_loss: 0.0664 - val_accuracy: 0.8139 - val_precision: 0.8205 - val_recall: 0.8094 - val_f1: 0.8149\n",
      "Epoch 30/30\n",
      "15/15 [==============================] - 5s 329ms/step - loss: 0.0027 - accuracy: 0.9926 - precision: 0.9947 - recall: 0.9896 - f1: 0.9921 - val_loss: 0.0680 - val_accuracy: 0.8123 - val_precision: 0.8184 - val_recall: 0.8086 - val_f1: 0.8135\n"
     ]
    }
   ],
   "source": [
    "from keras.callbacks import ModelCheckpoint\n",
    "from keras import backend as K \n",
    "checkpoint = ModelCheckpoint(r\"cnn_bert_weights/CNN_Bert_classifier_1024-{epoch:02d}-{val_f1:.2f}.hdf5\", # Сохраняем модель с лучшим val_f1\n",
    "                             monitor='val_f1', save_best_only=True, mode='max')\n",
    "history = text_model.fit(X_train, Y_train, batch_size=1024, epochs=30, validation_split=0.2, callbacks = [checkpoint])"
   ]
  },
  {
   "cell_type": "code",
   "execution_count": 54,
   "metadata": {
    "colab": {
     "base_uri": "https://localhost:8080/",
     "height": 231
    },
    "executionInfo": {
     "elapsed": 860,
     "status": "error",
     "timestamp": 1614576779824,
     "user": {
      "displayName": "Алексей Витомсков",
      "photoUrl": "",
      "userId": "09837648934599257287"
     },
     "user_tz": -300
    },
    "gradient": {},
    "id": "T74VW2wgauzD",
    "outputId": "7621bfae-3ca3-4e7a-c136-110fd3b73def"
   },
   "outputs": [
    {
     "data": {
      "image/png": "[encoded data removed]",
      "text/plain": [
       "<Figure size 1152x648 with 4 Axes>"
      ]
     },
     "metadata": {},
     "output_type": "display_data"
    }
   ],
   "source": [
    "import matplotlib.pyplot as plt\n",
    "\n",
    "plt.style.use('ggplot')\n",
    "\n",
    "\n",
    "def plot_metrix(ax, x1, x2, title):\n",
    "    ax.plot(range(1, len(x1) + 1), x1, label='train')\n",
    "    ax.plot(range(1, len(x2) + 1), x2, label='val')\n",
    "    ax.set_ylabel(title)\n",
    "    ax.set_xlabel('Epoch')\n",
    "    ax.legend()\n",
    "    ax.margins(0)\n",
    "\n",
    "\n",
    "def plot_history(history):\n",
    "    fig, axes = plt.subplots(ncols=2, nrows=2, figsize=(16, 9))\n",
    "    ax1, ax2, ax3, ax4 = axes.ravel()\n",
    "\n",
    "    plot_metrix(ax1, history.history['precision'], history.history['val_precision'], 'Precision')\n",
    "    plot_metrix(ax2, history.history['recall'], history.history['val_recall'], 'Recall')\n",
    "    plot_metrix(ax3, history.history['f1'], history.history['val_f1'], \"$F_1$\")\n",
    "    plot_metrix(ax4, history.history['loss'], history.history['val_loss'], 'Loss')\n",
    "    plot_metrix(ax4, history.history['accuracy'], history.history['val_accuracy'], 'Accuracy')\n",
    "\n",
    "    plt.show()\n",
    "\n",
    "plot_history(history)"
   ]
  },
  {
   "cell_type": "code",
   "execution_count": 82,
   "metadata": {
    "executionInfo": {
     "elapsed": 661,
     "status": "ok",
     "timestamp": 1614576792925,
     "user": {
      "displayName": "Алексей Витомсков",
      "photoUrl": "",
      "userId": "09837648934599257287"
     },
     "user_tz": -300
    },
    "gradient": {},
    "id": "GlKkQ0NFzWDe"
   },
   "outputs": [],
   "source": [
    "text_model.load_weights('cnn_bert_weights/CNN_Bert_classifier_1024-16-0.82.hdf5')"
   ]
  },
  {
   "cell_type": "code",
   "execution_count": 84,
   "metadata": {
    "colab": {
     "base_uri": "https://localhost:8080/"
    },
    "executionInfo": {
     "elapsed": 968,
     "status": "ok",
     "timestamp": 1614576834176,
     "user": {
      "displayName": "Алексей Витомсков",
      "photoUrl": "",
      "userId": "09837648934599257287"
     },
     "user_tz": -300
    },
    "gradient": {},
    "id": "E0Q-4CDhOqup",
    "outputId": "a5833a30-e494-4962-ce42-ac318d60cf93"
   },
   "outputs": [
    {
     "name": "stdout",
     "output_type": "stream",
     "text": [
      "Оценки тестового набора:\n",
      "              precision    recall  f1-score   support\n",
      "\n",
      "           0      0.821     0.397     0.535        58\n",
      "           1      0.954     0.925     0.939       134\n",
      "           2      0.805     0.867     0.835      2212\n",
      "           3      0.000     0.000     0.000         9\n",
      "           4      0.789     0.577     0.667        26\n",
      "           5      1.000     0.048     0.091        21\n",
      "           6      0.800     0.267     0.400        15\n",
      "           7      0.000     0.000     0.000         8\n",
      "           8      0.800     0.381     0.516        21\n",
      "           9      1.000     0.925     0.961        40\n",
      "          10      0.900     0.887     0.893       212\n",
      "          11      0.000     0.000     0.000         4\n",
      "          12      0.885     0.819     0.851       160\n",
      "          13      0.000     0.000     0.000         3\n",
      "          14      0.865     0.841     0.853       327\n",
      "          15      0.615     0.386     0.474        83\n",
      "          16      0.871     0.830     0.850       106\n",
      "          17      0.000     0.000     0.000        11\n",
      "          18      0.000     0.000     0.000         7\n",
      "          19      0.000     0.000     0.000         5\n",
      "          20      0.000     0.000     0.000         4\n",
      "          21      0.000     0.000     0.000        17\n",
      "          22      0.000     0.000     0.000         2\n",
      "          23      0.773     0.807     0.789      1238\n",
      "          24      0.000     0.000     0.000        10\n",
      "          25      0.000     0.000     0.000         1\n",
      "\n",
      "    accuracy                          0.812      4734\n",
      "   macro avg      0.457     0.344     0.371      4734\n",
      "weighted avg      0.799     0.812     0.800      4734\n",
      "\n",
      "0.7260270643267285\n"
     ]
    }
   ],
   "source": [
    "from sklearn.metrics import classification_report\n",
    "print(\"Оценки тестового набора:\")\n",
    "predicted = np.array(text_model.predict(X_test))\n",
    "predicted = np.argmax(predicted, axis=1)\n",
    "Y_test = np.array(Y_test)\n",
    "print(classification_report(Y_test, predicted, digits=3))\n",
    "print(matthews_corrcoef(Y_test, predicted))"
   ]
  },
  {
   "cell_type": "markdown",
   "metadata": {
    "gradient": {}
   },
   "source": [
    "Batch_size = 512"
   ]
  },
  {
   "cell_type": "code",
   "execution_count": 85,
   "metadata": {},
   "outputs": [],
   "source": [
    "text_model = TEXT_MODEL(vocabulary_size=VOCAB_LENGTH,\n",
    "                        embedding_dimensions=EMB_DIM,\n",
    "                        cnn_filters=CNN_FILTERS,\n",
    "                        dnn_units=DNN_UNITS,\n",
    "                        model_output_classes=OUTPUT_CLASSES,\n",
    "                        dropout_rate=DROPOUT_RATE)\n",
    "\n",
    "text_model.compile(loss=\"binary_crossentropy\",\n",
    "                    optimizer=\"adam\",\n",
    "                    metrics=['accuracy', precision, recall, f1])"
   ]
  },
  {
   "cell_type": "code",
   "execution_count": 86,
   "metadata": {},
   "outputs": [
    {
     "name": "stdout",
     "output_type": "stream",
     "text": [
      "Epoch 1/30\n",
      "30/30 [==============================] - 12s 364ms/step - loss: 0.4364 - accuracy: 0.1430 - precision: 0.0953 - recall: 0.0700 - f1: 0.0751 - val_loss: 0.1104 - val_accuracy: 0.4583 - val_precision: 0.4580 - val_recall: 0.4579 - val_f1: 0.4579\n",
      "Epoch 2/30\n",
      "30/30 [==============================] - 10s 331ms/step - loss: 0.1085 - accuracy: 0.4377 - precision: 0.4646 - recall: 0.3356 - f1: 0.3838 - val_loss: 0.0911 - val_accuracy: 0.5341 - val_precision: 0.5647 - val_recall: 0.4816 - val_f1: 0.5198\n",
      "Epoch 3/30\n",
      "30/30 [==============================] - 10s 330ms/step - loss: 0.0886 - accuracy: 0.5587 - precision: 0.6258 - recall: 0.4587 - f1: 0.5290 - val_loss: 0.0701 - val_accuracy: 0.6449 - val_precision: 0.7407 - val_recall: 0.5949 - val_f1: 0.6598\n",
      "Epoch 4/30\n",
      "30/30 [==============================] - 10s 331ms/step - loss: 0.0650 - accuracy: 0.6941 - precision: 0.7760 - recall: 0.6437 - f1: 0.7035 - val_loss: 0.0541 - val_accuracy: 0.7524 - val_precision: 0.8104 - val_recall: 0.7071 - val_f1: 0.7552\n",
      "Epoch 5/30\n",
      "30/30 [==============================] - 10s 334ms/step - loss: 0.0498 - accuracy: 0.7877 - precision: 0.8375 - recall: 0.7457 - f1: 0.7889 - val_loss: 0.0469 - val_accuracy: 0.7893 - val_precision: 0.8222 - val_recall: 0.7607 - val_f1: 0.7902\n",
      "Epoch 6/30\n",
      "30/30 [==============================] - 10s 346ms/step - loss: 0.0395 - accuracy: 0.8334 - precision: 0.8691 - recall: 0.8131 - f1: 0.8401 - val_loss: 0.0435 - val_accuracy: 0.8083 - val_precision: 0.8362 - val_recall: 0.7860 - val_f1: 0.8103\n",
      "Epoch 7/30\n",
      "30/30 [==============================] - 10s 340ms/step - loss: 0.0318 - accuracy: 0.8720 - precision: 0.8973 - recall: 0.8568 - f1: 0.8765 - val_loss: 0.0417 - val_accuracy: 0.8128 - val_precision: 0.8380 - val_recall: 0.8023 - val_f1: 0.8197\n",
      "Epoch 8/30\n",
      "30/30 [==============================] - 10s 339ms/step - loss: 0.0243 - accuracy: 0.9050 - precision: 0.9300 - recall: 0.8942 - f1: 0.9117 - val_loss: 0.0418 - val_accuracy: 0.8165 - val_precision: 0.8370 - val_recall: 0.8031 - val_f1: 0.8197\n",
      "Epoch 9/30\n",
      "30/30 [==============================] - 10s 347ms/step - loss: 0.0188 - accuracy: 0.9313 - precision: 0.9531 - recall: 0.9227 - f1: 0.9376 - val_loss: 0.0432 - val_accuracy: 0.8144 - val_precision: 0.8316 - val_recall: 0.8036 - val_f1: 0.8174\n",
      "Epoch 10/30\n",
      "30/30 [==============================] - 10s 342ms/step - loss: 0.0156 - accuracy: 0.9447 - precision: 0.9616 - recall: 0.9345 - f1: 0.9478 - val_loss: 0.0447 - val_accuracy: 0.8171 - val_precision: 0.8347 - val_recall: 0.8098 - val_f1: 0.8221\n",
      "Epoch 11/30\n",
      "30/30 [==============================] - 11s 353ms/step - loss: 0.0119 - accuracy: 0.9607 - precision: 0.9755 - recall: 0.9513 - f1: 0.9632 - val_loss: 0.0466 - val_accuracy: 0.8184 - val_precision: 0.8332 - val_recall: 0.8090 - val_f1: 0.8209\n",
      "Epoch 12/30\n",
      "30/30 [==============================] - 10s 349ms/step - loss: 0.0092 - accuracy: 0.9712 - precision: 0.9805 - recall: 0.9637 - f1: 0.9720 - val_loss: 0.0493 - val_accuracy: 0.8173 - val_precision: 0.8288 - val_recall: 0.8073 - val_f1: 0.8179\n",
      "Epoch 13/30\n",
      "30/30 [==============================] - 11s 357ms/step - loss: 0.0079 - accuracy: 0.9763 - precision: 0.9837 - recall: 0.9699 - f1: 0.9767 - val_loss: 0.0513 - val_accuracy: 0.8184 - val_precision: 0.8308 - val_recall: 0.8092 - val_f1: 0.8199\n",
      "Epoch 14/30\n",
      "30/30 [==============================] - 10s 339ms/step - loss: 0.0063 - accuracy: 0.9817 - precision: 0.9880 - recall: 0.9764 - f1: 0.9821 - val_loss: 0.0541 - val_accuracy: 0.8184 - val_precision: 0.8285 - val_recall: 0.8101 - val_f1: 0.8192\n",
      "Epoch 15/30\n",
      "30/30 [==============================] - 10s 330ms/step - loss: 0.0052 - accuracy: 0.9844 - precision: 0.9891 - recall: 0.9815 - f1: 0.9853 - val_loss: 0.0556 - val_accuracy: 0.8189 - val_precision: 0.8277 - val_recall: 0.8118 - val_f1: 0.8197\n",
      "Epoch 16/30\n",
      "30/30 [==============================] - 10s 328ms/step - loss: 0.0049 - accuracy: 0.9853 - precision: 0.9896 - recall: 0.9835 - f1: 0.9865 - val_loss: 0.0574 - val_accuracy: 0.8202 - val_precision: 0.8300 - val_recall: 0.8162 - val_f1: 0.8230\n",
      "Epoch 17/30\n",
      "30/30 [==============================] - 10s 330ms/step - loss: 0.0037 - accuracy: 0.9885 - precision: 0.9924 - recall: 0.9861 - f1: 0.9893 - val_loss: 0.0596 - val_accuracy: 0.8189 - val_precision: 0.8284 - val_recall: 0.8171 - val_f1: 0.8227\n",
      "Epoch 18/30\n",
      "30/30 [==============================] - 11s 360ms/step - loss: 0.0034 - accuracy: 0.9911 - precision: 0.9936 - recall: 0.9886 - f1: 0.9911 - val_loss: 0.0610 - val_accuracy: 0.8197 - val_precision: 0.8278 - val_recall: 0.8179 - val_f1: 0.8228\n",
      "Epoch 19/30\n",
      "30/30 [==============================] - 10s 351ms/step - loss: 0.0029 - accuracy: 0.9920 - precision: 0.9945 - recall: 0.9897 - f1: 0.9921 - val_loss: 0.0632 - val_accuracy: 0.8184 - val_precision: 0.8264 - val_recall: 0.8173 - val_f1: 0.8218\n",
      "Epoch 20/30\n",
      "30/30 [==============================] - 10s 343ms/step - loss: 0.0028 - accuracy: 0.9911 - precision: 0.9927 - recall: 0.9887 - f1: 0.9907 - val_loss: 0.0649 - val_accuracy: 0.8181 - val_precision: 0.8252 - val_recall: 0.8163 - val_f1: 0.8207\n",
      "Epoch 21/30\n",
      "30/30 [==============================] - 11s 359ms/step - loss: 0.0024 - accuracy: 0.9934 - precision: 0.9946 - recall: 0.9922 - f1: 0.9934 - val_loss: 0.0659 - val_accuracy: 0.8176 - val_precision: 0.8245 - val_recall: 0.8168 - val_f1: 0.8206\n",
      "Epoch 22/30\n",
      "30/30 [==============================] - 10s 340ms/step - loss: 0.0021 - accuracy: 0.9946 - precision: 0.9957 - recall: 0.9939 - f1: 0.9948 - val_loss: 0.0669 - val_accuracy: 0.8186 - val_precision: 0.8262 - val_recall: 0.8172 - val_f1: 0.8216\n",
      "Epoch 23/30\n",
      "30/30 [==============================] - 10s 343ms/step - loss: 0.0017 - accuracy: 0.9952 - precision: 0.9959 - recall: 0.9945 - f1: 0.9952 - val_loss: 0.0685 - val_accuracy: 0.8189 - val_precision: 0.8266 - val_recall: 0.8194 - val_f1: 0.8229\n",
      "Epoch 24/30\n",
      "30/30 [==============================] - 10s 343ms/step - loss: 0.0017 - accuracy: 0.9954 - precision: 0.9960 - recall: 0.9947 - f1: 0.9954 - val_loss: 0.0703 - val_accuracy: 0.8186 - val_precision: 0.8249 - val_recall: 0.8173 - val_f1: 0.8211\n",
      "Epoch 25/30\n",
      "30/30 [==============================] - 10s 336ms/step - loss: 0.0014 - accuracy: 0.9953 - precision: 0.9961 - recall: 0.9948 - f1: 0.9955 - val_loss: 0.0722 - val_accuracy: 0.8165 - val_precision: 0.8228 - val_recall: 0.8162 - val_f1: 0.8195\n",
      "Epoch 26/30\n",
      "30/30 [==============================] - 10s 338ms/step - loss: 0.0013 - accuracy: 0.9964 - precision: 0.9967 - recall: 0.9962 - f1: 0.9964 - val_loss: 0.0727 - val_accuracy: 0.8157 - val_precision: 0.8202 - val_recall: 0.8160 - val_f1: 0.8181\n",
      "Epoch 27/30\n",
      "30/30 [==============================] - 10s 334ms/step - loss: 0.0015 - accuracy: 0.9953 - precision: 0.9958 - recall: 0.9948 - f1: 0.9953 - val_loss: 0.0742 - val_accuracy: 0.8173 - val_precision: 0.8211 - val_recall: 0.8172 - val_f1: 0.8191\n",
      "Epoch 28/30\n",
      "30/30 [==============================] - 10s 337ms/step - loss: 0.0012 - accuracy: 0.9968 - precision: 0.9971 - recall: 0.9965 - f1: 0.9968 - val_loss: 0.0739 - val_accuracy: 0.8149 - val_precision: 0.8198 - val_recall: 0.8138 - val_f1: 0.8167\n",
      "Epoch 29/30\n",
      "30/30 [==============================] - 10s 341ms/step - loss: 0.0013 - accuracy: 0.9961 - precision: 0.9964 - recall: 0.9959 - f1: 0.9961 - val_loss: 0.0754 - val_accuracy: 0.8131 - val_precision: 0.8179 - val_recall: 0.8133 - val_f1: 0.8156\n",
      "Epoch 30/30\n",
      "30/30 [==============================] - 10s 343ms/step - loss: 0.0013 - accuracy: 0.9968 - precision: 0.9972 - recall: 0.9968 - f1: 0.9970 - val_loss: 0.0753 - val_accuracy: 0.8155 - val_precision: 0.8196 - val_recall: 0.8146 - val_f1: 0.8171\n"
     ]
    }
   ],
   "source": [
    "from keras.callbacks import ModelCheckpoint\n",
    "from keras import backend as K \n",
    "checkpoint = ModelCheckpoint(r\"cnn_bert_weights/CNN_Bert_classifier_512-{epoch:02d}-{val_f1:.2f}.hdf5\", # Сохраняем модель с лучшим val_f1\n",
    "                             monitor='val_f1', save_best_only=True, mode='max')\n",
    "history = text_model.fit(X_train, Y_train, batch_size=512, epochs=30, validation_split=0.2, callbacks = [checkpoint])"
   ]
  },
  {
   "cell_type": "code",
   "execution_count": 87,
   "metadata": {},
   "outputs": [
    {
     "data": {
      "image/png": "[encoded data removed]",
      "text/plain": [
       "<Figure size 1152x648 with 4 Axes>"
      ]
     },
     "metadata": {},
     "output_type": "display_data"
    }
   ],
   "source": [
    "import matplotlib.pyplot as plt\n",
    "\n",
    "plt.style.use('ggplot')\n",
    "\n",
    "\n",
    "def plot_metrix(ax, x1, x2, title):\n",
    "    ax.plot(range(1, len(x1) + 1), x1, label='train')\n",
    "    ax.plot(range(1, len(x2) + 1), x2, label='val')\n",
    "    ax.set_ylabel(title)\n",
    "    ax.set_xlabel('Epoch')\n",
    "    ax.legend()\n",
    "    ax.margins(0)\n",
    "\n",
    "\n",
    "def plot_history(history):\n",
    "    fig, axes = plt.subplots(ncols=2, nrows=2, figsize=(16, 9))\n",
    "    ax1, ax2, ax3, ax4 = axes.ravel()\n",
    "\n",
    "    plot_metrix(ax1, history.history['precision'], history.history['val_precision'], 'Precision')\n",
    "    plot_metrix(ax2, history.history['recall'], history.history['val_recall'], 'Recall')\n",
    "    plot_metrix(ax3, history.history['f1'], history.history['val_f1'], \"$F_1$\")\n",
    "    plot_metrix(ax4, history.history['loss'], history.history['val_loss'], 'Loss')\n",
    "    plot_metrix(ax4, history.history['accuracy'], history.history['val_accuracy'], 'Accuracy')\n",
    "\n",
    "    plt.show()\n",
    "\n",
    "plot_history(history)"
   ]
  },
  {
   "cell_type": "code",
   "execution_count": 89,
   "metadata": {},
   "outputs": [
    {
     "name": "stdout",
     "output_type": "stream",
     "text": [
      "Оценки тестового набора:\n",
      "              precision    recall  f1-score   support\n",
      "\n",
      "           0      0.571     0.414     0.480        58\n",
      "           1      0.984     0.933     0.958       134\n",
      "           2      0.822     0.854     0.838      2212\n",
      "           3      0.000     0.000     0.000         9\n",
      "           4      0.826     0.731     0.776        26\n",
      "           5      0.727     0.381     0.500        21\n",
      "           6      0.692     0.600     0.643        15\n",
      "           7      0.000     0.000     0.000         8\n",
      "           8      0.737     0.667     0.700        21\n",
      "           9      0.974     0.925     0.949        40\n",
      "          10      0.918     0.896     0.907       212\n",
      "          11      0.000     0.000     0.000         4\n",
      "          12      0.879     0.819     0.848       160\n",
      "          13      0.000     0.000     0.000         3\n",
      "          14      0.863     0.844     0.853       327\n",
      "          15      0.639     0.470     0.542        83\n",
      "          16      0.904     0.887     0.895       106\n",
      "          17      1.000     0.091     0.167        11\n",
      "          18      0.000     0.000     0.000         7\n",
      "          19      0.000     0.000     0.000         5\n",
      "          20      0.000     0.000     0.000         4\n",
      "          21      1.000     0.529     0.692        17\n",
      "          22      0.000     0.000     0.000         2\n",
      "          23      0.769     0.815     0.791      1238\n",
      "          24      0.000     0.000     0.000        10\n",
      "          25      0.000     0.000     0.000         1\n",
      "\n",
      "    accuracy                          0.819      4734\n",
      "   macro avg      0.512     0.418     0.444      4734\n",
      "weighted avg      0.809     0.819     0.812      4734\n",
      "\n",
      "0.7379799423324392\n"
     ]
    },
    {
     "name": "stderr",
     "output_type": "stream",
     "text": [
      "/usr/local/lib/python3.6/dist-packages/sklearn/metrics/classification.py:1437: UndefinedMetricWarning: Precision and F-score are ill-defined and being set to 0.0 in labels with no predicted samples.\n",
      "  'precision', 'predicted', average, warn_for)\n"
     ]
    }
   ],
   "source": [
    "text_model.load_weights('cnn_bert_weights/CNN_Bert_classifier_512-16-0.82.hdf5')\n",
    "\n",
    "from sklearn.metrics import classification_report\n",
    "print(\"Оценки тестового набора:\")\n",
    "predicted = np.array(text_model.predict(X_test))\n",
    "predicted = np.argmax(predicted, axis=1)\n",
    "Y_test = np.array(Y_test)\n",
    "print(classification_report(Y_test, predicted, digits=3))\n",
    "print(matthews_corrcoef(Y_test, predicted))"
   ]
  },
  {
   "cell_type": "markdown",
   "metadata": {},
   "source": [
    "Batch_size = 64"
   ]
  },
  {
   "cell_type": "code",
   "execution_count": 90,
   "metadata": {},
   "outputs": [],
   "source": [
    "text_model = TEXT_MODEL(vocabulary_size=VOCAB_LENGTH,\n",
    "                        embedding_dimensions=EMB_DIM,\n",
    "                        cnn_filters=CNN_FILTERS,\n",
    "                        dnn_units=DNN_UNITS,\n",
    "                        model_output_classes=OUTPUT_CLASSES,\n",
    "                        dropout_rate=DROPOUT_RATE)\n",
    "\n",
    "text_model.compile(loss=\"binary_crossentropy\",\n",
    "                    optimizer=\"adam\",\n",
    "                    metrics=['accuracy', precision, recall, f1])"
   ]
  },
  {
   "cell_type": "code",
   "execution_count": 91,
   "metadata": {},
   "outputs": [
    {
     "name": "stdout",
     "output_type": "stream",
     "text": [
      "Epoch 1/30\n",
      "237/237 [==============================] - 80s 332ms/step - loss: 0.1758 - accuracy: 0.4540 - precision: 0.4468 - recall: 0.3560 - f1: 0.3938 - val_loss: 0.0488 - val_accuracy: 0.7629 - val_precision: 0.8117 - val_recall: 0.7415 - val_f1: 0.7747\n",
      "Epoch 2/30\n",
      "237/237 [==============================] - 78s 329ms/step - loss: 0.0426 - accuracy: 0.8141 - precision: 0.8496 - recall: 0.7964 - f1: 0.8218 - val_loss: 0.0399 - val_accuracy: 0.8112 - val_precision: 0.8359 - val_recall: 0.7962 - val_f1: 0.8154\n",
      "Epoch 3/30\n",
      "237/237 [==============================] - 81s 343ms/step - loss: 0.0251 - accuracy: 0.8955 - precision: 0.9177 - recall: 0.8852 - f1: 0.9011 - val_loss: 0.0391 - val_accuracy: 0.8200 - val_precision: 0.8336 - val_recall: 0.8131 - val_f1: 0.8231\n",
      "Epoch 4/30\n",
      "237/237 [==============================] - 77s 323ms/step - loss: 0.0146 - accuracy: 0.9441 - precision: 0.9564 - recall: 0.9374 - f1: 0.9467 - val_loss: 0.0406 - val_accuracy: 0.8263 - val_precision: 0.8406 - val_recall: 0.8214 - val_f1: 0.8307\n",
      "Epoch 5/30\n",
      "237/237 [==============================] - 77s 324ms/step - loss: 0.0080 - accuracy: 0.9740 - precision: 0.9821 - recall: 0.9688 - f1: 0.9754 - val_loss: 0.0457 - val_accuracy: 0.8229 - val_precision: 0.8363 - val_recall: 0.8176 - val_f1: 0.8267\n",
      "Epoch 6/30\n",
      "237/237 [==============================] - 76s 320ms/step - loss: 0.0051 - accuracy: 0.9832 - precision: 0.9876 - recall: 0.9820 - f1: 0.9848 - val_loss: 0.0521 - val_accuracy: 0.8300 - val_precision: 0.8368 - val_recall: 0.8266 - val_f1: 0.8316\n",
      "Epoch 7/30\n",
      "237/237 [==============================] - 76s 320ms/step - loss: 0.0032 - accuracy: 0.9915 - precision: 0.9937 - recall: 0.9895 - f1: 0.9916 - val_loss: 0.0561 - val_accuracy: 0.8165 - val_precision: 0.8248 - val_recall: 0.8135 - val_f1: 0.8190\n",
      "Epoch 8/30\n",
      "237/237 [==============================] - 76s 319ms/step - loss: 0.0025 - accuracy: 0.9932 - precision: 0.9943 - recall: 0.9917 - f1: 0.9930 - val_loss: 0.0597 - val_accuracy: 0.8202 - val_precision: 0.8270 - val_recall: 0.8187 - val_f1: 0.8228\n",
      "Epoch 9/30\n",
      "237/237 [==============================] - 76s 320ms/step - loss: 0.0020 - accuracy: 0.9938 - precision: 0.9944 - recall: 0.9932 - f1: 0.9938 - val_loss: 0.0631 - val_accuracy: 0.8268 - val_precision: 0.8327 - val_recall: 0.8281 - val_f1: 0.8304\n",
      "Epoch 10/30\n",
      "237/237 [==============================] - 76s 321ms/step - loss: 0.0014 - accuracy: 0.9961 - precision: 0.9964 - recall: 0.9958 - f1: 0.9961 - val_loss: 0.0651 - val_accuracy: 0.8271 - val_precision: 0.8348 - val_recall: 0.8266 - val_f1: 0.8306\n",
      "Epoch 11/30\n",
      "237/237 [==============================] - 76s 319ms/step - loss: 0.0018 - accuracy: 0.9954 - precision: 0.9954 - recall: 0.9950 - f1: 0.9952 - val_loss: 0.0687 - val_accuracy: 0.8234 - val_precision: 0.8298 - val_recall: 0.8242 - val_f1: 0.8270\n",
      "Epoch 12/30\n",
      "237/237 [==============================] - 77s 324ms/step - loss: 0.0011 - accuracy: 0.9967 - precision: 0.9967 - recall: 0.9967 - f1: 0.9967 - val_loss: 0.0678 - val_accuracy: 0.8178 - val_precision: 0.8235 - val_recall: 0.8185 - val_f1: 0.8209\n",
      "Epoch 13/30\n",
      "237/237 [==============================] - 75s 318ms/step - loss: 0.0011 - accuracy: 0.9962 - precision: 0.9963 - recall: 0.9962 - f1: 0.9962 - val_loss: 0.0675 - val_accuracy: 0.8210 - val_precision: 0.8254 - val_recall: 0.8205 - val_f1: 0.8229\n",
      "Epoch 14/30\n",
      "237/237 [==============================] - 76s 320ms/step - loss: 0.0012 - accuracy: 0.9956 - precision: 0.9958 - recall: 0.9956 - f1: 0.9957 - val_loss: 0.0715 - val_accuracy: 0.8292 - val_precision: 0.8341 - val_recall: 0.8302 - val_f1: 0.8321\n",
      "Epoch 15/30\n",
      "237/237 [==============================] - 76s 319ms/step - loss: 0.0011 - accuracy: 0.9958 - precision: 0.9959 - recall: 0.9958 - f1: 0.9959 - val_loss: 0.0754 - val_accuracy: 0.8163 - val_precision: 0.8212 - val_recall: 0.8158 - val_f1: 0.8185\n",
      "Epoch 16/30\n",
      "237/237 [==============================] - 75s 318ms/step - loss: 9.3529e-04 - accuracy: 0.9959 - precision: 0.9959 - recall: 0.9959 - f1: 0.9959 - val_loss: 0.0747 - val_accuracy: 0.8189 - val_precision: 0.8245 - val_recall: 0.8195 - val_f1: 0.8220\n",
      "Epoch 17/30\n",
      "237/237 [==============================] - 76s 319ms/step - loss: 9.9294e-04 - accuracy: 0.9961 - precision: 0.9963 - recall: 0.9959 - f1: 0.9961 - val_loss: 0.0751 - val_accuracy: 0.8105 - val_precision: 0.8131 - val_recall: 0.8086 - val_f1: 0.8108\n",
      "Epoch 18/30\n",
      "237/237 [==============================] - 76s 319ms/step - loss: 0.0016 - accuracy: 0.9938 - precision: 0.9939 - recall: 0.9937 - f1: 0.9938 - val_loss: 0.0788 - val_accuracy: 0.8044 - val_precision: 0.8078 - val_recall: 0.8033 - val_f1: 0.8055\n",
      "Epoch 19/30\n",
      "237/237 [==============================] - 76s 319ms/step - loss: 0.0017 - accuracy: 0.9945 - precision: 0.9945 - recall: 0.9944 - f1: 0.9945 - val_loss: 0.0823 - val_accuracy: 0.8123 - val_precision: 0.8159 - val_recall: 0.8113 - val_f1: 0.8136\n",
      "Epoch 20/30\n",
      "237/237 [==============================] - 76s 320ms/step - loss: 0.0011 - accuracy: 0.9958 - precision: 0.9959 - recall: 0.9958 - f1: 0.9958 - val_loss: 0.0834 - val_accuracy: 0.8060 - val_precision: 0.8090 - val_recall: 0.8053 - val_f1: 0.8071\n",
      "Epoch 21/30\n",
      "237/237 [==============================] - 76s 319ms/step - loss: 0.0011 - accuracy: 0.9957 - precision: 0.9958 - recall: 0.9956 - f1: 0.9957 - val_loss: 0.0859 - val_accuracy: 0.8147 - val_precision: 0.8178 - val_recall: 0.8141 - val_f1: 0.8160\n",
      "Epoch 22/30\n",
      "237/237 [==============================] - 75s 318ms/step - loss: 7.9025e-04 - accuracy: 0.9977 - precision: 0.9977 - recall: 0.9975 - f1: 0.9976 - val_loss: 0.0893 - val_accuracy: 0.8155 - val_precision: 0.8177 - val_recall: 0.8158 - val_f1: 0.8168\n",
      "Epoch 23/30\n",
      "237/237 [==============================] - 75s 318ms/step - loss: 6.2955e-04 - accuracy: 0.9972 - precision: 0.9972 - recall: 0.9971 - f1: 0.9972 - val_loss: 0.0838 - val_accuracy: 0.8173 - val_precision: 0.8216 - val_recall: 0.8174 - val_f1: 0.8194\n",
      "Epoch 24/30\n",
      "237/237 [==============================] - 76s 319ms/step - loss: 6.8237e-04 - accuracy: 0.9969 - precision: 0.9970 - recall: 0.9969 - f1: 0.9969 - val_loss: 0.0865 - val_accuracy: 0.8168 - val_precision: 0.8211 - val_recall: 0.8188 - val_f1: 0.8199\n",
      "Epoch 25/30\n",
      "237/237 [==============================] - 76s 320ms/step - loss: 6.0776e-04 - accuracy: 0.9972 - precision: 0.9975 - recall: 0.9972 - f1: 0.9973 - val_loss: 0.0925 - val_accuracy: 0.8126 - val_precision: 0.8158 - val_recall: 0.8137 - val_f1: 0.8148\n",
      "Epoch 26/30\n",
      "237/237 [==============================] - 76s 319ms/step - loss: 7.4923e-04 - accuracy: 0.9966 - precision: 0.9966 - recall: 0.9965 - f1: 0.9966 - val_loss: 0.0901 - val_accuracy: 0.8120 - val_precision: 0.8169 - val_recall: 0.8122 - val_f1: 0.8145\n",
      "Epoch 27/30\n",
      "237/237 [==============================] - 76s 320ms/step - loss: 5.2801e-04 - accuracy: 0.9972 - precision: 0.9973 - recall: 0.9969 - f1: 0.9971 - val_loss: 0.0926 - val_accuracy: 0.8155 - val_precision: 0.8193 - val_recall: 0.8161 - val_f1: 0.8177\n",
      "Epoch 28/30\n",
      "237/237 [==============================] - 76s 319ms/step - loss: 6.8812e-04 - accuracy: 0.9970 - precision: 0.9973 - recall: 0.9970 - f1: 0.9972 - val_loss: 0.0965 - val_accuracy: 0.8112 - val_precision: 0.8150 - val_recall: 0.8105 - val_f1: 0.8127\n",
      "Epoch 29/30\n",
      "237/237 [==============================] - 75s 318ms/step - loss: 7.1401e-04 - accuracy: 0.9966 - precision: 0.9966 - recall: 0.9964 - f1: 0.9965 - val_loss: 0.1095 - val_accuracy: 0.8049 - val_precision: 0.8096 - val_recall: 0.8054 - val_f1: 0.8074\n",
      "Epoch 30/30\n",
      "237/237 [==============================] - 76s 319ms/step - loss: 8.8012e-04 - accuracy: 0.9958 - precision: 0.9961 - recall: 0.9957 - f1: 0.9959 - val_loss: 0.1060 - val_accuracy: 0.8144 - val_precision: 0.8187 - val_recall: 0.8159 - val_f1: 0.8173\n"
     ]
    }
   ],
   "source": [
    "from keras.callbacks import ModelCheckpoint\n",
    "from keras import backend as K \n",
    "checkpoint = ModelCheckpoint(r\"cnn_bert_weights/CNN_Bert_classifier_64-{epoch:02d}-{val_f1:.2f}.hdf5\", # Сохраняем модель с лучшим val_f1\n",
    "                             monitor='val_f1', save_best_only=True, mode='max')\n",
    "history = text_model.fit(X_train, Y_train, batch_size=64, epochs=30, validation_split=0.2, callbacks = [checkpoint])"
   ]
  },
  {
   "cell_type": "code",
   "execution_count": 92,
   "metadata": {},
   "outputs": [
    {
     "data": {
      "image/png": "[encoded data removed]",
      "text/plain": [
       "<Figure size 1152x648 with 4 Axes>"
      ]
     },
     "metadata": {},
     "output_type": "display_data"
    }
   ],
   "source": [
    "import matplotlib.pyplot as plt\n",
    "\n",
    "plt.style.use('ggplot')\n",
    "\n",
    "\n",
    "def plot_metrix(ax, x1, x2, title):\n",
    "    ax.plot(range(1, len(x1) + 1), x1, label='train')\n",
    "    ax.plot(range(1, len(x2) + 1), x2, label='val')\n",
    "    ax.set_ylabel(title)\n",
    "    ax.set_xlabel('Epoch')\n",
    "    ax.legend()\n",
    "    ax.margins(0)\n",
    "\n",
    "\n",
    "def plot_history(history):\n",
    "    fig, axes = plt.subplots(ncols=2, nrows=2, figsize=(16, 9))\n",
    "    ax1, ax2, ax3, ax4 = axes.ravel()\n",
    "\n",
    "    plot_metrix(ax1, history.history['precision'], history.history['val_precision'], 'Precision')\n",
    "    plot_metrix(ax2, history.history['recall'], history.history['val_recall'], 'Recall')\n",
    "    plot_metrix(ax3, history.history['f1'], history.history['val_f1'], \"$F_1$\")\n",
    "    plot_metrix(ax4, history.history['loss'], history.history['val_loss'], 'Loss')\n",
    "    plot_metrix(ax4, history.history['accuracy'], history.history['val_accuracy'], 'Accuracy')\n",
    "\n",
    "    plt.show()\n",
    "\n",
    "plot_history(history)"
   ]
  },
  {
   "cell_type": "code",
   "execution_count": 94,
   "metadata": {},
   "outputs": [
    {
     "name": "stdout",
     "output_type": "stream",
     "text": [
      "Оценки тестового набора:\n",
      "              precision    recall  f1-score   support\n",
      "\n",
      "           0      0.724     0.362     0.483        58\n",
      "           1      0.955     0.948     0.951       134\n",
      "           2      0.828     0.845     0.837      2212\n",
      "           3      0.000     0.000     0.000         9\n",
      "           4      0.677     0.808     0.737        26\n",
      "           5      0.833     0.714     0.769        21\n",
      "           6      0.393     0.733     0.512        15\n",
      "           7      0.000     0.000     0.000         8\n",
      "           8      0.812     0.619     0.703        21\n",
      "           9      0.952     1.000     0.976        40\n",
      "          10      0.911     0.915     0.913       212\n",
      "          11      0.000     0.000     0.000         4\n",
      "          12      0.848     0.838     0.843       160\n",
      "          13      0.000     0.000     0.000         3\n",
      "          14      0.881     0.835     0.857       327\n",
      "          15      0.653     0.386     0.485        83\n",
      "          16      0.905     0.896     0.900       106\n",
      "          17      0.800     0.364     0.500        11\n",
      "          18      0.000     0.000     0.000         7\n",
      "          19      0.000     0.000     0.000         5\n",
      "          20      0.000     0.000     0.000         4\n",
      "          21      0.647     0.647     0.647        17\n",
      "          22      0.000     0.000     0.000         2\n",
      "          23      0.763     0.809     0.785      1238\n",
      "          24      0.000     0.000     0.000        10\n",
      "          25      0.000     0.000     0.000         1\n",
      "\n",
      "    accuracy                          0.816      4734\n",
      "   macro avg      0.484     0.451     0.458      4734\n",
      "weighted avg      0.809     0.816     0.810      4734\n",
      "\n",
      "0.7356332634073283\n"
     ]
    }
   ],
   "source": [
    "text_model.load_weights('cnn_bert_weights/CNN_Bert_classifier_64-14-0.83.hdf5')\n",
    "\n",
    "from sklearn.metrics import classification_report\n",
    "print(\"Оценки тестового набора:\")\n",
    "predicted = np.array(text_model.predict(X_test))\n",
    "predicted = np.argmax(predicted, axis=1)\n",
    "Y_test = np.array(Y_test)\n",
    "print(classification_report(Y_test, predicted, digits=3))\n",
    "print(matthews_corrcoef(Y_test, predicted))"
   ]
  },
  {
   "cell_type": "code",
   "execution_count": null,
   "metadata": {},
   "outputs": [],
   "source": []
  }
 ],
 "metadata": {
  "accelerator": "GPU",
  "colab": {
   "collapsed_sections": [],
   "name": "NLP_bert_tokenizer_2.ipynb",
   "provenance": []
  },
  "kernelspec": {
   "display_name": "Python 3",
   "language": "python",
   "name": "python3"
  },
  "language_info": {
   "codemirror_mode": {
    "name": "ipython",
    "version": 3
   },
   "file_extension": ".py",
   "mimetype": "text/x-python",
   "name": "python",
   "nbconvert_exporter": "python",
   "pygments_lexer": "ipython3",
   "version": "3.6.9"
  }
 },
 "nbformat": 4,
 "nbformat_minor": 1
}

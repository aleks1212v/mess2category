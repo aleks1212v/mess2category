{
 "cells": [
  {
   "cell_type": "code",
   "execution_count": 17,
   "metadata": {
    "colab": {
     "base_uri": "https://localhost:8080/"
    },
    "executionInfo": {
     "elapsed": 9932,
     "status": "ok",
     "timestamp": 1614576544771,
     "user": {
      "displayName": "Алексей Витомсков",
      "photoUrl": "",
      "userId": "09837648934599257287"
     },
     "user_tz": -300
    },
    "gradient": {},
    "id": "3VX2JbVeTepN",
    "outputId": "dae294d8-c936-4df0-bb08-e39e84f3b95f"
   },
   "outputs": [],
   "source": [
    "#pip install bert-for-tf2"
   ]
  },
  {
   "cell_type": "code",
   "execution_count": 18,
   "metadata": {
    "gradient": {}
   },
   "outputs": [],
   "source": [
    "#pip install sentencepiece"
   ]
  },
  {
   "cell_type": "code",
   "execution_count": 19,
   "metadata": {
    "gradient": {}
   },
   "outputs": [],
   "source": [
    "#pip install keras"
   ]
  },
  {
   "cell_type": "code",
   "execution_count": 20,
   "metadata": {
    "gradient": {}
   },
   "outputs": [],
   "source": [
    "#pip install --upgrade --force-reinstall tensorflow-estimator==1.15.1"
   ]
  },
  {
   "cell_type": "code",
   "execution_count": 21,
   "metadata": {},
   "outputs": [],
   "source": [
    "#pip install keras"
   ]
  },
  {
   "cell_type": "code",
   "execution_count": 22,
   "metadata": {},
   "outputs": [
    {
     "name": "stdout",
     "output_type": "stream",
     "text": [
      "/usr/lib/python3/dist-packages/secretstorage/dhcrypto.py:15: CryptographyDeprecationWarning: int_from_bytes is deprecated, use int.from_bytes instead\n",
      "  from cryptography.utils import int_from_bytes\n",
      "/usr/lib/python3/dist-packages/secretstorage/util.py:19: CryptographyDeprecationWarning: int_from_bytes is deprecated, use int.from_bytes instead\n",
      "  from cryptography.utils import int_from_bytes\n",
      "Requirement already satisfied: tensorflow==2.4.0 in /usr/local/lib/python3.6/dist-packages (2.4.0)\n",
      "Requirement already satisfied: tensorboard~=2.4 in /usr/local/lib/python3.6/dist-packages (from tensorflow==2.4.0) (2.5.0)\n",
      "Requirement already satisfied: six~=1.15.0 in /usr/local/lib/python3.6/dist-packages (from tensorflow==2.4.0) (1.15.0)\n",
      "Requirement already satisfied: typing-extensions~=3.7.4 in /usr/local/lib/python3.6/dist-packages (from tensorflow==2.4.0) (3.7.4.3)\n",
      "Requirement already satisfied: astunparse~=1.6.3 in /usr/local/lib/python3.6/dist-packages (from tensorflow==2.4.0) (1.6.3)\n",
      "Requirement already satisfied: opt-einsum~=3.3.0 in /usr/local/lib/python3.6/dist-packages (from tensorflow==2.4.0) (3.3.0)\n",
      "Requirement already satisfied: grpcio~=1.32.0 in /usr/local/lib/python3.6/dist-packages (from tensorflow==2.4.0) (1.32.0)\n",
      "Requirement already satisfied: termcolor~=1.1.0 in /usr/local/lib/python3.6/dist-packages (from tensorflow==2.4.0) (1.1.0)\n",
      "Requirement already satisfied: google-pasta~=0.2 in /usr/local/lib/python3.6/dist-packages (from tensorflow==2.4.0) (0.2.0)\n",
      "Requirement already satisfied: wheel~=0.35 in /usr/local/lib/python3.6/dist-packages (from tensorflow==2.4.0) (0.36.2)\n",
      "Requirement already satisfied: flatbuffers~=1.12.0 in /usr/local/lib/python3.6/dist-packages (from tensorflow==2.4.0) (1.12)\n",
      "Requirement already satisfied: absl-py~=0.10 in /usr/local/lib/python3.6/dist-packages (from tensorflow==2.4.0) (0.12.0)\n",
      "Requirement already satisfied: wrapt~=1.12.1 in /usr/local/lib/python3.6/dist-packages (from tensorflow==2.4.0) (1.12.1)\n",
      "Requirement already satisfied: numpy~=1.19.2 in /usr/local/lib/python3.6/dist-packages (from tensorflow==2.4.0) (1.19.5)\n",
      "Requirement already satisfied: keras-preprocessing~=1.1.2 in /usr/local/lib/python3.6/dist-packages (from tensorflow==2.4.0) (1.1.2)\n",
      "Requirement already satisfied: tensorflow-estimator<2.5.0,>=2.4.0rc0 in /usr/local/lib/python3.6/dist-packages (from tensorflow==2.4.0) (2.4.0)\n",
      "Requirement already satisfied: protobuf>=3.9.2 in /usr/local/lib/python3.6/dist-packages (from tensorflow==2.4.0) (3.16.0)\n",
      "Requirement already satisfied: gast==0.3.3 in /usr/local/lib/python3.6/dist-packages (from tensorflow==2.4.0) (0.3.3)\n",
      "Requirement already satisfied: h5py~=2.10.0 in /usr/local/lib/python3.6/dist-packages (from tensorflow==2.4.0) (2.10.0)\n",
      "Requirement already satisfied: google-auth-oauthlib<0.5,>=0.4.1 in /usr/local/lib/python3.6/dist-packages (from tensorboard~=2.4->tensorflow==2.4.0) (0.4.4)\n",
      "Requirement already satisfied: tensorboard-data-server<0.7.0,>=0.6.0 in /usr/local/lib/python3.6/dist-packages (from tensorboard~=2.4->tensorflow==2.4.0) (0.6.1)\n",
      "Requirement already satisfied: markdown>=2.6.8 in /usr/local/lib/python3.6/dist-packages (from tensorboard~=2.4->tensorflow==2.4.0) (3.3.4)\n",
      "Requirement already satisfied: werkzeug>=0.11.15 in /usr/local/lib/python3.6/dist-packages (from tensorboard~=2.4->tensorflow==2.4.0) (1.0.1)\n",
      "Requirement already satisfied: setuptools>=41.0.0 in /usr/local/lib/python3.6/dist-packages (from tensorboard~=2.4->tensorflow==2.4.0) (56.1.0)\n",
      "Requirement already satisfied: google-auth<2,>=1.6.3 in /usr/local/lib/python3.6/dist-packages (from tensorboard~=2.4->tensorflow==2.4.0) (1.30.0)\n",
      "Requirement already satisfied: requests<3,>=2.21.0 in /usr/local/lib/python3.6/dist-packages (from tensorboard~=2.4->tensorflow==2.4.0) (2.25.1)\n",
      "Requirement already satisfied: tensorboard-plugin-wit>=1.6.0 in /usr/local/lib/python3.6/dist-packages (from tensorboard~=2.4->tensorflow==2.4.0) (1.8.0)\n",
      "Requirement already satisfied: cachetools<5.0,>=2.0.0 in /usr/local/lib/python3.6/dist-packages (from google-auth<2,>=1.6.3->tensorboard~=2.4->tensorflow==2.4.0) (4.2.2)\n",
      "Requirement already satisfied: pyasn1-modules>=0.2.1 in /usr/local/lib/python3.6/dist-packages (from google-auth<2,>=1.6.3->tensorboard~=2.4->tensorflow==2.4.0) (0.2.8)\n",
      "Requirement already satisfied: rsa<5,>=3.1.4 in /usr/local/lib/python3.6/dist-packages (from google-auth<2,>=1.6.3->tensorboard~=2.4->tensorflow==2.4.0) (4.7.2)\n",
      "Requirement already satisfied: requests-oauthlib>=0.7.0 in /usr/local/lib/python3.6/dist-packages (from google-auth-oauthlib<0.5,>=0.4.1->tensorboard~=2.4->tensorflow==2.4.0) (1.3.0)\n",
      "Requirement already satisfied: importlib-metadata in /usr/local/lib/python3.6/dist-packages (from markdown>=2.6.8->tensorboard~=2.4->tensorflow==2.4.0) (4.0.1)\n",
      "Requirement already satisfied: pyasn1<0.5.0,>=0.4.6 in /usr/local/lib/python3.6/dist-packages (from pyasn1-modules>=0.2.1->google-auth<2,>=1.6.3->tensorboard~=2.4->tensorflow==2.4.0) (0.4.8)\n",
      "Requirement already satisfied: urllib3<1.27,>=1.21.1 in /usr/local/lib/python3.6/dist-packages (from requests<3,>=2.21.0->tensorboard~=2.4->tensorflow==2.4.0) (1.26.4)\n",
      "Requirement already satisfied: idna<3,>=2.5 in /usr/local/lib/python3.6/dist-packages (from requests<3,>=2.21.0->tensorboard~=2.4->tensorflow==2.4.0) (2.10)\n",
      "Requirement already satisfied: certifi>=2017.4.17 in /usr/local/lib/python3.6/dist-packages (from requests<3,>=2.21.0->tensorboard~=2.4->tensorflow==2.4.0) (2020.12.5)\n",
      "Requirement already satisfied: chardet<5,>=3.0.2 in /usr/local/lib/python3.6/dist-packages (from requests<3,>=2.21.0->tensorboard~=2.4->tensorflow==2.4.0) (4.0.0)\n",
      "Requirement already satisfied: oauthlib>=3.0.0 in /usr/local/lib/python3.6/dist-packages (from requests-oauthlib>=0.7.0->google-auth-oauthlib<0.5,>=0.4.1->tensorboard~=2.4->tensorflow==2.4.0) (3.1.0)\n",
      "Requirement already satisfied: zipp>=0.5 in /usr/local/lib/python3.6/dist-packages (from importlib-metadata->markdown>=2.6.8->tensorboard~=2.4->tensorflow==2.4.0) (3.4.1)\n",
      "\u001b[33mWARNING: Running pip as root will break packages and permissions. You should install packages reliably by using venv: https://pip.pypa.io/warnings/venv\u001b[0m\n",
      "Note: you may need to restart the kernel to use updated packages.\n"
     ]
    }
   ],
   "source": [
    "pip install tensorflow==2.4.0"
   ]
  },
  {
   "cell_type": "code",
   "execution_count": 23,
   "metadata": {
    "executionInfo": {
     "elapsed": 11538,
     "status": "ok",
     "timestamp": 1614576546380,
     "user": {
      "displayName": "Алексей Витомсков",
      "photoUrl": "",
      "userId": "09837648934599257287"
     },
     "user_tz": -300
    },
    "gradient": {},
    "id": "vLrng9ghAPBE"
   },
   "outputs": [],
   "source": [
    "try:\n",
    "    %tensorflow_version 2.x\n",
    "except Exception:\n",
    "    pass\n",
    "import tensorflow as tf\n",
    "\n",
    "import tensorflow_hub as hub\n",
    "\n",
    "from tensorflow.keras import layers\n",
    "import bert"
   ]
  },
  {
   "cell_type": "code",
   "execution_count": 24,
   "metadata": {
    "executionInfo": {
     "elapsed": 11538,
     "status": "ok",
     "timestamp": 1614576546382,
     "user": {
      "displayName": "Алексей Витомсков",
      "photoUrl": "",
      "userId": "09837648934599257287"
     },
     "user_tz": -300
    },
    "gradient": {},
    "id": "eKZ8_7unJ8EG"
   },
   "outputs": [],
   "source": [
    "import pandas as pd\n",
    "import re\n",
    "import numpy as np\n",
    "import random\n",
    "import math"
   ]
  },
  {
   "cell_type": "code",
   "execution_count": 25,
   "metadata": {
    "colab": {
     "base_uri": "https://localhost:8080/",
     "height": 193
    },
    "executionInfo": {
     "elapsed": 47542,
     "status": "ok",
     "timestamp": 1614576582401,
     "user": {
      "displayName": "Алексей Витомсков",
      "photoUrl": "",
      "userId": "09837648934599257287"
     },
     "user_tz": -300
    },
    "gradient": {},
    "id": "zeZsq2YUAyZa",
    "outputId": "3c45b3a9-46f8-44e2-c674-1c42934c4728"
   },
   "outputs": [
    {
     "name": "stdout",
     "output_type": "stream",
     "text": [
      "Index(['level_0', 'index', 'categories', 'description', 'worker',\n",
      "       'description_prep', 'num_words', 'description_stem'],\n",
      "      dtype='object')\n"
     ]
    },
    {
     "data": {
      "text/html": [
       "<div>\n",
       "<style scoped>\n",
       "    .dataframe tbody tr th:only-of-type {\n",
       "        vertical-align: middle;\n",
       "    }\n",
       "\n",
       "    .dataframe tbody tr th {\n",
       "        vertical-align: top;\n",
       "    }\n",
       "\n",
       "    .dataframe thead th {\n",
       "        text-align: right;\n",
       "    }\n",
       "</style>\n",
       "<table border=\"1\" class=\"dataframe\">\n",
       "  <thead>\n",
       "    <tr style=\"text-align: right;\">\n",
       "      <th></th>\n",
       "      <th>categories</th>\n",
       "      <th>description_stem</th>\n",
       "    </tr>\n",
       "  </thead>\n",
       "  <tbody>\n",
       "    <tr>\n",
       "      <th>0</th>\n",
       "      <td>Благоустройство территории</td>\n",
       "      <td>трасса нижнекамск чистополь лесополоса пгт кам...</td>\n",
       "    </tr>\n",
       "    <tr>\n",
       "      <th>1</th>\n",
       "      <td>Благоустройство территории</td>\n",
       "      <td>двор дом ленинградский отсутствовать парковочн...</td>\n",
       "    </tr>\n",
       "    <tr>\n",
       "      <th>2</th>\n",
       "      <td>Содержание и ремонт муниципальных дорог</td>\n",
       "      <td>добрый день осуществляться уборка снег центр г...</td>\n",
       "    </tr>\n",
       "  </tbody>\n",
       "</table>\n",
       "</div>"
      ],
      "text/plain": [
       "                                categories  \\\n",
       "0               Благоустройство территории   \n",
       "1               Благоустройство территории   \n",
       "2  Содержание и ремонт муниципальных дорог   \n",
       "\n",
       "                                    description_stem  \n",
       "0  трасса нижнекамск чистополь лесополоса пгт кам...  \n",
       "1  двор дом ленинградский отсутствовать парковочн...  \n",
       "2  добрый день осуществляться уборка снег центр г...  "
      ]
     },
     "execution_count": 25,
     "metadata": {},
     "output_type": "execute_result"
    }
   ],
   "source": [
    "data = pd.read_csv('tatarstan_message_2.csv', sep = ',')\n",
    "print(data.columns)\n",
    "data = data[['categories', 'description_stem']]\n",
    "data.head(3)"
   ]
  },
  {
   "cell_type": "code",
   "execution_count": 26,
   "metadata": {
    "colab": {
     "base_uri": "https://localhost:8080/"
    },
    "executionInfo": {
     "elapsed": 881,
     "status": "ok",
     "timestamp": 1614576583947,
     "user": {
      "displayName": "Алексей Витомсков",
      "photoUrl": "",
      "userId": "09837648934599257287"
     },
     "user_tz": -300
    },
    "gradient": {},
    "id": "eLmjhj82Tepi",
    "outputId": "2b9ba4c3-8de8-4760-b395-1e3d020dbc67"
   },
   "outputs": [
    {
     "name": "stdout",
     "output_type": "stream",
     "text": [
      "       Cвалки  Бездомные животные  Благоустройство территории  Вода  Воздух  \\\n",
      "0           0                   0                           1     0       0   \n",
      "1           0                   0                           1     0       0   \n",
      "2           0                   0                           0     0       0   \n",
      "3           0                   0                           1     0       0   \n",
      "4           0                   0                           0     0       0   \n",
      "...       ...                 ...                         ...   ...     ...   \n",
      "23665       0                   0                           0     0       0   \n",
      "23666       0                   0                           1     0       0   \n",
      "23667       1                   0                           0     0       0   \n",
      "23668       0                   0                           1     0       0   \n",
      "23669       0                   0                           1     0       0   \n",
      "\n",
      "       Детские сады  Доступная среда  Жилищное строительство  \\\n",
      "0                 0                0                       0   \n",
      "1                 0                0                       0   \n",
      "2                 0                0                       0   \n",
      "3                 0                0                       0   \n",
      "4                 0                0                       0   \n",
      "...             ...              ...                     ...   \n",
      "23665             0                0                       0   \n",
      "23666             0                0                       0   \n",
      "23667             0                0                       0   \n",
      "23668             0                0                       0   \n",
      "23669             0                0                       0   \n",
      "\n",
      "       Капитальный ремонт  Мобильная связь  ...  Поликлиники и больницы  \\\n",
      "0                       0                0  ...                       0   \n",
      "1                       0                0  ...                       0   \n",
      "2                       0                0  ...                       0   \n",
      "3                       0                0  ...                       0   \n",
      "4                       0                0  ...                       0   \n",
      "...                   ...              ...  ...                     ...   \n",
      "23665                   0                0  ...                       0   \n",
      "23666                   0                0  ...                       0   \n",
      "23667                   0                0  ...                       0   \n",
      "23668                   0                0  ...                       0   \n",
      "23669                   0                0  ...                       0   \n",
      "\n",
      "       Почта  Работа спортивных объектов  Работа учреждений культуры  \\\n",
      "0          0                           0                           0   \n",
      "1          0                           0                           0   \n",
      "2          0                           0                           0   \n",
      "3          0                           0                           0   \n",
      "4          0                           0                           0   \n",
      "...      ...                         ...                         ...   \n",
      "23665      0                           0                           0   \n",
      "23666      0                           0                           0   \n",
      "23667      0                           0                           0   \n",
      "23668      0                           0                           0   \n",
      "23669      0                           0                           0   \n",
      "\n",
      "       Садоводческие, огороднические и дачные некоммерческие объединения  \\\n",
      "0                                                      0                   \n",
      "1                                                      0                   \n",
      "2                                                      0                   \n",
      "3                                                      0                   \n",
      "4                                                      0                   \n",
      "...                                                  ...                   \n",
      "23665                                                  0                   \n",
      "23666                                                  0                   \n",
      "23667                                                  0                   \n",
      "23668                                                  0                   \n",
      "23669                                                  0                   \n",
      "\n",
      "       Санитарное состояние  Сельское хозяйство  \\\n",
      "0                         0                   0   \n",
      "1                         0                   0   \n",
      "2                         0                   0   \n",
      "3                         0                   0   \n",
      "4                         0                   0   \n",
      "...                     ...                 ...   \n",
      "23665                     0                   0   \n",
      "23666                     0                   0   \n",
      "23667                     0                   0   \n",
      "23668                     0                   0   \n",
      "23669                     0                   0   \n",
      "\n",
      "       Содержание и ремонт муниципальных дорог  \\\n",
      "0                                            0   \n",
      "1                                            0   \n",
      "2                                            1   \n",
      "3                                            0   \n",
      "4                                            1   \n",
      "...                                        ...   \n",
      "23665                                        0   \n",
      "23666                                        0   \n",
      "23667                                        0   \n",
      "23668                                        0   \n",
      "23669                                        0   \n",
      "\n",
      "       Содержание и ремонт федеральных и республиканских дорог  \\\n",
      "0                                                      0         \n",
      "1                                                      0         \n",
      "2                                                      0         \n",
      "3                                                      0         \n",
      "4                                                      0         \n",
      "...                                                  ...         \n",
      "23665                                                  0         \n",
      "23666                                                  0         \n",
      "23667                                                  0         \n",
      "23668                                                  0         \n",
      "23669                                                  0         \n",
      "\n",
      "       Цифровое телевидение  \n",
      "0                         0  \n",
      "1                         0  \n",
      "2                         0  \n",
      "3                         0  \n",
      "4                         0  \n",
      "...                     ...  \n",
      "23665                     0  \n",
      "23666                     0  \n",
      "23667                     0  \n",
      "23668                     0  \n",
      "23669                     0  \n",
      "\n",
      "[23670 rows x 26 columns]\n"
     ]
    }
   ],
   "source": [
    "X = [x for x in data['description_stem']]\n",
    "Y = pd.get_dummies(data['categories'])\n",
    "#Y = np.argmax(np.array(Y), axis = 1)\n",
    "#Y =  data.categories.replace(data.categories.unique(), range(data.categories.unique().shape[0]), inplace=False) \n",
    "print(Y)\n",
    "#print(data.categories.unique().shape[0])"
   ]
  },
  {
   "cell_type": "code",
   "execution_count": 27,
   "metadata": {
    "colab": {
     "base_uri": "https://localhost:8080/"
    },
    "executionInfo": {
     "elapsed": 862,
     "status": "ok",
     "timestamp": 1614576586454,
     "user": {
      "displayName": "Алексей Витомсков",
      "photoUrl": "",
      "userId": "09837648934599257287"
     },
     "user_tz": -300
    },
    "gradient": {},
    "id": "FNlFQvJcLS3k",
    "outputId": "80540cb6-ea16-4647-b132-717d84099ca1"
   },
   "outputs": [
    {
     "data": {
      "text/plain": [
       "array(['Благоустройство территории',\n",
       "       'Содержание и ремонт муниципальных дорог',\n",
       "       'Поликлиники и больницы', 'Бездомные животные', 'Парки и скверы',\n",
       "       'Мобильная связь', 'Организация дорожного движения',\n",
       "       'Незаконные азартные игры', 'Санитарное состояние',\n",
       "       'Нарушение в наружной рекламе', 'Работа спортивных объектов',\n",
       "       'Капитальный ремонт', 'Общественный транспорт', 'Воздух',\n",
       "       'Садоводческие, огороднические и дачные некоммерческие объединения',\n",
       "       'Детские сады', 'Доступная среда', 'Жилищное строительство',\n",
       "       'Почта', 'Вода',\n",
       "       'Содержание и ремонт федеральных и республиканских дорог',\n",
       "       'Cвалки', 'Работа учреждений культуры',\n",
       "       'Объекты культурного наследия', 'Сельское хозяйство',\n",
       "       'Цифровое телевидение'], dtype=object)"
      ]
     },
     "execution_count": 27,
     "metadata": {},
     "output_type": "execute_result"
    }
   ],
   "source": [
    "data.categories.unique()"
   ]
  },
  {
   "cell_type": "code",
   "execution_count": 28,
   "metadata": {
    "executionInfo": {
     "elapsed": 28363,
     "status": "ok",
     "timestamp": 1614576616811,
     "user": {
      "displayName": "Алексей Витомсков",
      "photoUrl": "",
      "userId": "09837648934599257287"
     },
     "user_tz": -300
    },
    "gradient": {},
    "id": "mydpj6H8MzsZ"
   },
   "outputs": [],
   "source": [
    "tokenizer = bert.bert_tokenization.FullTokenizer(vocab_file=\"bert_model/vocab.txt\",\n",
    "     do_lower_case=True)\n",
    "bert_layer = hub.KerasLayer(\"/notebooks/bert_model\",\n",
    "                            trainable=False, signature='tokens' , signature_outputs_as_dict=True)\n",
    "#vocabulary_file = bert_layer.resolved_object.vocab_file.asset_path.numpy()\n",
    "#to_lower_case = bert_layer.resolved_object.do_lower_case.numpy()\n",
    "#tokenizer = BertTokenizer(vocabulary_file, to_lower_case)"
   ]
  },
  {
   "cell_type": "code",
   "execution_count": 29,
   "metadata": {
    "colab": {
     "base_uri": "https://localhost:8080/"
    },
    "executionInfo": {
     "elapsed": 28255,
     "status": "ok",
     "timestamp": 1614576619123,
     "user": {
      "displayName": "Алексей Витомсков",
      "photoUrl": "",
      "userId": "09837648934599257287"
     },
     "user_tz": -300
    },
    "gradient": {},
    "id": "ToFtw2AcNyrn",
    "outputId": "6328b7d6-18f2-4324-a551-d5b040a17670"
   },
   "outputs": [
    {
     "data": {
      "text/plain": [
       "['don', \"'\", 't', 'be', 'so', 'j', '##ud', '##g', '##ment', '##al']"
      ]
     },
     "execution_count": 29,
     "metadata": {},
     "output_type": "execute_result"
    }
   ],
   "source": [
    "tokenizer.tokenize(\"don't be so judgmental\")"
   ]
  },
  {
   "cell_type": "code",
   "execution_count": 30,
   "metadata": {
    "colab": {
     "base_uri": "https://localhost:8080/"
    },
    "executionInfo": {
     "elapsed": 27452,
     "status": "ok",
     "timestamp": 1614576619124,
     "user": {
      "displayName": "Алексей Витомсков",
      "photoUrl": "",
      "userId": "09837648934599257287"
     },
     "user_tz": -300
    },
    "gradient": {},
    "id": "2dxzwFspN0kf",
    "outputId": "aefa9da3-8db4-48ce-ac4c-b654c7b1bf62"
   },
   "outputs": [
    {
     "data": {
      "text/plain": [
       "[53106, 443, 11018, 27126, 263, 9037, 474, 12947, 1672]"
      ]
     },
     "execution_count": 30,
     "metadata": {},
     "output_type": "execute_result"
    }
   ],
   "source": [
    "tokenizer.convert_tokens_to_ids(tokenizer.tokenize(\"dont be so judgmental\"))"
   ]
  },
  {
   "cell_type": "code",
   "execution_count": 31,
   "metadata": {
    "executionInfo": {
     "elapsed": 24349,
     "status": "ok",
     "timestamp": 1614576619126,
     "user": {
      "displayName": "Алексей Витомсков",
      "photoUrl": "",
      "userId": "09837648934599257287"
     },
     "user_tz": -300
    },
    "gradient": {},
    "id": "LwaCblpSOAU-"
   },
   "outputs": [],
   "source": [
    "def tokenize_reviews(text_reviews):\n",
    "    return tokenizer.convert_tokens_to_ids(tokenizer.tokenize(text_reviews))"
   ]
  },
  {
   "cell_type": "code",
   "execution_count": 32,
   "metadata": {
    "executionInfo": {
     "elapsed": 32561,
     "status": "ok",
     "timestamp": 1614576627788,
     "user": {
      "displayName": "Алексей Витомсков",
      "photoUrl": "",
      "userId": "09837648934599257287"
     },
     "user_tz": -300
    },
    "gradient": {},
    "id": "latUGS4eOB9-"
   },
   "outputs": [],
   "source": [
    "tokenized_reviews = [tokenize_reviews(str(review)) for review in X]"
   ]
  },
  {
   "cell_type": "code",
   "execution_count": 33,
   "metadata": {
    "colab": {
     "base_uri": "https://localhost:8080/"
    },
    "executionInfo": {
     "elapsed": 32144,
     "status": "ok",
     "timestamp": 1614576627791,
     "user": {
      "displayName": "Алексей Витомсков",
      "photoUrl": "",
      "userId": "09837648934599257287"
     },
     "user_tz": -300
    },
    "gradient": {},
    "id": "cZj9pRMMB7UY",
    "outputId": "f9853f9e-1394-4e0a-9c23-a51a7fb07341"
   },
   "outputs": [
    {
     "name": "stdout",
     "output_type": "stream",
     "text": [
      "[30914, 70528, 2059, 932, 5850, 4659, 107394, 754, 58791, 3511, 727, 378, 87244, 11243, 732, 378, 5866, 39740, 378, 58087, 673, 73507, 816, 12737, 65511, 726, 1165, 27183, 87197, 13544, 58619]\n"
     ]
    }
   ],
   "source": [
    "print(tokenized_reviews[0])"
   ]
  },
  {
   "cell_type": "code",
   "execution_count": 34,
   "metadata": {
    "executionInfo": {
     "elapsed": 29596,
     "status": "ok",
     "timestamp": 1614576630398,
     "user": {
      "displayName": "Алексей Витомсков",
      "photoUrl": "",
      "userId": "09837648934599257287"
     },
     "user_tz": -300
    },
    "gradient": {},
    "id": "aUSLH3QaQ8vi"
   },
   "outputs": [],
   "source": [
    "from keras.preprocessing.sequence import pad_sequences\n",
    "SENTENCE_LENGTH = 50\n",
    "\n",
    "tokenized_reviews = pad_sequences(tokenized_reviews, maxlen=SENTENCE_LENGTH)\n",
    "reviews_with_len = [[review, Y.iloc[i]]\n",
    "                 for i, review in enumerate(tokenized_reviews)]"
   ]
  },
  {
   "cell_type": "code",
   "execution_count": 35,
   "metadata": {
    "colab": {
     "base_uri": "https://localhost:8080/"
    },
    "executionInfo": {
     "elapsed": 28593,
     "status": "ok",
     "timestamp": 1614576630401,
     "user": {
      "displayName": "Алексей Витомсков",
      "photoUrl": "",
      "userId": "09837648934599257287"
     },
     "user_tz": -300
    },
    "gradient": {},
    "id": "TAnzLuuiCunI",
    "outputId": "54754bfb-9db5-4140-a631-09a3b3d6a97c"
   },
   "outputs": [
    {
     "name": "stdout",
     "output_type": "stream",
     "text": [
      "[array([     0,      0,      0,      0,      0,      0,      0,      0,\n",
      "            0,      0,      0,      0,      0,      0,      0,      0,\n",
      "            0,      0,      0,  30914,  70528,   2059,    932,   5850,\n",
      "         4659, 107394,    754,  58791,   3511,    727,    378,  87244,\n",
      "        11243,    732,    378,   5866,  39740,    378,  58087,    673,\n",
      "        73507,    816,  12737,  65511,    726,   1165,  27183,  87197,\n",
      "        13544,  58619], dtype=int32), Cвалки                                                               0\n",
      "Бездомные животные                                                   0\n",
      "Благоустройство территории                                           1\n",
      "Вода                                                                 0\n",
      "Воздух                                                               0\n",
      "Детские сады                                                         0\n",
      "Доступная среда                                                      0\n",
      "Жилищное строительство                                               0\n",
      "Капитальный ремонт                                                   0\n",
      "Мобильная связь                                                      0\n",
      "Нарушение в наружной рекламе                                         0\n",
      "Незаконные азартные игры                                             0\n",
      "Общественный транспорт                                               0\n",
      "Объекты культурного наследия                                         0\n",
      "Организация дорожного движения                                       0\n",
      "Парки и скверы                                                       0\n",
      "Поликлиники и больницы                                               0\n",
      "Почта                                                                0\n",
      "Работа спортивных объектов                                           0\n",
      "Работа учреждений культуры                                           0\n",
      "Садоводческие, огороднические и дачные некоммерческие объединения    0\n",
      "Санитарное состояние                                                 0\n",
      "Сельское хозяйство                                                   0\n",
      "Содержание и ремонт муниципальных дорог                              0\n",
      "Содержание и ремонт федеральных и республиканских дорог              0\n",
      "Цифровое телевидение                                                 0\n",
      "Name: 0, dtype: uint8]\n"
     ]
    }
   ],
   "source": [
    "print(reviews_with_len[0])"
   ]
  },
  {
   "cell_type": "code",
   "execution_count": 36,
   "metadata": {
    "executionInfo": {
     "elapsed": 26051,
     "status": "ok",
     "timestamp": 1614576630402,
     "user": {
      "displayName": "Алексей Витомсков",
      "photoUrl": "",
      "userId": "09837648934599257287"
     },
     "user_tz": -300
    },
    "gradient": {},
    "id": "m70OfPFIRA-Q"
   },
   "outputs": [],
   "source": [
    "random.shuffle(reviews_with_len)"
   ]
  },
  {
   "cell_type": "code",
   "execution_count": 37,
   "metadata": {
    "executionInfo": {
     "elapsed": 26782,
     "status": "ok",
     "timestamp": 1614576631774,
     "user": {
      "displayName": "Алексей Витомсков",
      "photoUrl": "",
      "userId": "09837648934599257287"
     },
     "user_tz": -300
    },
    "gradient": {},
    "id": "gCbcRQ8tJ7u6"
   },
   "outputs": [],
   "source": [
    "from sklearn.model_selection import train_test_split\n",
    "\n",
    "X = np.array([part[0] for part in reviews_with_len])\n",
    "Y = np.array([part[1] for part in reviews_with_len])\n",
    "X_train, X_test, Y_train, Y_test = train_test_split(X, Y, test_size=0.2, random_state=42)"
   ]
  },
  {
   "cell_type": "code",
   "execution_count": 38,
   "metadata": {
    "executionInfo": {
     "elapsed": 1312,
     "status": "ok",
     "timestamp": 1614576633091,
     "user": {
      "displayName": "Алексей Витомсков",
      "photoUrl": "",
      "userId": "09837648934599257287"
     },
     "user_tz": -300
    },
    "gradient": {},
    "id": "wSqKJlItaMhF"
   },
   "outputs": [],
   "source": [
    "# Метрики \n",
    "from sklearn.metrics import matthews_corrcoef\n",
    "def precision(y_true, y_pred):\n",
    "    \"\"\"Precision metric.\n",
    "\n",
    "    Only computes a batch-wise average of precision.\n",
    "\n",
    "    Computes the precision, a metric for multi-label classification of\n",
    "    how many selected items are relevant.\n",
    "    \"\"\"\n",
    "    true_positives = K.sum(K.round(K.clip(y_true * y_pred, 0, 1)))\n",
    "    predicted_positives = K.sum(K.round(K.clip(y_pred, 0, 1)))\n",
    "    precision = true_positives / (predicted_positives + K.epsilon())\n",
    "    return precision\n",
    "\n",
    "\n",
    "def recall(y_true, y_pred):\n",
    "    \"\"\"Recall metric.\n",
    "\n",
    "    Only computes a batch-wise average of recall.\n",
    "\n",
    "    Computes the recall, a metric for multi-label classification of\n",
    "    how many relevant items are selected.\n",
    "    \"\"\"\n",
    "    true_positives = K.sum(K.round(K.clip(y_true * y_pred, 0, 1)))\n",
    "    possible_positives = K.sum(K.round(K.clip(y_true, 0, 1)))\n",
    "    recall = true_positives / (possible_positives + K.epsilon())\n",
    "    return recall\n",
    "\n",
    "\n",
    "def f1(y_true, y_pred):\n",
    "    def recall(y_true, y_pred):\n",
    "        \"\"\"Recall metric.\n",
    "\n",
    "        Only computes a batch-wise average of recall.\n",
    "\n",
    "        Computes the recall, a metric for multi-label classification of\n",
    "        how many relevant items are selected.\n",
    "        \"\"\"\n",
    "        true_positives = K.sum(K.round(K.clip(y_true * y_pred, 0, 1)))\n",
    "        possible_positives = K.sum(K.round(K.clip(y_true, 0, 1)))\n",
    "        recall = true_positives / (possible_positives + K.epsilon())\n",
    "        return recall\n",
    "\n",
    "    def precision(y_true, y_pred):\n",
    "        \"\"\"Precision metric.\n",
    "\n",
    "        Only computes a batch-wise average of precision.\n",
    "\n",
    "        Computes the precision, a metric for multi-label classification of\n",
    "        how many selected items are relevant.\n",
    "        \"\"\"\n",
    "        true_positives = K.sum(K.round(K.clip(y_true * y_pred, 0, 1)))\n",
    "        predicted_positives = K.sum(K.round(K.clip(y_pred, 0, 1)))\n",
    "        precision = true_positives / (predicted_positives + K.epsilon())\n",
    "        return precision\n",
    "\n",
    "    precision = precision(y_true, y_pred)\n",
    "    recall = recall(y_true, y_pred)\n",
    "    return 2 * ((precision * recall) / (precision + recall + K.epsilon()))\n",
    "\n"
   ]
  },
  {
   "cell_type": "code",
   "execution_count": null,
   "metadata": {
    "executionInfo": {
     "elapsed": 1308,
     "status": "ok",
     "timestamp": 1614576633092,
     "user": {
      "displayName": "Алексей Витомсков",
      "photoUrl": "",
      "userId": "09837648934599257287"
     },
     "user_tz": -300
    },
    "gradient": {},
    "id": "axbyXXK2yOlK"
   },
   "outputs": [],
   "source": []
  },
  {
   "cell_type": "code",
   "execution_count": null,
   "metadata": {
    "executionInfo": {
     "elapsed": 1306,
     "status": "ok",
     "timestamp": 1614576633093,
     "user": {
      "displayName": "Алексей Витомсков",
      "photoUrl": "",
      "userId": "09837648934599257287"
     },
     "user_tz": -300
    },
    "gradient": {},
    "id": "CyXrWd7xyi34"
   },
   "outputs": [],
   "source": []
  },
  {
   "cell_type": "code",
   "execution_count": 41,
   "metadata": {},
   "outputs": [
    {
     "name": "stdout",
     "output_type": "stream",
     "text": [
      "Model: \"model_1\"\n",
      "_________________________________________________________________\n",
      "Layer (type)                 Output Shape              Param #   \n",
      "=================================================================\n",
      "input_3 (InputLayer)         [(None, 50)]              0         \n",
      "_________________________________________________________________\n",
      "embedding_1 (Embedding)      (None, 50, 256)           30755328  \n",
      "_________________________________________________________________\n",
      "lstm_1 (LSTM)                (None, 300)               668400    \n",
      "_________________________________________________________________\n",
      "FC1 (Dense)                  (None, 300)               90300     \n",
      "_________________________________________________________________\n",
      "activation_2 (Activation)    (None, 300)               0         \n",
      "_________________________________________________________________\n",
      "dropout_1 (Dropout)          (None, 300)               0         \n",
      "_________________________________________________________________\n",
      "out_layer (Dense)            (None, 26)                7826      \n",
      "_________________________________________________________________\n",
      "activation_3 (Activation)    (None, 26)                0         \n",
      "=================================================================\n",
      "Total params: 31,521,854\n",
      "Trainable params: 31,521,854\n",
      "Non-trainable params: 0\n",
      "_________________________________________________________________\n"
     ]
    }
   ],
   "source": [
    "from keras.layers import Input\n",
    "from keras.layers.embeddings import Embedding\n",
    "from keras import optimizers\n",
    "from keras.layers import Dense, concatenate, Activation, Dropout, LSTM\n",
    "from keras.models import Model\n",
    "from keras.layers.convolutional import Conv1D\n",
    "from keras.layers.pooling import GlobalMaxPooling1D\n",
    "\n",
    "SENTENCE_LENGTH = 50\n",
    "NUM = len(tokenizer.vocab)\n",
    "DIM = 256\n",
    "\n",
    "_input = Input(shape=(SENTENCE_LENGTH,), dtype='int32')\n",
    "_encoder = Embedding(NUM, DIM, input_length=SENTENCE_LENGTH)(_input)\n",
    "layer = LSTM(300)(_encoder)\n",
    "layer = Dense(300,name='FC1')(layer)\n",
    "layer = Activation('relu')(layer)\n",
    "layer = Dropout(0.5)(layer)\n",
    "layer = Dense(26,name='out_layer')(layer)\n",
    "layer = Activation('softmax')(layer)\n",
    "model = Model(_input,outputs=layer)\n",
    "\n",
    "model.compile(loss='binary_crossentropy', optimizer='adam', metrics=['accuracy', precision, recall, f1])\n",
    "model.summary()"
   ]
  },
  {
   "cell_type": "code",
   "execution_count": 43,
   "metadata": {},
   "outputs": [
    {
     "name": "stdout",
     "output_type": "stream",
     "text": [
      "Epoch 1/100\n",
      "30/30 [==============================] - 14s 323ms/step - loss: 0.4063 - accuracy: 0.1965 - precision: 0.1765 - recall: 0.0968 - f1: 0.1186 - val_loss: 0.0994 - val_accuracy: 0.4562 - val_precision: 0.4547 - val_recall: 0.4547 - val_f1: 0.4547\n",
      "Epoch 2/100\n",
      "30/30 [==============================] - 9s 302ms/step - loss: 0.1120 - accuracy: 0.4211 - precision: 0.4448 - recall: 0.2705 - f1: 0.3357 - val_loss: 0.0986 - val_accuracy: 0.4562 - val_precision: 0.4547 - val_recall: 0.4547 - val_f1: 0.4547\n",
      "Epoch 3/100\n",
      "30/30 [==============================] - 9s 298ms/step - loss: 0.1052 - accuracy: 0.4494 - precision: 0.4686 - recall: 0.3176 - f1: 0.3771 - val_loss: 0.0968 - val_accuracy: 0.4562 - val_precision: 0.4547 - val_recall: 0.4547 - val_f1: 0.4547\n",
      "Epoch 4/100\n",
      "30/30 [==============================] - 9s 303ms/step - loss: 0.1011 - accuracy: 0.4571 - precision: 0.4882 - recall: 0.3260 - f1: 0.3895 - val_loss: 0.0930 - val_accuracy: 0.4776 - val_precision: 0.5041 - val_recall: 0.4196 - val_f1: 0.4580\n",
      "Epoch 5/100\n",
      "30/30 [==============================] - 10s 334ms/step - loss: 0.0951 - accuracy: 0.4977 - precision: 0.5578 - recall: 0.3762 - f1: 0.4491 - val_loss: 0.0855 - val_accuracy: 0.5644 - val_precision: 0.6253 - val_recall: 0.4674 - val_f1: 0.5349\n",
      "Epoch 6/100\n",
      "30/30 [==============================] - 10s 330ms/step - loss: 0.0849 - accuracy: 0.5800 - precision: 0.6608 - recall: 0.4875 - f1: 0.5601 - val_loss: 0.0785 - val_accuracy: 0.5971 - val_precision: 0.6519 - val_recall: 0.5520 - val_f1: 0.5978\n",
      "Epoch 7/100\n",
      "30/30 [==============================] - 9s 299ms/step - loss: 0.0736 - accuracy: 0.6483 - precision: 0.7356 - recall: 0.5910 - f1: 0.6552 - val_loss: 0.0654 - val_accuracy: 0.6682 - val_precision: 0.7783 - val_recall: 0.6113 - val_f1: 0.6847\n",
      "Epoch 8/100\n",
      "30/30 [==============================] - 9s 314ms/step - loss: 0.0611 - accuracy: 0.7117 - precision: 0.8075 - recall: 0.6634 - f1: 0.7281 - val_loss: 0.0607 - val_accuracy: 0.6864 - val_precision: 0.8052 - val_recall: 0.6330 - val_f1: 0.7086\n",
      "Epoch 9/100\n",
      "30/30 [==============================] - 10s 325ms/step - loss: 0.0536 - accuracy: 0.7513 - precision: 0.8558 - recall: 0.7086 - f1: 0.7750 - val_loss: 0.0599 - val_accuracy: 0.6940 - val_precision: 0.7871 - val_recall: 0.6573 - val_f1: 0.7163\n",
      "Epoch 10/100\n",
      "30/30 [==============================] - 10s 329ms/step - loss: 0.0483 - accuracy: 0.7751 - precision: 0.8685 - recall: 0.7382 - f1: 0.7980 - val_loss: 0.0581 - val_accuracy: 0.7204 - val_precision: 0.7993 - val_recall: 0.6774 - val_f1: 0.7333\n",
      "Epoch 11/100\n",
      "30/30 [==============================] - 9s 312ms/step - loss: 0.0442 - accuracy: 0.8008 - precision: 0.8904 - recall: 0.7631 - f1: 0.8218 - val_loss: 0.0584 - val_accuracy: 0.7281 - val_precision: 0.7917 - val_recall: 0.6745 - val_f1: 0.7284\n",
      "Epoch 12/100\n",
      "30/30 [==============================] - 9s 312ms/step - loss: 0.0386 - accuracy: 0.8274 - precision: 0.9147 - recall: 0.7843 - f1: 0.8444 - val_loss: 0.0606 - val_accuracy: 0.7328 - val_precision: 0.7778 - val_recall: 0.6953 - val_f1: 0.7342\n",
      "Epoch 13/100\n",
      "30/30 [==============================] - 9s 309ms/step - loss: 0.0364 - accuracy: 0.8431 - precision: 0.9133 - recall: 0.8053 - f1: 0.8558 - val_loss: 0.0579 - val_accuracy: 0.7429 - val_precision: 0.8106 - val_recall: 0.6986 - val_f1: 0.7503\n",
      "Epoch 14/100\n",
      "30/30 [==============================] - 10s 329ms/step - loss: 0.0329 - accuracy: 0.8587 - precision: 0.9211 - recall: 0.8267 - f1: 0.8713 - val_loss: 0.0587 - val_accuracy: 0.7439 - val_precision: 0.7949 - val_recall: 0.7171 - val_f1: 0.7540\n",
      "Epoch 15/100\n",
      "30/30 [==============================] - 10s 329ms/step - loss: 0.0304 - accuracy: 0.8665 - precision: 0.9241 - recall: 0.8434 - f1: 0.8819 - val_loss: 0.0584 - val_accuracy: 0.7313 - val_precision: 0.7990 - val_recall: 0.6916 - val_f1: 0.7413\n",
      "Epoch 16/100\n",
      "30/30 [==============================] - 10s 332ms/step - loss: 0.0300 - accuracy: 0.8701 - precision: 0.9217 - recall: 0.8477 - f1: 0.8830 - val_loss: 0.0596 - val_accuracy: 0.7479 - val_precision: 0.7943 - val_recall: 0.7228 - val_f1: 0.7568\n",
      "Epoch 17/100\n",
      "30/30 [==============================] - 10s 333ms/step - loss: 0.0274 - accuracy: 0.8824 - precision: 0.9299 - recall: 0.8624 - f1: 0.8948 - val_loss: 0.0588 - val_accuracy: 0.7518 - val_precision: 0.7961 - val_recall: 0.7323 - val_f1: 0.7629\n",
      "Epoch 18/100\n",
      "30/30 [==============================] - 10s 326ms/step - loss: 0.0235 - accuracy: 0.9003 - precision: 0.9455 - recall: 0.8831 - f1: 0.9132 - val_loss: 0.0605 - val_accuracy: 0.7653 - val_precision: 0.8052 - val_recall: 0.7474 - val_f1: 0.7752\n",
      "Epoch 19/100\n",
      "30/30 [==============================] - 10s 325ms/step - loss: 0.0218 - accuracy: 0.9106 - precision: 0.9542 - recall: 0.8923 - f1: 0.9222 - val_loss: 0.0605 - val_accuracy: 0.7656 - val_precision: 0.8064 - val_recall: 0.7483 - val_f1: 0.7763\n",
      "Epoch 20/100\n",
      "30/30 [==============================] - 11s 353ms/step - loss: 0.0205 - accuracy: 0.9160 - precision: 0.9566 - recall: 0.9007 - f1: 0.9278 - val_loss: 0.0645 - val_accuracy: 0.7748 - val_precision: 0.7980 - val_recall: 0.7618 - val_f1: 0.7795\n",
      "Epoch 21/100\n",
      "30/30 [==============================] - 10s 338ms/step - loss: 0.0190 - accuracy: 0.9229 - precision: 0.9574 - recall: 0.9060 - f1: 0.9309 - val_loss: 0.0631 - val_accuracy: 0.7711 - val_precision: 0.8127 - val_recall: 0.7586 - val_f1: 0.7847\n",
      "Epoch 22/100\n",
      "30/30 [==============================] - 10s 325ms/step - loss: 0.0166 - accuracy: 0.9315 - precision: 0.9652 - recall: 0.9170 - f1: 0.9405 - val_loss: 0.0641 - val_accuracy: 0.7711 - val_precision: 0.8063 - val_recall: 0.7631 - val_f1: 0.7841\n",
      "Epoch 23/100\n",
      "30/30 [==============================] - 10s 337ms/step - loss: 0.0159 - accuracy: 0.9338 - precision: 0.9695 - recall: 0.9186 - f1: 0.9433 - val_loss: 0.0640 - val_accuracy: 0.7706 - val_precision: 0.8090 - val_recall: 0.7588 - val_f1: 0.7831\n",
      "Epoch 24/100\n",
      "30/30 [==============================] - 10s 341ms/step - loss: 0.0145 - accuracy: 0.9421 - precision: 0.9713 - recall: 0.9277 - f1: 0.9490 - val_loss: 0.0682 - val_accuracy: 0.7716 - val_precision: 0.8095 - val_recall: 0.7600 - val_f1: 0.7839\n",
      "Epoch 25/100\n",
      "30/30 [==============================] - 10s 347ms/step - loss: 0.0148 - accuracy: 0.9416 - precision: 0.9685 - recall: 0.9273 - f1: 0.9474 - val_loss: 0.0692 - val_accuracy: 0.7703 - val_precision: 0.8009 - val_recall: 0.7611 - val_f1: 0.7805\n",
      "Epoch 26/100\n",
      "30/30 [==============================] - 10s 331ms/step - loss: 0.0137 - accuracy: 0.9424 - precision: 0.9713 - recall: 0.9291 - f1: 0.9497 - val_loss: 0.0743 - val_accuracy: 0.7645 - val_precision: 0.7895 - val_recall: 0.7583 - val_f1: 0.7736\n",
      "Epoch 27/100\n",
      "30/30 [==============================] - 10s 323ms/step - loss: 0.0130 - accuracy: 0.9468 - precision: 0.9715 - recall: 0.9344 - f1: 0.9526 - val_loss: 0.0715 - val_accuracy: 0.7693 - val_precision: 0.8065 - val_recall: 0.7579 - val_f1: 0.7814\n",
      "Epoch 28/100\n",
      "30/30 [==============================] - 9s 307ms/step - loss: 0.0127 - accuracy: 0.9473 - precision: 0.9716 - recall: 0.9342 - f1: 0.9525 - val_loss: 0.0755 - val_accuracy: 0.7672 - val_precision: 0.7994 - val_recall: 0.7590 - val_f1: 0.7787\n",
      "Epoch 29/100\n",
      "30/30 [==============================] - 9s 310ms/step - loss: 0.0119 - accuracy: 0.9540 - precision: 0.9740 - recall: 0.9407 - f1: 0.9571 - val_loss: 0.0739 - val_accuracy: 0.7719 - val_precision: 0.7983 - val_recall: 0.7623 - val_f1: 0.7799\n",
      "Epoch 30/100\n",
      "30/30 [==============================] - 9s 309ms/step - loss: 0.0114 - accuracy: 0.9543 - precision: 0.9711 - recall: 0.9421 - f1: 0.9564 - val_loss: 0.0759 - val_accuracy: 0.7716 - val_precision: 0.7894 - val_recall: 0.7636 - val_f1: 0.7763\n",
      "Epoch 31/100\n",
      "30/30 [==============================] - 9s 310ms/step - loss: 0.0110 - accuracy: 0.9553 - precision: 0.9741 - recall: 0.9444 - f1: 0.9590 - val_loss: 0.0774 - val_accuracy: 0.7724 - val_precision: 0.7933 - val_recall: 0.7667 - val_f1: 0.7798\n",
      "Epoch 32/100\n",
      "30/30 [==============================] - 10s 318ms/step - loss: 0.0099 - accuracy: 0.9621 - precision: 0.9764 - recall: 0.9520 - f1: 0.9640 - val_loss: 0.0762 - val_accuracy: 0.7669 - val_precision: 0.7974 - val_recall: 0.7614 - val_f1: 0.7790\n"
     ]
    },
    {
     "name": "stdout",
     "output_type": "stream",
     "text": [
      "Epoch 33/100\n",
      "30/30 [==============================] - 9s 307ms/step - loss: 0.0098 - accuracy: 0.9630 - precision: 0.9782 - recall: 0.9522 - f1: 0.9650 - val_loss: 0.0837 - val_accuracy: 0.7666 - val_precision: 0.7891 - val_recall: 0.7617 - val_f1: 0.7751\n",
      "Epoch 34/100\n",
      "30/30 [==============================] - 9s 308ms/step - loss: 0.0091 - accuracy: 0.9639 - precision: 0.9756 - recall: 0.9562 - f1: 0.9658 - val_loss: 0.0792 - val_accuracy: 0.7804 - val_precision: 0.8003 - val_recall: 0.7735 - val_f1: 0.7866\n",
      "Epoch 35/100\n",
      "30/30 [==============================] - 9s 311ms/step - loss: 0.0087 - accuracy: 0.9674 - precision: 0.9783 - recall: 0.9598 - f1: 0.9690 - val_loss: 0.0809 - val_accuracy: 0.7732 - val_precision: 0.7930 - val_recall: 0.7682 - val_f1: 0.7804\n",
      "Epoch 36/100\n",
      "30/30 [==============================] - 9s 305ms/step - loss: 0.0073 - accuracy: 0.9746 - precision: 0.9827 - recall: 0.9699 - f1: 0.9762 - val_loss: 0.0796 - val_accuracy: 0.7753 - val_precision: 0.7940 - val_recall: 0.7691 - val_f1: 0.7813\n",
      "Epoch 37/100\n",
      "30/30 [==============================] - 9s 305ms/step - loss: 0.0072 - accuracy: 0.9732 - precision: 0.9833 - recall: 0.9683 - f1: 0.9757 - val_loss: 0.0886 - val_accuracy: 0.7693 - val_precision: 0.7853 - val_recall: 0.7659 - val_f1: 0.7754\n",
      "Epoch 38/100\n",
      "30/30 [==============================] - 10s 338ms/step - loss: 0.0066 - accuracy: 0.9761 - precision: 0.9823 - recall: 0.9725 - f1: 0.9774 - val_loss: 0.0899 - val_accuracy: 0.7677 - val_precision: 0.7830 - val_recall: 0.7644 - val_f1: 0.7736\n",
      "Epoch 39/100\n",
      "30/30 [==============================] - 10s 323ms/step - loss: 0.0070 - accuracy: 0.9747 - precision: 0.9823 - recall: 0.9708 - f1: 0.9765 - val_loss: 0.0943 - val_accuracy: 0.7571 - val_precision: 0.7731 - val_recall: 0.7526 - val_f1: 0.7627\n",
      "Epoch 40/100\n",
      "30/30 [==============================] - 9s 307ms/step - loss: 0.0083 - accuracy: 0.9668 - precision: 0.9733 - recall: 0.9635 - f1: 0.9684 - val_loss: 0.0832 - val_accuracy: 0.7709 - val_precision: 0.7921 - val_recall: 0.7644 - val_f1: 0.7780\n",
      "Epoch 41/100\n",
      "30/30 [==============================] - 9s 309ms/step - loss: 0.0074 - accuracy: 0.9752 - precision: 0.9807 - recall: 0.9713 - f1: 0.9760 - val_loss: 0.0866 - val_accuracy: 0.7730 - val_precision: 0.7856 - val_recall: 0.7680 - val_f1: 0.7767\n",
      "Epoch 42/100\n",
      "30/30 [==============================] - 9s 306ms/step - loss: 0.0068 - accuracy: 0.9755 - precision: 0.9815 - recall: 0.9723 - f1: 0.9768 - val_loss: 0.0912 - val_accuracy: 0.7701 - val_precision: 0.7860 - val_recall: 0.7665 - val_f1: 0.7761\n",
      "Epoch 43/100\n",
      "30/30 [==============================] - 9s 310ms/step - loss: 0.0055 - accuracy: 0.9807 - precision: 0.9871 - recall: 0.9781 - f1: 0.9826 - val_loss: 0.0949 - val_accuracy: 0.7711 - val_precision: 0.7824 - val_recall: 0.7681 - val_f1: 0.7752\n",
      "Epoch 44/100\n",
      "30/30 [==============================] - 9s 308ms/step - loss: 0.0052 - accuracy: 0.9807 - precision: 0.9864 - recall: 0.9764 - f1: 0.9814 - val_loss: 0.0954 - val_accuracy: 0.7701 - val_precision: 0.7848 - val_recall: 0.7670 - val_f1: 0.7758\n",
      "Epoch 45/100\n",
      "30/30 [==============================] - 9s 306ms/step - loss: 0.0046 - accuracy: 0.9838 - precision: 0.9889 - recall: 0.9816 - f1: 0.9852 - val_loss: 0.0987 - val_accuracy: 0.7680 - val_precision: 0.7814 - val_recall: 0.7656 - val_f1: 0.7734\n",
      "Epoch 46/100\n",
      "30/30 [==============================] - 9s 311ms/step - loss: 0.0044 - accuracy: 0.9837 - precision: 0.9886 - recall: 0.9818 - f1: 0.9852 - val_loss: 0.0970 - val_accuracy: 0.7701 - val_precision: 0.7847 - val_recall: 0.7675 - val_f1: 0.7760\n",
      "Epoch 47/100\n",
      "30/30 [==============================] - 9s 307ms/step - loss: 0.0048 - accuracy: 0.9810 - precision: 0.9871 - recall: 0.9790 - f1: 0.9830 - val_loss: 0.0981 - val_accuracy: 0.7635 - val_precision: 0.7796 - val_recall: 0.7619 - val_f1: 0.7706\n",
      "Epoch 48/100\n",
      "30/30 [==============================] - 9s 305ms/step - loss: 0.0042 - accuracy: 0.9837 - precision: 0.9882 - recall: 0.9817 - f1: 0.9850 - val_loss: 0.1060 - val_accuracy: 0.7577 - val_precision: 0.7768 - val_recall: 0.7581 - val_f1: 0.7673\n",
      "Epoch 49/100\n",
      "30/30 [==============================] - 9s 309ms/step - loss: 0.0042 - accuracy: 0.9842 - precision: 0.9889 - recall: 0.9814 - f1: 0.9852 - val_loss: 0.1062 - val_accuracy: 0.7701 - val_precision: 0.7854 - val_recall: 0.7693 - val_f1: 0.7773\n",
      "Epoch 50/100\n",
      "30/30 [==============================] - 9s 306ms/step - loss: 0.0044 - accuracy: 0.9826 - precision: 0.9871 - recall: 0.9801 - f1: 0.9836 - val_loss: 0.1056 - val_accuracy: 0.7658 - val_precision: 0.7786 - val_recall: 0.7633 - val_f1: 0.7709\n",
      "Epoch 51/100\n",
      "30/30 [==============================] - 9s 307ms/step - loss: 0.0035 - accuracy: 0.9868 - precision: 0.9905 - recall: 0.9844 - f1: 0.9874 - val_loss: 0.1077 - val_accuracy: 0.7672 - val_precision: 0.7832 - val_recall: 0.7663 - val_f1: 0.7746\n",
      "Epoch 52/100\n",
      "30/30 [==============================] - 9s 307ms/step - loss: 0.0035 - accuracy: 0.9870 - precision: 0.9902 - recall: 0.9849 - f1: 0.9876 - val_loss: 0.1068 - val_accuracy: 0.7687 - val_precision: 0.7849 - val_recall: 0.7686 - val_f1: 0.7767\n",
      "Epoch 53/100\n",
      "30/30 [==============================] - 9s 307ms/step - loss: 0.0032 - accuracy: 0.9881 - precision: 0.9905 - recall: 0.9858 - f1: 0.9881 - val_loss: 0.1142 - val_accuracy: 0.7669 - val_precision: 0.7803 - val_recall: 0.7670 - val_f1: 0.7736\n",
      "Epoch 54/100\n",
      "30/30 [==============================] - 9s 307ms/step - loss: 0.0031 - accuracy: 0.9886 - precision: 0.9917 - recall: 0.9865 - f1: 0.9891 - val_loss: 0.1182 - val_accuracy: 0.7574 - val_precision: 0.7724 - val_recall: 0.7556 - val_f1: 0.7639\n",
      "Epoch 55/100\n",
      "30/30 [==============================] - 9s 303ms/step - loss: 0.0081 - accuracy: 0.9679 - precision: 0.9737 - recall: 0.9650 - f1: 0.9693 - val_loss: 0.0809 - val_accuracy: 0.7748 - val_precision: 0.7881 - val_recall: 0.7728 - val_f1: 0.7804\n",
      "Epoch 56/100\n",
      "30/30 [==============================] - 9s 311ms/step - loss: 0.0060 - accuracy: 0.9781 - precision: 0.9816 - recall: 0.9749 - f1: 0.9783 - val_loss: 0.0922 - val_accuracy: 0.7661 - val_precision: 0.7857 - val_recall: 0.7654 - val_f1: 0.7754\n",
      "Epoch 57/100\n",
      "30/30 [==============================] - 9s 306ms/step - loss: 0.0039 - accuracy: 0.9862 - precision: 0.9886 - recall: 0.9830 - f1: 0.9858 - val_loss: 0.1045 - val_accuracy: 0.7674 - val_precision: 0.7807 - val_recall: 0.7659 - val_f1: 0.7732\n",
      "Epoch 58/100\n",
      "30/30 [==============================] - 9s 305ms/step - loss: 0.0033 - accuracy: 0.9875 - precision: 0.9905 - recall: 0.9856 - f1: 0.9880 - val_loss: 0.1064 - val_accuracy: 0.7677 - val_precision: 0.7821 - val_recall: 0.7678 - val_f1: 0.7749\n",
      "Epoch 59/100\n",
      "30/30 [==============================] - 9s 310ms/step - loss: 0.0030 - accuracy: 0.9883 - precision: 0.9908 - recall: 0.9872 - f1: 0.9890 - val_loss: 0.1105 - val_accuracy: 0.7666 - val_precision: 0.7780 - val_recall: 0.7660 - val_f1: 0.7720\n",
      "Epoch 60/100\n",
      "30/30 [==============================] - 9s 306ms/step - loss: 0.0026 - accuracy: 0.9918 - precision: 0.9935 - recall: 0.9894 - f1: 0.9915 - val_loss: 0.1135 - val_accuracy: 0.7711 - val_precision: 0.7823 - val_recall: 0.7710 - val_f1: 0.7766\n",
      "Epoch 61/100\n",
      "30/30 [==============================] - 9s 312ms/step - loss: 0.0025 - accuracy: 0.9911 - precision: 0.9931 - recall: 0.9887 - f1: 0.9909 - val_loss: 0.1139 - val_accuracy: 0.7701 - val_precision: 0.7821 - val_recall: 0.7692 - val_f1: 0.7756\n",
      "Epoch 62/100\n",
      "30/30 [==============================] - 9s 305ms/step - loss: 0.0026 - accuracy: 0.9903 - precision: 0.9916 - recall: 0.9886 - f1: 0.9901 - val_loss: 0.1182 - val_accuracy: 0.7645 - val_precision: 0.7799 - val_recall: 0.7653 - val_f1: 0.7725\n",
      "Epoch 63/100\n",
      "30/30 [==============================] - 9s 306ms/step - loss: 0.0025 - accuracy: 0.9896 - precision: 0.9918 - recall: 0.9883 - f1: 0.9900 - val_loss: 0.1237 - val_accuracy: 0.7640 - val_precision: 0.7759 - val_recall: 0.7653 - val_f1: 0.7705\n",
      "Epoch 64/100\n",
      "30/30 [==============================] - 9s 306ms/step - loss: 0.0021 - accuracy: 0.9922 - precision: 0.9930 - recall: 0.9907 - f1: 0.9918 - val_loss: 0.1231 - val_accuracy: 0.7632 - val_precision: 0.7766 - val_recall: 0.7637 - val_f1: 0.7701\n"
     ]
    },
    {
     "name": "stdout",
     "output_type": "stream",
     "text": [
      "Epoch 65/100\n",
      "30/30 [==============================] - 9s 305ms/step - loss: 0.0019 - accuracy: 0.9931 - precision: 0.9939 - recall: 0.9915 - f1: 0.9927 - val_loss: 0.1263 - val_accuracy: 0.7606 - val_precision: 0.7715 - val_recall: 0.7606 - val_f1: 0.7660\n",
      "Epoch 66/100\n",
      "30/30 [==============================] - 9s 308ms/step - loss: 0.0021 - accuracy: 0.9916 - precision: 0.9923 - recall: 0.9911 - f1: 0.9917 - val_loss: 0.1300 - val_accuracy: 0.7650 - val_precision: 0.7749 - val_recall: 0.7654 - val_f1: 0.7701\n",
      "Epoch 67/100\n",
      "30/30 [==============================] - 9s 308ms/step - loss: 0.0024 - accuracy: 0.9916 - precision: 0.9930 - recall: 0.9903 - f1: 0.9917 - val_loss: 0.1289 - val_accuracy: 0.7621 - val_precision: 0.7732 - val_recall: 0.7630 - val_f1: 0.7680\n",
      "Epoch 68/100\n",
      "30/30 [==============================] - 9s 308ms/step - loss: 0.0016 - accuracy: 0.9952 - precision: 0.9957 - recall: 0.9942 - f1: 0.9949 - val_loss: 0.1346 - val_accuracy: 0.7627 - val_precision: 0.7708 - val_recall: 0.7635 - val_f1: 0.7671\n",
      "Epoch 69/100\n",
      "30/30 [==============================] - 9s 309ms/step - loss: 0.0020 - accuracy: 0.9921 - precision: 0.9934 - recall: 0.9915 - f1: 0.9924 - val_loss: 0.1337 - val_accuracy: 0.7600 - val_precision: 0.7703 - val_recall: 0.7619 - val_f1: 0.7660\n",
      "Epoch 70/100\n",
      "30/30 [==============================] - 9s 310ms/step - loss: 0.0018 - accuracy: 0.9927 - precision: 0.9935 - recall: 0.9923 - f1: 0.9929 - val_loss: 0.1368 - val_accuracy: 0.7548 - val_precision: 0.7655 - val_recall: 0.7571 - val_f1: 0.7613\n",
      "Epoch 71/100\n",
      "30/30 [==============================] - 9s 305ms/step - loss: 0.0016 - accuracy: 0.9948 - precision: 0.9951 - recall: 0.9947 - f1: 0.9949 - val_loss: 0.1390 - val_accuracy: 0.7598 - val_precision: 0.7678 - val_recall: 0.7616 - val_f1: 0.7647\n",
      "Epoch 72/100\n",
      "30/30 [==============================] - 9s 306ms/step - loss: 0.0020 - accuracy: 0.9925 - precision: 0.9934 - recall: 0.9915 - f1: 0.9925 - val_loss: 0.1387 - val_accuracy: 0.7611 - val_precision: 0.7696 - val_recall: 0.7625 - val_f1: 0.7660\n",
      "Epoch 73/100\n",
      "30/30 [==============================] - 9s 303ms/step - loss: 0.0015 - accuracy: 0.9944 - precision: 0.9951 - recall: 0.9938 - f1: 0.9944 - val_loss: 0.1425 - val_accuracy: 0.7569 - val_precision: 0.7663 - val_recall: 0.7578 - val_f1: 0.7620\n",
      "Epoch 74/100\n",
      "30/30 [==============================] - 9s 309ms/step - loss: 0.0015 - accuracy: 0.9943 - precision: 0.9946 - recall: 0.9941 - f1: 0.9944 - val_loss: 0.1438 - val_accuracy: 0.7558 - val_precision: 0.7623 - val_recall: 0.7570 - val_f1: 0.7596\n",
      "Epoch 75/100\n",
      "30/30 [==============================] - 9s 308ms/step - loss: 0.0013 - accuracy: 0.9947 - precision: 0.9948 - recall: 0.9946 - f1: 0.9947 - val_loss: 0.1450 - val_accuracy: 0.7518 - val_precision: 0.7605 - val_recall: 0.7532 - val_f1: 0.7568\n",
      "Epoch 76/100\n",
      "30/30 [==============================] - 9s 305ms/step - loss: 0.0016 - accuracy: 0.9952 - precision: 0.9957 - recall: 0.9950 - f1: 0.9953 - val_loss: 0.1446 - val_accuracy: 0.7574 - val_precision: 0.7657 - val_recall: 0.7572 - val_f1: 0.7614\n",
      "Epoch 77/100\n",
      "30/30 [==============================] - 9s 304ms/step - loss: 0.0018 - accuracy: 0.9938 - precision: 0.9941 - recall: 0.9932 - f1: 0.9937 - val_loss: 0.1471 - val_accuracy: 0.7540 - val_precision: 0.7609 - val_recall: 0.7534 - val_f1: 0.7571\n",
      "Epoch 78/100\n",
      "30/30 [==============================] - 9s 309ms/step - loss: 0.0024 - accuracy: 0.9916 - precision: 0.9921 - recall: 0.9912 - f1: 0.9917 - val_loss: 0.1474 - val_accuracy: 0.7352 - val_precision: 0.7433 - val_recall: 0.7363 - val_f1: 0.7398\n",
      "Epoch 79/100\n",
      "30/30 [==============================] - 9s 310ms/step - loss: 0.0053 - accuracy: 0.9782 - precision: 0.9794 - recall: 0.9773 - f1: 0.9783 - val_loss: 0.1090 - val_accuracy: 0.7629 - val_precision: 0.7713 - val_recall: 0.7606 - val_f1: 0.7659\n",
      "Epoch 80/100\n",
      "30/30 [==============================] - 9s 308ms/step - loss: 0.0029 - accuracy: 0.9879 - precision: 0.9889 - recall: 0.9872 - f1: 0.9880 - val_loss: 0.1276 - val_accuracy: 0.7595 - val_precision: 0.7668 - val_recall: 0.7600 - val_f1: 0.7634\n",
      "Epoch 81/100\n",
      "30/30 [==============================] - 9s 303ms/step - loss: 0.0022 - accuracy: 0.9927 - precision: 0.9934 - recall: 0.9926 - f1: 0.9930 - val_loss: 0.1328 - val_accuracy: 0.7614 - val_precision: 0.7696 - val_recall: 0.7606 - val_f1: 0.7651\n",
      "Epoch 82/100\n",
      "30/30 [==============================] - 9s 309ms/step - loss: 0.0018 - accuracy: 0.9934 - precision: 0.9942 - recall: 0.9933 - f1: 0.9937 - val_loss: 0.1365 - val_accuracy: 0.7645 - val_precision: 0.7695 - val_recall: 0.7652 - val_f1: 0.7673\n",
      "Epoch 83/100\n",
      "30/30 [==============================] - 9s 304ms/step - loss: 0.0016 - accuracy: 0.9939 - precision: 0.9946 - recall: 0.9935 - f1: 0.9941 - val_loss: 0.1358 - val_accuracy: 0.7653 - val_precision: 0.7722 - val_recall: 0.7642 - val_f1: 0.7682\n",
      "Epoch 84/100\n",
      "30/30 [==============================] - 9s 307ms/step - loss: 0.0013 - accuracy: 0.9947 - precision: 0.9951 - recall: 0.9945 - f1: 0.9948 - val_loss: 0.1417 - val_accuracy: 0.7653 - val_precision: 0.7707 - val_recall: 0.7641 - val_f1: 0.7674\n",
      "Epoch 85/100\n",
      "30/30 [==============================] - 9s 309ms/step - loss: 0.0011 - accuracy: 0.9964 - precision: 0.9966 - recall: 0.9963 - f1: 0.9965 - val_loss: 0.1446 - val_accuracy: 0.7635 - val_precision: 0.7683 - val_recall: 0.7627 - val_f1: 0.7655\n",
      "Epoch 86/100\n",
      "30/30 [==============================] - 9s 308ms/step - loss: 0.0014 - accuracy: 0.9947 - precision: 0.9949 - recall: 0.9940 - f1: 0.9944 - val_loss: 0.1393 - val_accuracy: 0.7592 - val_precision: 0.7664 - val_recall: 0.7584 - val_f1: 0.7624\n",
      "Epoch 87/100\n",
      "30/30 [==============================] - 9s 310ms/step - loss: 0.0014 - accuracy: 0.9945 - precision: 0.9948 - recall: 0.9943 - f1: 0.9945 - val_loss: 0.1417 - val_accuracy: 0.7682 - val_precision: 0.7744 - val_recall: 0.7677 - val_f1: 0.7711\n",
      "Epoch 88/100\n",
      "30/30 [==============================] - 9s 309ms/step - loss: 0.0020 - accuracy: 0.9928 - precision: 0.9933 - recall: 0.9923 - f1: 0.9928 - val_loss: 0.1400 - val_accuracy: 0.7579 - val_precision: 0.7626 - val_recall: 0.7570 - val_f1: 0.7598\n",
      "Epoch 89/100\n",
      "30/30 [==============================] - 9s 309ms/step - loss: 0.0019 - accuracy: 0.9927 - precision: 0.9929 - recall: 0.9923 - f1: 0.9926 - val_loss: 0.1369 - val_accuracy: 0.7598 - val_precision: 0.7645 - val_recall: 0.7576 - val_f1: 0.7610\n",
      "Epoch 90/100\n",
      "30/30 [==============================] - 9s 309ms/step - loss: 0.0014 - accuracy: 0.9949 - precision: 0.9956 - recall: 0.9945 - f1: 0.9951 - val_loss: 0.1490 - val_accuracy: 0.7635 - val_precision: 0.7688 - val_recall: 0.7614 - val_f1: 0.7651\n",
      "Epoch 91/100\n",
      "30/30 [==============================] - 9s 307ms/step - loss: 0.0012 - accuracy: 0.9964 - precision: 0.9966 - recall: 0.9961 - f1: 0.9963 - val_loss: 0.1412 - val_accuracy: 0.7590 - val_precision: 0.7645 - val_recall: 0.7579 - val_f1: 0.7612\n",
      "Epoch 92/100\n",
      "30/30 [==============================] - 9s 309ms/step - loss: 0.0012 - accuracy: 0.9957 - precision: 0.9960 - recall: 0.9952 - f1: 0.9956 - val_loss: 0.1525 - val_accuracy: 0.7619 - val_precision: 0.7655 - val_recall: 0.7620 - val_f1: 0.7637\n",
      "Epoch 93/100\n",
      "30/30 [==============================] - 9s 308ms/step - loss: 0.0011 - accuracy: 0.9955 - precision: 0.9956 - recall: 0.9953 - f1: 0.9955 - val_loss: 0.1535 - val_accuracy: 0.7614 - val_precision: 0.7654 - val_recall: 0.7603 - val_f1: 0.7628\n",
      "Epoch 94/100\n",
      "30/30 [==============================] - 9s 304ms/step - loss: 0.0011 - accuracy: 0.9957 - precision: 0.9959 - recall: 0.9956 - f1: 0.9958 - val_loss: 0.1534 - val_accuracy: 0.7621 - val_precision: 0.7676 - val_recall: 0.7620 - val_f1: 0.7648\n",
      "Epoch 95/100\n",
      "30/30 [==============================] - 9s 312ms/step - loss: 0.0011 - accuracy: 0.9956 - precision: 0.9962 - recall: 0.9954 - f1: 0.9958 - val_loss: 0.1588 - val_accuracy: 0.7614 - val_precision: 0.7666 - val_recall: 0.7614 - val_f1: 0.7640\n",
      "Epoch 96/100\n",
      "30/30 [==============================] - 9s 316ms/step - loss: 0.0018 - accuracy: 0.9929 - precision: 0.9934 - recall: 0.9928 - f1: 0.9931 - val_loss: 0.1512 - val_accuracy: 0.7516 - val_precision: 0.7559 - val_recall: 0.7512 - val_f1: 0.7536\n",
      "Epoch 97/100\n"
     ]
    },
    {
     "name": "stdout",
     "output_type": "stream",
     "text": [
      "30/30 [==============================] - 9s 306ms/step - loss: 0.0012 - accuracy: 0.9954 - precision: 0.9955 - recall: 0.9953 - f1: 0.9954 - val_loss: 0.1605 - val_accuracy: 0.7555 - val_precision: 0.7608 - val_recall: 0.7538 - val_f1: 0.7573\n",
      "Epoch 98/100\n",
      "30/30 [==============================] - 9s 312ms/step - loss: 0.0033 - accuracy: 0.9886 - precision: 0.9889 - recall: 0.9883 - f1: 0.9886 - val_loss: 0.1349 - val_accuracy: 0.7709 - val_precision: 0.7744 - val_recall: 0.7683 - val_f1: 0.7713\n",
      "Epoch 99/100\n",
      "30/30 [==============================] - 9s 306ms/step - loss: 0.0018 - accuracy: 0.9928 - precision: 0.9932 - recall: 0.9923 - f1: 0.9927 - val_loss: 0.1363 - val_accuracy: 0.7629 - val_precision: 0.7688 - val_recall: 0.7627 - val_f1: 0.7657\n",
      "Epoch 100/100\n",
      "30/30 [==============================] - 9s 310ms/step - loss: 0.0013 - accuracy: 0.9951 - precision: 0.9957 - recall: 0.9943 - f1: 0.9950 - val_loss: 0.1483 - val_accuracy: 0.7629 - val_precision: 0.7689 - val_recall: 0.7634 - val_f1: 0.7662\n"
     ]
    }
   ],
   "source": [
    "from keras.callbacks import ModelCheckpoint\n",
    "from keras import backend as K \n",
    "checkpoint = ModelCheckpoint(r\"lstm_bert_weights/CNN_Bert_classifier_512-{epoch:02d}-{val_f1:.2f}.hdf5\", # Сохраняем модель с лучшим val_f1\n",
    "                             monitor='val_f1', save_best_only=True, mode='max')\n",
    "history = model.fit(X_train, Y_train, batch_size=512, epochs=100, validation_split=0.2, callbacks = [checkpoint])"
   ]
  },
  {
   "cell_type": "code",
   "execution_count": 44,
   "metadata": {},
   "outputs": [
    {
     "data": {
      "image/png": "[encoded data removed]",
      "text/plain": [
       "<Figure size 1152x648 with 4 Axes>"
      ]
     },
     "metadata": {},
     "output_type": "display_data"
    }
   ],
   "source": [
    "import matplotlib.pyplot as plt\n",
    "\n",
    "plt.style.use('ggplot')\n",
    "\n",
    "\n",
    "def plot_metrix(ax, x1, x2, title):\n",
    "    ax.plot(range(1, len(x1) + 1), x1, label='train')\n",
    "    ax.plot(range(1, len(x2) + 1), x2, label='val')\n",
    "    ax.set_ylabel(title)\n",
    "    ax.set_xlabel('Epoch')\n",
    "    ax.legend()\n",
    "    ax.margins(0)\n",
    "\n",
    "\n",
    "def plot_history(history):\n",
    "    fig, axes = plt.subplots(ncols=2, nrows=2, figsize=(16, 9))\n",
    "    ax1, ax2, ax3, ax4 = axes.ravel()\n",
    "\n",
    "    plot_metrix(ax1, history.history['precision'], history.history['val_precision'], 'Precision')\n",
    "    plot_metrix(ax2, history.history['recall'], history.history['val_recall'], 'Recall')\n",
    "    plot_metrix(ax3, history.history['f1'], history.history['val_f1'], \"$F_1$\")\n",
    "    plot_metrix(ax4, history.history['loss'], history.history['val_loss'], 'Loss')\n",
    "    plot_metrix(ax4, history.history['accuracy'], history.history['val_accuracy'], 'Accuracy')\n",
    "\n",
    "    plt.show()\n",
    "\n",
    "plot_history(history)"
   ]
  },
  {
   "cell_type": "code",
   "execution_count": 49,
   "metadata": {},
   "outputs": [
    {
     "name": "stdout",
     "output_type": "stream",
     "text": [
      "Оценки тестового набора:\n",
      "              precision    recall  f1-score   support\n",
      "\n",
      "           0      0.524     0.478     0.500        69\n",
      "           1      0.959     0.906     0.932       128\n",
      "           2      0.790     0.810     0.800      2112\n",
      "           3      0.000     0.000     0.000         3\n",
      "           4      0.429     0.462     0.444        26\n",
      "           5      0.375     0.222     0.279        27\n",
      "           6      0.167     0.125     0.143        16\n",
      "           7      0.000     0.000     0.000         4\n",
      "           8      0.190     0.143     0.163        28\n",
      "           9      0.923     0.923     0.923        39\n",
      "          10      0.919     0.876     0.897       194\n",
      "          11      0.000     0.000     0.000         1\n",
      "          12      0.766     0.708     0.736       171\n",
      "          14      0.786     0.841     0.813       353\n",
      "          15      0.231     0.286     0.255        84\n",
      "          16      0.867     0.787     0.825       108\n",
      "          17      0.111     0.200     0.143         5\n",
      "          18      0.000     0.000     0.000         8\n",
      "          19      0.000     0.000     0.000         3\n",
      "          20      0.000     0.000     0.000         3\n",
      "          21      0.429     0.150     0.222        20\n",
      "          22      0.000     0.000     0.000         3\n",
      "          23      0.752     0.759     0.755      1315\n",
      "          24      0.000     0.000     0.000        10\n",
      "          25      0.000     0.000     0.000         4\n",
      "\n",
      "    accuracy                          0.764      4734\n",
      "   macro avg      0.369     0.347     0.353      4734\n",
      "weighted avg      0.758     0.764     0.760      4734\n",
      "\n",
      "0.6670840609432243\n"
     ]
    },
    {
     "name": "stderr",
     "output_type": "stream",
     "text": [
      "/usr/local/lib/python3.6/dist-packages/sklearn/metrics/classification.py:1437: UndefinedMetricWarning: Precision and F-score are ill-defined and being set to 0.0 in labels with no predicted samples.\n",
      "  'precision', 'predicted', average, warn_for)\n"
     ]
    }
   ],
   "source": [
    "model.load_weights('lstm_bert_weights/CNN_Bert_classifier_512-34-0.79.hdf5')\n",
    "\n",
    "from sklearn.metrics import classification_report\n",
    "print(\"Оценки тестового набора:\")\n",
    "predicted = np.array(model.predict(X_test))\n",
    "predicted = np.argmax(predicted, axis=1)\n",
    "Y_test = np.argmax(np.array(Y_test), axis=1)\n",
    "print(classification_report(Y_test, predicted, digits=3))\n",
    "print(matthews_corrcoef(Y_test, predicted))"
   ]
  },
  {
   "cell_type": "code",
   "execution_count": null,
   "metadata": {},
   "outputs": [],
   "source": []
  }
 ],
 "metadata": {
  "accelerator": "GPU",
  "colab": {
   "collapsed_sections": [],
   "name": "NLP_bert_tokenizer_2.ipynb",
   "provenance": []
  },
  "kernelspec": {
   "display_name": "Python 3",
   "language": "python",
   "name": "python3"
  }
 },
 "nbformat": 4,
 "nbformat_minor": 1
}

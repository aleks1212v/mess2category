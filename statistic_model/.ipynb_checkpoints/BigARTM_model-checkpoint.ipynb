{
 "cells": [
  {
   "cell_type": "code",
   "execution_count": 472,
   "metadata": {},
   "outputs": [
    {
     "name": "stdout",
     "output_type": "stream",
     "text": [
      "/usr/lib/python3/dist-packages/secretstorage/dhcrypto.py:15: CryptographyDeprecationWarning: int_from_bytes is deprecated, use int.from_bytes instead\n",
      "  from cryptography.utils import int_from_bytes\n",
      "/usr/lib/python3/dist-packages/secretstorage/util.py:19: CryptographyDeprecationWarning: int_from_bytes is deprecated, use int.from_bytes instead\n",
      "  from cryptography.utils import int_from_bytes\n",
      "Requirement already satisfied: bigartm10 in /usr/local/lib/python3.6/dist-packages (0.10.1)\n",
      "Requirement already satisfied: protobuf>=3.0 in /usr/local/lib/python3.6/dist-packages (from bigartm10) (3.15.8)\n",
      "Requirement already satisfied: numpy in /usr/local/lib/python3.6/dist-packages (from bigartm10) (1.19.5)\n",
      "Requirement already satisfied: tqdm in /usr/local/lib/python3.6/dist-packages (from bigartm10) (4.60.0)\n",
      "Requirement already satisfied: packaging in /usr/local/lib/python3.6/dist-packages (from bigartm10) (20.8)\n",
      "Requirement already satisfied: pandas in /usr/local/lib/python3.6/dist-packages (from bigartm10) (1.1.5)\n",
      "Requirement already satisfied: six>=1.9 in /usr/local/lib/python3.6/dist-packages (from protobuf>=3.0->bigartm10) (1.15.0)\n",
      "Requirement already satisfied: pyparsing>=2.0.2 in /usr/local/lib/python3.6/dist-packages (from packaging->bigartm10) (2.4.7)\n",
      "Requirement already satisfied: python-dateutil>=2.7.3 in /usr/local/lib/python3.6/dist-packages (from pandas->bigartm10) (2.8.1)\n",
      "Requirement already satisfied: pytz>=2017.2 in /usr/local/lib/python3.6/dist-packages (from pandas->bigartm10) (2021.1)\n",
      "\u001b[33mWARNING: Running pip as root will break packages and permissions. You should install packages reliably by using venv: https://pip.pypa.io/warnings/venv\u001b[0m\n",
      "Note: you may need to restart the kernel to use updated packages.\n"
     ]
    }
   ],
   "source": [
    "pip install bigartm10"
   ]
  },
  {
   "cell_type": "code",
   "execution_count": 473,
   "metadata": {},
   "outputs": [
    {
     "name": "stdout",
     "output_type": "stream",
     "text": [
      "/usr/lib/python3/dist-packages/secretstorage/dhcrypto.py:15: CryptographyDeprecationWarning: int_from_bytes is deprecated, use int.from_bytes instead\n",
      "  from cryptography.utils import int_from_bytes\n",
      "/usr/lib/python3/dist-packages/secretstorage/util.py:19: CryptographyDeprecationWarning: int_from_bytes is deprecated, use int.from_bytes instead\n",
      "  from cryptography.utils import int_from_bytes\n",
      "\u001b[33mWARNING: Skipping bigartm as it is not installed.\u001b[0m\n",
      "\u001b[33mWARNING: Running pip as root will break packages and permissions. You should install packages reliably by using venv: https://pip.pypa.io/warnings/venv\u001b[0m\n",
      "Note: you may need to restart the kernel to use updated packages.\n"
     ]
    }
   ],
   "source": [
    "pip uninstall bigartm -y"
   ]
  },
  {
   "cell_type": "code",
   "execution_count": 474,
   "metadata": {},
   "outputs": [],
   "source": [
    "import artm\n",
    "from matplotlib import pyplot as plt\n",
    "import pandas as pd\n",
    "from sklearn.feature_extraction.text import CountVectorizer"
   ]
  },
  {
   "cell_type": "code",
   "execution_count": 475,
   "metadata": {},
   "outputs": [
    {
     "data": {
      "text/plain": [
       "\"\\nbatch_vectorizer = artm.BatchVectorizer(data_path = 'tatarstan_message_2_artm.csv', data_format = 'vowpal_wabbit',\\n                                       target_folder = 'artm_batches', batch_size = 100)\\n                                       \""
      ]
     },
     "execution_count": 475,
     "metadata": {},
     "output_type": "execute_result"
    }
   ],
   "source": [
    "'''\n",
    "batch_vectorizer = artm.BatchVectorizer(data_path = 'tatarstan_message_2_artm.csv', data_format = 'vowpal_wabbit',\n",
    "                                       target_folder = 'artm_batches', batch_size = 100)\n",
    "                                       '''"
   ]
  },
  {
   "cell_type": "code",
   "execution_count": null,
   "metadata": {},
   "outputs": [],
   "source": []
  },
  {
   "cell_type": "code",
   "execution_count": 476,
   "metadata": {},
   "outputs": [],
   "source": [
    "#В следующий раз данные можно считать уже из батчей\n",
    "data_path = '/notebooks/artm_batches'\n",
    "batch_vectorizer = artm.BatchVectorizer(data_path = data_path, data_format = 'batches')\n"
   ]
  },
  {
   "cell_type": "code",
   "execution_count": 477,
   "metadata": {},
   "outputs": [],
   "source": [
    "artm.ARTM.cache_theta = True"
   ]
  },
  {
   "cell_type": "code",
   "execution_count": 478,
   "metadata": {},
   "outputs": [
    {
     "data": {
      "text/plain": [
       "\"\\ndata = pd.read_csv('tatarstan_message_2.csv', encoding='utf8', sep=',')\\n#data['description_stem'] = ' |text ' + data['description_stem']\\ndata = data[['categories', 'description_stem']]\\ndata = data['description_stem'].tolist()\\n\\ncv = CountVectorizer(max_features=1000, stop_words='english')\\nn_wd = array(cv.fit_transform(data).todense()).T\\nvocabulary = cv.get_feature_names()\\n\\nbatch_vectorizer = artm.BatchVectorizer(data_format='bow_n_wd',\\n                                        n_wd=n_wd,\\n                                        vocabulary=vocabulary)\\n\""
      ]
     },
     "execution_count": 478,
     "metadata": {},
     "output_type": "execute_result"
    }
   ],
   "source": [
    "\"\"\"\n",
    "data = pd.read_csv('tatarstan_message_2.csv', encoding='utf8', sep=',')\n",
    "#data['description_stem'] = ' |text ' + data['description_stem']\n",
    "data = data[['categories', 'description_stem']]\n",
    "data = data['description_stem'].tolist()\n",
    "\n",
    "cv = CountVectorizer(max_features=1000, stop_words='english')\n",
    "n_wd = array(cv.fit_transform(data).todense()).T\n",
    "vocabulary = cv.get_feature_names()\n",
    "\n",
    "batch_vectorizer = artm.BatchVectorizer(data_format='bow_n_wd',\n",
    "                                        n_wd=n_wd,\n",
    "                                        vocabulary=vocabulary)\n",
    "\"\"\""
   ]
  },
  {
   "cell_type": "code",
   "execution_count": null,
   "metadata": {},
   "outputs": [],
   "source": []
  },
  {
   "cell_type": "code",
   "execution_count": 479,
   "metadata": {},
   "outputs": [],
   "source": [
    "#Создаем объект модели\n",
    "\n",
    "T = 10 #количество тем\n",
    "model_artm = artm.ARTM(num_topics = T, topic_names = ['sbj' + str(i) for i in range(T)], class_ids = {'text':1})\n",
    "#число после названия модальностей - это их веса"
   ]
  },
  {
   "cell_type": "code",
   "execution_count": 480,
   "metadata": {},
   "outputs": [],
   "source": [
    "#создем словарь и инициализируем модель\n",
    "dictionary = artm.Dictionary()\n",
    "dictionary.gather(data_path=data_path)"
   ]
  },
  {
   "cell_type": "code",
   "execution_count": 481,
   "metadata": {},
   "outputs": [],
   "source": [
    "#создадим метрики в модели, по которым мы можем понимать, насколько хорошо она обучилась\n",
    "\n",
    "#Перплексия позволяет понять, насколько хорошо наша модель описывает данные. Чем меньше, тем лучше.\n",
    "model_artm.scores.add(artm.PerplexityScore(name = 'PerplexityScore', dictionary = dictionary))\n",
    "\n",
    "#Метрики разреженности матриц. Если слово входит в небольшое кол-во тем, то матрица phi разреженна. Если документ относится только к небольшому кол-ву тем, то tetta разрежена. Это хорошо\n",
    "model_artm.scores.add(artm.SparsityPhiScore(name = 'SparsityPhiScore', class_id = 'text'))\n",
    "model_artm.scores.add(artm.SparsityThetaScore(name = 'SparsityThetaScore'))\n",
    "\n",
    "#Топы слов темы, чтобы интерпретировать тему\n",
    "#класс везде, где вычисления по матрице фи\n",
    "model_artm.scores.add(artm.TopTokensScore(name = 'top_words', num_tokens = 10, class_id = 'text'))"
   ]
  },
  {
   "cell_type": "code",
   "execution_count": 482,
   "metadata": {},
   "outputs": [],
   "source": [
    "model_artm.initialize(dictionary) #создание матриц Phi и thetta"
   ]
  },
  {
   "cell_type": "code",
   "execution_count": 483,
   "metadata": {},
   "outputs": [],
   "source": [
    "model_artm.fit_offline(batch_vectorizer = batch_vectorizer, num_collection_passes = 50) #40"
   ]
  },
  {
   "cell_type": "code",
   "execution_count": 484,
   "metadata": {},
   "outputs": [
    {
     "data": {
      "text/plain": [
       "[<matplotlib.lines.Line2D at 0x7fdc6865f9b0>]"
      ]
     },
     "execution_count": 484,
     "metadata": {},
     "output_type": "execute_result"
    },
    {
     "data": {
      "image/png": "[encoded data removed]",
      "text/plain": [
       "<Figure size 432x288 with 1 Axes>"
      ]
     },
     "metadata": {
      "needs_background": "light"
     },
     "output_type": "display_data"
    }
   ],
   "source": [
    "#Необходимое число итераций можно отследивать по графику перплексии. Когда она перестает меняться, модель сошлась\n",
    "plt.plot(model_artm.score_tracker['PerplexityScore'].value)"
   ]
  },
  {
   "cell_type": "code",
   "execution_count": 485,
   "metadata": {},
   "outputs": [
    {
     "name": "stdout",
     "output_type": "stream",
     "text": [
      "sbj0 : ребёнок - 0.056212227791547775\n",
      "sbj0 : принять - 0.030770156532526016\n",
      "sbj0 : собака - 0.02520735375583172\n",
      "sbj0 : школа - 0.02012752555310726\n",
      "sbj0 : очень - 0.018019288778305054\n",
      "sbj0 : мера - 0.01718795858323574\n",
      "sbj0 : человек - 0.016842616721987724\n",
      "sbj0 : детский - 0.01644597202539444\n",
      "sbj0 : улица - 0.016214188188314438\n",
      "sbj0 : ходить - 0.015959862619638443\n",
      "sbj1 : снег - 0.06611305475234985\n",
      "sbj1 : весь - 0.024790309369564056\n",
      "sbj1 : машина - 0.022045332938432693\n",
      "sbj1 : чистить - 0.01880628988146782\n",
      "sbj1 : улица - 0.01553683914244175\n",
      "sbj1 : невозможно - 0.015138865448534489\n",
      "sbj1 : двор - 0.01391542423516512\n",
      "sbj1 : уборка - 0.0121800871565938\n",
      "sbj1 : проехать - 0.01213851012289524\n",
      "sbj1 : автобус - 0.011318246833980083\n",
      "sbj2 : остановка - 0.032811131328344345\n",
      "sbj2 : знак - 0.032015569508075714\n",
      "sbj2 : сторона - 0.027391871437430382\n",
      "sbj2 : установить - 0.022306567057967186\n",
      "sbj2 : переход - 0.02076057344675064\n",
      "sbj2 : пешеходный - 0.014543484896421432\n",
      "sbj2 : движение - 0.01435787696391344\n",
      "sbj2 : ул - 0.014123641885817051\n",
      "sbj2 : перекрёсток - 0.013509085401892662\n",
      "sbj2 : рекламный - 0.012617971748113632\n",
      "sbj3 : тротуар - 0.05601641163229942\n",
      "sbj3 : часть - 0.030970662832260132\n",
      "sbj3 : проезжий - 0.026102954521775246\n",
      "sbj3 : вдоль - 0.0245248731225729\n",
      "sbj3 : очистить - 0.02364632487297058\n",
      "sbj3 : пешеходный - 0.018985161557793617\n",
      "sbj3 : дом - 0.018598657101392746\n",
      "sbj3 : грязь - 0.01853613741695881\n",
      "sbj3 : ул - 0.015439946204423904\n",
      "sbj3 : необходимый - 0.014881712384521961\n",
      "sbj4 : дорога - 0.10542453825473785\n",
      "sbj4 : ям - 0.028545880690217018\n",
      "sbj4 : ремонт - 0.025366565212607384\n",
      "sbj4 : асфальт - 0.021555043756961823\n",
      "sbj4 : просить - 0.019012847915291786\n",
      "sbj4 : год - 0.018790334463119507\n",
      "sbj4 : улица - 0.018202293664216995\n",
      "sbj4 : ул - 0.017142167314887047\n",
      "sbj4 : дом - 0.01524590514600277\n",
      "sbj4 : покрытие - 0.012597372755408287\n",
      "sbj5 : год - 0.025155749171972275\n",
      "sbj5 : работа - 0.023313427343964577\n",
      "sbj5 : демонтировать - 0.020958902314305305\n",
      "sbj5 : зона - 0.014960406348109245\n",
      "sbj5 : зелёный - 0.014699011109769344\n",
      "sbj5 : просьба - 0.013186237774789333\n",
      "sbj5 : месяц - 0.011117484420537949\n",
      "sbj5 : это - 0.010736100375652313\n",
      "sbj5 : незаконный - 0.01066499575972557\n",
      "sbj5 : просить - 0.00923159159719944\n",
      "sbj6 : мусор - 0.05667424947023392\n",
      "sbj6 : площадка - 0.030879059806466103\n",
      "sbj6 : дом - 0.03004777617752552\n",
      "sbj6 : дерево - 0.02571517415344715\n",
      "sbj6 : детский - 0.02092099003493786\n",
      "sbj6 : убрать - 0.019732538610696793\n",
      "sbj6 : двор - 0.01836145482957363\n",
      "sbj6 : свалка - 0.015855731442570686\n",
      "sbj6 : весь - 0.015076261945068836\n",
      "sbj6 : просить - 0.014563556760549545\n",
      "sbj7 : район - 0.0454353429377079\n",
      "sbj7 : казань - 0.04120505973696709\n",
      "sbj7 : заявка - 0.031467512249946594\n",
      "sbj7 : решить - 0.030170496553182602\n",
      "sbj7 : улица - 0.030153445899486542\n",
      "sbj7 : округ - 0.022947141900658607\n",
      "sbj7 : татарстан - 0.022288648411631584\n",
      "sbj7 : муниципальный - 0.020672369748353958\n",
      "sbj7 : благоустройство - 0.019534988328814507\n",
      "sbj7 : приволжский - 0.018198076635599136\n",
      "sbj8 : необходимый - 0.053991302847862244\n",
      "sbj8 : освещение - 0.029431553557515144\n",
      "sbj8 : фонарь - 0.02629658579826355\n",
      "sbj8 : столб - 0.021996695548295975\n",
      "sbj8 : дом - 0.02182019129395485\n",
      "sbj8 : установить - 0.017173098400235176\n",
      "sbj8 : убрать - 0.017053525894880295\n",
      "sbj8 : требовать - 0.014937355183064938\n",
      "sbj8 : отсутствовать - 0.013737756758928299\n",
      "sbj8 : уличный - 0.01319210696965456\n",
      "sbj9 : просить - 0.034461721777915955\n",
      "sbj9 : территория - 0.03005523979663849\n",
      "sbj9 : дом - 0.026656193658709526\n",
      "sbj9 : это - 0.019263625144958496\n",
      "sbj9 : забор - 0.01727006956934929\n",
      "sbj9 : привести - 0.01712740771472454\n",
      "sbj9 : место - 0.01670152135193348\n",
      "sbj9 : дать - 0.01575477235019207\n",
      "sbj9 : парковка - 0.015364956110715866\n",
      "sbj9 : данный - 0.014254024252295494\n"
     ]
    }
   ],
   "source": [
    "#Выведем топы слов:\n",
    "top_tokens = model_artm.score_tracker['top_words']\n",
    "\n",
    "for topic_name in model_artm.topic_names:\n",
    "    for (token, weight) in zip(top_tokens.last_tokens[topic_name],\n",
    "                               top_tokens.last_weights[topic_name]):\n",
    "        print(f'{topic_name} : {token} - {weight}')        "
   ]
  },
  {
   "cell_type": "code",
   "execution_count": 486,
   "metadata": {},
   "outputs": [
    {
     "name": "stdout",
     "output_type": "stream",
     "text": [
      "0.7687303423881531\n"
     ]
    }
   ],
   "source": [
    "#разреженность матриц чем больше тем лучше\n",
    "phi_score = model_artm.score_tracker['SparsityPhiScore'].last_value\n",
    "print(phi_score)"
   ]
  },
  {
   "cell_type": "code",
   "execution_count": 487,
   "metadata": {},
   "outputs": [
    {
     "name": "stdout",
     "output_type": "stream",
     "text": [
      "0.12291251122951508\n"
     ]
    }
   ],
   "source": [
    "theta_score = model_artm.score_tracker['SparsityThetaScore'].last_value\n",
    "print(theta_score)"
   ]
  },
  {
   "cell_type": "markdown",
   "metadata": {},
   "source": [
    "В темах много общеупотребительных слов (т.н. фоновой лексики). Необходимо использовать разреживающий регулянризатор матрицы фи"
   ]
  },
  {
   "cell_type": "code",
   "execution_count": 488,
   "metadata": {},
   "outputs": [],
   "source": [
    "model_artm.regularizers.add(artm.SmoothSparsePhiRegularizer(name = 'SparsePhi', tau = -100, dictionary = dictionary, class_ids = ['text']), overwrite = True)"
   ]
  },
  {
   "cell_type": "code",
   "execution_count": 489,
   "metadata": {},
   "outputs": [],
   "source": [
    "model_artm.regularizers['SparsePhi'].tau = -5*1e4"
   ]
  },
  {
   "cell_type": "code",
   "execution_count": 490,
   "metadata": {},
   "outputs": [],
   "source": [
    "model_artm.fit_offline(batch_vectorizer = batch_vectorizer, num_collection_passes = 20) #15"
   ]
  },
  {
   "cell_type": "code",
   "execution_count": 491,
   "metadata": {},
   "outputs": [
    {
     "name": "stdout",
     "output_type": "stream",
     "text": [
      "0.8909901976585388\n"
     ]
    }
   ],
   "source": [
    "#разреженность матриц чем больше тем лучше\n",
    "phi_score = model_artm.score_tracker['SparsityPhiScore'].last_value\n",
    "print(phi_score)"
   ]
  },
  {
   "cell_type": "code",
   "execution_count": 492,
   "metadata": {},
   "outputs": [
    {
     "name": "stdout",
     "output_type": "stream",
     "text": [
      "0.46121031045913696\n"
     ]
    }
   ],
   "source": [
    "theta_score = model_artm.score_tracker['SparsityThetaScore'].last_value\n",
    "print(theta_score)"
   ]
  },
  {
   "cell_type": "code",
   "execution_count": 493,
   "metadata": {},
   "outputs": [
    {
     "name": "stdout",
     "output_type": "stream",
     "text": [
      "sbj0 ребёнок очень который человек ходить принять мочь собака день школа \n",
      "sbj1 весь снег машина невозможно каждый чистить пройти проехать возможно автобус \n",
      "sbj2 установить сторона остановка знак время переход движение автомобиль должный перекрёсток \n",
      "sbj3 тротуар часть сделать проезжий вдоль очистить пешеходный грязь идти коляска \n",
      "sbj4 дорога ул год ремонт ям большой участок далее асфальт состояние \n",
      "sbj5 просьба работа демонтировать зона зелёный почему провести месяц проблема незаконный \n",
      "sbj6 дом мусор двор убрать детский площадка возле дерево ряд около \n",
      "sbj7 улица район казань заявка решить округ татарстан муниципальный благоустройство приволжский \n",
      "sbj8 необходимый освещение подъезд отсутствовать фонарь столб нужно восстановить работать адрес \n",
      "sbj9 просить это территория место дать данный парковка привести забор житель \n"
     ]
    }
   ],
   "source": [
    "#Выведем топы слов:\n",
    "top_tokens = model_artm.score_tracker['top_words']\n",
    "\n",
    "for topic_name in model_artm.topic_names:\n",
    "    print(topic_name, end = ' ')\n",
    "    for (token, weight) in zip(top_tokens.last_tokens[topic_name],\n",
    "                               top_tokens.last_weights[topic_name]):\n",
    "        print(token, end = ' ')\n",
    "    print('')"
   ]
  },
  {
   "cell_type": "code",
   "execution_count": 494,
   "metadata": {},
   "outputs": [
    {
     "data": {
      "text/html": [
       "<div>\n",
       "<style scoped>\n",
       "    .dataframe tbody tr th:only-of-type {\n",
       "        vertical-align: middle;\n",
       "    }\n",
       "\n",
       "    .dataframe tbody tr th {\n",
       "        vertical-align: top;\n",
       "    }\n",
       "\n",
       "    .dataframe thead th {\n",
       "        text-align: right;\n",
       "    }\n",
       "</style>\n",
       "<table border=\"1\" class=\"dataframe\">\n",
       "  <thead>\n",
       "    <tr style=\"text-align: right;\">\n",
       "      <th></th>\n",
       "      <th>sbj0</th>\n",
       "      <th>sbj1</th>\n",
       "      <th>sbj2</th>\n",
       "      <th>sbj3</th>\n",
       "      <th>sbj4</th>\n",
       "      <th>sbj5</th>\n",
       "      <th>sbj6</th>\n",
       "      <th>sbj7</th>\n",
       "      <th>sbj8</th>\n",
       "      <th>sbj9</th>\n",
       "    </tr>\n",
       "  </thead>\n",
       "  <tbody>\n",
       "    <tr>\n",
       "      <th>(text, фломастер)</th>\n",
       "      <td>0.000000</td>\n",
       "      <td>0.000000</td>\n",
       "      <td>0.0</td>\n",
       "      <td>0.000000</td>\n",
       "      <td>0.0</td>\n",
       "      <td>0.000032</td>\n",
       "      <td>0.000000</td>\n",
       "      <td>0.0</td>\n",
       "      <td>0.00000</td>\n",
       "      <td>0.000000</td>\n",
       "    </tr>\n",
       "    <tr>\n",
       "      <th>(text, рублёвый)</th>\n",
       "      <td>0.000000</td>\n",
       "      <td>0.000000</td>\n",
       "      <td>0.0</td>\n",
       "      <td>0.000000</td>\n",
       "      <td>0.0</td>\n",
       "      <td>0.000032</td>\n",
       "      <td>0.000000</td>\n",
       "      <td>0.0</td>\n",
       "      <td>0.00000</td>\n",
       "      <td>0.000000</td>\n",
       "    </tr>\n",
       "    <tr>\n",
       "      <th>(text, догога)</th>\n",
       "      <td>0.000000</td>\n",
       "      <td>0.000025</td>\n",
       "      <td>0.0</td>\n",
       "      <td>0.000000</td>\n",
       "      <td>0.0</td>\n",
       "      <td>0.000000</td>\n",
       "      <td>0.000000</td>\n",
       "      <td>0.0</td>\n",
       "      <td>0.00000</td>\n",
       "      <td>0.000000</td>\n",
       "    </tr>\n",
       "    <tr>\n",
       "      <th>(text, ссыпать)</th>\n",
       "      <td>0.000000</td>\n",
       "      <td>0.000000</td>\n",
       "      <td>0.0</td>\n",
       "      <td>0.000000</td>\n",
       "      <td>0.0</td>\n",
       "      <td>0.000000</td>\n",
       "      <td>0.000022</td>\n",
       "      <td>0.0</td>\n",
       "      <td>0.00000</td>\n",
       "      <td>0.000000</td>\n",
       "    </tr>\n",
       "    <tr>\n",
       "      <th>(text, вдвое)</th>\n",
       "      <td>0.000000</td>\n",
       "      <td>0.000000</td>\n",
       "      <td>0.0</td>\n",
       "      <td>0.000032</td>\n",
       "      <td>0.0</td>\n",
       "      <td>0.000000</td>\n",
       "      <td>0.000000</td>\n",
       "      <td>0.0</td>\n",
       "      <td>0.00000</td>\n",
       "      <td>0.000000</td>\n",
       "    </tr>\n",
       "    <tr>\n",
       "      <th>...</th>\n",
       "      <td>...</td>\n",
       "      <td>...</td>\n",
       "      <td>...</td>\n",
       "      <td>...</td>\n",
       "      <td>...</td>\n",
       "      <td>...</td>\n",
       "      <td>...</td>\n",
       "      <td>...</td>\n",
       "      <td>...</td>\n",
       "      <td>...</td>\n",
       "    </tr>\n",
       "    <tr>\n",
       "      <th>(text, мираса)</th>\n",
       "      <td>0.000075</td>\n",
       "      <td>0.000000</td>\n",
       "      <td>0.0</td>\n",
       "      <td>0.000000</td>\n",
       "      <td>0.0</td>\n",
       "      <td>0.000000</td>\n",
       "      <td>0.000000</td>\n",
       "      <td>0.0</td>\n",
       "      <td>0.00000</td>\n",
       "      <td>0.000000</td>\n",
       "    </tr>\n",
       "    <tr>\n",
       "      <th>(text, студия)</th>\n",
       "      <td>0.000000</td>\n",
       "      <td>0.000000</td>\n",
       "      <td>0.0</td>\n",
       "      <td>0.000000</td>\n",
       "      <td>0.0</td>\n",
       "      <td>0.000032</td>\n",
       "      <td>0.000000</td>\n",
       "      <td>0.0</td>\n",
       "      <td>0.00000</td>\n",
       "      <td>0.000000</td>\n",
       "    </tr>\n",
       "    <tr>\n",
       "      <th>(text, убиваться)</th>\n",
       "      <td>0.000000</td>\n",
       "      <td>0.000000</td>\n",
       "      <td>0.0</td>\n",
       "      <td>0.000032</td>\n",
       "      <td>0.0</td>\n",
       "      <td>0.000000</td>\n",
       "      <td>0.000000</td>\n",
       "      <td>0.0</td>\n",
       "      <td>0.00000</td>\n",
       "      <td>0.000000</td>\n",
       "    </tr>\n",
       "    <tr>\n",
       "      <th>(text, коллегия)</th>\n",
       "      <td>0.000000</td>\n",
       "      <td>0.000000</td>\n",
       "      <td>0.0</td>\n",
       "      <td>0.000000</td>\n",
       "      <td>0.0</td>\n",
       "      <td>0.000000</td>\n",
       "      <td>0.000000</td>\n",
       "      <td>0.0</td>\n",
       "      <td>0.00000</td>\n",
       "      <td>0.000026</td>\n",
       "    </tr>\n",
       "    <tr>\n",
       "      <th>(text, соприкасаться)</th>\n",
       "      <td>0.000000</td>\n",
       "      <td>0.000000</td>\n",
       "      <td>0.0</td>\n",
       "      <td>0.000000</td>\n",
       "      <td>0.0</td>\n",
       "      <td>0.000000</td>\n",
       "      <td>0.000000</td>\n",
       "      <td>0.0</td>\n",
       "      <td>0.00013</td>\n",
       "      <td>0.000000</td>\n",
       "    </tr>\n",
       "  </tbody>\n",
       "</table>\n",
       "<p>20966 rows × 10 columns</p>\n",
       "</div>"
      ],
      "text/plain": [
       "                           sbj0      sbj1  sbj2      sbj3  sbj4      sbj5  \\\n",
       "(text, фломастер)      0.000000  0.000000   0.0  0.000000   0.0  0.000032   \n",
       "(text, рублёвый)       0.000000  0.000000   0.0  0.000000   0.0  0.000032   \n",
       "(text, догога)         0.000000  0.000025   0.0  0.000000   0.0  0.000000   \n",
       "(text, ссыпать)        0.000000  0.000000   0.0  0.000000   0.0  0.000000   \n",
       "(text, вдвое)          0.000000  0.000000   0.0  0.000032   0.0  0.000000   \n",
       "...                         ...       ...   ...       ...   ...       ...   \n",
       "(text, мираса)         0.000075  0.000000   0.0  0.000000   0.0  0.000000   \n",
       "(text, студия)         0.000000  0.000000   0.0  0.000000   0.0  0.000032   \n",
       "(text, убиваться)      0.000000  0.000000   0.0  0.000032   0.0  0.000000   \n",
       "(text, коллегия)       0.000000  0.000000   0.0  0.000000   0.0  0.000000   \n",
       "(text, соприкасаться)  0.000000  0.000000   0.0  0.000000   0.0  0.000000   \n",
       "\n",
       "                           sbj6  sbj7     sbj8      sbj9  \n",
       "(text, фломастер)      0.000000   0.0  0.00000  0.000000  \n",
       "(text, рублёвый)       0.000000   0.0  0.00000  0.000000  \n",
       "(text, догога)         0.000000   0.0  0.00000  0.000000  \n",
       "(text, ссыпать)        0.000022   0.0  0.00000  0.000000  \n",
       "(text, вдвое)          0.000000   0.0  0.00000  0.000000  \n",
       "...                         ...   ...      ...       ...  \n",
       "(text, мираса)         0.000000   0.0  0.00000  0.000000  \n",
       "(text, студия)         0.000000   0.0  0.00000  0.000000  \n",
       "(text, убиваться)      0.000000   0.0  0.00000  0.000000  \n",
       "(text, коллегия)       0.000000   0.0  0.00000  0.000026  \n",
       "(text, соприкасаться)  0.000000   0.0  0.00013  0.000000  \n",
       "\n",
       "[20966 rows x 10 columns]"
      ]
     },
     "execution_count": 494,
     "metadata": {},
     "output_type": "execute_result"
    }
   ],
   "source": [
    "phi = model_artm.get_phi()\n",
    "phi"
   ]
  },
  {
   "cell_type": "code",
   "execution_count": 495,
   "metadata": {},
   "outputs": [
    {
     "data": {
      "text/html": [
       "<div>\n",
       "<style scoped>\n",
       "    .dataframe tbody tr th:only-of-type {\n",
       "        vertical-align: middle;\n",
       "    }\n",
       "\n",
       "    .dataframe tbody tr th {\n",
       "        vertical-align: top;\n",
       "    }\n",
       "\n",
       "    .dataframe thead th {\n",
       "        text-align: right;\n",
       "    }\n",
       "</style>\n",
       "<table border=\"1\" class=\"dataframe\">\n",
       "  <thead>\n",
       "    <tr style=\"text-align: right;\">\n",
       "      <th></th>\n",
       "    </tr>\n",
       "  </thead>\n",
       "  <tbody>\n",
       "  </tbody>\n",
       "</table>\n",
       "</div>"
      ],
      "text/plain": [
       "Empty DataFrame\n",
       "Columns: []\n",
       "Index: []"
      ]
     },
     "execution_count": 495,
     "metadata": {},
     "output_type": "execute_result"
    }
   ],
   "source": [
    "theta = model_artm.get_theta()\n",
    "theta"
   ]
  },
  {
   "cell_type": "code",
   "execution_count": 496,
   "metadata": {},
   "outputs": [],
   "source": [
    "output_path = '/notebooks/artm_batches/model.dump'\n",
    "model_artm.save(output_path)\n",
    "\n",
    "model_artm = artm.ARTM(num_topics = T, topic_names = ['sbj' + str(i) for i in range(T)], class_ids = {'text':1})\n",
    "model_artm.load(output_path)"
   ]
  },
  {
   "cell_type": "code",
   "execution_count": 503,
   "metadata": {},
   "outputs": [],
   "source": [
    "#Подготовка новых данных\n",
    "\n",
    "corpus = [\n",
    "' |text Уберите снег и почистите мусор',\n",
    "' |text Меня сегодня придавили коллекторы']\n",
    "f = open(os.path.join(data_path, 'test_artm.txt'), 'w')\n",
    "for s in corpus:\n",
    "    f.write(s + '\\n')\n",
    "f.close()"
   ]
  },
  {
   "cell_type": "code",
   "execution_count": 504,
   "metadata": {},
   "outputs": [],
   "source": [
    "batch_vectorizer_test = artm.BatchVectorizer(data_path = os.path.join(data_path, 'test_artm.txt'), data_format = 'vowpal_wabbit',\n",
    "                                       target_folder = os.path.join(data_path, 'test'), batch_size = 100)"
   ]
  },
  {
   "cell_type": "code",
   "execution_count": 505,
   "metadata": {},
   "outputs": [],
   "source": [
    "theta_test = model_artm.transform(batch_vectorizer=batch_vectorizer_test)"
   ]
  },
  {
   "cell_type": "code",
   "execution_count": 506,
   "metadata": {},
   "outputs": [
    {
     "data": {
      "text/html": [
       "<div>\n",
       "<style scoped>\n",
       "    .dataframe tbody tr th:only-of-type {\n",
       "        vertical-align: middle;\n",
       "    }\n",
       "\n",
       "    .dataframe tbody tr th {\n",
       "        vertical-align: top;\n",
       "    }\n",
       "\n",
       "    .dataframe thead th {\n",
       "        text-align: right;\n",
       "    }\n",
       "</style>\n",
       "<table border=\"1\" class=\"dataframe\">\n",
       "  <thead>\n",
       "    <tr style=\"text-align: right;\">\n",
       "      <th></th>\n",
       "      <th>0</th>\n",
       "      <th>1</th>\n",
       "    </tr>\n",
       "  </thead>\n",
       "  <tbody>\n",
       "    <tr>\n",
       "      <th>sbj0</th>\n",
       "      <td>0.0</td>\n",
       "      <td>0.004924</td>\n",
       "    </tr>\n",
       "    <tr>\n",
       "      <th>sbj1</th>\n",
       "      <td>0.5</td>\n",
       "      <td>0.000000</td>\n",
       "    </tr>\n",
       "    <tr>\n",
       "      <th>sbj2</th>\n",
       "      <td>0.0</td>\n",
       "      <td>0.000000</td>\n",
       "    </tr>\n",
       "    <tr>\n",
       "      <th>sbj3</th>\n",
       "      <td>0.0</td>\n",
       "      <td>0.000000</td>\n",
       "    </tr>\n",
       "    <tr>\n",
       "      <th>sbj4</th>\n",
       "      <td>0.0</td>\n",
       "      <td>0.000000</td>\n",
       "    </tr>\n",
       "    <tr>\n",
       "      <th>sbj5</th>\n",
       "      <td>0.0</td>\n",
       "      <td>0.995076</td>\n",
       "    </tr>\n",
       "    <tr>\n",
       "      <th>sbj6</th>\n",
       "      <td>0.5</td>\n",
       "      <td>0.000000</td>\n",
       "    </tr>\n",
       "    <tr>\n",
       "      <th>sbj7</th>\n",
       "      <td>0.0</td>\n",
       "      <td>0.000000</td>\n",
       "    </tr>\n",
       "    <tr>\n",
       "      <th>sbj8</th>\n",
       "      <td>0.0</td>\n",
       "      <td>0.000000</td>\n",
       "    </tr>\n",
       "    <tr>\n",
       "      <th>sbj9</th>\n",
       "      <td>0.0</td>\n",
       "      <td>0.000000</td>\n",
       "    </tr>\n",
       "  </tbody>\n",
       "</table>\n",
       "</div>"
      ],
      "text/plain": [
       "        0         1\n",
       "sbj0  0.0  0.004924\n",
       "sbj1  0.5  0.000000\n",
       "sbj2  0.0  0.000000\n",
       "sbj3  0.0  0.000000\n",
       "sbj4  0.0  0.000000\n",
       "sbj5  0.0  0.995076\n",
       "sbj6  0.5  0.000000\n",
       "sbj7  0.0  0.000000\n",
       "sbj8  0.0  0.000000\n",
       "sbj9  0.0  0.000000"
      ]
     },
     "execution_count": 506,
     "metadata": {},
     "output_type": "execute_result"
    }
   ],
   "source": [
    "theta_test"
   ]
  },
  {
   "cell_type": "code",
   "execution_count": null,
   "metadata": {},
   "outputs": [],
   "source": []
  },
  {
   "cell_type": "code",
   "execution_count": null,
   "metadata": {},
   "outputs": [],
   "source": []
  },
  {
   "cell_type": "code",
   "execution_count": null,
   "metadata": {},
   "outputs": [],
   "source": [
    "'''\n",
    "import os\n",
    "os.remove('bigartm.WARNING')\n",
    "'''"
   ]
  },
  {
   "cell_type": "code",
   "execution_count": null,
   "metadata": {},
   "outputs": [],
   "source": []
  }
 ],
 "metadata": {
  "kernelspec": {
   "display_name": "Python 3",
   "language": "python",
   "name": "python3"
  },
  "language_info": {
   "codemirror_mode": {
    "name": "ipython",
    "version": 3
   },
   "file_extension": ".py",
   "mimetype": "text/x-python",
   "name": "python",
   "nbconvert_exporter": "python",
   "pygments_lexer": "ipython3",
   "version": "3.7.9"
  }
 },
 "nbformat": 4,
 "nbformat_minor": 2
}
